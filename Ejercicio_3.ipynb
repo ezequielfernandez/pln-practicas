{
  "nbformat": 4,
  "nbformat_minor": 0,
  "metadata": {
    "colab": {
      "provenance": []
    },
    "kernelspec": {
      "name": "python3",
      "display_name": "Python 3"
    },
    "language_info": {
      "name": "python"
    }
  },
  "cells": [
    {
      "cell_type": "code",
      "execution_count": null,
      "metadata": {
        "id": "evTeccXOvRg1"
      },
      "outputs": [],
      "source": [
        "import pandas as pd\n",
        "import matplotlib.pyplot as plt\n",
        "import seaborn as sns\n",
        "\n",
        "import multiprocessing\n",
        "from gensim.models import Word2Vec\n",
        "from google.colab import drive\n"
      ]
    },
    {
      "cell_type": "code",
      "source": [
        "drive.mount('/content/drive')"
      ],
      "metadata": {
        "id": "MFc1S9h8zs8j",
        "colab": {
          "base_uri": "https://localhost:8080/"
        },
        "outputId": "cb29860c-1561-4818-ee91-7dd0b595e7f6"
      },
      "execution_count": null,
      "outputs": [
        {
          "output_type": "stream",
          "name": "stdout",
          "text": [
            "Drive already mounted at /content/drive; to attempt to forcibly remount, call drive.mount(\"/content/drive\", force_remount=True).\n"
          ]
        }
      ]
    },
    {
      "cell_type": "code",
      "source": [
        "!ls \"/content/drive/My Drive/Colab Notebooks/procesamiento-lenguaje-natural\""
      ],
      "metadata": {
        "colab": {
          "base_uri": "https://localhost:8080/"
        },
        "id": "MnxT3UTw19NA",
        "outputId": "75fd7f8d-8f15-40a8-a2b3-166e5922888a"
      },
      "execution_count": null,
      "outputs": [
        {
          "output_type": "stream",
          "name": "stdout",
          "text": [
            "'1a - word2vec.ipynb'\t     'Ejercicio 3.ipynb'      preprocessed_data.csv.zip\n",
            " bot_basado_en_reglas.ipynb   preprocessed_data.csv\n"
          ]
        }
      ]
    },
    {
      "cell_type": "markdown",
      "source": [
        "Usaremos un dataset de textos de Edgar Allan Poe"
      ],
      "metadata": {
        "id": "nUqFidSy2dnt"
      }
    },
    {
      "cell_type": "code",
      "source": [
        "# Armar el dataset utilizando salto de línea para separar las oraciones/docs\n",
        "#df = pd.read_csv('stephenking.txt', sep='    ', header=None)\n",
        "df = pd.read_csv('/content/drive/My Drive/Colab Notebooks/procesamiento-lenguaje-natural/preprocessed_data.csv')\n",
        "\n",
        "df.head()"
      ],
      "metadata": {
        "colab": {
          "base_uri": "https://localhost:8080/",
          "height": 424
        },
        "id": "af4uwVo4veHu",
        "outputId": "3b1a557c-2197-4dda-d7ef-73a9883c06fe"
      },
      "execution_count": null,
      "outputs": [
        {
          "output_type": "execute_result",
          "data": {
            "text/plain": [
              "                            title  \\\n",
              "0    A DESCENT INTO THE MAELSTRÖM   \n",
              "1                   A PREDICAMENT   \n",
              "2             A TALE OF JERUSALEM   \n",
              "3  A TALE OF THE RAGGED MOUNTAINS   \n",
              "4                        BERENICE   \n",
              "\n",
              "                                                text  \\\n",
              "0  The ways of God in Nature, as in Providence, a...   \n",
              "1  What chance, good lady, hath bereft you thus? ...   \n",
              "2  Intensos rigidarn in frontern ascendere canos ...   \n",
              "3  DURING the fall of the year 1827, while residi...   \n",
              "4  Dicebant mihi sodales, si sepulchrum amicae vi...   \n",
              "\n",
              "                  wikipedia_title publication_date  \\\n",
              "0    A Descent into the Maelström         May 1841   \n",
              "1                   A Predicament    November 1838   \n",
              "2             A Tale of Jerusalem     June 9, 1832   \n",
              "3  A Tale of the Ragged Mountains       April 1844   \n",
              "4                        Berenice       March 1835   \n",
              "\n",
              "              first_published_in             classification  \\\n",
              "0              Graham's Magazine                  Adventure   \n",
              "1      Baltimore American Museum                     Parody   \n",
              "2  Philadelphia Saturday Courier                      Humor   \n",
              "3            Godey's Lady's Book  Adventure,Science_fiction   \n",
              "4    Southern Literary Messenger                     Horror   \n",
              "\n",
              "                                               notes normalized_date  \n",
              "0                                                  ?        May 1841  \n",
              "1  Companion to \"How to Write a Blackwood Article...   November 1838  \n",
              "2                                                  ?       June 1832  \n",
              "3                                                  ?      April 1844  \n",
              "4                                                  ?      March 1835  "
            ],
            "text/html": [
              "\n",
              "  <div id=\"df-ad67b2c9-b315-4159-8c0d-61f9c38628b9\">\n",
              "    <div class=\"colab-df-container\">\n",
              "      <div>\n",
              "<style scoped>\n",
              "    .dataframe tbody tr th:only-of-type {\n",
              "        vertical-align: middle;\n",
              "    }\n",
              "\n",
              "    .dataframe tbody tr th {\n",
              "        vertical-align: top;\n",
              "    }\n",
              "\n",
              "    .dataframe thead th {\n",
              "        text-align: right;\n",
              "    }\n",
              "</style>\n",
              "<table border=\"1\" class=\"dataframe\">\n",
              "  <thead>\n",
              "    <tr style=\"text-align: right;\">\n",
              "      <th></th>\n",
              "      <th>title</th>\n",
              "      <th>text</th>\n",
              "      <th>wikipedia_title</th>\n",
              "      <th>publication_date</th>\n",
              "      <th>first_published_in</th>\n",
              "      <th>classification</th>\n",
              "      <th>notes</th>\n",
              "      <th>normalized_date</th>\n",
              "    </tr>\n",
              "  </thead>\n",
              "  <tbody>\n",
              "    <tr>\n",
              "      <th>0</th>\n",
              "      <td>A DESCENT INTO THE MAELSTRÖM</td>\n",
              "      <td>The ways of God in Nature, as in Providence, a...</td>\n",
              "      <td>A Descent into the Maelström</td>\n",
              "      <td>May 1841</td>\n",
              "      <td>Graham's Magazine</td>\n",
              "      <td>Adventure</td>\n",
              "      <td>?</td>\n",
              "      <td>May 1841</td>\n",
              "    </tr>\n",
              "    <tr>\n",
              "      <th>1</th>\n",
              "      <td>A PREDICAMENT</td>\n",
              "      <td>What chance, good lady, hath bereft you thus? ...</td>\n",
              "      <td>A Predicament</td>\n",
              "      <td>November 1838</td>\n",
              "      <td>Baltimore American Museum</td>\n",
              "      <td>Parody</td>\n",
              "      <td>Companion to \"How to Write a Blackwood Article...</td>\n",
              "      <td>November 1838</td>\n",
              "    </tr>\n",
              "    <tr>\n",
              "      <th>2</th>\n",
              "      <td>A TALE OF JERUSALEM</td>\n",
              "      <td>Intensos rigidarn in frontern ascendere canos ...</td>\n",
              "      <td>A Tale of Jerusalem</td>\n",
              "      <td>June 9, 1832</td>\n",
              "      <td>Philadelphia Saturday Courier</td>\n",
              "      <td>Humor</td>\n",
              "      <td>?</td>\n",
              "      <td>June 1832</td>\n",
              "    </tr>\n",
              "    <tr>\n",
              "      <th>3</th>\n",
              "      <td>A TALE OF THE RAGGED MOUNTAINS</td>\n",
              "      <td>DURING the fall of the year 1827, while residi...</td>\n",
              "      <td>A Tale of the Ragged Mountains</td>\n",
              "      <td>April 1844</td>\n",
              "      <td>Godey's Lady's Book</td>\n",
              "      <td>Adventure,Science_fiction</td>\n",
              "      <td>?</td>\n",
              "      <td>April 1844</td>\n",
              "    </tr>\n",
              "    <tr>\n",
              "      <th>4</th>\n",
              "      <td>BERENICE</td>\n",
              "      <td>Dicebant mihi sodales, si sepulchrum amicae vi...</td>\n",
              "      <td>Berenice</td>\n",
              "      <td>March 1835</td>\n",
              "      <td>Southern Literary Messenger</td>\n",
              "      <td>Horror</td>\n",
              "      <td>?</td>\n",
              "      <td>March 1835</td>\n",
              "    </tr>\n",
              "  </tbody>\n",
              "</table>\n",
              "</div>\n",
              "      <button class=\"colab-df-convert\" onclick=\"convertToInteractive('df-ad67b2c9-b315-4159-8c0d-61f9c38628b9')\"\n",
              "              title=\"Convert this dataframe to an interactive table.\"\n",
              "              style=\"display:none;\">\n",
              "        \n",
              "  <svg xmlns=\"http://www.w3.org/2000/svg\" height=\"24px\"viewBox=\"0 0 24 24\"\n",
              "       width=\"24px\">\n",
              "    <path d=\"M0 0h24v24H0V0z\" fill=\"none\"/>\n",
              "    <path d=\"M18.56 5.44l.94 2.06.94-2.06 2.06-.94-2.06-.94-.94-2.06-.94 2.06-2.06.94zm-11 1L8.5 8.5l.94-2.06 2.06-.94-2.06-.94L8.5 2.5l-.94 2.06-2.06.94zm10 10l.94 2.06.94-2.06 2.06-.94-2.06-.94-.94-2.06-.94 2.06-2.06.94z\"/><path d=\"M17.41 7.96l-1.37-1.37c-.4-.4-.92-.59-1.43-.59-.52 0-1.04.2-1.43.59L10.3 9.45l-7.72 7.72c-.78.78-.78 2.05 0 2.83L4 21.41c.39.39.9.59 1.41.59.51 0 1.02-.2 1.41-.59l7.78-7.78 2.81-2.81c.8-.78.8-2.07 0-2.86zM5.41 20L4 18.59l7.72-7.72 1.47 1.35L5.41 20z\"/>\n",
              "  </svg>\n",
              "      </button>\n",
              "      \n",
              "  <style>\n",
              "    .colab-df-container {\n",
              "      display:flex;\n",
              "      flex-wrap:wrap;\n",
              "      gap: 12px;\n",
              "    }\n",
              "\n",
              "    .colab-df-convert {\n",
              "      background-color: #E8F0FE;\n",
              "      border: none;\n",
              "      border-radius: 50%;\n",
              "      cursor: pointer;\n",
              "      display: none;\n",
              "      fill: #1967D2;\n",
              "      height: 32px;\n",
              "      padding: 0 0 0 0;\n",
              "      width: 32px;\n",
              "    }\n",
              "\n",
              "    .colab-df-convert:hover {\n",
              "      background-color: #E2EBFA;\n",
              "      box-shadow: 0px 1px 2px rgba(60, 64, 67, 0.3), 0px 1px 3px 1px rgba(60, 64, 67, 0.15);\n",
              "      fill: #174EA6;\n",
              "    }\n",
              "\n",
              "    [theme=dark] .colab-df-convert {\n",
              "      background-color: #3B4455;\n",
              "      fill: #D2E3FC;\n",
              "    }\n",
              "\n",
              "    [theme=dark] .colab-df-convert:hover {\n",
              "      background-color: #434B5C;\n",
              "      box-shadow: 0px 1px 3px 1px rgba(0, 0, 0, 0.15);\n",
              "      filter: drop-shadow(0px 1px 2px rgba(0, 0, 0, 0.3));\n",
              "      fill: #FFFFFF;\n",
              "    }\n",
              "  </style>\n",
              "\n",
              "      <script>\n",
              "        const buttonEl =\n",
              "          document.querySelector('#df-ad67b2c9-b315-4159-8c0d-61f9c38628b9 button.colab-df-convert');\n",
              "        buttonEl.style.display =\n",
              "          google.colab.kernel.accessAllowed ? 'block' : 'none';\n",
              "\n",
              "        async function convertToInteractive(key) {\n",
              "          const element = document.querySelector('#df-ad67b2c9-b315-4159-8c0d-61f9c38628b9');\n",
              "          const dataTable =\n",
              "            await google.colab.kernel.invokeFunction('convertToInteractive',\n",
              "                                                     [key], {});\n",
              "          if (!dataTable) return;\n",
              "\n",
              "          const docLinkHtml = 'Like what you see? Visit the ' +\n",
              "            '<a target=\"_blank\" href=https://colab.research.google.com/notebooks/data_table.ipynb>data table notebook</a>'\n",
              "            + ' to learn more about interactive tables.';\n",
              "          element.innerHTML = '';\n",
              "          dataTable['output_type'] = 'display_data';\n",
              "          await google.colab.output.renderOutput(dataTable, element);\n",
              "          const docLink = document.createElement('div');\n",
              "          docLink.innerHTML = docLinkHtml;\n",
              "          element.appendChild(docLink);\n",
              "        }\n",
              "      </script>\n",
              "    </div>\n",
              "  </div>\n",
              "  "
            ]
          },
          "metadata": {},
          "execution_count": 12
        }
      ]
    },
    {
      "cell_type": "code",
      "source": [
        "df['text']"
      ],
      "metadata": {
        "colab": {
          "base_uri": "https://localhost:8080/"
        },
        "id": "BORJafkE3uAU",
        "outputId": "be655482-9750-4be2-8ae0-59667dc33022"
      },
      "execution_count": null,
      "outputs": [
        {
          "output_type": "execute_result",
          "data": {
            "text/plain": [
              "0     The ways of God in Nature, as in Providence, a...\n",
              "1     What chance, good lady, hath bereft you thus? ...\n",
              "2     Intensos rigidarn in frontern ascendere canos ...\n",
              "3     DURING the fall of the year 1827, while residi...\n",
              "4     Dicebant mihi sodales, si sepulchrum amicae vi...\n",
              "                            ...                        \n",
              "65    [Astounding News by Express, via Norfolk!—The ...\n",
              "66    A SEQUEL TO “THE MURDERS IN THE RUE MORGUE.”  ...\n",
              "67    IN speaking of the Poetic Principle, I have no...\n",
              "68    BY late accounts from Rotterdam, that city see...\n",
              "69    AS it is well known that the ‘wise men’ came ‘...\n",
              "Name: text, Length: 70, dtype: object"
            ]
          },
          "metadata": {},
          "execution_count": 14
        }
      ]
    },
    {
      "cell_type": "code",
      "source": [
        "df = pd.DataFrame(df['text'])"
      ],
      "metadata": {
        "id": "yq7O7aHc09YY"
      },
      "execution_count": null,
      "outputs": []
    },
    {
      "cell_type": "code",
      "source": [
        "df"
      ],
      "metadata": {
        "colab": {
          "base_uri": "https://localhost:8080/",
          "height": 424
        },
        "id": "TL0gmgvKwsyh",
        "outputId": "e874bb1d-2880-4c39-8c8e-901494d4d3d0"
      },
      "execution_count": null,
      "outputs": [
        {
          "output_type": "execute_result",
          "data": {
            "text/plain": [
              "                                                 text\n",
              "0   The ways of God in Nature, as in Providence, a...\n",
              "1   What chance, good lady, hath bereft you thus? ...\n",
              "2   Intensos rigidarn in frontern ascendere canos ...\n",
              "3   DURING the fall of the year 1827, while residi...\n",
              "4   Dicebant mihi sodales, si sepulchrum amicae vi...\n",
              "..                                                ...\n",
              "65  [Astounding News by Express, via Norfolk!—The ...\n",
              "66  A SEQUEL TO “THE MURDERS IN THE RUE MORGUE.”  ...\n",
              "67  IN speaking of the Poetic Principle, I have no...\n",
              "68  BY late accounts from Rotterdam, that city see...\n",
              "69  AS it is well known that the ‘wise men’ came ‘...\n",
              "\n",
              "[70 rows x 1 columns]"
            ],
            "text/html": [
              "\n",
              "  <div id=\"df-6de99b7a-a57d-426d-8fb2-b67391ba0b89\">\n",
              "    <div class=\"colab-df-container\">\n",
              "      <div>\n",
              "<style scoped>\n",
              "    .dataframe tbody tr th:only-of-type {\n",
              "        vertical-align: middle;\n",
              "    }\n",
              "\n",
              "    .dataframe tbody tr th {\n",
              "        vertical-align: top;\n",
              "    }\n",
              "\n",
              "    .dataframe thead th {\n",
              "        text-align: right;\n",
              "    }\n",
              "</style>\n",
              "<table border=\"1\" class=\"dataframe\">\n",
              "  <thead>\n",
              "    <tr style=\"text-align: right;\">\n",
              "      <th></th>\n",
              "      <th>text</th>\n",
              "    </tr>\n",
              "  </thead>\n",
              "  <tbody>\n",
              "    <tr>\n",
              "      <th>0</th>\n",
              "      <td>The ways of God in Nature, as in Providence, a...</td>\n",
              "    </tr>\n",
              "    <tr>\n",
              "      <th>1</th>\n",
              "      <td>What chance, good lady, hath bereft you thus? ...</td>\n",
              "    </tr>\n",
              "    <tr>\n",
              "      <th>2</th>\n",
              "      <td>Intensos rigidarn in frontern ascendere canos ...</td>\n",
              "    </tr>\n",
              "    <tr>\n",
              "      <th>3</th>\n",
              "      <td>DURING the fall of the year 1827, while residi...</td>\n",
              "    </tr>\n",
              "    <tr>\n",
              "      <th>4</th>\n",
              "      <td>Dicebant mihi sodales, si sepulchrum amicae vi...</td>\n",
              "    </tr>\n",
              "    <tr>\n",
              "      <th>...</th>\n",
              "      <td>...</td>\n",
              "    </tr>\n",
              "    <tr>\n",
              "      <th>65</th>\n",
              "      <td>[Astounding News by Express, via Norfolk!—The ...</td>\n",
              "    </tr>\n",
              "    <tr>\n",
              "      <th>66</th>\n",
              "      <td>A SEQUEL TO “THE MURDERS IN THE RUE MORGUE.”  ...</td>\n",
              "    </tr>\n",
              "    <tr>\n",
              "      <th>67</th>\n",
              "      <td>IN speaking of the Poetic Principle, I have no...</td>\n",
              "    </tr>\n",
              "    <tr>\n",
              "      <th>68</th>\n",
              "      <td>BY late accounts from Rotterdam, that city see...</td>\n",
              "    </tr>\n",
              "    <tr>\n",
              "      <th>69</th>\n",
              "      <td>AS it is well known that the ‘wise men’ came ‘...</td>\n",
              "    </tr>\n",
              "  </tbody>\n",
              "</table>\n",
              "<p>70 rows × 1 columns</p>\n",
              "</div>\n",
              "      <button class=\"colab-df-convert\" onclick=\"convertToInteractive('df-6de99b7a-a57d-426d-8fb2-b67391ba0b89')\"\n",
              "              title=\"Convert this dataframe to an interactive table.\"\n",
              "              style=\"display:none;\">\n",
              "        \n",
              "  <svg xmlns=\"http://www.w3.org/2000/svg\" height=\"24px\"viewBox=\"0 0 24 24\"\n",
              "       width=\"24px\">\n",
              "    <path d=\"M0 0h24v24H0V0z\" fill=\"none\"/>\n",
              "    <path d=\"M18.56 5.44l.94 2.06.94-2.06 2.06-.94-2.06-.94-.94-2.06-.94 2.06-2.06.94zm-11 1L8.5 8.5l.94-2.06 2.06-.94-2.06-.94L8.5 2.5l-.94 2.06-2.06.94zm10 10l.94 2.06.94-2.06 2.06-.94-2.06-.94-.94-2.06-.94 2.06-2.06.94z\"/><path d=\"M17.41 7.96l-1.37-1.37c-.4-.4-.92-.59-1.43-.59-.52 0-1.04.2-1.43.59L10.3 9.45l-7.72 7.72c-.78.78-.78 2.05 0 2.83L4 21.41c.39.39.9.59 1.41.59.51 0 1.02-.2 1.41-.59l7.78-7.78 2.81-2.81c.8-.78.8-2.07 0-2.86zM5.41 20L4 18.59l7.72-7.72 1.47 1.35L5.41 20z\"/>\n",
              "  </svg>\n",
              "      </button>\n",
              "      \n",
              "  <style>\n",
              "    .colab-df-container {\n",
              "      display:flex;\n",
              "      flex-wrap:wrap;\n",
              "      gap: 12px;\n",
              "    }\n",
              "\n",
              "    .colab-df-convert {\n",
              "      background-color: #E8F0FE;\n",
              "      border: none;\n",
              "      border-radius: 50%;\n",
              "      cursor: pointer;\n",
              "      display: none;\n",
              "      fill: #1967D2;\n",
              "      height: 32px;\n",
              "      padding: 0 0 0 0;\n",
              "      width: 32px;\n",
              "    }\n",
              "\n",
              "    .colab-df-convert:hover {\n",
              "      background-color: #E2EBFA;\n",
              "      box-shadow: 0px 1px 2px rgba(60, 64, 67, 0.3), 0px 1px 3px 1px rgba(60, 64, 67, 0.15);\n",
              "      fill: #174EA6;\n",
              "    }\n",
              "\n",
              "    [theme=dark] .colab-df-convert {\n",
              "      background-color: #3B4455;\n",
              "      fill: #D2E3FC;\n",
              "    }\n",
              "\n",
              "    [theme=dark] .colab-df-convert:hover {\n",
              "      background-color: #434B5C;\n",
              "      box-shadow: 0px 1px 3px 1px rgba(0, 0, 0, 0.15);\n",
              "      filter: drop-shadow(0px 1px 2px rgba(0, 0, 0, 0.3));\n",
              "      fill: #FFFFFF;\n",
              "    }\n",
              "  </style>\n",
              "\n",
              "      <script>\n",
              "        const buttonEl =\n",
              "          document.querySelector('#df-6de99b7a-a57d-426d-8fb2-b67391ba0b89 button.colab-df-convert');\n",
              "        buttonEl.style.display =\n",
              "          google.colab.kernel.accessAllowed ? 'block' : 'none';\n",
              "\n",
              "        async function convertToInteractive(key) {\n",
              "          const element = document.querySelector('#df-6de99b7a-a57d-426d-8fb2-b67391ba0b89');\n",
              "          const dataTable =\n",
              "            await google.colab.kernel.invokeFunction('convertToInteractive',\n",
              "                                                     [key], {});\n",
              "          if (!dataTable) return;\n",
              "\n",
              "          const docLinkHtml = 'Like what you see? Visit the ' +\n",
              "            '<a target=\"_blank\" href=https://colab.research.google.com/notebooks/data_table.ipynb>data table notebook</a>'\n",
              "            + ' to learn more about interactive tables.';\n",
              "          element.innerHTML = '';\n",
              "          dataTable['output_type'] = 'display_data';\n",
              "          await google.colab.output.renderOutput(dataTable, element);\n",
              "          const docLink = document.createElement('div');\n",
              "          docLink.innerHTML = docLinkHtml;\n",
              "          element.appendChild(docLink);\n",
              "        }\n",
              "      </script>\n",
              "    </div>\n",
              "  </div>\n",
              "  "
            ]
          },
          "metadata": {},
          "execution_count": 16
        }
      ]
    },
    {
      "cell_type": "code",
      "source": [
        "print(\"Cantidad de documentos:\", df.shape[0])\n"
      ],
      "metadata": {
        "colab": {
          "base_uri": "https://localhost:8080/"
        },
        "id": "APpNccmkxXbB",
        "outputId": "fafcb55b-3089-4e9a-ba96-15a950dbcdb3"
      },
      "execution_count": null,
      "outputs": [
        {
          "output_type": "stream",
          "name": "stdout",
          "text": [
            "Cantidad de documentos: 70\n"
          ]
        }
      ]
    },
    {
      "cell_type": "code",
      "source": [
        "import re\n",
        "import unicodedata\n",
        "import string\n",
        "\n",
        "def preprocess_clean_text(text):    \n",
        "    # sacar tildes de las palabras:\n",
        "    text = unicodedata.normalize('NFKD', text).encode('ascii', 'ignore').decode('utf-8', 'ignore')\n",
        "    # quitar caracteres especiales\n",
        "    pattern = r'[^a-zA-z0-9.,!?/:;\\\"\\'\\s]' # Se eliminar cualquier caracter distinto de los del regex\n",
        "    text = re.sub(pattern, '', text)\n",
        "    pattern = r'[^a-zA-z.,!?/:;\\\"\\'\\s]'\n",
        "    # quitar números\n",
        "    text = re.sub(pattern, '', text)\n",
        "    # quitar caracteres de puntuación\n",
        "    text = ''.join([c for c in text if c not in string.punctuation])\n",
        "    return text\n",
        "     "
      ],
      "metadata": {
        "id": "8EmwCO1020Di"
      },
      "execution_count": null,
      "outputs": []
    },
    {
      "cell_type": "code",
      "source": [
        "import nltk\n",
        "from nltk.corpus import stopwords\n",
        "nltk.download('stopwords')\n",
        "nltk_stop_words = set(stopwords.words(\"english\"))"
      ],
      "metadata": {
        "colab": {
          "base_uri": "https://localhost:8080/"
        },
        "id": "Y4OS4HT826w0",
        "outputId": "d64d6af3-9b15-41cd-c800-f8cd4b8dea7a"
      },
      "execution_count": null,
      "outputs": [
        {
          "output_type": "stream",
          "name": "stderr",
          "text": [
            "[nltk_data] Downloading package stopwords to /root/nltk_data...\n",
            "[nltk_data]   Unzipping corpora/stopwords.zip.\n"
          ]
        }
      ]
    },
    {
      "cell_type": "code",
      "source": [
        "from keras.preprocessing.text import text_to_word_sequence\n",
        "\n",
        "sentence_tokens = []\n",
        "# Recorrer todas las filas y transformar las oraciones. Aplicamos filtros, pasamos a minuscula y eliminamos stop words\n",
        "for _, row in df[:None].iterrows():\n",
        "    tokens = text_to_word_sequence(row[0],filters='!\"#$%&()*+,-./:;<=>?@[\\\\]^_`{|}~\\t\\n',lower=True)\n",
        "    sentence_tokens.append([a for a in tokens if a not in nltk_stop_words])"
      ],
      "metadata": {
        "id": "GSBftwdPxaR0"
      },
      "execution_count": null,
      "outputs": []
    },
    {
      "cell_type": "code",
      "source": [
        "from gensim.models.callbacks import CallbackAny2Vec\n",
        "# Durante el entrenamiento gensim por defecto no informa el \"loss\" en cada época\n",
        "# Sobrecargamos el callback para poder tener esta información\n",
        "class callback(CallbackAny2Vec):\n",
        "    \"\"\"\n",
        "    Callback to print loss after each epoch\n",
        "    \"\"\"\n",
        "    def __init__(self):\n",
        "        self.epoch = 0\n",
        "\n",
        "    def on_epoch_end(self, model):\n",
        "        loss = model.get_latest_training_loss()\n",
        "        if self.epoch == 0:\n",
        "            print('Loss after epoch {}: {}'.format(self.epoch, loss))\n",
        "        else:\n",
        "            print('Loss after epoch {}: {}'.format(self.epoch, loss- self.loss_previous_step))\n",
        "        self.epoch += 1\n",
        "        self.loss_previous_step = loss"
      ],
      "metadata": {
        "id": "ML5mb8c3xcl-"
      },
      "execution_count": null,
      "outputs": []
    },
    {
      "cell_type": "code",
      "source": [
        "# Crearmos el modelo generador de vectores\n",
        "# En este caso utilizaremos la estructura modelo Skipgram\n",
        "w2v_model = Word2Vec(min_count=5,    # frecuencia mínima de palabra para incluirla en el vocabulario\n",
        "                     window=2,       # cant de palabras antes y desp de la predicha\n",
        "                     negative=20,    # cantidad de negative samples... 0 es no se usa\n",
        "                     workers=1,      # si tienen más cores pueden cambiar este valor\n",
        "                     sg=1)           # modelo 0:CBOW  1:skipgram"
      ],
      "metadata": {
        "id": "wELKF05rxfV9"
      },
      "execution_count": null,
      "outputs": []
    },
    {
      "cell_type": "code",
      "source": [
        "# Obtener el vocabulario con los tokens\n",
        "w2v_model.build_vocab(sentence_tokens)"
      ],
      "metadata": {
        "id": "dfXfzOtZxmca"
      },
      "execution_count": null,
      "outputs": []
    },
    {
      "cell_type": "code",
      "source": [
        "# Cantidad de filas/docs encontradas en el corpus\n",
        "print(\"Cantidad de docs en el corpus:\", w2v_model.corpus_count)"
      ],
      "metadata": {
        "colab": {
          "base_uri": "https://localhost:8080/"
        },
        "id": "eqX38YTYxoIM",
        "outputId": "2b1299fb-f62a-4f85-8ed5-f81222291ac2"
      },
      "execution_count": null,
      "outputs": [
        {
          "output_type": "stream",
          "name": "stdout",
          "text": [
            "Cantidad de docs en el corpus: 70\n"
          ]
        }
      ]
    },
    {
      "cell_type": "code",
      "source": [
        "# Cantidad de words encontradas en el corpus\n",
        "print(\"Cantidad de words distintas en el corpus:\", len(w2v_model.wv.key_to_index))"
      ],
      "metadata": {
        "colab": {
          "base_uri": "https://localhost:8080/"
        },
        "id": "Nb5pIgSSyz5i",
        "outputId": "7d3c96c1-91dd-403f-f0a4-ed7056a8e60b"
      },
      "execution_count": null,
      "outputs": [
        {
          "output_type": "stream",
          "name": "stdout",
          "text": [
            "Cantidad de words distintas en el corpus: 5853\n"
          ]
        }
      ]
    },
    {
      "cell_type": "code",
      "source": [
        "# Entrenamos el modelo generador de vectores\n",
        "# Utilizamos nuestro callback\n",
        "w2v_model.train(sentence_tokens,\n",
        "                 total_examples=w2v_model.corpus_count,\n",
        "                 epochs=250,\n",
        "                 compute_loss = True,\n",
        "                 callbacks=[callback()]\n",
        "                 )"
      ],
      "metadata": {
        "colab": {
          "base_uri": "https://localhost:8080/"
        },
        "id": "v5ZNVSxNyBS4",
        "outputId": "b1230984-ba7f-42aa-a1df-d332ae6a5226"
      },
      "execution_count": null,
      "outputs": [
        {
          "output_type": "stream",
          "name": "stderr",
          "text": [
            "WARNING:gensim.models.word2vec:Effective 'alpha' higher than previous training cycles\n"
          ]
        },
        {
          "output_type": "stream",
          "name": "stdout",
          "text": [
            "Loss after epoch 0: 847978.0625\n",
            "Loss after epoch 1: 843190.8125\n",
            "Loss after epoch 2: 825766.375\n",
            "Loss after epoch 3: 812451.5\n",
            "Loss after epoch 4: 811687.25\n",
            "Loss after epoch 5: 763060.5\n",
            "Loss after epoch 6: 759536.5\n",
            "Loss after epoch 7: 757787.0\n",
            "Loss after epoch 8: 759465.5\n",
            "Loss after epoch 9: 758160.5\n",
            "Loss after epoch 10: 732765.0\n",
            "Loss after epoch 11: 692842.0\n",
            "Loss after epoch 12: 692919.0\n",
            "Loss after epoch 13: 693214.0\n",
            "Loss after epoch 14: 690788.0\n",
            "Loss after epoch 15: 688832.0\n",
            "Loss after epoch 16: 691030.0\n",
            "Loss after epoch 17: 689205.0\n",
            "Loss after epoch 18: 687486.0\n",
            "Loss after epoch 19: 688927.0\n",
            "Loss after epoch 20: 686860.0\n",
            "Loss after epoch 21: 686444.0\n",
            "Loss after epoch 22: 667896.0\n",
            "Loss after epoch 23: 607142.0\n",
            "Loss after epoch 24: 604646.0\n",
            "Loss after epoch 25: 603872.0\n",
            "Loss after epoch 26: 604550.0\n",
            "Loss after epoch 27: 603554.0\n",
            "Loss after epoch 28: 602200.0\n",
            "Loss after epoch 29: 601970.0\n",
            "Loss after epoch 30: 599198.0\n",
            "Loss after epoch 31: 598802.0\n",
            "Loss after epoch 32: 600212.0\n",
            "Loss after epoch 33: 597104.0\n",
            "Loss after epoch 34: 597084.0\n",
            "Loss after epoch 35: 597938.0\n",
            "Loss after epoch 36: 597504.0\n",
            "Loss after epoch 37: 596972.0\n",
            "Loss after epoch 38: 598988.0\n",
            "Loss after epoch 39: 594570.0\n",
            "Loss after epoch 40: 594172.0\n",
            "Loss after epoch 41: 594728.0\n",
            "Loss after epoch 42: 594388.0\n",
            "Loss after epoch 43: 594418.0\n",
            "Loss after epoch 44: 591686.0\n",
            "Loss after epoch 45: 590140.0\n",
            "Loss after epoch 46: 589904.0\n",
            "Loss after epoch 47: 591330.0\n",
            "Loss after epoch 48: 589910.0\n",
            "Loss after epoch 49: 588096.0\n",
            "Loss after epoch 50: 569726.0\n",
            "Loss after epoch 51: 455600.0\n",
            "Loss after epoch 52: 452292.0\n",
            "Loss after epoch 53: 454128.0\n",
            "Loss after epoch 54: 455732.0\n",
            "Loss after epoch 55: 452688.0\n",
            "Loss after epoch 56: 453340.0\n",
            "Loss after epoch 57: 449292.0\n",
            "Loss after epoch 58: 450472.0\n",
            "Loss after epoch 59: 450176.0\n",
            "Loss after epoch 60: 448884.0\n",
            "Loss after epoch 61: 448856.0\n",
            "Loss after epoch 62: 447716.0\n",
            "Loss after epoch 63: 448052.0\n",
            "Loss after epoch 64: 446168.0\n",
            "Loss after epoch 65: 446080.0\n",
            "Loss after epoch 66: 444724.0\n",
            "Loss after epoch 67: 443352.0\n",
            "Loss after epoch 68: 442636.0\n",
            "Loss after epoch 69: 442892.0\n",
            "Loss after epoch 70: 444704.0\n",
            "Loss after epoch 71: 442444.0\n",
            "Loss after epoch 72: 440268.0\n",
            "Loss after epoch 73: 438280.0\n",
            "Loss after epoch 74: 440820.0\n",
            "Loss after epoch 75: 438740.0\n",
            "Loss after epoch 76: 439792.0\n",
            "Loss after epoch 77: 439428.0\n",
            "Loss after epoch 78: 436824.0\n",
            "Loss after epoch 79: 435096.0\n",
            "Loss after epoch 80: 436600.0\n",
            "Loss after epoch 81: 435732.0\n",
            "Loss after epoch 82: 434856.0\n",
            "Loss after epoch 83: 435076.0\n",
            "Loss after epoch 84: 433776.0\n",
            "Loss after epoch 85: 432856.0\n",
            "Loss after epoch 86: 432788.0\n",
            "Loss after epoch 87: 431064.0\n",
            "Loss after epoch 88: 431352.0\n",
            "Loss after epoch 89: 430460.0\n",
            "Loss after epoch 90: 429248.0\n",
            "Loss after epoch 91: 426740.0\n",
            "Loss after epoch 92: 428060.0\n",
            "Loss after epoch 93: 427708.0\n",
            "Loss after epoch 94: 427224.0\n",
            "Loss after epoch 95: 426680.0\n",
            "Loss after epoch 96: 425060.0\n",
            "Loss after epoch 97: 424748.0\n",
            "Loss after epoch 98: 424016.0\n",
            "Loss after epoch 99: 424768.0\n",
            "Loss after epoch 100: 423752.0\n",
            "Loss after epoch 101: 421448.0\n",
            "Loss after epoch 102: 422016.0\n",
            "Loss after epoch 103: 419932.0\n",
            "Loss after epoch 104: 418984.0\n",
            "Loss after epoch 105: 419468.0\n",
            "Loss after epoch 106: 419800.0\n",
            "Loss after epoch 107: 417080.0\n",
            "Loss after epoch 108: 415160.0\n",
            "Loss after epoch 109: 417804.0\n",
            "Loss after epoch 110: 415956.0\n",
            "Loss after epoch 111: 414316.0\n",
            "Loss after epoch 112: 415784.0\n",
            "Loss after epoch 113: 414080.0\n",
            "Loss after epoch 114: 413196.0\n",
            "Loss after epoch 115: 411132.0\n",
            "Loss after epoch 116: 410516.0\n",
            "Loss after epoch 117: 410620.0\n",
            "Loss after epoch 118: 410536.0\n",
            "Loss after epoch 119: 407312.0\n",
            "Loss after epoch 120: 409796.0\n",
            "Loss after epoch 121: 409400.0\n",
            "Loss after epoch 122: 407192.0\n",
            "Loss after epoch 123: 406992.0\n",
            "Loss after epoch 124: 407984.0\n",
            "Loss after epoch 125: 405868.0\n",
            "Loss after epoch 126: 405076.0\n",
            "Loss after epoch 127: 405264.0\n",
            "Loss after epoch 128: 386184.0\n",
            "Loss after epoch 129: 92056.0\n",
            "Loss after epoch 130: 91656.0\n",
            "Loss after epoch 131: 92296.0\n",
            "Loss after epoch 132: 90800.0\n",
            "Loss after epoch 133: 91720.0\n",
            "Loss after epoch 134: 91744.0\n",
            "Loss after epoch 135: 90912.0\n",
            "Loss after epoch 136: 89680.0\n",
            "Loss after epoch 137: 90216.0\n",
            "Loss after epoch 138: 89608.0\n",
            "Loss after epoch 139: 89264.0\n",
            "Loss after epoch 140: 89416.0\n",
            "Loss after epoch 141: 89032.0\n",
            "Loss after epoch 142: 89024.0\n",
            "Loss after epoch 143: 88488.0\n",
            "Loss after epoch 144: 88488.0\n",
            "Loss after epoch 145: 88784.0\n",
            "Loss after epoch 146: 86672.0\n",
            "Loss after epoch 147: 87328.0\n",
            "Loss after epoch 148: 86896.0\n",
            "Loss after epoch 149: 87248.0\n",
            "Loss after epoch 150: 86192.0\n",
            "Loss after epoch 151: 85632.0\n",
            "Loss after epoch 152: 87544.0\n",
            "Loss after epoch 153: 86272.0\n",
            "Loss after epoch 154: 86032.0\n",
            "Loss after epoch 155: 85408.0\n",
            "Loss after epoch 156: 86232.0\n",
            "Loss after epoch 157: 84232.0\n",
            "Loss after epoch 158: 83600.0\n",
            "Loss after epoch 159: 82944.0\n",
            "Loss after epoch 160: 84768.0\n",
            "Loss after epoch 161: 84632.0\n",
            "Loss after epoch 162: 83408.0\n",
            "Loss after epoch 163: 82800.0\n",
            "Loss after epoch 164: 83120.0\n",
            "Loss after epoch 165: 82680.0\n",
            "Loss after epoch 166: 82552.0\n",
            "Loss after epoch 167: 82376.0\n",
            "Loss after epoch 168: 82496.0\n",
            "Loss after epoch 169: 81960.0\n",
            "Loss after epoch 170: 82152.0\n",
            "Loss after epoch 171: 81600.0\n",
            "Loss after epoch 172: 81176.0\n",
            "Loss after epoch 173: 80728.0\n",
            "Loss after epoch 174: 81448.0\n",
            "Loss after epoch 175: 80656.0\n",
            "Loss after epoch 176: 80504.0\n",
            "Loss after epoch 177: 80152.0\n",
            "Loss after epoch 178: 79296.0\n",
            "Loss after epoch 179: 80176.0\n",
            "Loss after epoch 180: 80296.0\n",
            "Loss after epoch 181: 79632.0\n",
            "Loss after epoch 182: 79464.0\n",
            "Loss after epoch 183: 78760.0\n",
            "Loss after epoch 184: 79296.0\n",
            "Loss after epoch 185: 78304.0\n",
            "Loss after epoch 186: 78504.0\n",
            "Loss after epoch 187: 77504.0\n",
            "Loss after epoch 188: 76856.0\n",
            "Loss after epoch 189: 77672.0\n",
            "Loss after epoch 190: 78832.0\n",
            "Loss after epoch 191: 76928.0\n",
            "Loss after epoch 192: 76352.0\n",
            "Loss after epoch 193: 76864.0\n",
            "Loss after epoch 194: 75832.0\n",
            "Loss after epoch 195: 76352.0\n",
            "Loss after epoch 196: 75600.0\n",
            "Loss after epoch 197: 75592.0\n",
            "Loss after epoch 198: 76936.0\n",
            "Loss after epoch 199: 75000.0\n",
            "Loss after epoch 200: 74464.0\n",
            "Loss after epoch 201: 73776.0\n",
            "Loss after epoch 202: 74128.0\n",
            "Loss after epoch 203: 74592.0\n",
            "Loss after epoch 204: 74232.0\n",
            "Loss after epoch 205: 74784.0\n",
            "Loss after epoch 206: 73440.0\n",
            "Loss after epoch 207: 73056.0\n",
            "Loss after epoch 208: 72336.0\n",
            "Loss after epoch 209: 72440.0\n",
            "Loss after epoch 210: 73056.0\n",
            "Loss after epoch 211: 71664.0\n",
            "Loss after epoch 212: 73312.0\n",
            "Loss after epoch 213: 72368.0\n",
            "Loss after epoch 214: 72464.0\n",
            "Loss after epoch 215: 73048.0\n",
            "Loss after epoch 216: 71720.0\n",
            "Loss after epoch 217: 71592.0\n",
            "Loss after epoch 218: 71480.0\n",
            "Loss after epoch 219: 71184.0\n",
            "Loss after epoch 220: 72016.0\n",
            "Loss after epoch 221: 70768.0\n",
            "Loss after epoch 222: 70024.0\n",
            "Loss after epoch 223: 71272.0\n",
            "Loss after epoch 224: 69336.0\n",
            "Loss after epoch 225: 68944.0\n",
            "Loss after epoch 226: 68368.0\n",
            "Loss after epoch 227: 69320.0\n",
            "Loss after epoch 228: 69096.0\n",
            "Loss after epoch 229: 69960.0\n",
            "Loss after epoch 230: 69712.0\n",
            "Loss after epoch 231: 68184.0\n",
            "Loss after epoch 232: 68616.0\n",
            "Loss after epoch 233: 69064.0\n",
            "Loss after epoch 234: 69192.0\n",
            "Loss after epoch 235: 68048.0\n",
            "Loss after epoch 236: 68080.0\n",
            "Loss after epoch 237: 67448.0\n",
            "Loss after epoch 238: 67832.0\n",
            "Loss after epoch 239: 67856.0\n",
            "Loss after epoch 240: 67136.0\n",
            "Loss after epoch 241: 67528.0\n",
            "Loss after epoch 242: 67120.0\n",
            "Loss after epoch 243: 66472.0\n",
            "Loss after epoch 244: 66712.0\n",
            "Loss after epoch 245: 66936.0\n",
            "Loss after epoch 246: 66832.0\n",
            "Loss after epoch 247: 65272.0\n",
            "Loss after epoch 248: 65888.0\n",
            "Loss after epoch 249: 65544.0\n"
          ]
        },
        {
          "output_type": "execute_result",
          "data": {
            "text/plain": [
              "(33257722, 41665500)"
            ]
          },
          "metadata": {},
          "execution_count": 65
        }
      ]
    },
    {
      "cell_type": "code",
      "source": [
        "# Palabras que MÁS se relacionan con...:\n",
        "w2v_model.wv.most_similar(positive=[\"talking\"], topn=10)"
      ],
      "metadata": {
        "colab": {
          "base_uri": "https://localhost:8080/"
        },
        "id": "iX1WJVC9yE1o",
        "outputId": "606ee26c-1122-4491-ba90-22fd48d17a7b"
      },
      "execution_count": null,
      "outputs": [
        {
          "output_type": "execute_result",
          "data": {
            "text/plain": [
              "[('kickapoos', 0.5048884749412537),\n",
              " ('smith', 0.5003135204315186),\n",
              " ('zee', 0.47309809923171997),\n",
              " ('berry', 0.46835803985595703),\n",
              " ('vulgar', 0.46092313528060913),\n",
              " ('circulation', 0.4598088562488556),\n",
              " ('zit', 0.4446318745613098),\n",
              " ('lose', 0.4442058503627777),\n",
              " ('brigadier', 0.4411779046058655),\n",
              " ('frog', 0.4302944839000702)]"
            ]
          },
          "metadata": {},
          "execution_count": 66
        }
      ]
    },
    {
      "cell_type": "code",
      "source": [
        "w2v_model.wv.most_similar(positive=[\"walking\"], topn=10)"
      ],
      "metadata": {
        "colab": {
          "base_uri": "https://localhost:8080/"
        },
        "id": "1icFghQC6Evs",
        "outputId": "0fa783b0-ccc3-490b-cad2-f0bd0670225d"
      },
      "execution_count": null,
      "outputs": [
        {
          "output_type": "execute_result",
          "data": {
            "text/plain": [
              "[('cane', 0.5160650610923767),\n",
              " ('way', 0.5016581416130066),\n",
              " ('pink', 0.4896237850189209),\n",
              " ('merchant', 0.47779393196105957),\n",
              " ('exchange', 0.47465211153030396),\n",
              " ('charms', 0.4672176241874695),\n",
              " ('barronitt', 0.45858556032180786),\n",
              " ('july', 0.4553198516368866),\n",
              " ('ce', 0.4440154433250427),\n",
              " ('dis', 0.4401244819164276)]"
            ]
          },
          "metadata": {},
          "execution_count": 67
        }
      ]
    },
    {
      "cell_type": "code",
      "source": [
        "w2v_model.wv.most_similar(positive=[\"dark\"], topn=10)"
      ],
      "metadata": {
        "colab": {
          "base_uri": "https://localhost:8080/"
        },
        "id": "zaxqpTM16HWy",
        "outputId": "e445faf1-449f-4897-fd95-02938127b4d5"
      },
      "execution_count": null,
      "outputs": [
        {
          "output_type": "execute_result",
          "data": {
            "text/plain": [
              "[('hemisphere', 0.4619487226009369),\n",
              " ('table', 0.4097704291343689),\n",
              " ('waned', 0.408613383769989),\n",
              " ('flowed', 0.40404170751571655),\n",
              " ('dollar', 0.39764249324798584),\n",
              " ('rocks', 0.3968186378479004),\n",
              " ('mysteries', 0.39498651027679443),\n",
              " ('issue', 0.3941417932510376),\n",
              " ('sunset', 0.3895815908908844),\n",
              " ('heavily', 0.38907766342163086)]"
            ]
          },
          "metadata": {},
          "execution_count": 68
        }
      ]
    },
    {
      "cell_type": "code",
      "source": [
        "w2v_model.wv.most_similar(positive=[\"mysteries\"], topn=10)"
      ],
      "metadata": {
        "colab": {
          "base_uri": "https://localhost:8080/"
        },
        "id": "cAE8ftRv6KB1",
        "outputId": "be47b3a4-1f35-4fad-81b0-26af2731eed4"
      },
      "execution_count": null,
      "outputs": [
        {
          "output_type": "execute_result",
          "data": {
            "text/plain": [
              "[('vestibule', 0.4618210196495056),\n",
              " ('hearts', 0.4575481712818146),\n",
              " ('divine', 0.4533630609512329),\n",
              " ('discoursed', 0.4512646496295929),\n",
              " ('you’re', 0.4496985673904419),\n",
              " ('anon', 0.4460476040840149),\n",
              " ('existing', 0.43353918194770813),\n",
              " ('precincts', 0.43256255984306335),\n",
              " ('notwithstanding', 0.4293864369392395),\n",
              " ('share', 0.4274493455886841)]"
            ]
          },
          "metadata": {},
          "execution_count": 71
        }
      ]
    },
    {
      "cell_type": "code",
      "source": [
        "w2v_model.wv.most_similar(positive=[\"grave\"], topn=10)"
      ],
      "metadata": {
        "colab": {
          "base_uri": "https://localhost:8080/"
        },
        "id": "ePDERhKN6qFp",
        "outputId": "acdaa644-b4eb-47f5-c746-8c48c2d01ac9"
      },
      "execution_count": null,
      "outputs": [
        {
          "output_type": "execute_result",
          "data": {
            "text/plain": [
              "[('moon', 0.4588015079498291),\n",
              " ('lady', 0.4418303966522217),\n",
              " ('valve', 0.4406658709049225),\n",
              " ('closer', 0.4287431538105011),\n",
              " ('building', 0.4040292501449585),\n",
              " ('appointed', 0.40371987223625183),\n",
              " ('gallant', 0.39902758598327637),\n",
              " ('sincerity', 0.3985688388347626),\n",
              " ('slumbering', 0.3969342112541199),\n",
              " ('examination', 0.3893827199935913)]"
            ]
          },
          "metadata": {},
          "execution_count": 81
        }
      ]
    },
    {
      "cell_type": "code",
      "source": [
        "w2v_model.wv.most_similar(positive=[\"terror\"], topn=10)"
      ],
      "metadata": {
        "colab": {
          "base_uri": "https://localhost:8080/"
        },
        "id": "klbqfMtI6_t9",
        "outputId": "027c2618-41f2-4972-8751-ea358caba7d4"
      },
      "execution_count": null,
      "outputs": [
        {
          "output_type": "execute_result",
          "data": {
            "text/plain": [
              "[('horror', 0.5143254399299622),\n",
              " ('uttered', 0.45540472865104675),\n",
              " ('awakening', 0.4247720241546631),\n",
              " ('assembly', 0.4208236038684845),\n",
              " ('reverie', 0.4161911606788635),\n",
              " ('bewildering', 0.4097308814525604),\n",
              " ('echoes', 0.40951940417289734),\n",
              " ('overpowered', 0.40647971630096436),\n",
              " ('conceptions', 0.40567708015441895),\n",
              " ('abeyance', 0.4030711054801941)]"
            ]
          },
          "metadata": {},
          "execution_count": 76
        }
      ]
    },
    {
      "cell_type": "markdown",
      "source": [
        "Cuando vemos la palabra \"opuesta\" a beautiful obtenemos sleep, acá tenemos un ejemplo mas claro de la trama de los textos del autor"
      ],
      "metadata": {
        "id": "KTo6pp1sAQtk"
      }
    },
    {
      "cell_type": "code",
      "source": [
        "w2v_model.wv.most_similar(negative=[\"beautiful\"], topn=10)"
      ],
      "metadata": {
        "colab": {
          "base_uri": "https://localhost:8080/"
        },
        "id": "Xvb9xZpu_2SO",
        "outputId": "98882068-0609-4917-c3fe-97280365b99d"
      },
      "execution_count": null,
      "outputs": [
        {
          "output_type": "execute_result",
          "data": {
            "text/plain": [
              "[('sleep', 0.1324545294046402),\n",
              " ('headlong', 0.12408821284770966),\n",
              " ('mighty', 0.12350145727396011),\n",
              " ('magic', 0.12332407385110855),\n",
              " ('device', 0.12101428210735321),\n",
              " ('inference', 0.11577296257019043),\n",
              " ('embarrassment', 0.10799449682235718),\n",
              " ('occur', 0.10712108761072159),\n",
              " ('thrilled', 0.10562478750944138),\n",
              " ('luminiferous', 0.10272025316953659)]"
            ]
          },
          "metadata": {},
          "execution_count": 83
        }
      ]
    },
    {
      "cell_type": "code",
      "source": [
        "from sklearn.decomposition import IncrementalPCA    \n",
        "from sklearn.manifold import TSNE                   \n",
        "import numpy as np                                  \n",
        "\n",
        "def reduce_dimensions(model):\n",
        "    num_dimensions = 2  \n",
        "\n",
        "    vectors = np.asarray(model.wv.vectors)\n",
        "    labels = np.asarray(model.wv.index_to_key)  \n",
        "\n",
        "    tsne = TSNE(n_components=num_dimensions, random_state=0)\n",
        "    vectors = tsne.fit_transform(vectors)\n",
        "\n",
        "    x_vals = [v[0] for v in vectors]\n",
        "    y_vals = [v[1] for v in vectors]\n",
        "    return x_vals, y_vals, labels"
      ],
      "metadata": {
        "id": "ZBlPmOqiyQhx"
      },
      "execution_count": null,
      "outputs": []
    },
    {
      "cell_type": "code",
      "source": [
        "# Graficar los embedddings en 2D\n",
        "import plotly.graph_objects as go\n",
        "import plotly.express as px\n",
        "\n",
        "x_vals, y_vals, labels = reduce_dimensions(w2v_model)\n",
        "\n",
        "MAX_WORDS=200\n",
        "fig = px.scatter(x=x_vals[:MAX_WORDS], y=y_vals[:MAX_WORDS], text=labels[:MAX_WORDS])\n",
        "fig.show(renderer=\"colab\") # esto para plotly en colab"
      ],
      "metadata": {
        "colab": {
          "base_uri": "https://localhost:8080/",
          "height": 542
        },
        "id": "L8sUOmJhySUJ",
        "outputId": "cbbb6932-f97c-44d8-982d-d2730d115f6c"
      },
      "execution_count": null,
      "outputs": [
        {
          "output_type": "display_data",
          "data": {
            "text/html": [
              "<html>\n",
              "<head><meta charset=\"utf-8\" /></head>\n",
              "<body>\n",
              "    <div>            <script src=\"https://cdnjs.cloudflare.com/ajax/libs/mathjax/2.7.5/MathJax.js?config=TeX-AMS-MML_SVG\"></script><script type=\"text/javascript\">if (window.MathJax && window.MathJax.Hub && window.MathJax.Hub.Config) {window.MathJax.Hub.Config({SVG: {font: \"STIX-Web\"}});}</script>                <script type=\"text/javascript\">window.PlotlyConfig = {MathJaxConfig: 'local'};</script>\n",
              "        <script src=\"https://cdn.plot.ly/plotly-2.18.2.min.js\"></script>                <div id=\"0084bcb1-048d-49d6-ae34-7356420a25e5\" class=\"plotly-graph-div\" style=\"height:525px; width:100%;\"></div>            <script type=\"text/javascript\">                                    window.PLOTLYENV=window.PLOTLYENV || {};                                    if (document.getElementById(\"0084bcb1-048d-49d6-ae34-7356420a25e5\")) {                    Plotly.newPlot(                        \"0084bcb1-048d-49d6-ae34-7356420a25e5\",                        [{\"hovertemplate\":\"x=%{x}<br>y=%{y}<br>text=%{text}<extra></extra>\",\"legendgroup\":\"\",\"marker\":{\"color\":\"#636efa\",\"symbol\":\"circle\"},\"mode\":\"markers+text\",\"name\":\"\",\"orientation\":\"v\",\"showlegend\":false,\"text\":[\"\\u201d\",\"upon\",\"one\",\"could\",\"would\",\"said\",\"say\",\"little\",\"much\",\"made\",\"us\",\"man\",\"however\",\"great\",\"time\",\"even\",\"first\",\"well\",\"thus\",\"two\",\"found\",\"long\",\"mr\",\"yet\",\"\\u2019\",\"every\",\"might\",\"may\",\"still\",\"without\",\"like\",\"length\",\"never\",\"must\",\"day\",\"whole\",\"eyes\",\"many\",\"within\",\"head\",\"indeed\",\"thought\",\"way\",\"although\",\"nothing\",\"old\",\"far\",\"thing\",\"three\",\"good\",\"seemed\",\"came\",\"matter\",\"hand\",\"see\",\"night\",\"less\",\"make\",\"shall\",\"course\",\"left\",\"let\",\"fact\",\"manner\",\"words\",\"means\",\"body\",\"ever\",\"seen\",\"mind\",\"de\",\"feet\",\"idea\",\"took\",\"back\",\"point\",\"know\",\"general\",\"doubt\",\"saw\",\"half\",\"large\",\"nature\",\"room\",\"part\",\"person\",\"light\",\"least\",\"right\",\"among\",\"air\",\"death\",\"became\",\"door\",\"nearly\",\"whose\",\"place\",\"moment\",\"world\",\"altogether\",\"full\",\"\\u201ci\",\"period\",\"immediately\",\"heart\",\"years\",\"question\",\"life\",\"character\",\"water\",\"lay\",\"certain\",\"end\",\"fell\",\"also\",\"eye\",\"things\",\"friend\",\"rather\",\"\\u201cthe\",\"take\",\"truth\",\"felt\",\"voice\",\"latter\",\"soon\",\"put\",\"five\",\"attention\",\"house\",\"perhaps\",\"soul\",\"face\",\"gave\",\"think\",\"appeared\",\"days\",\"thousand\",\"sure\",\"open\",\"last\",\"present\",\"true\",\"went\",\"called\",\"mere\",\"heard\",\"case\",\"reason\",\"word\",\"known\",\"men\",\"name\",\"beyond\",\"possible\",\"human\",\"hour\",\"appearance\",\"earth\",\"merely\",\"four\",\"cannot\",\"quite\",\"either\",\"always\",\"account\",\"second\",\"small\",\"therefore\",\"find\",\"portion\",\"difficulty\",\"around\",\"another\",\"away\",\"done\",\"looking\",\"view\",\"knew\",\"lady\",\"hundred\",\"taken\",\"black\",\"sense\",\"looked\",\"minutes\",\"alone\",\"something\",\"arm\",\"side\",\"go\",\"spirit\",\"turned\",\"replied\",\"form\",\"object\",\"ordinary\",\"balloon\",\"home\",\"deep\"],\"x\":[-0.9496080875396729,0.17553946375846863,0.07751915603876114,0.21851833164691925,0.16714489459991455,-1.7569289207458496,-0.028412582352757454,-0.1407068967819214,0.12840519845485687,-0.1658962368965149,0.6296069622039795,-0.10088454931974411,0.3546939790248871,-0.03385408967733383,0.18558254837989807,0.4932383894920349,-0.13820300996303558,-0.3769163489341736,-0.09668609499931335,-0.14612625539302826,-0.2524425685405731,0.6311503648757935,-2.7316160202026367,0.6581116914749146,-2.1974213123321533,0.19357280433177948,0.26905152201652527,0.4314457178115845,0.46747922897338867,0.07857798039913177,0.19699034094810486,1.0790983438491821,-0.18583416938781738,-0.0605291910469532,-0.3557177186012268,0.1887032836675644,0.5482073426246643,0.8348650336265564,1.42268705368042,-0.19862452149391174,0.6347469687461853,-0.021403713151812553,-0.8706797957420349,0.2810661196708679,-0.1612628996372223,-0.6506540775299072,1.244948387145996,-0.5384784936904907,0.16609084606170654,-0.818880558013916,2.3426172733306885,-1.2921196222305298,0.013598544523119926,-0.14324162900447845,-0.9101041555404663,0.02416900545358658,0.3232669234275818,-0.3383216857910156,0.31680402159690857,0.811678409576416,-0.04434776306152344,-0.4986496865749359,-0.149331733584404,-0.09141553938388824,-0.5175619125366211,-0.22517485916614532,0.5813414454460144,-0.8124541640281677,1.3528635501861572,0.40764254331588745,-3.897564649581909,0.44610679149627686,0.5188698172569275,-1.2104970216751099,0.27746355533599854,1.1594221591949463,-0.9275177717208862,0.07706557959318161,0.2391834706068039,0.5073704719543457,2.3535256385803223,0.38505852222442627,0.9037126302719116,0.42174527049064636,0.7558754682540894,-0.15955878794193268,1.0671552419662476,-0.005532143171876669,-0.9511964321136475,0.26615750789642334,1.1426548957824707,3.361279010772705,1.0817726850509644,-0.1374794840812683,-0.014062491245567799,0.24670298397541046,0.09280472993850708,0.7713633179664612,0.8524598479270935,1.0405834913253784,0.6837014555931091,-1.4041597843170166,0.8259585499763489,0.33814504742622375,4.196238040924072,-1.2978664636611938,-0.9044839143753052,1.6855521202087402,0.5562572479248047,0.614717960357666,2.375227689743042,1.7231632471084595,0.3305645287036896,2.340150833129883,-0.4360760450363159,-2.0168795585632324,1.6342853307724,-1.664448857307434,-0.6822869181632996,-2.5915234088897705,-1.9979795217514038,2.3093221187591553,1.6265869140625,0.020276853814721107,0.4594167172908783,-1.3500257730484009,-0.8755221962928772,-2.605145215988159,-0.08879557251930237,-0.7942938208580017,1.1092623472213745,0.9421974420547485,0.2729043960571289,-2.1202280521392822,-1.1793599128723145,0.41652780771255493,1.3525505065917969,-1.982825756072998,-1.2194373607635498,0.5488784909248352,-0.41721948981285095,-1.3066027164459229,-0.43457484245300293,-0.8685604929924011,-0.963804304599762,0.6892231106758118,1.0465267896652222,1.1193773746490479,1.874820351600647,-0.28257426619529724,-1.385595679283142,0.4872567057609558,-2.8661248683929443,2.5753989219665527,-0.7939221858978271,0.9251957535743713,-2.3358240127563477,2.6050055027008057,2.1296842098236084,0.32421889901161194,-1.8257224559783936,0.1993209570646286,-0.33521732687950134,0.08388611674308777,0.6694980263710022,-1.2248188257217407,-0.6415168642997742,0.2657272517681122,-0.36462077498435974,-0.1644979566335678,1.0972914695739746,0.7752999067306519,-0.10483585298061371,-0.28593167662620544,2.7149527072906494,-1.9190528392791748,-0.018535150215029716,0.6731502413749695,1.7705820798873901,-1.969502329826355,-2.951566219329834,-0.15035565197467804,1.2625577449798584,2.5574536323547363,0.5098840594291687,0.9760038256645203,0.3634500205516815,0.8533070683479309,-1.0697766542434692,-0.2559608221054077,-0.8169341683387756,-0.2744237184524536,-2.148904323577881,-2.25152587890625,-0.30348408222198486,-0.46901488304138184,1.1392042636871338,2.5217480659484863,-0.8926764130592346,0.33058732748031616],\"xaxis\":\"x\",\"y\":[-0.047586843371391296,-0.1733306348323822,-0.06339234858751297,0.25892674922943115,0.28136786818504333,-0.16705165803432465,0.443624347448349,-0.034877922385931015,0.24288791418075562,-0.3691055476665497,0.2920227646827698,0.5301418304443359,0.14021065831184387,0.053012438118457794,-0.10557374358177185,0.6016728281974792,0.5258541107177734,0.07760713994503021,0.28390851616859436,-0.18048466742038727,-0.12329378724098206,-0.5442954897880554,0.9683249592781067,0.8345528244972229,0.5042266249656677,-0.5770227313041687,0.19866448640823364,0.7208673357963562,0.10115627199411392,-0.1705075055360794,-1.0899033546447754,-0.6620013117790222,1.130308985710144,0.19621889293193817,-0.4004075229167938,-0.3836616277694702,-1.811503529548645,-0.47063761949539185,-1.2691103219985962,-1.8536176681518555,0.45287269353866577,0.6453689932823181,-0.9547260403633118,0.9278770089149475,0.40283674001693726,-0.15067562460899353,-0.3384840488433838,0.11649883538484573,-0.6227222084999084,0.07981208711862564,-0.34655529260635376,1.9216066598892212,0.111251100897789,-0.9834626913070679,-0.2993771731853485,-0.5611209869384766,2.1262104511260986,0.30548232793807983,0.4899020791053772,0.16075018048286438,-0.022556135430932045,-0.254218727350235,0.8234345316886902,-0.5397263169288635,2.561842441558838,1.4957098960876465,-0.2799815237522125,1.7340326309204102,-0.6509420275688171,0.27648043632507324,-1.85409414768219,-1.3495527505874634,1.3526229858398438,-1.588897705078125,-2.6573374271392822,0.17354165017604828,0.462731271982193,-0.058117616921663284,0.2903178930282593,-0.8073780536651611,2.25907826423645,-1.0200626850128174,2.0388834476470947,-3.5303282737731934,0.04229407757520676,0.37971803545951843,-2.4029035568237305,1.161982536315918,-1.9789283275604248,-0.5489332675933838,-1.4527446031570435,1.4235063791275024,-0.059238631278276443,-4.179100513458252,-1.4979689121246338,0.10240831226110458,-0.02042722888290882,0.36216282844543457,0.8490375876426697,-0.6246535181999207,-0.8602726459503174,0.05260084941983223,0.22577281296253204,-0.9400610327720642,0.5292873382568359,2.6052632331848145,0.3241969645023346,0.2437804490327835,1.0234860181808472,-1.9830763339996338,-2.234518527984619,0.338478147983551,-1.0118077993392944,-0.9391700625419617,-2.2084362506866455,-2.3021457195281982,0.49722811579704285,-0.5940019488334656,-0.6641019582748413,0.10951754450798035,1.54311203956604,1.3696235418319702,1.3515394926071167,3.5828003883361816,-0.5362499952316284,0.6343674063682556,-0.010297569446265697,3.243556261062622,0.21241791546344757,0.5973275899887085,2.682795763015747,0.4090542495250702,-2.0818748474121094,-1.6563881635665894,0.5837347507476807,-0.004392203409224749,-0.43587127327919006,3.115074396133423,0.8514546751976013,-3.5025975704193115,3.8953466415405273,1.2490429878234863,0.21083873510360718,-0.8364161252975464,-0.013511642813682556,0.5281499028205872,-0.08196360617876053,0.4843512177467346,0.8730179667472839,0.3926040828227997,1.1166213750839233,1.054284930229187,0.41397449374198914,0.09871742129325867,-0.43425941467285156,0.9732049107551575,-2.896136522293091,-0.19870109856128693,-0.4228079319000244,0.11526566743850708,3.5129165649414062,0.6130443811416626,-1.1492652893066406,0.29572099447250366,-0.3664378821849823,0.8798065185546875,0.3311922550201416,-1.4360722303390503,0.1494666486978531,1.2957868576049805,-1.3616820573806763,-0.4613020420074463,-2.7374093532562256,-0.9137646555900574,-1.2824716567993164,-0.989826500415802,-1.2512876987457275,0.1319747269153595,2.7660560607910156,1.9670346975326538,3.213654041290283,-0.0613640621304512,-3.7285780906677246,1.084641933441162,-0.3670061230659485,0.612002432346344,-0.03609394282102585,2.1685333251953125,-2.6108479499816895,-2.548412799835205,-0.33426275849342346,1.1274560689926147,-1.7129093408584595,-0.30305877327919006,3.7182443141937256,0.9134740233421326,1.1555984020233154,-1.4645897150039673,0.18822543323040009,-1.2375953197479248],\"yaxis\":\"y\",\"type\":\"scatter\"}],                        {\"template\":{\"data\":{\"histogram2dcontour\":[{\"type\":\"histogram2dcontour\",\"colorbar\":{\"outlinewidth\":0,\"ticks\":\"\"},\"colorscale\":[[0.0,\"#0d0887\"],[0.1111111111111111,\"#46039f\"],[0.2222222222222222,\"#7201a8\"],[0.3333333333333333,\"#9c179e\"],[0.4444444444444444,\"#bd3786\"],[0.5555555555555556,\"#d8576b\"],[0.6666666666666666,\"#ed7953\"],[0.7777777777777778,\"#fb9f3a\"],[0.8888888888888888,\"#fdca26\"],[1.0,\"#f0f921\"]]}],\"choropleth\":[{\"type\":\"choropleth\",\"colorbar\":{\"outlinewidth\":0,\"ticks\":\"\"}}],\"histogram2d\":[{\"type\":\"histogram2d\",\"colorbar\":{\"outlinewidth\":0,\"ticks\":\"\"},\"colorscale\":[[0.0,\"#0d0887\"],[0.1111111111111111,\"#46039f\"],[0.2222222222222222,\"#7201a8\"],[0.3333333333333333,\"#9c179e\"],[0.4444444444444444,\"#bd3786\"],[0.5555555555555556,\"#d8576b\"],[0.6666666666666666,\"#ed7953\"],[0.7777777777777778,\"#fb9f3a\"],[0.8888888888888888,\"#fdca26\"],[1.0,\"#f0f921\"]]}],\"heatmap\":[{\"type\":\"heatmap\",\"colorbar\":{\"outlinewidth\":0,\"ticks\":\"\"},\"colorscale\":[[0.0,\"#0d0887\"],[0.1111111111111111,\"#46039f\"],[0.2222222222222222,\"#7201a8\"],[0.3333333333333333,\"#9c179e\"],[0.4444444444444444,\"#bd3786\"],[0.5555555555555556,\"#d8576b\"],[0.6666666666666666,\"#ed7953\"],[0.7777777777777778,\"#fb9f3a\"],[0.8888888888888888,\"#fdca26\"],[1.0,\"#f0f921\"]]}],\"heatmapgl\":[{\"type\":\"heatmapgl\",\"colorbar\":{\"outlinewidth\":0,\"ticks\":\"\"},\"colorscale\":[[0.0,\"#0d0887\"],[0.1111111111111111,\"#46039f\"],[0.2222222222222222,\"#7201a8\"],[0.3333333333333333,\"#9c179e\"],[0.4444444444444444,\"#bd3786\"],[0.5555555555555556,\"#d8576b\"],[0.6666666666666666,\"#ed7953\"],[0.7777777777777778,\"#fb9f3a\"],[0.8888888888888888,\"#fdca26\"],[1.0,\"#f0f921\"]]}],\"contourcarpet\":[{\"type\":\"contourcarpet\",\"colorbar\":{\"outlinewidth\":0,\"ticks\":\"\"}}],\"contour\":[{\"type\":\"contour\",\"colorbar\":{\"outlinewidth\":0,\"ticks\":\"\"},\"colorscale\":[[0.0,\"#0d0887\"],[0.1111111111111111,\"#46039f\"],[0.2222222222222222,\"#7201a8\"],[0.3333333333333333,\"#9c179e\"],[0.4444444444444444,\"#bd3786\"],[0.5555555555555556,\"#d8576b\"],[0.6666666666666666,\"#ed7953\"],[0.7777777777777778,\"#fb9f3a\"],[0.8888888888888888,\"#fdca26\"],[1.0,\"#f0f921\"]]}],\"surface\":[{\"type\":\"surface\",\"colorbar\":{\"outlinewidth\":0,\"ticks\":\"\"},\"colorscale\":[[0.0,\"#0d0887\"],[0.1111111111111111,\"#46039f\"],[0.2222222222222222,\"#7201a8\"],[0.3333333333333333,\"#9c179e\"],[0.4444444444444444,\"#bd3786\"],[0.5555555555555556,\"#d8576b\"],[0.6666666666666666,\"#ed7953\"],[0.7777777777777778,\"#fb9f3a\"],[0.8888888888888888,\"#fdca26\"],[1.0,\"#f0f921\"]]}],\"mesh3d\":[{\"type\":\"mesh3d\",\"colorbar\":{\"outlinewidth\":0,\"ticks\":\"\"}}],\"scatter\":[{\"fillpattern\":{\"fillmode\":\"overlay\",\"size\":10,\"solidity\":0.2},\"type\":\"scatter\"}],\"parcoords\":[{\"type\":\"parcoords\",\"line\":{\"colorbar\":{\"outlinewidth\":0,\"ticks\":\"\"}}}],\"scatterpolargl\":[{\"type\":\"scatterpolargl\",\"marker\":{\"colorbar\":{\"outlinewidth\":0,\"ticks\":\"\"}}}],\"bar\":[{\"error_x\":{\"color\":\"#2a3f5f\"},\"error_y\":{\"color\":\"#2a3f5f\"},\"marker\":{\"line\":{\"color\":\"#E5ECF6\",\"width\":0.5},\"pattern\":{\"fillmode\":\"overlay\",\"size\":10,\"solidity\":0.2}},\"type\":\"bar\"}],\"scattergeo\":[{\"type\":\"scattergeo\",\"marker\":{\"colorbar\":{\"outlinewidth\":0,\"ticks\":\"\"}}}],\"scatterpolar\":[{\"type\":\"scatterpolar\",\"marker\":{\"colorbar\":{\"outlinewidth\":0,\"ticks\":\"\"}}}],\"histogram\":[{\"marker\":{\"pattern\":{\"fillmode\":\"overlay\",\"size\":10,\"solidity\":0.2}},\"type\":\"histogram\"}],\"scattergl\":[{\"type\":\"scattergl\",\"marker\":{\"colorbar\":{\"outlinewidth\":0,\"ticks\":\"\"}}}],\"scatter3d\":[{\"type\":\"scatter3d\",\"line\":{\"colorbar\":{\"outlinewidth\":0,\"ticks\":\"\"}},\"marker\":{\"colorbar\":{\"outlinewidth\":0,\"ticks\":\"\"}}}],\"scattermapbox\":[{\"type\":\"scattermapbox\",\"marker\":{\"colorbar\":{\"outlinewidth\":0,\"ticks\":\"\"}}}],\"scatterternary\":[{\"type\":\"scatterternary\",\"marker\":{\"colorbar\":{\"outlinewidth\":0,\"ticks\":\"\"}}}],\"scattercarpet\":[{\"type\":\"scattercarpet\",\"marker\":{\"colorbar\":{\"outlinewidth\":0,\"ticks\":\"\"}}}],\"carpet\":[{\"aaxis\":{\"endlinecolor\":\"#2a3f5f\",\"gridcolor\":\"white\",\"linecolor\":\"white\",\"minorgridcolor\":\"white\",\"startlinecolor\":\"#2a3f5f\"},\"baxis\":{\"endlinecolor\":\"#2a3f5f\",\"gridcolor\":\"white\",\"linecolor\":\"white\",\"minorgridcolor\":\"white\",\"startlinecolor\":\"#2a3f5f\"},\"type\":\"carpet\"}],\"table\":[{\"cells\":{\"fill\":{\"color\":\"#EBF0F8\"},\"line\":{\"color\":\"white\"}},\"header\":{\"fill\":{\"color\":\"#C8D4E3\"},\"line\":{\"color\":\"white\"}},\"type\":\"table\"}],\"barpolar\":[{\"marker\":{\"line\":{\"color\":\"#E5ECF6\",\"width\":0.5},\"pattern\":{\"fillmode\":\"overlay\",\"size\":10,\"solidity\":0.2}},\"type\":\"barpolar\"}],\"pie\":[{\"automargin\":true,\"type\":\"pie\"}]},\"layout\":{\"autotypenumbers\":\"strict\",\"colorway\":[\"#636efa\",\"#EF553B\",\"#00cc96\",\"#ab63fa\",\"#FFA15A\",\"#19d3f3\",\"#FF6692\",\"#B6E880\",\"#FF97FF\",\"#FECB52\"],\"font\":{\"color\":\"#2a3f5f\"},\"hovermode\":\"closest\",\"hoverlabel\":{\"align\":\"left\"},\"paper_bgcolor\":\"white\",\"plot_bgcolor\":\"#E5ECF6\",\"polar\":{\"bgcolor\":\"#E5ECF6\",\"angularaxis\":{\"gridcolor\":\"white\",\"linecolor\":\"white\",\"ticks\":\"\"},\"radialaxis\":{\"gridcolor\":\"white\",\"linecolor\":\"white\",\"ticks\":\"\"}},\"ternary\":{\"bgcolor\":\"#E5ECF6\",\"aaxis\":{\"gridcolor\":\"white\",\"linecolor\":\"white\",\"ticks\":\"\"},\"baxis\":{\"gridcolor\":\"white\",\"linecolor\":\"white\",\"ticks\":\"\"},\"caxis\":{\"gridcolor\":\"white\",\"linecolor\":\"white\",\"ticks\":\"\"}},\"coloraxis\":{\"colorbar\":{\"outlinewidth\":0,\"ticks\":\"\"}},\"colorscale\":{\"sequential\":[[0.0,\"#0d0887\"],[0.1111111111111111,\"#46039f\"],[0.2222222222222222,\"#7201a8\"],[0.3333333333333333,\"#9c179e\"],[0.4444444444444444,\"#bd3786\"],[0.5555555555555556,\"#d8576b\"],[0.6666666666666666,\"#ed7953\"],[0.7777777777777778,\"#fb9f3a\"],[0.8888888888888888,\"#fdca26\"],[1.0,\"#f0f921\"]],\"sequentialminus\":[[0.0,\"#0d0887\"],[0.1111111111111111,\"#46039f\"],[0.2222222222222222,\"#7201a8\"],[0.3333333333333333,\"#9c179e\"],[0.4444444444444444,\"#bd3786\"],[0.5555555555555556,\"#d8576b\"],[0.6666666666666666,\"#ed7953\"],[0.7777777777777778,\"#fb9f3a\"],[0.8888888888888888,\"#fdca26\"],[1.0,\"#f0f921\"]],\"diverging\":[[0,\"#8e0152\"],[0.1,\"#c51b7d\"],[0.2,\"#de77ae\"],[0.3,\"#f1b6da\"],[0.4,\"#fde0ef\"],[0.5,\"#f7f7f7\"],[0.6,\"#e6f5d0\"],[0.7,\"#b8e186\"],[0.8,\"#7fbc41\"],[0.9,\"#4d9221\"],[1,\"#276419\"]]},\"xaxis\":{\"gridcolor\":\"white\",\"linecolor\":\"white\",\"ticks\":\"\",\"title\":{\"standoff\":15},\"zerolinecolor\":\"white\",\"automargin\":true,\"zerolinewidth\":2},\"yaxis\":{\"gridcolor\":\"white\",\"linecolor\":\"white\",\"ticks\":\"\",\"title\":{\"standoff\":15},\"zerolinecolor\":\"white\",\"automargin\":true,\"zerolinewidth\":2},\"scene\":{\"xaxis\":{\"backgroundcolor\":\"#E5ECF6\",\"gridcolor\":\"white\",\"linecolor\":\"white\",\"showbackground\":true,\"ticks\":\"\",\"zerolinecolor\":\"white\",\"gridwidth\":2},\"yaxis\":{\"backgroundcolor\":\"#E5ECF6\",\"gridcolor\":\"white\",\"linecolor\":\"white\",\"showbackground\":true,\"ticks\":\"\",\"zerolinecolor\":\"white\",\"gridwidth\":2},\"zaxis\":{\"backgroundcolor\":\"#E5ECF6\",\"gridcolor\":\"white\",\"linecolor\":\"white\",\"showbackground\":true,\"ticks\":\"\",\"zerolinecolor\":\"white\",\"gridwidth\":2}},\"shapedefaults\":{\"line\":{\"color\":\"#2a3f5f\"}},\"annotationdefaults\":{\"arrowcolor\":\"#2a3f5f\",\"arrowhead\":0,\"arrowwidth\":1},\"geo\":{\"bgcolor\":\"white\",\"landcolor\":\"#E5ECF6\",\"subunitcolor\":\"white\",\"showland\":true,\"showlakes\":true,\"lakecolor\":\"white\"},\"title\":{\"x\":0.05},\"mapbox\":{\"style\":\"light\"}}},\"xaxis\":{\"anchor\":\"y\",\"domain\":[0.0,1.0],\"title\":{\"text\":\"x\"}},\"yaxis\":{\"anchor\":\"x\",\"domain\":[0.0,1.0],\"title\":{\"text\":\"y\"}},\"legend\":{\"tracegroupgap\":0},\"margin\":{\"t\":60}},                        {\"responsive\": true}                    ).then(function(){\n",
              "                            \n",
              "var gd = document.getElementById('0084bcb1-048d-49d6-ae34-7356420a25e5');\n",
              "var x = new MutationObserver(function (mutations, observer) {{\n",
              "        var display = window.getComputedStyle(gd).display;\n",
              "        if (!display || display === 'none') {{\n",
              "            console.log([gd, 'removed!']);\n",
              "            Plotly.purge(gd);\n",
              "            observer.disconnect();\n",
              "        }}\n",
              "}});\n",
              "\n",
              "// Listen for the removal of the full notebook cells\n",
              "var notebookContainer = gd.closest('#notebook-container');\n",
              "if (notebookContainer) {{\n",
              "    x.observe(notebookContainer, {childList: true});\n",
              "}}\n",
              "\n",
              "// Listen for the clearing of the current output cell\n",
              "var outputEl = gd.closest('.output');\n",
              "if (outputEl) {{\n",
              "    x.observe(outputEl, {childList: true});\n",
              "}}\n",
              "\n",
              "                        })                };                            </script>        </div>\n",
              "</body>\n",
              "</html>"
            ]
          },
          "metadata": {}
        }
      ]
    },
    {
      "cell_type": "markdown",
      "source": [
        "Vemos algunas relaciones que tienen sentido, como door cerca de room, head cerca de face, eyes, feet. Room y open aparecen casi en el mismo lugar.\n",
        "Podemos ver que death esta relativamente cerca de heart.\n",
        "Vemos que alone esta cerca de appeared, still.\n",
        "\n",
        "Se ven ejemplos donde se efectiviza el paradigma del escritor, cuyos textos son de terror, suspenso y misterio"
      ],
      "metadata": {
        "id": "JYTXvqScCEtb"
      }
    }
  ]
}