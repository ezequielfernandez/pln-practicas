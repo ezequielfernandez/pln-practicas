{
 "cells": [
  {
   "cell_type": "code",
   "execution_count": 1,
   "metadata": {},
   "outputs": [
    {
     "name": "stdout",
     "output_type": "stream",
     "text": [
      "\n",
      "\u001b[1m[\u001b[0m\u001b[34;49mnotice\u001b[0m\u001b[1;39;49m]\u001b[0m\u001b[39;49m A new release of pip is available: \u001b[0m\u001b[31;49m23.1\u001b[0m\u001b[39;49m -> \u001b[0m\u001b[32;49m23.1.2\u001b[0m\n",
      "\u001b[1m[\u001b[0m\u001b[34;49mnotice\u001b[0m\u001b[1;39;49m]\u001b[0m\u001b[39;49m To update, run: \u001b[0m\u001b[32;49mpip install --upgrade pip\u001b[0m\n"
     ]
    }
   ],
   "source": [
    "!pip install --upgrade --no-cache-dir gdown --quiet"
   ]
  },
  {
   "cell_type": "code",
   "execution_count": 34,
   "metadata": {},
   "outputs": [
    {
     "name": "stdout",
     "output_type": "stream",
     "text": [
      "Requirement already satisfied: torchinfo in /Library/Frameworks/Python.framework/Versions/3.11/lib/python3.11/site-packages (1.7.2)\n",
      "\n",
      "\u001b[1m[\u001b[0m\u001b[34;49mnotice\u001b[0m\u001b[1;39;49m]\u001b[0m\u001b[39;49m A new release of pip is available: \u001b[0m\u001b[31;49m23.1\u001b[0m\u001b[39;49m -> \u001b[0m\u001b[32;49m23.1.1\u001b[0m\n",
      "\u001b[1m[\u001b[0m\u001b[34;49mnotice\u001b[0m\u001b[1;39;49m]\u001b[0m\u001b[39;49m To update, run: \u001b[0m\u001b[32;49mpip install --upgrade pip\u001b[0m\n"
     ]
    }
   ],
   "source": [
    "!pip3 install torchinfo"
   ]
  },
  {
   "cell_type": "code",
   "execution_count": 217,
   "metadata": {},
   "outputs": [],
   "source": [
    "import numpy as np\n",
    "import random\n",
    "import io\n",
    "import pickle\n",
    "import pandas as pd\n",
    "\n",
    "import matplotlib.pyplot as plt\n",
    "import seaborn as sns\n",
    "\n",
    "import tensorflow as tf\n",
    "from tensorflow import keras\n",
    "from tensorflow.keras import layers\n",
    "\n",
    "from keras.utils.np_utils import to_categorical\n",
    "from tensorflow.keras.utils import pad_sequences\n",
    "from keras.models import Sequential\n",
    "from keras.layers import Dense\n",
    "from keras.layers import LSTM\n",
    "from keras.layers import Embedding\n",
    "from random import randrange"
   ]
  },
  {
   "cell_type": "code",
   "execution_count": 3,
   "metadata": {},
   "outputs": [
    {
     "name": "stderr",
     "output_type": "stream",
     "text": [
      "Downloading...\n",
      "From: https://drive.google.com/uc?id=1Urn1UFSrodN5BuW6-sc_igtaySGRwhV8\n",
      "To: /Users/ezequielfernandez/Desktop/dev/nlp/clothing_ecommerce_reviews.csv\n",
      "100%|██████████| 8.48M/8.48M [00:33<00:00, 254kB/s]\n"
     ]
    }
   ],
   "source": [
    "# Descargar la carpeta de dataset\n",
    "import os\n",
    "import gdown\n",
    "if os.access('clothing_ecommerce_reviews.csv', os.F_OK) is False:\n",
    "    url = 'https://drive.google.com/uc?id=1Urn1UFSrodN5BuW6-sc_igtaySGRwhV8'\n",
    "    output = 'clothing_ecommerce_reviews.csv'\n",
    "    gdown.download(url, output, quiet=False)\n",
    "else:\n",
    "    print(\"El dataset ya se encuentra descargado\")"
   ]
  },
  {
   "cell_type": "code",
   "execution_count": 4,
   "metadata": {},
   "outputs": [
    {
     "data": {
      "text/html": [
       "<div>\n",
       "<style scoped>\n",
       "    .dataframe tbody tr th:only-of-type {\n",
       "        vertical-align: middle;\n",
       "    }\n",
       "\n",
       "    .dataframe tbody tr th {\n",
       "        vertical-align: top;\n",
       "    }\n",
       "\n",
       "    .dataframe thead th {\n",
       "        text-align: right;\n",
       "    }\n",
       "</style>\n",
       "<table border=\"1\" class=\"dataframe\">\n",
       "  <thead>\n",
       "    <tr style=\"text-align: right;\">\n",
       "      <th></th>\n",
       "      <th>Clothing ID</th>\n",
       "      <th>Age</th>\n",
       "      <th>Title</th>\n",
       "      <th>Review Text</th>\n",
       "      <th>Rating</th>\n",
       "      <th>Recommended IND</th>\n",
       "      <th>Positive Feedback Count</th>\n",
       "      <th>Division Name</th>\n",
       "      <th>Department Name</th>\n",
       "      <th>Class Name</th>\n",
       "    </tr>\n",
       "  </thead>\n",
       "  <tbody>\n",
       "    <tr>\n",
       "      <th>0</th>\n",
       "      <td>767</td>\n",
       "      <td>33</td>\n",
       "      <td>NaN</td>\n",
       "      <td>Absolutely wonderful - silky and sexy and comf...</td>\n",
       "      <td>4</td>\n",
       "      <td>1</td>\n",
       "      <td>0</td>\n",
       "      <td>Initmates</td>\n",
       "      <td>Intimate</td>\n",
       "      <td>Intimates</td>\n",
       "    </tr>\n",
       "    <tr>\n",
       "      <th>1</th>\n",
       "      <td>1080</td>\n",
       "      <td>34</td>\n",
       "      <td>NaN</td>\n",
       "      <td>Love this dress!  it's sooo pretty.  i happene...</td>\n",
       "      <td>5</td>\n",
       "      <td>1</td>\n",
       "      <td>4</td>\n",
       "      <td>General</td>\n",
       "      <td>Dresses</td>\n",
       "      <td>Dresses</td>\n",
       "    </tr>\n",
       "    <tr>\n",
       "      <th>2</th>\n",
       "      <td>1077</td>\n",
       "      <td>60</td>\n",
       "      <td>Some major design flaws</td>\n",
       "      <td>I had such high hopes for this dress and reall...</td>\n",
       "      <td>3</td>\n",
       "      <td>0</td>\n",
       "      <td>0</td>\n",
       "      <td>General</td>\n",
       "      <td>Dresses</td>\n",
       "      <td>Dresses</td>\n",
       "    </tr>\n",
       "    <tr>\n",
       "      <th>3</th>\n",
       "      <td>1049</td>\n",
       "      <td>50</td>\n",
       "      <td>My favorite buy!</td>\n",
       "      <td>I love, love, love this jumpsuit. it's fun, fl...</td>\n",
       "      <td>5</td>\n",
       "      <td>1</td>\n",
       "      <td>0</td>\n",
       "      <td>General Petite</td>\n",
       "      <td>Bottoms</td>\n",
       "      <td>Pants</td>\n",
       "    </tr>\n",
       "    <tr>\n",
       "      <th>4</th>\n",
       "      <td>847</td>\n",
       "      <td>47</td>\n",
       "      <td>Flattering shirt</td>\n",
       "      <td>This shirt is very flattering to all due to th...</td>\n",
       "      <td>5</td>\n",
       "      <td>1</td>\n",
       "      <td>6</td>\n",
       "      <td>General</td>\n",
       "      <td>Tops</td>\n",
       "      <td>Blouses</td>\n",
       "    </tr>\n",
       "  </tbody>\n",
       "</table>\n",
       "</div>"
      ],
      "text/plain": [
       "   Clothing ID  Age                    Title   \n",
       "0          767   33                      NaN  \\\n",
       "1         1080   34                      NaN   \n",
       "2         1077   60  Some major design flaws   \n",
       "3         1049   50         My favorite buy!   \n",
       "4          847   47         Flattering shirt   \n",
       "\n",
       "                                         Review Text  Rating  Recommended IND   \n",
       "0  Absolutely wonderful - silky and sexy and comf...       4                1  \\\n",
       "1  Love this dress!  it's sooo pretty.  i happene...       5                1   \n",
       "2  I had such high hopes for this dress and reall...       3                0   \n",
       "3  I love, love, love this jumpsuit. it's fun, fl...       5                1   \n",
       "4  This shirt is very flattering to all due to th...       5                1   \n",
       "\n",
       "   Positive Feedback Count   Division Name Department Name Class Name  \n",
       "0                        0       Initmates        Intimate  Intimates  \n",
       "1                        4         General         Dresses    Dresses  \n",
       "2                        0         General         Dresses    Dresses  \n",
       "3                        0  General Petite         Bottoms      Pants  \n",
       "4                        6         General            Tops    Blouses  "
      ]
     },
     "execution_count": 4,
     "metadata": {},
     "output_type": "execute_result"
    }
   ],
   "source": [
    "# Armar el dataset\n",
    "df = pd.read_csv('clothing_ecommerce_reviews.csv')\n",
    "df.drop(columns = ['Unnamed: 0'], inplace = True)\n",
    "df.head()"
   ]
  },
  {
   "attachments": {},
   "cell_type": "markdown",
   "metadata": {},
   "source": [
    "Limpieza de datos"
   ]
  },
  {
   "cell_type": "code",
   "execution_count": 5,
   "metadata": {},
   "outputs": [
    {
     "data": {
      "text/html": [
       "<div>\n",
       "<style scoped>\n",
       "    .dataframe tbody tr th:only-of-type {\n",
       "        vertical-align: middle;\n",
       "    }\n",
       "\n",
       "    .dataframe tbody tr th {\n",
       "        vertical-align: top;\n",
       "    }\n",
       "\n",
       "    .dataframe thead th {\n",
       "        text-align: right;\n",
       "    }\n",
       "</style>\n",
       "<table border=\"1\" class=\"dataframe\">\n",
       "  <thead>\n",
       "    <tr style=\"text-align: right;\">\n",
       "      <th></th>\n",
       "      <th>Review Text</th>\n",
       "      <th>Rating</th>\n",
       "    </tr>\n",
       "  </thead>\n",
       "  <tbody>\n",
       "    <tr>\n",
       "      <th>0</th>\n",
       "      <td>Absolutely wonderful - silky and sexy and comf...</td>\n",
       "      <td>3</td>\n",
       "    </tr>\n",
       "    <tr>\n",
       "      <th>1</th>\n",
       "      <td>Love this dress!  it's sooo pretty.  i happene...</td>\n",
       "      <td>4</td>\n",
       "    </tr>\n",
       "    <tr>\n",
       "      <th>2</th>\n",
       "      <td>I had such high hopes for this dress and reall...</td>\n",
       "      <td>2</td>\n",
       "    </tr>\n",
       "    <tr>\n",
       "      <th>3</th>\n",
       "      <td>I love, love, love this jumpsuit. it's fun, fl...</td>\n",
       "      <td>4</td>\n",
       "    </tr>\n",
       "    <tr>\n",
       "      <th>4</th>\n",
       "      <td>This shirt is very flattering to all due to th...</td>\n",
       "      <td>4</td>\n",
       "    </tr>\n",
       "  </tbody>\n",
       "</table>\n",
       "</div>"
      ],
      "text/plain": [
       "                                         Review Text  Rating\n",
       "0  Absolutely wonderful - silky and sexy and comf...       3\n",
       "1  Love this dress!  it's sooo pretty.  i happene...       4\n",
       "2  I had such high hopes for this dress and reall...       2\n",
       "3  I love, love, love this jumpsuit. it's fun, fl...       4\n",
       "4  This shirt is very flattering to all due to th...       4"
      ]
     },
     "execution_count": 5,
     "metadata": {},
     "output_type": "execute_result"
    }
   ],
   "source": [
    "df_reviews = df.loc[:, ['Review Text', 'Rating']].dropna()\n",
    "df_reviews['Rating'] = df_reviews['Rating'] - 1\n",
    "df_reviews.head()"
   ]
  },
  {
   "attachments": {},
   "cell_type": "markdown",
   "metadata": {},
   "source": [
    "Rating entre 0 y 4"
   ]
  },
  {
   "cell_type": "code",
   "execution_count": 6,
   "metadata": {},
   "outputs": [
    {
     "data": {
      "text/plain": [
       "Rating\n",
       "4    12540\n",
       "3     4908\n",
       "2     2823\n",
       "1     1549\n",
       "0      821\n",
       "Name: count, dtype: int64"
      ]
     },
     "execution_count": 6,
     "metadata": {},
     "output_type": "execute_result"
    }
   ],
   "source": [
    "df_reviews['Rating'].value_counts()"
   ]
  },
  {
   "attachments": {},
   "cell_type": "markdown",
   "metadata": {},
   "source": [
    "Vemos que las clases estan notoriamente desbalanceadas"
   ]
  },
  {
   "cell_type": "code",
   "execution_count": 7,
   "metadata": {},
   "outputs": [
    {
     "data": {
      "text/plain": [
       "<Axes: ylabel='Frequency'>"
      ]
     },
     "execution_count": 7,
     "metadata": {},
     "output_type": "execute_result"
    },
    {
     "data": {
      "image/png": "[encoded data removed]",
      "text/plain": [
       "<Figure size 640x480 with 1 Axes>"
      ]
     },
     "metadata": {},
     "output_type": "display_data"
    }
   ],
   "source": [
    "df_reviews['Rating'].plot.hist(bins=10, alpha=0.5)"
   ]
  },
  {
   "attachments": {},
   "cell_type": "markdown",
   "metadata": {},
   "source": [
    "Vemos que si unimos las clases 0, 1 y 2, que conceptualmente serian una calificacion mala, se empareja un poco el dataset. Usaremos esto para probar modelos, aunque la idea es buscar un modelo que clasifique en todas las clases disponibles"
   ]
  },
  {
   "cell_type": "code",
   "execution_count": 8,
   "metadata": {},
   "outputs": [
    {
     "data": {
      "text/plain": [
       "<Axes: ylabel='Frequency'>"
      ]
     },
     "execution_count": 8,
     "metadata": {},
     "output_type": "execute_result"
    },
    {
     "data": {
      "image/png": "[encoded data removed]",
      "text/plain": [
       "<Figure size 640x480 with 1 Axes>"
      ]
     },
     "metadata": {},
     "output_type": "display_data"
    }
   ],
   "source": [
    "joined_df = df_reviews.copy()\n",
    "\n",
    "mask = joined_df['Rating'] <= 2\n",
    "column_name = 'Rating'\n",
    "joined_df.loc[mask, column_name] = 2\n",
    "\n",
    "joined_df['Rating'].plot.hist(bins=10, alpha=0.5)"
   ]
  },
  {
   "attachments": {},
   "cell_type": "markdown",
   "metadata": {},
   "source": [
    "Preparo el corpus"
   ]
  },
  {
   "cell_type": "code",
   "execution_count": 9,
   "metadata": {},
   "outputs": [
    {
     "data": {
      "text/plain": [
       "(22641,)"
      ]
     },
     "execution_count": 9,
     "metadata": {},
     "output_type": "execute_result"
    }
   ],
   "source": [
    "# Tomar la columna de las review y almacenarlo todo en un vector numpy de reviews\n",
    "text_sequences = df_reviews['Review Text'].values\n",
    "text_sequences.shape"
   ]
  },
  {
   "cell_type": "code",
   "execution_count": 10,
   "metadata": {},
   "outputs": [
    {
     "data": {
      "text/plain": [
       "array(['Absolutely wonderful - silky and sexy and comfortable',\n",
       "       'Love this dress!  it\\'s sooo pretty.  i happened to find it in a store, and i\\'m glad i did bc i never would have ordered it online bc it\\'s petite.  i bought a petite and am 5\\'8\".  i love the length on me- hits just a little below the knee.  would definitely be a true midi on someone who is truly petite.',\n",
       "       'I had such high hopes for this dress and really wanted it to work for me. i initially ordered the petite small (my usual size) but i found this to be outrageously small. so small in fact that i could not zip it up! i reordered it in petite medium, which was just ok. overall, the top half was comfortable and fit nicely, but the bottom half had a very tight under layer and several somewhat cheap (net) over layers. imo, a major design flaw was the net over layer sewn directly into the zipper - it c',\n",
       "       ...,\n",
       "       \"This fit well, but the top was very see through. this never would have worked for me. i'm glad i was able to try it on in the store and didn't order it online. with different fabric, it would have been great.\",\n",
       "       \"I bought this dress for a wedding i have this summer, and it's so cute. unfortunately the fit isn't perfect. the medium fits my waist perfectly, but was way too long and too big in the bust and shoulders. if i wanted to spend the money, i could get it tailored, but i just felt like it might not be worth it. side note - this dress was delivered to me with a nordstrom tag on it and i found it much cheaper there after looking!\",\n",
       "       'This dress in a lovely platinum is feminine and fits perfectly, easy to wear and comfy, too! highly recommend!'],\n",
       "      dtype=object)"
      ]
     },
     "execution_count": 10,
     "metadata": {},
     "output_type": "execute_result"
    }
   ],
   "source": [
    "text_sequences"
   ]
  },
  {
   "cell_type": "code",
   "execution_count": 11,
   "metadata": {},
   "outputs": [],
   "source": [
    "# Concatenar todas las reviews para armar el corpus\n",
    "corpus = ' '.join(text_sequences)"
   ]
  },
  {
   "cell_type": "code",
   "execution_count": 12,
   "metadata": {},
   "outputs": [
    {
     "data": {
      "text/plain": [
       "7011643"
      ]
     },
     "execution_count": 12,
     "metadata": {},
     "output_type": "execute_result"
    }
   ],
   "source": [
    "# ¿Cuál es la longitud de ese corpus?\n",
    "len(corpus)"
   ]
  },
  {
   "cell_type": "code",
   "execution_count": 13,
   "metadata": {},
   "outputs": [],
   "source": [
    "# Utilizar \"text_to_word_sequence\" para separar las palabras en tokens\n",
    "# recordar que text_to_word_sequence automaticamente quita los signos de puntuacion y pasa el texto a lowercase\n",
    "from keras.preprocessing.text import text_to_word_sequence\n",
    "tokens = text_to_word_sequence(corpus)"
   ]
  },
  {
   "cell_type": "code",
   "execution_count": 14,
   "metadata": {},
   "outputs": [
    {
     "data": {
      "text/plain": [
       "['absolutely',\n",
       " 'wonderful',\n",
       " 'silky',\n",
       " 'and',\n",
       " 'sexy',\n",
       " 'and',\n",
       " 'comfortable',\n",
       " 'love',\n",
       " 'this',\n",
       " 'dress',\n",
       " \"it's\",\n",
       " 'sooo',\n",
       " 'pretty',\n",
       " 'i',\n",
       " 'happened',\n",
       " 'to',\n",
       " 'find',\n",
       " 'it',\n",
       " 'in',\n",
       " 'a']"
      ]
     },
     "execution_count": 14,
     "metadata": {},
     "output_type": "execute_result"
    }
   ],
   "source": [
    "# Vemos los primeros 20 tokens\n",
    "tokens[:20]"
   ]
  },
  {
   "cell_type": "code",
   "execution_count": 15,
   "metadata": {},
   "outputs": [
    {
     "data": {
      "text/plain": [
       "1372203"
      ]
     },
     "execution_count": 15,
     "metadata": {},
     "output_type": "execute_result"
    }
   ],
   "source": [
    "# ¿Cuántos tokens/palabras hay?\n",
    "len(tokens)"
   ]
  },
  {
   "cell_type": "code",
   "execution_count": 18,
   "metadata": {},
   "outputs": [
    {
     "data": {
      "text/plain": [
       "14847"
      ]
     },
     "execution_count": 18,
     "metadata": {},
     "output_type": "execute_result"
    }
   ],
   "source": [
    "# Alumno: Tokenizar las palabras con el Tokenizer de Keras\n",
    "# Definir una máxima cantidad de palabras a utilizar:\n",
    "# num_words --> the maximum number of words to keep, based on word frequency.\n",
    "# Only the most common num_words-1 words will be kept.\n",
    "from keras.preprocessing.text import Tokenizer\n",
    "num_words = 2000\n",
    "vocab_size = num_words\n",
    "\n",
    "tok = Tokenizer(num_words=num_words) \n",
    "tok.fit_on_texts(tokens)\n",
    "\n",
    "# Obtener el diccionario de palabra (word) a índice\n",
    "# y observar la cantidad total del vocabulario\n",
    "word_index = tok.word_index\n",
    "len(word_index)"
   ]
  },
  {
   "cell_type": "code",
   "execution_count": 19,
   "metadata": {},
   "outputs": [
    {
     "data": {
      "text/plain": [
       "[('the', 1), ('i', 2), ('and', 3), ('a', 4), ('it', 5)]"
      ]
     },
     "execution_count": 19,
     "metadata": {},
     "output_type": "execute_result"
    }
   ],
   "source": [
    "from itertools import islice\n",
    "\n",
    "list(islice(word_index.items(), 5))"
   ]
  },
  {
   "cell_type": "code",
   "execution_count": 20,
   "metadata": {},
   "outputs": [],
   "source": [
    "# Convertir las palabras/tokens a números\n",
    "sequences = tok.texts_to_sequences(text_sequences)"
   ]
  },
  {
   "cell_type": "code",
   "execution_count": 21,
   "metadata": {},
   "outputs": [
    {
     "data": {
      "text/plain": [
       "[253, 532, 917, 3, 662, 3, 68]"
      ]
     },
     "execution_count": 21,
     "metadata": {},
     "output_type": "execute_result"
    }
   ],
   "source": [
    "sequences[0]"
   ]
  },
  {
   "cell_type": "code",
   "execution_count": 22,
   "metadata": {},
   "outputs": [
    {
     "data": {
      "text/plain": [
       "115"
      ]
     },
     "execution_count": 22,
     "metadata": {},
     "output_type": "execute_result"
    }
   ],
   "source": [
    "# Determinar cual es la oración más larga\n",
    "max(len(s) for s in sequences)"
   ]
  },
  {
   "cell_type": "code",
   "execution_count": 23,
   "metadata": {},
   "outputs": [],
   "source": [
    "from tensorflow.keras.utils import pad_sequences\n",
    "maxlen = 115"
   ]
  },
  {
   "cell_type": "code",
   "execution_count": 61,
   "metadata": {},
   "outputs": [],
   "source": [
    "# Al realizar padding obtener la variable \"X\" (input)\n",
    "X = pad_sequences(sequences, padding='pre', maxlen=maxlen)"
   ]
  },
  {
   "cell_type": "code",
   "execution_count": 62,
   "metadata": {},
   "outputs": [
    {
     "data": {
      "text/plain": [
       "(22641, 115)"
      ]
     },
     "execution_count": 62,
     "metadata": {},
     "output_type": "execute_result"
    }
   ],
   "source": [
    "# Observar las dimensiones de la variable input\n",
    "X.shape"
   ]
  },
  {
   "cell_type": "code",
   "execution_count": 63,
   "metadata": {},
   "outputs": [
    {
     "data": {
      "text/plain": [
       "array([  0,   0,   0,   0,   0,   0,   0,   0,   0,   0,   0,   0,   0,\n",
       "         0,   0,   0,   0,   0,   0,   0,   0,   0,   0,   0,   0,   0,\n",
       "         0,   0,   0,   0,   0,   0,   0,   0,   0,   0,   0,   0,   0,\n",
       "         0,   0,   0,   0,   0,   0,   0,   0,   0,   0,   0,   0,   0,\n",
       "         0,   0,   0,   0,   0,   0,   0,   0,   0,   0,   0,   0,   0,\n",
       "         0,   0,   0,   0,   0,   0,   0,   0,   0,   0,   0,   0,   0,\n",
       "         0,   0,   0,   0,   0,   0,   0,   0,   0,   0,   0,   0,   0,\n",
       "         0,   0,   0,   0,   0,   0,   0,   0,   0,   0,   0,   0,   0,\n",
       "         0,   0,   0,   0, 253, 532, 917,   3, 662,   3,  68], dtype=int32)"
      ]
     },
     "execution_count": 63,
     "metadata": {},
     "output_type": "execute_result"
    }
   ],
   "source": [
    "X[0]"
   ]
  },
  {
   "cell_type": "code",
   "execution_count": 27,
   "metadata": {},
   "outputs": [
    {
     "data": {
      "text/plain": [
       "Rating\n",
       "4    12540\n",
       "3     4908\n",
       "2     2823\n",
       "1     1549\n",
       "0      821\n",
       "Name: count, dtype: int64"
      ]
     },
     "execution_count": 27,
     "metadata": {},
     "output_type": "execute_result"
    }
   ],
   "source": [
    "df_reviews['Rating'].value_counts() "
   ]
  },
  {
   "cell_type": "code",
   "execution_count": 28,
   "metadata": {},
   "outputs": [
    {
     "name": "stderr",
     "output_type": "stream",
     "text": [
      "/Library/Frameworks/Python.framework/Versions/3.11/lib/python3.11/site-packages/sklearn/preprocessing/_encoders.py:868: FutureWarning: `sparse` was renamed to `sparse_output` in version 1.2 and will be removed in 1.4. `sparse_output` is ignored unless you leave `sparse` to its default value.\n",
      "  warnings.warn(\n"
     ]
    }
   ],
   "source": [
    "from sklearn.preprocessing import OneHotEncoder\n",
    "ohe = OneHotEncoder(sparse=False)\n",
    "y = ohe.fit_transform(joined_df['Rating'].to_numpy().reshape(-1,1))"
   ]
  },
  {
   "cell_type": "code",
   "execution_count": 79,
   "metadata": {},
   "outputs": [
    {
     "name": "stdout",
     "output_type": "stream",
     "text": [
      "(22641, 3)\n"
     ]
    }
   ],
   "source": [
    "print(y.shape)"
   ]
  },
  {
   "cell_type": "code",
   "execution_count": 30,
   "metadata": {},
   "outputs": [],
   "source": [
    "from sklearn.model_selection import train_test_split"
   ]
  },
  {
   "cell_type": "code",
   "execution_count": 31,
   "metadata": {},
   "outputs": [
    {
     "name": "stdout",
     "output_type": "stream",
     "text": [
      "input_size: 115\n",
      "Output dim 3\n"
     ]
    }
   ],
   "source": [
    "import torch\n",
    "from torch.utils.data import Dataset, DataLoader\n",
    "\n",
    "class Data(Dataset):\n",
    "    def __init__(self, x, y):\n",
    "        # Convertir los arrays de numpy a tensores. \n",
    "        # pytorch espera en general entradas 32bits\n",
    "        self.x = torch.from_numpy(x.astype(np.int32))\n",
    "        # la loss function esperan la salida float\n",
    "        self.y = torch.from_numpy(y.astype(np.int32)).float()\n",
    "\n",
    "        self.len = self.y.shape[0]\n",
    "\n",
    "    def __getitem__(self,index):\n",
    "        return self.x[index], self.y[index]\n",
    "\n",
    "    def __len__(self):\n",
    "        return self.len\n",
    "\n",
    "data_set = Data(X, y)\n",
    "\n",
    "input_size = data_set.x.shape[1]\n",
    "print(\"input_size:\", input_size)\n",
    "\n",
    "output_dim = data_set.y.shape[1]\n",
    "print(\"Output dim\", output_dim)"
   ]
  },
  {
   "cell_type": "code",
   "execution_count": 52,
   "metadata": {},
   "outputs": [
    {
     "data": {
      "text/plain": [
       "(tensor([  0,   0,   0,   0,   0,   0,   0,   0,   0,   0,   0,   0,   0,   0,\n",
       "           0,   0,   0,   0,   0,   0,   0,   0,   0,   0,   0,   0,   0,   0,\n",
       "           0,   0,   0,   0,   0,   0,   0,   0,   0,   0,   0,   0,   0,   0,\n",
       "           0,   0,   0,   0,   0,   0,   0,   0,   0,   0,   0,   0,   0,   0,\n",
       "           0,   0,   0,   0,   0,   0,   0,   0,   0,   0,   0,   0,   0,   0,\n",
       "           0,   0,   0,   0,   0,   0,   0,   0,   0,   0,   0,   0,   0,   0,\n",
       "           0,   0,   0,   0,   0,   0,   0,   0,   0,   0,   0,   0,   0,   0,\n",
       "           0,   0,   0,   0,   0,   0,   0,   0,   0,   0, 253, 532, 917,   3,\n",
       "         662,   3,  68], dtype=torch.int32),\n",
       " tensor([0., 0., 0., 1., 0.]))"
      ]
     },
     "execution_count": 52,
     "metadata": {},
     "output_type": "execute_result"
    }
   ],
   "source": [
    "data_set.__getitem__(0)"
   ]
  },
  {
   "cell_type": "code",
   "execution_count": 33,
   "metadata": {},
   "outputs": [
    {
     "name": "stdout",
     "output_type": "stream",
     "text": [
      "Tamaño del conjunto de entrenamiento: 7245\n",
      "Tamaño del conjunto de validacion: 1811\n"
     ]
    }
   ],
   "source": [
    "# Utilizamos \"random_split\" para crear los datos de train y test\n",
    "# partir del conjunto de datos_set\n",
    "# Fijamos un \"seed\" constante para que siempre el dataset se parta de la misma forma\n",
    "# para poder repetir los ensayos\n",
    "torch.manual_seed(42)\n",
    "data_set_reduced_size = int(data_set.len * 0.4)\n",
    "valid_set_size = int(data_set_reduced_size * 0.2)\n",
    "train_set_size = data_set_reduced_size - valid_set_size\n",
    "data_set_reduced, _ = torch.utils.data.random_split(data_set, [data_set_reduced_size, data_set.len - data_set_reduced_size])\n",
    "train_set, valid_set = torch.utils.data.random_split(data_set_reduced, [train_set_size, data_set_reduced_size - train_set_size])\n",
    "\n",
    "print(\"Tamaño del conjunto de entrenamiento:\", len(train_set))\n",
    "print(\"Tamaño del conjunto de validacion:\", len(valid_set))\n",
    "\n",
    "train_loader = torch.utils.data.DataLoader(train_set, batch_size=32, shuffle=True)\n",
    "valid_loader = torch.utils.data.DataLoader(valid_set, batch_size=32, shuffle=True)"
   ]
  },
  {
   "cell_type": "code",
   "execution_count": 37,
   "metadata": {},
   "outputs": [
    {
     "name": "stdout",
     "output_type": "stream",
     "text": [
      "--2023-04-27 22:34:12--  http://torch_helpers.py/\n",
      "Resolviendo torch_helpers.py (torch_helpers.py)... falló: nodename nor servname provided, or not known.\n",
      "wget: no se pudo resolver la dirección del equipo «torch_helpers.py»\n",
      "--2023-04-27 22:34:12--  https://raw.githubusercontent.com/FIUBA-Posgrado-Inteligencia-Artificial/procesamiento_lenguaje_natural/main/scripts/torch_helpers.py\n",
      "Resolviendo raw.githubusercontent.com (raw.githubusercontent.com)... 185.199.109.133, 185.199.108.133, 185.199.110.133, ...\n",
      "Conectando con raw.githubusercontent.com (raw.githubusercontent.com)[185.199.109.133]:443... conectado.\n",
      "Petición HTTP enviada, esperando respuesta... 200 OK\n",
      "Longitud: 23883 (23K) [text/plain]\n",
      "Grabando a: «torch_helpers.py»\n",
      "\n",
      "torch_helpers.py    100%[===================>]  23.32K  --.-KB/s    en 0.001s  \n",
      "\n",
      "2023-04-27 22:34:15 (28.8 MB/s) - «torch_helpers.py» guardado [23883/23883]\n",
      "\n",
      "ACABADO --2023-04-27 22:34:15--\n",
      "Tiempo total de reloj: 3.3s\n",
      "Descargados: 1 ficheros, 23K en 0.001s (28.8 MB/s)\n"
     ]
    }
   ],
   "source": [
    "import os\n",
    "import platform\n",
    "\n",
    "if os.access('torch_helpers.py', os.F_OK) is False:\n",
    "    if platform.system() == 'Windows':\n",
    "        !curl !wget https://raw.githubusercontent.com/FIUBA-Posgrado-Inteligencia-Artificial/procesamiento_lenguaje_natural/main/scripts/torch_helpers.py > torch_helpers.py\n",
    "    else:\n",
    "        !wget torch_helpers.py https://raw.githubusercontent.com/FIUBA-Posgrado-Inteligencia-Artificial/procesamiento_lenguaje_natural/main/scripts/torch_helpers.py"
   ]
  },
  {
   "cell_type": "code",
   "execution_count": 38,
   "metadata": {},
   "outputs": [],
   "source": [
    "from torch_helpers import binary_acc\n",
    "from torch_helpers import categorical_acc\n",
    "\n",
    "def train(model, train_loader, valid_loader, optimizer, criterion, epochs=100):\n",
    "    # Defino listas para realizar graficas de los resultados\n",
    "    train_loss = []\n",
    "    train_accuracy = []\n",
    "    valid_loss = []\n",
    "    valid_accuracy = []\n",
    "\n",
    "    # Defino mi loop de entrenamiento\n",
    "\n",
    "    for epoch in range(epochs):\n",
    "\n",
    "        epoch_train_loss = 0.0\n",
    "        epoch_train_accuracy = 0.0\n",
    "\n",
    "        for train_data, train_target in train_loader:\n",
    "            # Seteo los gradientes en cero ya que, por defecto, PyTorch\n",
    "            # los va acumulando\n",
    "            optimizer.zero_grad()\n",
    "\n",
    "            output = model(train_data)\n",
    "\n",
    "            # Computo el error de la salida comparando contra las etiquetas\n",
    "            loss = criterion(output, train_target)\n",
    "\n",
    "            # Almaceno el error del batch para luego tener el error promedio de la epoca\n",
    "            epoch_train_loss += loss.item()\n",
    "\n",
    "            # Computo el nuevo set de gradientes a lo largo de toda la red\n",
    "            loss.backward()\n",
    "\n",
    "            # Realizo el paso de optimizacion actualizando los parametros de toda la red\n",
    "            optimizer.step()\n",
    "\n",
    "            # Calculo el accuracy del batch\n",
    "            accuracy = categorical_acc(output, train_target)\n",
    "            # Almaceno el accuracy del batch para luego tener el accuracy promedio de la epoca\n",
    "            epoch_train_accuracy += accuracy.item()\n",
    "\n",
    "        # Calculo la media de error para la epoca de entrenamiento.\n",
    "        # La longitud de train_loader es igual a la cantidad de batches dentro de una epoca.\n",
    "        epoch_train_loss = epoch_train_loss / len(train_loader)\n",
    "        train_loss.append(epoch_train_loss)\n",
    "        epoch_train_accuracy = epoch_train_accuracy / len(train_loader)        \n",
    "        train_accuracy.append(epoch_train_accuracy)\n",
    "\n",
    "        # Realizo el paso de validación computando error y accuracy, y\n",
    "        # almacenando los valores para imprimirlos y graficarlos\n",
    "        valid_data, valid_target = next(iter(valid_loader))\n",
    "        output = model(valid_data)\n",
    "        \n",
    "        epoch_valid_loss = criterion(output, valid_target).item()\n",
    "        valid_loss.append(epoch_valid_loss)\n",
    "\n",
    "        # Calculo el accuracy de la epoch\n",
    "        epoch_valid_accuracy = categorical_acc(output, valid_target).item()\n",
    "        valid_accuracy.append(epoch_valid_accuracy)\n",
    "\n",
    "        print(f\"Epoch: {epoch+1}/{epochs} - Train loss {epoch_train_loss:.3f} - Train accuracy {epoch_train_accuracy:.3f} - Valid Loss {epoch_valid_loss:.3f} - Valid accuracy {epoch_valid_accuracy:.3f}\")\n",
    "\n",
    "    history = {\n",
    "        \"loss\": train_loss,\n",
    "        \"accuracy\": train_accuracy,\n",
    "        \"val_loss\": valid_loss,\n",
    "        \"val_accuracy\": valid_accuracy,\n",
    "    }\n",
    "    return history"
   ]
  },
  {
   "attachments": {},
   "cell_type": "markdown",
   "metadata": {},
   "source": [
    "Primer modelo propuesto, profundad baja"
   ]
  },
  {
   "cell_type": "code",
   "execution_count": 39,
   "metadata": {},
   "outputs": [
    {
     "name": "stderr",
     "output_type": "stream",
     "text": [
      "/Library/Frameworks/Python.framework/Versions/3.11/lib/python3.11/site-packages/torchinfo/torchinfo.py:477: UserWarning: TypedStorage is deprecated. It will be removed in the future and UntypedStorage will be the only storage class. This should only matter to you if you are using storages directly.  To access UntypedStorage directly, use tensor.untyped_storage() instead of tensor.storage()\n",
      "  action_fn=lambda data: sys.getsizeof(data.storage()),\n",
      "/Library/Frameworks/Python.framework/Versions/3.11/lib/python3.11/site-packages/torch/storage.py:665: UserWarning: TypedStorage is deprecated. It will be removed in the future and UntypedStorage will be the only storage class. This should only matter to you if you are using storages directly.  To access UntypedStorage directly, use tensor.untyped_storage() instead of tensor.storage()\n",
      "  return super().__sizeof__() + self.nbytes()\n"
     ]
    },
    {
     "data": {
      "text/plain": [
       "==========================================================================================\n",
       "Layer (type:depth-idx)                   Output Shape              Param #\n",
       "==========================================================================================\n",
       "Model1                                   [1, 3]                    --\n",
       "├─Embedding: 1-1                         [1, 115, 50]              100,050\n",
       "├─LSTM: 1-2                              [1, 115, 64]              62,976\n",
       "├─Linear: 1-3                            [1, 128]                  8,320\n",
       "├─ReLU: 1-4                              [1, 128]                  --\n",
       "├─Dropout: 1-5                           [1, 128]                  --\n",
       "├─Linear: 1-6                            [1, 3]                    387\n",
       "├─Sigmoid: 1-7                           [1, 3]                    --\n",
       "==========================================================================================\n",
       "Total params: 171,733\n",
       "Trainable params: 171,733\n",
       "Non-trainable params: 0\n",
       "Total mult-adds (Units.MEGABYTES): 7.35\n",
       "==========================================================================================\n",
       "Input size (MB): 0.00\n",
       "Forward/backward pass size (MB): 0.11\n",
       "Params size (MB): 0.69\n",
       "Estimated Total Size (MB): 0.79\n",
       "=========================================================================================="
      ]
     },
     "execution_count": 39,
     "metadata": {},
     "output_type": "execute_result"
    }
   ],
   "source": [
    "import torch.nn as nn\n",
    "from torchinfo import summary\n",
    "\n",
    "class Model1(nn.Module):\n",
    "    def __init__(self, vocab_size, output_dim):\n",
    "        super().__init__()\n",
    "        # num_embeddings = vocab_size + 1 para padding o UNK\n",
    "        # embedding_dim = 50 --> crear embeddings de tamaño 50 (tamaño variable y ajustable)\n",
    "        self.lstm_size = 64\n",
    "        self.num_layers = 2\n",
    "        self.embedding_dim = 50\n",
    "        self.embedding = nn.Embedding(num_embeddings=vocab_size+1, embedding_dim=self.embedding_dim, padding_idx=0)\n",
    "        self.lstm1 = nn.LSTM(input_size=self.embedding_dim, hidden_size=self.lstm_size, batch_first=True,\n",
    "                            num_layers=self.num_layers, dropout=0.2) # LSTM layer\n",
    "        self.fc1 = nn.Linear(in_features=self.lstm_size, out_features=128) # Fully connected layer\n",
    "        self.fc2 = nn.Linear(in_features=128, out_features=output_dim) # Fully connected layer\n",
    "        \n",
    "        self.relu = nn.ReLU()\n",
    "        self.dropout = nn.Dropout(0.2)\n",
    "        self.sigmoid = nn.Sigmoid()\n",
    "\n",
    "    def forward(self, x):\n",
    "        out = self.embedding(x)\n",
    "        lstm_output, (ht, ct) = self.lstm1(out)\n",
    "        out = self.relu(self.fc1(lstm_output[:,-1,:])) # take last output (last seq)\n",
    "        out = self.dropout(out)\n",
    "        out = self.sigmoid(self.fc2(out))\n",
    "        return out\n",
    "\n",
    "model1 = Model1(vocab_size=vocab_size, output_dim=output_dim)\n",
    "\n",
    "# Crear el optimizador la una función de error\n",
    "model1_optimizer = torch.optim.Adam(model1.parameters(), lr=0.001)\n",
    "model1_criterion = torch.nn.MultiLabelSoftMarginLoss()  # Para clasificación binaria\n",
    "\n",
    "# Por defecto torchinfo testea el modelo con torch.FloatTensor\n",
    "summary(model1, input_size=(1, input_size), dtypes=['torch.IntTensor'], device=torch.device('cpu'))\n",
    "\n",
    "# otra posibilidad\n",
    "#summary(model1, input_data=data_set[0][0].unsqueeze(0))"
   ]
  },
  {
   "cell_type": "code",
   "execution_count": 41,
   "metadata": {},
   "outputs": [
    {
     "name": "stdout",
     "output_type": "stream",
     "text": [
      "Epoch: 1/50 - Train loss 0.692 - Train accuracy 0.550 - Valid Loss 0.696 - Valid accuracy 0.500\n",
      "Epoch: 2/50 - Train loss 0.692 - Train accuracy 0.549 - Valid Loss 0.687 - Valid accuracy 0.625\n",
      "Epoch: 3/50 - Train loss 0.686 - Train accuracy 0.550 - Valid Loss 0.694 - Valid accuracy 0.406\n",
      "Epoch: 4/50 - Train loss 0.670 - Train accuracy 0.549 - Valid Loss 0.691 - Valid accuracy 0.406\n",
      "Epoch: 5/50 - Train loss 0.664 - Train accuracy 0.550 - Valid Loss 0.659 - Valid accuracy 0.562\n",
      "Epoch: 6/50 - Train loss 0.664 - Train accuracy 0.549 - Valid Loss 0.673 - Valid accuracy 0.438\n",
      "Epoch: 7/50 - Train loss 0.661 - Train accuracy 0.549 - Valid Loss 0.654 - Valid accuracy 0.625\n",
      "Epoch: 8/50 - Train loss 0.659 - Train accuracy 0.549 - Valid Loss 0.670 - Valid accuracy 0.500\n",
      "Epoch: 9/50 - Train loss 0.658 - Train accuracy 0.550 - Valid Loss 0.685 - Valid accuracy 0.469\n",
      "Epoch: 10/50 - Train loss 0.657 - Train accuracy 0.549 - Valid Loss 0.655 - Valid accuracy 0.469\n",
      "Epoch: 11/50 - Train loss 0.656 - Train accuracy 0.550 - Valid Loss 0.658 - Valid accuracy 0.531\n",
      "Epoch: 12/50 - Train loss 0.655 - Train accuracy 0.549 - Valid Loss 0.648 - Valid accuracy 0.625\n",
      "Epoch: 13/50 - Train loss 0.653 - Train accuracy 0.550 - Valid Loss 0.692 - Valid accuracy 0.500\n",
      "Epoch: 14/50 - Train loss 0.655 - Train accuracy 0.550 - Valid Loss 0.647 - Valid accuracy 0.656\n",
      "Epoch: 15/50 - Train loss 0.652 - Train accuracy 0.551 - Valid Loss 0.669 - Valid accuracy 0.562\n",
      "Epoch: 16/50 - Train loss 0.652 - Train accuracy 0.550 - Valid Loss 0.642 - Valid accuracy 0.688\n",
      "Epoch: 17/50 - Train loss 0.651 - Train accuracy 0.550 - Valid Loss 0.661 - Valid accuracy 0.625\n",
      "Epoch: 18/50 - Train loss 0.652 - Train accuracy 0.550 - Valid Loss 0.669 - Valid accuracy 0.469\n",
      "Epoch: 19/50 - Train loss 0.650 - Train accuracy 0.549 - Valid Loss 0.649 - Valid accuracy 0.531\n",
      "Epoch: 20/50 - Train loss 0.649 - Train accuracy 0.551 - Valid Loss 0.665 - Valid accuracy 0.531\n",
      "Epoch: 21/50 - Train loss 0.649 - Train accuracy 0.550 - Valid Loss 0.673 - Valid accuracy 0.500\n",
      "Epoch: 22/50 - Train loss 0.649 - Train accuracy 0.551 - Valid Loss 0.648 - Valid accuracy 0.500\n",
      "Epoch: 23/50 - Train loss 0.648 - Train accuracy 0.552 - Valid Loss 0.648 - Valid accuracy 0.594\n",
      "Epoch: 24/50 - Train loss 0.648 - Train accuracy 0.551 - Valid Loss 0.673 - Valid accuracy 0.531\n",
      "Epoch: 25/50 - Train loss 0.657 - Train accuracy 0.547 - Valid Loss 0.661 - Valid accuracy 0.531\n",
      "Epoch: 26/50 - Train loss 0.650 - Train accuracy 0.550 - Valid Loss 0.674 - Valid accuracy 0.562\n",
      "Epoch: 27/50 - Train loss 0.648 - Train accuracy 0.549 - Valid Loss 0.655 - Valid accuracy 0.438\n",
      "Epoch: 28/50 - Train loss 0.647 - Train accuracy 0.549 - Valid Loss 0.665 - Valid accuracy 0.531\n",
      "Epoch: 29/50 - Train loss 0.647 - Train accuracy 0.550 - Valid Loss 0.665 - Valid accuracy 0.531\n",
      "Epoch: 30/50 - Train loss 0.646 - Train accuracy 0.550 - Valid Loss 0.655 - Valid accuracy 0.656\n",
      "Epoch: 31/50 - Train loss 0.647 - Train accuracy 0.549 - Valid Loss 0.663 - Valid accuracy 0.594\n",
      "Epoch: 32/50 - Train loss 0.646 - Train accuracy 0.549 - Valid Loss 0.666 - Valid accuracy 0.562\n",
      "Epoch: 33/50 - Train loss 0.646 - Train accuracy 0.549 - Valid Loss 0.631 - Valid accuracy 0.781\n",
      "Epoch: 34/50 - Train loss 0.645 - Train accuracy 0.549 - Valid Loss 0.671 - Valid accuracy 0.656\n",
      "Epoch: 35/50 - Train loss 0.645 - Train accuracy 0.550 - Valid Loss 0.659 - Valid accuracy 0.500\n",
      "Epoch: 36/50 - Train loss 0.646 - Train accuracy 0.549 - Valid Loss 0.646 - Valid accuracy 0.688\n",
      "Epoch: 37/50 - Train loss 0.654 - Train accuracy 0.549 - Valid Loss 0.689 - Valid accuracy 0.594\n",
      "Epoch: 38/50 - Train loss 0.668 - Train accuracy 0.550 - Valid Loss 0.663 - Valid accuracy 0.625\n",
      "Epoch: 39/50 - Train loss 0.649 - Train accuracy 0.550 - Valid Loss 0.681 - Valid accuracy 0.500\n",
      "Epoch: 40/50 - Train loss 0.646 - Train accuracy 0.549 - Valid Loss 0.637 - Valid accuracy 0.531\n",
      "Epoch: 41/50 - Train loss 0.645 - Train accuracy 0.550 - Valid Loss 0.677 - Valid accuracy 0.500\n",
      "Epoch: 42/50 - Train loss 0.645 - Train accuracy 0.549 - Valid Loss 0.707 - Valid accuracy 0.344\n",
      "Epoch: 43/50 - Train loss 0.644 - Train accuracy 0.550 - Valid Loss 0.660 - Valid accuracy 0.500\n",
      "Epoch: 44/50 - Train loss 0.645 - Train accuracy 0.550 - Valid Loss 0.673 - Valid accuracy 0.438\n",
      "Epoch: 45/50 - Train loss 0.644 - Train accuracy 0.549 - Valid Loss 0.644 - Valid accuracy 0.656\n",
      "Epoch: 46/50 - Train loss 0.643 - Train accuracy 0.550 - Valid Loss 0.640 - Valid accuracy 0.562\n",
      "Epoch: 47/50 - Train loss 0.644 - Train accuracy 0.550 - Valid Loss 0.630 - Valid accuracy 0.562\n",
      "Epoch: 48/50 - Train loss 0.646 - Train accuracy 0.549 - Valid Loss 0.641 - Valid accuracy 0.688\n",
      "Epoch: 49/50 - Train loss 0.652 - Train accuracy 0.549 - Valid Loss 0.670 - Valid accuracy 0.500\n",
      "Epoch: 50/50 - Train loss 0.645 - Train accuracy 0.549 - Valid Loss 0.647 - Valid accuracy 0.656\n"
     ]
    },
    {
     "data": {
      "image/png": "[encoded data removed]",
      "text/plain": [
       "<Figure size 640x480 with 1 Axes>"
      ]
     },
     "metadata": {},
     "output_type": "display_data"
    }
   ],
   "source": [
    "history1 = train(model1,\n",
    "                train_loader,\n",
    "                valid_loader,\n",
    "                model1_optimizer,\n",
    "                model1_criterion,\n",
    "                epochs=50\n",
    "                )\n",
    "\n",
    "epoch_count = range(1, len(history1['accuracy']) + 1)\n",
    "sns.lineplot(x=epoch_count,  y=history1['accuracy'], label='train')\n",
    "sns.lineplot(x=epoch_count,  y=history1['val_accuracy'], label='valid')\n",
    "plt.show()"
   ]
  },
  {
   "attachments": {},
   "cell_type": "markdown",
   "metadata": {},
   "source": [
    "El resultado anterior se dio con joined_df que era el dataset simplificado unificando las clases 0,1 y 2"
   ]
  },
  {
   "attachments": {},
   "cell_type": "markdown",
   "metadata": {},
   "source": [
    "Vemos ahora con el dataset original"
   ]
  },
  {
   "cell_type": "code",
   "execution_count": 80,
   "metadata": {},
   "outputs": [
    {
     "name": "stderr",
     "output_type": "stream",
     "text": [
      "/Library/Frameworks/Python.framework/Versions/3.11/lib/python3.11/site-packages/sklearn/preprocessing/_encoders.py:868: FutureWarning: `sparse` was renamed to `sparse_output` in version 1.2 and will be removed in 1.4. `sparse_output` is ignored unless you leave `sparse` to its default value.\n",
      "  warnings.warn(\n",
      "/Library/Frameworks/Python.framework/Versions/3.11/lib/python3.11/site-packages/torchinfo/torchinfo.py:477: UserWarning: TypedStorage is deprecated. It will be removed in the future and UntypedStorage will be the only storage class. This should only matter to you if you are using storages directly.  To access UntypedStorage directly, use tensor.untyped_storage() instead of tensor.storage()\n",
      "  action_fn=lambda data: sys.getsizeof(data.storage()),\n",
      "/Library/Frameworks/Python.framework/Versions/3.11/lib/python3.11/site-packages/torch/storage.py:665: UserWarning: TypedStorage is deprecated. It will be removed in the future and UntypedStorage will be the only storage class. This should only matter to you if you are using storages directly.  To access UntypedStorage directly, use tensor.untyped_storage() instead of tensor.storage()\n",
      "  return super().__sizeof__() + self.nbytes()\n"
     ]
    },
    {
     "name": "stdout",
     "output_type": "stream",
     "text": [
      "(22641, 5)\n",
      "input_size: 115\n",
      "Output dim 5\n",
      "Tamaño del conjunto de entrenamiento: 7245\n",
      "Tamaño del conjunto de validacion: 1811\n",
      "Epoch: 1/30 - Train loss 0.709 - Train accuracy 0.526 - Valid Loss 0.692 - Valid accuracy 0.594\n",
      "Epoch: 2/30 - Train loss 0.693 - Train accuracy 0.550 - Valid Loss 0.691 - Valid accuracy 0.625\n",
      "Epoch: 3/30 - Train loss 0.692 - Train accuracy 0.549 - Valid Loss 0.693 - Valid accuracy 0.500\n",
      "Epoch: 4/30 - Train loss 0.692 - Train accuracy 0.550 - Valid Loss 0.691 - Valid accuracy 0.656\n",
      "Epoch: 5/30 - Train loss 0.692 - Train accuracy 0.549 - Valid Loss 0.695 - Valid accuracy 0.438\n",
      "Epoch: 6/30 - Train loss 0.690 - Train accuracy 0.549 - Valid Loss 0.669 - Valid accuracy 0.594\n",
      "Epoch: 7/30 - Train loss 0.679 - Train accuracy 0.549 - Valid Loss 0.665 - Valid accuracy 0.625\n",
      "Epoch: 8/30 - Train loss 0.676 - Train accuracy 0.550 - Valid Loss 0.671 - Valid accuracy 0.531\n",
      "Epoch: 9/30 - Train loss 0.674 - Train accuracy 0.550 - Valid Loss 0.672 - Valid accuracy 0.438\n",
      "Epoch: 10/30 - Train loss 0.672 - Train accuracy 0.548 - Valid Loss 0.686 - Valid accuracy 0.531\n",
      "Epoch: 11/30 - Train loss 0.671 - Train accuracy 0.550 - Valid Loss 0.677 - Valid accuracy 0.562\n",
      "Epoch: 12/30 - Train loss 0.670 - Train accuracy 0.549 - Valid Loss 0.679 - Valid accuracy 0.500\n",
      "Epoch: 13/30 - Train loss 0.669 - Train accuracy 0.549 - Valid Loss 0.659 - Valid accuracy 0.688\n",
      "Epoch: 14/30 - Train loss 0.669 - Train accuracy 0.549 - Valid Loss 0.690 - Valid accuracy 0.625\n",
      "Epoch: 15/30 - Train loss 0.668 - Train accuracy 0.550 - Valid Loss 0.676 - Valid accuracy 0.562\n",
      "Epoch: 16/30 - Train loss 0.668 - Train accuracy 0.550 - Valid Loss 0.687 - Valid accuracy 0.469\n",
      "Epoch: 17/30 - Train loss 0.667 - Train accuracy 0.550 - Valid Loss 0.667 - Valid accuracy 0.625\n",
      "Epoch: 18/30 - Train loss 0.667 - Train accuracy 0.552 - Valid Loss 0.670 - Valid accuracy 0.625\n",
      "Epoch: 19/30 - Train loss 0.667 - Train accuracy 0.551 - Valid Loss 0.708 - Valid accuracy 0.344\n",
      "Epoch: 20/30 - Train loss 0.666 - Train accuracy 0.552 - Valid Loss 0.656 - Valid accuracy 0.625\n",
      "Epoch: 21/30 - Train loss 0.666 - Train accuracy 0.556 - Valid Loss 0.668 - Valid accuracy 0.656\n",
      "Epoch: 22/30 - Train loss 0.665 - Train accuracy 0.562 - Valid Loss 0.678 - Valid accuracy 0.594\n",
      "Epoch: 23/30 - Train loss 0.666 - Train accuracy 0.577 - Valid Loss 0.658 - Valid accuracy 0.688\n",
      "Epoch: 24/30 - Train loss 0.665 - Train accuracy 0.572 - Valid Loss 0.685 - Valid accuracy 0.531\n",
      "Epoch: 25/30 - Train loss 0.666 - Train accuracy 0.584 - Valid Loss 0.675 - Valid accuracy 0.656\n",
      "Epoch: 26/30 - Train loss 0.665 - Train accuracy 0.579 - Valid Loss 0.682 - Valid accuracy 0.500\n",
      "Epoch: 27/30 - Train loss 0.665 - Train accuracy 0.577 - Valid Loss 0.692 - Valid accuracy 0.406\n",
      "Epoch: 28/30 - Train loss 0.664 - Train accuracy 0.588 - Valid Loss 0.669 - Valid accuracy 0.625\n",
      "Epoch: 29/30 - Train loss 0.665 - Train accuracy 0.582 - Valid Loss 0.681 - Valid accuracy 0.562\n",
      "Epoch: 30/30 - Train loss 0.664 - Train accuracy 0.569 - Valid Loss 0.676 - Valid accuracy 0.625\n"
     ]
    },
    {
     "data": {
      "image/png": "[encoded data removed]",
      "text/plain": [
       "<Figure size 640x480 with 1 Axes>"
      ]
     },
     "metadata": {},
     "output_type": "display_data"
    }
   ],
   "source": [
    "ohe = OneHotEncoder(sparse=False)\n",
    "original_y = ohe.fit_transform(df_reviews['Rating'].to_numpy().reshape(-1,1))\n",
    "print(original_y.shape)\n",
    "\n",
    "data_set_2 = Data(X, original_y)\n",
    "\n",
    "input_size = data_set_2.x.shape[1]\n",
    "print(\"input_size:\", input_size)\n",
    "\n",
    "output_dim = data_set_2.y.shape[1]\n",
    "print(\"Output dim\", output_dim)\n",
    "\n",
    "torch.manual_seed(42)\n",
    "data_set_2_reduced_size = int(data_set_2.len * 0.4)\n",
    "valid_set_size = int(data_set_2_reduced_size * 0.2)\n",
    "train_set_size = data_set_2_reduced_size - valid_set_size\n",
    "data_set_2_reduced, _ = torch.utils.data.random_split(data_set_2, [data_set_2_reduced_size, data_set_2.len - data_set_2_reduced_size])\n",
    "train_set, valid_set = torch.utils.data.random_split(data_set_2_reduced, [train_set_size, data_set_2_reduced_size - train_set_size])\n",
    "\n",
    "print(\"Tamaño del conjunto de entrenamiento:\", len(train_set))\n",
    "print(\"Tamaño del conjunto de validacion:\", len(valid_set))\n",
    "\n",
    "train_loader = torch.utils.data.DataLoader(train_set, batch_size=32, shuffle=True)\n",
    "valid_loader = torch.utils.data.DataLoader(valid_set, batch_size=32, shuffle=True)\n",
    "\n",
    "\n",
    "model2 = Model1(vocab_size=vocab_size, output_dim=output_dim)\n",
    "\n",
    "# Crear el optimizador la una función de error\n",
    "model2_optimizer = torch.optim.Adam(model2.parameters(), lr=0.001)\n",
    "model2_criterion = torch.nn.MultiLabelSoftMarginLoss()  # Para clasificación binaria\n",
    "\n",
    "# Por defecto torchinfo testea el modelo con torch.FloatTensor\n",
    "summary(model2, input_size=(1, input_size), dtypes=['torch.IntTensor'], device=torch.device('cpu'))\n",
    "\n",
    "history2 = train(model2,\n",
    "                train_loader,\n",
    "                valid_loader,\n",
    "                model2_optimizer,\n",
    "                model2_criterion,\n",
    "                epochs=30\n",
    "                )\n",
    "\n",
    "epoch_count = range(1, len(history2['accuracy']) + 1)\n",
    "sns.lineplot(x=epoch_count,  y=history2['accuracy'], label='train')\n",
    "sns.lineplot(x=epoch_count,  y=history2['val_accuracy'], label='valid')\n",
    "plt.show()"
   ]
  },
  {
   "attachments": {},
   "cell_type": "markdown",
   "metadata": {},
   "source": [
    "Como estrategia para balancear el dataset, pruebo con limtiar el dataset para que cada clase tenga la misma cantidad, usando la de la clase minoritaria"
   ]
  },
  {
   "cell_type": "code",
   "execution_count": 84,
   "metadata": {},
   "outputs": [
    {
     "data": {
      "text/plain": [
       "Rating\n",
       "4    12540\n",
       "3     4908\n",
       "2     2823\n",
       "1     1549\n",
       "0      821\n",
       "Name: count, dtype: int64"
      ]
     },
     "execution_count": 84,
     "metadata": {},
     "output_type": "execute_result"
    }
   ],
   "source": [
    "df_reviews['Rating'].value_counts()"
   ]
  },
  {
   "cell_type": "code",
   "execution_count": 87,
   "metadata": {},
   "outputs": [
    {
     "data": {
      "text/plain": [
       "Rating\n",
       "3    821\n",
       "4    821\n",
       "2    821\n",
       "1    821\n",
       "0    821\n",
       "Name: count, dtype: int64"
      ]
     },
     "execution_count": 87,
     "metadata": {},
     "output_type": "execute_result"
    }
   ],
   "source": [
    "minimized_df = df_reviews.groupby('Rating').head(821)\n",
    "\n",
    "minimized_df['Rating'].value_counts()"
   ]
  },
  {
   "cell_type": "code",
   "execution_count": 90,
   "metadata": {},
   "outputs": [
    {
     "name": "stderr",
     "output_type": "stream",
     "text": [
      "/Library/Frameworks/Python.framework/Versions/3.11/lib/python3.11/site-packages/sklearn/preprocessing/_encoders.py:868: FutureWarning: `sparse` was renamed to `sparse_output` in version 1.2 and will be removed in 1.4. `sparse_output` is ignored unless you leave `sparse` to its default value.\n",
      "  warnings.warn(\n"
     ]
    }
   ],
   "source": [
    "# Tomar la columna de las review y almacenarlo todo en un vector numpy de reviews\n",
    "text_sequences = minimized_df['Review Text'].values\n",
    "text_sequences.shape\n",
    "\n",
    "corpus = ' '.join(text_sequences)\n",
    "\n",
    "tokens = text_to_word_sequence(corpus)\n",
    "\n",
    "num_words = 2000\n",
    "vocab_size = num_words\n",
    "\n",
    "tok = Tokenizer(num_words=num_words) \n",
    "tok.fit_on_texts(tokens)\n",
    "\n",
    "# Obtener el diccionario de palabra (word) a índice\n",
    "# y observar la cantidad total del vocabulario\n",
    "word_index = tok.word_index\n",
    "len(word_index)\n",
    "\n",
    "sequences = tok.texts_to_sequences(text_sequences)\n",
    "\n",
    "num_words = 2000\n",
    "vocab_size = num_words\n",
    "\n",
    "tok = Tokenizer(num_words=num_words) \n",
    "tok.fit_on_texts(tokens)\n",
    "\n",
    "# Obtener el diccionario de palabra (word) a índice\n",
    "# y observar la cantidad total del vocabulario\n",
    "word_index = tok.word_index\n",
    "len(word_index)\n",
    "\n",
    "sequences = tok.texts_to_sequences(text_sequences)\n",
    "minimized_X = pad_sequences(sequences, padding='pre', maxlen=maxlen)\n",
    "ohe = OneHotEncoder(sparse=False)\n",
    "minimized_y = ohe.fit_transform(minimized_df['Rating'].to_numpy().reshape(-1,1))"
   ]
  },
  {
   "cell_type": "code",
   "execution_count": 91,
   "metadata": {},
   "outputs": [
    {
     "name": "stdout",
     "output_type": "stream",
     "text": [
      "input_size: 115\n",
      "Output dim 5\n",
      "Tamaño del conjunto de entrenamiento: 1314\n",
      "Tamaño del conjunto de validacion: 328\n"
     ]
    },
    {
     "name": "stderr",
     "output_type": "stream",
     "text": [
      "/Library/Frameworks/Python.framework/Versions/3.11/lib/python3.11/site-packages/torchinfo/torchinfo.py:477: UserWarning: TypedStorage is deprecated. It will be removed in the future and UntypedStorage will be the only storage class. This should only matter to you if you are using storages directly.  To access UntypedStorage directly, use tensor.untyped_storage() instead of tensor.storage()\n",
      "  action_fn=lambda data: sys.getsizeof(data.storage()),\n",
      "/Library/Frameworks/Python.framework/Versions/3.11/lib/python3.11/site-packages/torch/storage.py:665: UserWarning: TypedStorage is deprecated. It will be removed in the future and UntypedStorage will be the only storage class. This should only matter to you if you are using storages directly.  To access UntypedStorage directly, use tensor.untyped_storage() instead of tensor.storage()\n",
      "  return super().__sizeof__() + self.nbytes()\n"
     ]
    },
    {
     "name": "stdout",
     "output_type": "stream",
     "text": [
      "Epoch: 1/30 - Train loss 0.775 - Train accuracy 0.190 - Valid Loss 0.694 - Valid accuracy 0.125\n",
      "Epoch: 2/30 - Train loss 0.693 - Train accuracy 0.212 - Valid Loss 0.693 - Valid accuracy 0.094\n",
      "Epoch: 3/30 - Train loss 0.693 - Train accuracy 0.216 - Valid Loss 0.693 - Valid accuracy 0.312\n",
      "Epoch: 4/30 - Train loss 0.693 - Train accuracy 0.196 - Valid Loss 0.693 - Valid accuracy 0.219\n",
      "Epoch: 5/30 - Train loss 0.693 - Train accuracy 0.194 - Valid Loss 0.693 - Valid accuracy 0.125\n",
      "Epoch: 6/30 - Train loss 0.693 - Train accuracy 0.211 - Valid Loss 0.693 - Valid accuracy 0.094\n",
      "Epoch: 7/30 - Train loss 0.693 - Train accuracy 0.192 - Valid Loss 0.693 - Valid accuracy 0.156\n",
      "Epoch: 8/30 - Train loss 0.693 - Train accuracy 0.193 - Valid Loss 0.693 - Valid accuracy 0.344\n",
      "Epoch: 9/30 - Train loss 0.693 - Train accuracy 0.193 - Valid Loss 0.693 - Valid accuracy 0.219\n",
      "Epoch: 10/30 - Train loss 0.693 - Train accuracy 0.205 - Valid Loss 0.693 - Valid accuracy 0.125\n",
      "Epoch: 11/30 - Train loss 0.693 - Train accuracy 0.202 - Valid Loss 0.693 - Valid accuracy 0.156\n",
      "Epoch: 12/30 - Train loss 0.693 - Train accuracy 0.215 - Valid Loss 0.693 - Valid accuracy 0.125\n",
      "Epoch: 13/30 - Train loss 0.693 - Train accuracy 0.198 - Valid Loss 0.693 - Valid accuracy 0.250\n",
      "Epoch: 14/30 - Train loss 0.693 - Train accuracy 0.220 - Valid Loss 0.693 - Valid accuracy 0.188\n",
      "Epoch: 15/30 - Train loss 0.693 - Train accuracy 0.223 - Valid Loss 0.693 - Valid accuracy 0.250\n",
      "Epoch: 16/30 - Train loss 0.693 - Train accuracy 0.193 - Valid Loss 0.693 - Valid accuracy 0.281\n",
      "Epoch: 17/30 - Train loss 0.693 - Train accuracy 0.202 - Valid Loss 0.693 - Valid accuracy 0.250\n",
      "Epoch: 18/30 - Train loss 0.693 - Train accuracy 0.212 - Valid Loss 0.693 - Valid accuracy 0.219\n",
      "Epoch: 19/30 - Train loss 0.693 - Train accuracy 0.192 - Valid Loss 0.693 - Valid accuracy 0.188\n",
      "Epoch: 20/30 - Train loss 0.693 - Train accuracy 0.211 - Valid Loss 0.693 - Valid accuracy 0.219\n",
      "Epoch: 21/30 - Train loss 0.693 - Train accuracy 0.185 - Valid Loss 0.693 - Valid accuracy 0.375\n",
      "Epoch: 22/30 - Train loss 0.693 - Train accuracy 0.193 - Valid Loss 0.693 - Valid accuracy 0.219\n",
      "Epoch: 23/30 - Train loss 0.693 - Train accuracy 0.196 - Valid Loss 0.693 - Valid accuracy 0.188\n",
      "Epoch: 24/30 - Train loss 0.693 - Train accuracy 0.172 - Valid Loss 0.693 - Valid accuracy 0.219\n",
      "Epoch: 25/30 - Train loss 0.693 - Train accuracy 0.211 - Valid Loss 0.693 - Valid accuracy 0.219\n",
      "Epoch: 26/30 - Train loss 0.693 - Train accuracy 0.211 - Valid Loss 0.693 - Valid accuracy 0.156\n",
      "Epoch: 27/30 - Train loss 0.693 - Train accuracy 0.197 - Valid Loss 0.693 - Valid accuracy 0.188\n",
      "Epoch: 28/30 - Train loss 0.693 - Train accuracy 0.214 - Valid Loss 0.693 - Valid accuracy 0.125\n",
      "Epoch: 29/30 - Train loss 0.693 - Train accuracy 0.211 - Valid Loss 0.693 - Valid accuracy 0.188\n",
      "Epoch: 30/30 - Train loss 0.693 - Train accuracy 0.201 - Valid Loss 0.693 - Valid accuracy 0.281\n"
     ]
    },
    {
     "data": {
      "image/png": "[encoded data removed]",
      "text/plain": [
       "<Figure size 640x480 with 1 Axes>"
      ]
     },
     "metadata": {},
     "output_type": "display_data"
    }
   ],
   "source": [
    "data_set_2 = Data(minimized_X, minimized_y)\n",
    "\n",
    "input_size = data_set_2.x.shape[1]\n",
    "print(\"input_size:\", input_size)\n",
    "\n",
    "output_dim = data_set_2.y.shape[1]\n",
    "print(\"Output dim\", output_dim)\n",
    "\n",
    "torch.manual_seed(42)\n",
    "data_set_2_reduced_size = int(data_set_2.len * 0.4)\n",
    "valid_set_size = int(data_set_2_reduced_size * 0.2)\n",
    "train_set_size = data_set_2_reduced_size - valid_set_size\n",
    "data_set_2_reduced, _ = torch.utils.data.random_split(data_set_2, [data_set_2_reduced_size, data_set_2.len - data_set_2_reduced_size])\n",
    "train_set, valid_set = torch.utils.data.random_split(data_set_2_reduced, [train_set_size, data_set_2_reduced_size - train_set_size])\n",
    "\n",
    "print(\"Tamaño del conjunto de entrenamiento:\", len(train_set))\n",
    "print(\"Tamaño del conjunto de validacion:\", len(valid_set))\n",
    "\n",
    "train_loader = torch.utils.data.DataLoader(train_set, batch_size=32, shuffle=True)\n",
    "valid_loader = torch.utils.data.DataLoader(valid_set, batch_size=32, shuffle=True)\n",
    "\n",
    "\n",
    "model2 = Model1(vocab_size=vocab_size, output_dim=output_dim)\n",
    "\n",
    "# Crear el optimizador la una función de error\n",
    "model2_optimizer = torch.optim.Adam(model2.parameters(), lr=0.001)\n",
    "model2_criterion = torch.nn.MultiLabelSoftMarginLoss()  # Para clasificación binaria\n",
    "\n",
    "# Por defecto torchinfo testea el modelo con torch.FloatTensor\n",
    "summary(model2, input_size=(1, input_size), dtypes=['torch.IntTensor'], device=torch.device('cpu'))\n",
    "\n",
    "history2 = train(model2,\n",
    "                train_loader,\n",
    "                valid_loader,\n",
    "                model2_optimizer,\n",
    "                model2_criterion,\n",
    "                epochs=30\n",
    "                )\n",
    "\n",
    "epoch_count = range(1, len(history2['accuracy']) + 1)\n",
    "sns.lineplot(x=epoch_count,  y=history2['accuracy'], label='train')\n",
    "sns.lineplot(x=epoch_count,  y=history2['val_accuracy'], label='valid')\n",
    "plt.show()"
   ]
  },
  {
   "attachments": {},
   "cell_type": "markdown",
   "metadata": {},
   "source": [
    "Equilibramos con una clase mas abarcativa"
   ]
  },
  {
   "cell_type": "code",
   "execution_count": 92,
   "metadata": {},
   "outputs": [
    {
     "data": {
      "text/plain": [
       "Rating\n",
       "3    2823\n",
       "4    2823\n",
       "2    2823\n",
       "1    1549\n",
       "0     821\n",
       "Name: count, dtype: int64"
      ]
     },
     "execution_count": 92,
     "metadata": {},
     "output_type": "execute_result"
    }
   ],
   "source": [
    "minimized_df = df_reviews.groupby('Rating').head(2823)\n",
    "\n",
    "minimized_df['Rating'].value_counts()"
   ]
  },
  {
   "cell_type": "code",
   "execution_count": 93,
   "metadata": {},
   "outputs": [
    {
     "name": "stderr",
     "output_type": "stream",
     "text": [
      "/Library/Frameworks/Python.framework/Versions/3.11/lib/python3.11/site-packages/sklearn/preprocessing/_encoders.py:868: FutureWarning: `sparse` was renamed to `sparse_output` in version 1.2 and will be removed in 1.4. `sparse_output` is ignored unless you leave `sparse` to its default value.\n",
      "  warnings.warn(\n",
      "/Library/Frameworks/Python.framework/Versions/3.11/lib/python3.11/site-packages/torchinfo/torchinfo.py:477: UserWarning: TypedStorage is deprecated. It will be removed in the future and UntypedStorage will be the only storage class. This should only matter to you if you are using storages directly.  To access UntypedStorage directly, use tensor.untyped_storage() instead of tensor.storage()\n",
      "  action_fn=lambda data: sys.getsizeof(data.storage()),\n",
      "/Library/Frameworks/Python.framework/Versions/3.11/lib/python3.11/site-packages/torch/storage.py:665: UserWarning: TypedStorage is deprecated. It will be removed in the future and UntypedStorage will be the only storage class. This should only matter to you if you are using storages directly.  To access UntypedStorage directly, use tensor.untyped_storage() instead of tensor.storage()\n",
      "  return super().__sizeof__() + self.nbytes()\n"
     ]
    },
    {
     "name": "stdout",
     "output_type": "stream",
     "text": [
      "input_size: 115\n",
      "Output dim 5\n",
      "Tamaño del conjunto de entrenamiento: 3468\n",
      "Tamaño del conjunto de validacion: 867\n",
      "Epoch: 1/30 - Train loss 0.725 - Train accuracy 0.245 - Valid Loss 0.693 - Valid accuracy 0.219\n",
      "Epoch: 2/30 - Train loss 0.693 - Train accuracy 0.256 - Valid Loss 0.693 - Valid accuracy 0.219\n",
      "Epoch: 3/30 - Train loss 0.693 - Train accuracy 0.245 - Valid Loss 0.693 - Valid accuracy 0.250\n",
      "Epoch: 4/30 - Train loss 0.693 - Train accuracy 0.250 - Valid Loss 0.693 - Valid accuracy 0.188\n",
      "Epoch: 5/30 - Train loss 0.693 - Train accuracy 0.248 - Valid Loss 0.693 - Valid accuracy 0.344\n",
      "Epoch: 6/30 - Train loss 0.693 - Train accuracy 0.250 - Valid Loss 0.693 - Valid accuracy 0.375\n",
      "Epoch: 7/30 - Train loss 0.693 - Train accuracy 0.247 - Valid Loss 0.693 - Valid accuracy 0.406\n",
      "Epoch: 8/30 - Train loss 0.693 - Train accuracy 0.250 - Valid Loss 0.693 - Valid accuracy 0.219\n",
      "Epoch: 9/30 - Train loss 0.693 - Train accuracy 0.255 - Valid Loss 0.693 - Valid accuracy 0.281\n",
      "Epoch: 10/30 - Train loss 0.693 - Train accuracy 0.257 - Valid Loss 0.693 - Valid accuracy 0.156\n",
      "Epoch: 11/30 - Train loss 0.693 - Train accuracy 0.253 - Valid Loss 0.693 - Valid accuracy 0.250\n",
      "Epoch: 12/30 - Train loss 0.693 - Train accuracy 0.257 - Valid Loss 0.693 - Valid accuracy 0.219\n",
      "Epoch: 13/30 - Train loss 0.693 - Train accuracy 0.253 - Valid Loss 0.693 - Valid accuracy 0.188\n",
      "Epoch: 14/30 - Train loss 0.693 - Train accuracy 0.250 - Valid Loss 0.693 - Valid accuracy 0.312\n",
      "Epoch: 15/30 - Train loss 0.693 - Train accuracy 0.258 - Valid Loss 0.693 - Valid accuracy 0.188\n",
      "Epoch: 16/30 - Train loss 0.693 - Train accuracy 0.252 - Valid Loss 0.693 - Valid accuracy 0.438\n",
      "Epoch: 17/30 - Train loss 0.693 - Train accuracy 0.255 - Valid Loss 0.693 - Valid accuracy 0.281\n",
      "Epoch: 18/30 - Train loss 0.693 - Train accuracy 0.255 - Valid Loss 0.693 - Valid accuracy 0.406\n",
      "Epoch: 19/30 - Train loss 0.693 - Train accuracy 0.255 - Valid Loss 0.693 - Valid accuracy 0.219\n",
      "Epoch: 20/30 - Train loss 0.693 - Train accuracy 0.250 - Valid Loss 0.693 - Valid accuracy 0.250\n",
      "Epoch: 21/30 - Train loss 0.693 - Train accuracy 0.253 - Valid Loss 0.693 - Valid accuracy 0.188\n",
      "Epoch: 22/30 - Train loss 0.693 - Train accuracy 0.250 - Valid Loss 0.693 - Valid accuracy 0.125\n",
      "Epoch: 23/30 - Train loss 0.693 - Train accuracy 0.254 - Valid Loss 0.693 - Valid accuracy 0.250\n",
      "Epoch: 24/30 - Train loss 0.693 - Train accuracy 0.254 - Valid Loss 0.693 - Valid accuracy 0.375\n",
      "Epoch: 25/30 - Train loss 0.693 - Train accuracy 0.250 - Valid Loss 0.693 - Valid accuracy 0.188\n",
      "Epoch: 26/30 - Train loss 0.693 - Train accuracy 0.251 - Valid Loss 0.693 - Valid accuracy 0.312\n",
      "Epoch: 27/30 - Train loss 0.693 - Train accuracy 0.252 - Valid Loss 0.693 - Valid accuracy 0.250\n",
      "Epoch: 28/30 - Train loss 0.693 - Train accuracy 0.252 - Valid Loss 0.693 - Valid accuracy 0.281\n",
      "Epoch: 29/30 - Train loss 0.693 - Train accuracy 0.253 - Valid Loss 0.693 - Valid accuracy 0.188\n",
      "Epoch: 30/30 - Train loss 0.693 - Train accuracy 0.254 - Valid Loss 0.693 - Valid accuracy 0.250\n"
     ]
    },
    {
     "data": {
      "image/png": "[encoded data removed]",
      "text/plain": [
       "<Figure size 640x480 with 1 Axes>"
      ]
     },
     "metadata": {},
     "output_type": "display_data"
    }
   ],
   "source": [
    "# Tomar la columna de las review y almacenarlo todo en un vector numpy de reviews\n",
    "text_sequences = minimized_df['Review Text'].values\n",
    "text_sequences.shape\n",
    "\n",
    "corpus = ' '.join(text_sequences)\n",
    "\n",
    "tokens = text_to_word_sequence(corpus)\n",
    "\n",
    "num_words = 2000\n",
    "vocab_size = num_words\n",
    "\n",
    "tok = Tokenizer(num_words=num_words) \n",
    "tok.fit_on_texts(tokens)\n",
    "\n",
    "# Obtener el diccionario de palabra (word) a índice\n",
    "# y observar la cantidad total del vocabulario\n",
    "word_index = tok.word_index\n",
    "len(word_index)\n",
    "\n",
    "sequences = tok.texts_to_sequences(text_sequences)\n",
    "\n",
    "num_words = 2000\n",
    "vocab_size = num_words\n",
    "\n",
    "tok = Tokenizer(num_words=num_words) \n",
    "tok.fit_on_texts(tokens)\n",
    "\n",
    "# Obtener el diccionario de palabra (word) a índice\n",
    "# y observar la cantidad total del vocabulario\n",
    "word_index = tok.word_index\n",
    "len(word_index)\n",
    "\n",
    "sequences = tok.texts_to_sequences(text_sequences)\n",
    "minimized_X = pad_sequences(sequences, padding='pre', maxlen=maxlen)\n",
    "ohe = OneHotEncoder(sparse=False)\n",
    "minimized_y = ohe.fit_transform(minimized_df['Rating'].to_numpy().reshape(-1,1))\n",
    "\n",
    "data_set_2 = Data(minimized_X, minimized_y)\n",
    "\n",
    "input_size = data_set_2.x.shape[1]\n",
    "print(\"input_size:\", input_size)\n",
    "\n",
    "output_dim = data_set_2.y.shape[1]\n",
    "print(\"Output dim\", output_dim)\n",
    "\n",
    "torch.manual_seed(42)\n",
    "data_set_2_reduced_size = int(data_set_2.len * 0.4)\n",
    "valid_set_size = int(data_set_2_reduced_size * 0.2)\n",
    "train_set_size = data_set_2_reduced_size - valid_set_size\n",
    "data_set_2_reduced, _ = torch.utils.data.random_split(data_set_2, [data_set_2_reduced_size, data_set_2.len - data_set_2_reduced_size])\n",
    "train_set, valid_set = torch.utils.data.random_split(data_set_2_reduced, [train_set_size, data_set_2_reduced_size - train_set_size])\n",
    "\n",
    "print(\"Tamaño del conjunto de entrenamiento:\", len(train_set))\n",
    "print(\"Tamaño del conjunto de validacion:\", len(valid_set))\n",
    "\n",
    "train_loader = torch.utils.data.DataLoader(train_set, batch_size=32, shuffle=True)\n",
    "valid_loader = torch.utils.data.DataLoader(valid_set, batch_size=32, shuffle=True)\n",
    "\n",
    "\n",
    "model2 = Model1(vocab_size=vocab_size, output_dim=output_dim)\n",
    "\n",
    "# Crear el optimizador la una función de error\n",
    "model2_optimizer = torch.optim.Adam(model2.parameters(), lr=0.001)\n",
    "model2_criterion = torch.nn.MultiLabelSoftMarginLoss()  # Para clasificación binaria\n",
    "\n",
    "# Por defecto torchinfo testea el modelo con torch.FloatTensor\n",
    "summary(model2, input_size=(1, input_size), dtypes=['torch.IntTensor'], device=torch.device('cpu'))\n",
    "\n",
    "history2 = train(model2,\n",
    "                train_loader,\n",
    "                valid_loader,\n",
    "                model2_optimizer,\n",
    "                model2_criterion,\n",
    "                epochs=30\n",
    "                )\n",
    "\n",
    "epoch_count = range(1, len(history2['accuracy']) + 1)\n",
    "sns.lineplot(x=epoch_count,  y=history2['accuracy'], label='train')\n",
    "sns.lineplot(x=epoch_count,  y=history2['val_accuracy'], label='valid')\n",
    "plt.show()"
   ]
  },
  {
   "attachments": {},
   "cell_type": "markdown",
   "metadata": {},
   "source": [
    "Defino un modelo mas complejo"
   ]
  },
  {
   "cell_type": "code",
   "execution_count": 94,
   "metadata": {},
   "outputs": [],
   "source": [
    "import torch.nn as nn\n",
    "from torchinfo import summary\n",
    "\n",
    "class Model2(nn.Module):\n",
    "    def __init__(self, vocab_size, output_dim):\n",
    "        super().__init__()\n",
    "        # num_embeddings = vocab_size + 1 para padding o UNK\n",
    "        # embedding_dim = 50 --> crear embeddings de tamaño 50 (tamaño variable y ajustable)\n",
    "        self.lstm_size = 64\n",
    "        self.num_layers = 2\n",
    "        self.embedding_dim = 50\n",
    "        self.embedding = nn.Embedding(num_embeddings=vocab_size+1, embedding_dim=self.embedding_dim, padding_idx=0)\n",
    "        self.lstm1 = nn.LSTM(input_size=self.embedding_dim, hidden_size=self.lstm_size, batch_first=True,\n",
    "                            num_layers=self.num_layers, dropout=0.2) # LSTM layer\n",
    "        self.fc1 = nn.Linear(in_features=self.lstm_size, out_features=128) # Fully connected layer\n",
    "        self.fc2 = nn.Linear(in_features=128, out_features=256) # Fully connected layer\n",
    "        self.fc3 = nn.Linear(in_features=256, out_features=512) # Fully connected layer\n",
    "        self.fc4 = nn.Linear(in_features=512, out_features=output_dim) # Fully connected layer\n",
    "        \n",
    "        self.relu = nn.ReLU()\n",
    "        self.dropout = nn.Dropout(0.2)\n",
    "        self.sigmoid = nn.Sigmoid()\n",
    "\n",
    "    def forward(self, x):\n",
    "        out = self.embedding(x)\n",
    "        lstm_output, (ht, ct) = self.lstm1(out)\n",
    "        out = self.relu(self.fc1(lstm_output[:,-1,:])) # take last output (last seq)\n",
    "        out = self.dropout(out)\n",
    "        out_f2 = self.fc2(out)\n",
    "        out = self.dropout(out_f2)\n",
    "        out_f3 = self.fc3(out)\n",
    "        out = self.dropout(out_f3)\n",
    "        out = self.sigmoid(self.fc4(out))\n",
    "        return out"
   ]
  },
  {
   "attachments": {},
   "cell_type": "markdown",
   "metadata": {},
   "source": [
    "Probamos limitando el dataset en cantidad de ejemplos a la cantidad de la clase 2"
   ]
  },
  {
   "cell_type": "code",
   "execution_count": 95,
   "metadata": {},
   "outputs": [
    {
     "data": {
      "text/plain": [
       "Rating\n",
       "3    2823\n",
       "4    2823\n",
       "2    2823\n",
       "1    1549\n",
       "0     821\n",
       "Name: count, dtype: int64"
      ]
     },
     "execution_count": 95,
     "metadata": {},
     "output_type": "execute_result"
    }
   ],
   "source": [
    "minimized_df = df_reviews.groupby('Rating').head(2823)\n",
    "\n",
    "minimized_df['Rating'].value_counts()"
   ]
  },
  {
   "cell_type": "code",
   "execution_count": 96,
   "metadata": {},
   "outputs": [
    {
     "name": "stdout",
     "output_type": "stream",
     "text": [
      "input_size: 115\n",
      "Output dim 5\n",
      "Tamaño del conjunto de entrenamiento: 3468\n",
      "Tamaño del conjunto de validacion: 867\n"
     ]
    },
    {
     "name": "stderr",
     "output_type": "stream",
     "text": [
      "/Library/Frameworks/Python.framework/Versions/3.11/lib/python3.11/site-packages/sklearn/preprocessing/_encoders.py:868: FutureWarning: `sparse` was renamed to `sparse_output` in version 1.2 and will be removed in 1.4. `sparse_output` is ignored unless you leave `sparse` to its default value.\n",
      "  warnings.warn(\n",
      "/Library/Frameworks/Python.framework/Versions/3.11/lib/python3.11/site-packages/torchinfo/torchinfo.py:477: UserWarning: TypedStorage is deprecated. It will be removed in the future and UntypedStorage will be the only storage class. This should only matter to you if you are using storages directly.  To access UntypedStorage directly, use tensor.untyped_storage() instead of tensor.storage()\n",
      "  action_fn=lambda data: sys.getsizeof(data.storage()),\n",
      "/Library/Frameworks/Python.framework/Versions/3.11/lib/python3.11/site-packages/torch/storage.py:665: UserWarning: TypedStorage is deprecated. It will be removed in the future and UntypedStorage will be the only storage class. This should only matter to you if you are using storages directly.  To access UntypedStorage directly, use tensor.untyped_storage() instead of tensor.storage()\n",
      "  return super().__sizeof__() + self.nbytes()\n"
     ]
    },
    {
     "data": {
      "text/plain": [
       "==========================================================================================\n",
       "Layer (type:depth-idx)                   Output Shape              Param #\n",
       "==========================================================================================\n",
       "Model2                                   [1, 5]                    --\n",
       "├─Embedding: 1-1                         [1, 115, 50]              100,050\n",
       "├─LSTM: 1-2                              [1, 115, 64]              62,976\n",
       "├─Linear: 1-3                            [1, 128]                  8,320\n",
       "├─ReLU: 1-4                              [1, 128]                  --\n",
       "├─Dropout: 1-5                           [1, 128]                  --\n",
       "├─Linear: 1-6                            [1, 256]                  33,024\n",
       "├─Dropout: 1-7                           [1, 256]                  --\n",
       "├─Linear: 1-8                            [1, 512]                  131,584\n",
       "├─Dropout: 1-9                           [1, 512]                  --\n",
       "├─Linear: 1-10                           [1, 5]                    2,565\n",
       "├─Sigmoid: 1-11                          [1, 5]                    --\n",
       "==========================================================================================\n",
       "Total params: 338,519\n",
       "Trainable params: 338,519\n",
       "Non-trainable params: 0\n",
       "Total mult-adds (Units.MEGABYTES): 7.52\n",
       "==========================================================================================\n",
       "Input size (MB): 0.00\n",
       "Forward/backward pass size (MB): 0.11\n",
       "Params size (MB): 1.35\n",
       "Estimated Total Size (MB): 1.47\n",
       "=========================================================================================="
      ]
     },
     "execution_count": 96,
     "metadata": {},
     "output_type": "execute_result"
    }
   ],
   "source": [
    "# Tomar la columna de las review y almacenarlo todo en un vector numpy de reviews\n",
    "text_sequences = minimized_df['Review Text'].values\n",
    "text_sequences.shape\n",
    "\n",
    "corpus = ' '.join(text_sequences)\n",
    "\n",
    "tokens = text_to_word_sequence(corpus)\n",
    "\n",
    "num_words = 2000\n",
    "vocab_size = num_words\n",
    "\n",
    "tok = Tokenizer(num_words=num_words) \n",
    "tok.fit_on_texts(tokens)\n",
    "\n",
    "# Obtener el diccionario de palabra (word) a índice\n",
    "# y observar la cantidad total del vocabulario\n",
    "word_index = tok.word_index\n",
    "len(word_index)\n",
    "\n",
    "sequences = tok.texts_to_sequences(text_sequences)\n",
    "\n",
    "num_words = 2000\n",
    "vocab_size = num_words\n",
    "\n",
    "tok = Tokenizer(num_words=num_words) \n",
    "tok.fit_on_texts(tokens)\n",
    "\n",
    "# Obtener el diccionario de palabra (word) a índice\n",
    "# y observar la cantidad total del vocabulario\n",
    "word_index = tok.word_index\n",
    "len(word_index)\n",
    "\n",
    "sequences = tok.texts_to_sequences(text_sequences)\n",
    "minimized_X = pad_sequences(sequences, padding='pre', maxlen=maxlen)\n",
    "ohe = OneHotEncoder(sparse=False)\n",
    "minimized_y = ohe.fit_transform(minimized_df['Rating'].to_numpy().reshape(-1,1))\n",
    "\n",
    "data_set_2 = Data(minimized_X, minimized_y)\n",
    "\n",
    "input_size = data_set_2.x.shape[1]\n",
    "print(\"input_size:\", input_size)\n",
    "\n",
    "output_dim = data_set_2.y.shape[1]\n",
    "print(\"Output dim\", output_dim)\n",
    "\n",
    "torch.manual_seed(42)\n",
    "data_set_2_reduced_size = int(data_set_2.len * 0.4)\n",
    "valid_set_size = int(data_set_2_reduced_size * 0.2)\n",
    "train_set_size = data_set_2_reduced_size - valid_set_size\n",
    "data_set_2_reduced, _ = torch.utils.data.random_split(data_set_2, [data_set_2_reduced_size, data_set_2.len - data_set_2_reduced_size])\n",
    "train_set, valid_set = torch.utils.data.random_split(data_set_2_reduced, [train_set_size, data_set_2_reduced_size - train_set_size])\n",
    "\n",
    "print(\"Tamaño del conjunto de entrenamiento:\", len(train_set))\n",
    "print(\"Tamaño del conjunto de validacion:\", len(valid_set))\n",
    "\n",
    "train_loader = torch.utils.data.DataLoader(train_set, batch_size=32, shuffle=True)\n",
    "valid_loader = torch.utils.data.DataLoader(valid_set, batch_size=32, shuffle=True)\n",
    "\n",
    "\n",
    "model2 = Model2(vocab_size=vocab_size, output_dim=output_dim)\n",
    "\n",
    "# Crear el optimizador la una función de error\n",
    "model2_optimizer = torch.optim.Adam(model2.parameters(), lr=0.001)\n",
    "model2_criterion = torch.nn.MultiLabelSoftMarginLoss()  # Para clasificación binaria\n",
    "\n",
    "# Por defecto torchinfo testea el modelo con torch.FloatTensor\n",
    "summary(model2, input_size=(1, input_size), dtypes=['torch.IntTensor'], device=torch.device('cpu'))"
   ]
  },
  {
   "cell_type": "code",
   "execution_count": 97,
   "metadata": {},
   "outputs": [
    {
     "name": "stdout",
     "output_type": "stream",
     "text": [
      "Epoch: 1/30 - Train loss 0.706 - Train accuracy 0.245 - Valid Loss 0.693 - Valid accuracy 0.094\n",
      "Epoch: 2/30 - Train loss 0.693 - Train accuracy 0.228 - Valid Loss 0.693 - Valid accuracy 0.188\n",
      "Epoch: 3/30 - Train loss 0.693 - Train accuracy 0.232 - Valid Loss 0.693 - Valid accuracy 0.156\n",
      "Epoch: 4/30 - Train loss 0.693 - Train accuracy 0.223 - Valid Loss 0.693 - Valid accuracy 0.188\n",
      "Epoch: 5/30 - Train loss 0.693 - Train accuracy 0.210 - Valid Loss 0.693 - Valid accuracy 0.219\n",
      "Epoch: 6/30 - Train loss 0.693 - Train accuracy 0.214 - Valid Loss 0.693 - Valid accuracy 0.219\n",
      "Epoch: 7/30 - Train loss 0.693 - Train accuracy 0.216 - Valid Loss 0.693 - Valid accuracy 0.156\n",
      "Epoch: 8/30 - Train loss 0.693 - Train accuracy 0.231 - Valid Loss 0.693 - Valid accuracy 0.250\n",
      "Epoch: 9/30 - Train loss 0.693 - Train accuracy 0.225 - Valid Loss 0.693 - Valid accuracy 0.156\n",
      "Epoch: 10/30 - Train loss 0.693 - Train accuracy 0.235 - Valid Loss 0.693 - Valid accuracy 0.250\n",
      "Epoch: 11/30 - Train loss 0.693 - Train accuracy 0.231 - Valid Loss 0.693 - Valid accuracy 0.406\n",
      "Epoch: 12/30 - Train loss 0.693 - Train accuracy 0.233 - Valid Loss 0.693 - Valid accuracy 0.156\n",
      "Epoch: 13/30 - Train loss 0.693 - Train accuracy 0.220 - Valid Loss 0.693 - Valid accuracy 0.188\n",
      "Epoch: 14/30 - Train loss 0.693 - Train accuracy 0.232 - Valid Loss 0.693 - Valid accuracy 0.375\n",
      "Epoch: 15/30 - Train loss 0.693 - Train accuracy 0.213 - Valid Loss 0.693 - Valid accuracy 0.344\n",
      "Epoch: 16/30 - Train loss 0.693 - Train accuracy 0.230 - Valid Loss 0.693 - Valid accuracy 0.312\n",
      "Epoch: 17/30 - Train loss 0.693 - Train accuracy 0.225 - Valid Loss 0.693 - Valid accuracy 0.281\n",
      "Epoch: 18/30 - Train loss 0.693 - Train accuracy 0.222 - Valid Loss 0.693 - Valid accuracy 0.219\n",
      "Epoch: 19/30 - Train loss 0.693 - Train accuracy 0.228 - Valid Loss 0.693 - Valid accuracy 0.250\n",
      "Epoch: 20/30 - Train loss 0.693 - Train accuracy 0.223 - Valid Loss 0.693 - Valid accuracy 0.375\n",
      "Epoch: 21/30 - Train loss 0.693 - Train accuracy 0.231 - Valid Loss 0.693 - Valid accuracy 0.250\n",
      "Epoch: 22/30 - Train loss 0.693 - Train accuracy 0.215 - Valid Loss 0.693 - Valid accuracy 0.344\n",
      "Epoch: 23/30 - Train loss 0.693 - Train accuracy 0.223 - Valid Loss 0.693 - Valid accuracy 0.188\n",
      "Epoch: 24/30 - Train loss 0.693 - Train accuracy 0.233 - Valid Loss 0.693 - Valid accuracy 0.312\n",
      "Epoch: 25/30 - Train loss 0.693 - Train accuracy 0.227 - Valid Loss 0.693 - Valid accuracy 0.250\n",
      "Epoch: 26/30 - Train loss 0.693 - Train accuracy 0.225 - Valid Loss 0.693 - Valid accuracy 0.219\n",
      "Epoch: 27/30 - Train loss 0.693 - Train accuracy 0.216 - Valid Loss 0.693 - Valid accuracy 0.219\n",
      "Epoch: 28/30 - Train loss 0.693 - Train accuracy 0.221 - Valid Loss 0.693 - Valid accuracy 0.312\n",
      "Epoch: 29/30 - Train loss 0.693 - Train accuracy 0.236 - Valid Loss 0.693 - Valid accuracy 0.219\n",
      "Epoch: 30/30 - Train loss 0.693 - Train accuracy 0.222 - Valid Loss 0.693 - Valid accuracy 0.250\n"
     ]
    },
    {
     "data": {
      "image/png": "[encoded data removed]",
      "text/plain": [
       "<Figure size 640x480 with 1 Axes>"
      ]
     },
     "metadata": {},
     "output_type": "display_data"
    }
   ],
   "source": [
    "history2 = train(model2,\n",
    "                train_loader,\n",
    "                valid_loader,\n",
    "                model2_optimizer,\n",
    "                model2_criterion,\n",
    "                epochs=30\n",
    "                )\n",
    "\n",
    "epoch_count = range(1, len(history2['accuracy']) + 1)\n",
    "sns.lineplot(x=epoch_count,  y=history2['accuracy'], label='train')\n",
    "sns.lineplot(x=epoch_count,  y=history2['val_accuracy'], label='valid')\n",
    "plt.show()"
   ]
  },
  {
   "attachments": {},
   "cell_type": "markdown",
   "metadata": {},
   "source": [
    "Pruebo con otro modelo"
   ]
  },
  {
   "cell_type": "code",
   "execution_count": 131,
   "metadata": {},
   "outputs": [],
   "source": [
    "import torch.nn as nn\n",
    "from torchinfo import summary\n",
    "\n",
    "class Model3(nn.Module):\n",
    "    def __init__(self, vocab_size, output_dim):\n",
    "        super().__init__()\n",
    "        # num_embeddings = vocab_size + 1 para padding o UNK\n",
    "        # embedding_dim = 50 --> crear embeddings de tamaño 50 (tamaño variable y ajustable)\n",
    "        self.lstm_size = 64\n",
    "        self.num_layers = 2\n",
    "        self.embedding_dim = 50\n",
    "        self.embedding = nn.Embedding(num_embeddings=vocab_size+1, embedding_dim=self.embedding_dim, padding_idx=0)\n",
    "        self.lstm1 = nn.LSTM(input_size=self.embedding_dim, hidden_size=self.lstm_size, batch_first=True,\n",
    "                            num_layers=self.num_layers, dropout=0.2) # LSTM layer\n",
    "        self.fc1 = nn.Linear(in_features=self.lstm_size, out_features=128) # Fully connected layer\n",
    "        self.fc2 = nn.Linear(in_features=128, out_features=256) # Fully connected layer\n",
    "        self.fc3 = nn.Linear(in_features=256, out_features=512) # Fully connected layer\n",
    "        self.fc4 = nn.Linear(in_features=512, out_features=output_dim) # Fully connected layer\n",
    "        \n",
    "        self.relu = nn.ReLU()\n",
    "        self.dropout = nn.Dropout(0.2)\n",
    "        self.sigmoid = nn.Sigmoid()\n",
    "        self.softmax = nn.Softmax()\n",
    "\n",
    "    def forward(self, x):\n",
    "        out = self.embedding(x)\n",
    "        lstm_output, (ht, ct) = self.lstm1(out)\n",
    "        out = self.sigmoid(self.fc1(lstm_output[:,-1,:])) # take last output (last seq)\n",
    "        out = self.dropout(out)\n",
    "        out_f2 = self.sigmoid(self.fc2(out))\n",
    "        out = self.dropout(out_f2)\n",
    "        out_f3 = self.sigmoid(self.fc3(out))\n",
    "        out = self.dropout(out_f3)\n",
    "        out = self.softmax(self.fc4(out))\n",
    "        return out"
   ]
  },
  {
   "cell_type": "code",
   "execution_count": 140,
   "metadata": {},
   "outputs": [
    {
     "name": "stdout",
     "output_type": "stream",
     "text": [
      "input_size: 115\n",
      "Output dim 3\n",
      "Tamaño del conjunto de entrenamiento: 20377\n",
      "Tamaño del conjunto de validacion: 2264\n"
     ]
    },
    {
     "name": "stderr",
     "output_type": "stream",
     "text": [
      "/Library/Frameworks/Python.framework/Versions/3.11/lib/python3.11/site-packages/sklearn/preprocessing/_encoders.py:868: FutureWarning: `sparse` was renamed to `sparse_output` in version 1.2 and will be removed in 1.4. `sparse_output` is ignored unless you leave `sparse` to its default value.\n",
      "  warnings.warn(\n",
      "/var/folders/1d/chtcpg0n5m75kwqdhbfl_yt00000gn/T/ipykernel_12542/4166223135.py:34: UserWarning: Implicit dimension choice for softmax has been deprecated. Change the call to include dim=X as an argument.\n",
      "  out = self.softmax(self.fc4(out))\n",
      "/Library/Frameworks/Python.framework/Versions/3.11/lib/python3.11/site-packages/torchinfo/torchinfo.py:477: UserWarning: TypedStorage is deprecated. It will be removed in the future and UntypedStorage will be the only storage class. This should only matter to you if you are using storages directly.  To access UntypedStorage directly, use tensor.untyped_storage() instead of tensor.storage()\n",
      "  action_fn=lambda data: sys.getsizeof(data.storage()),\n",
      "/Library/Frameworks/Python.framework/Versions/3.11/lib/python3.11/site-packages/torch/storage.py:665: UserWarning: TypedStorage is deprecated. It will be removed in the future and UntypedStorage will be the only storage class. This should only matter to you if you are using storages directly.  To access UntypedStorage directly, use tensor.untyped_storage() instead of tensor.storage()\n",
      "  return super().__sizeof__() + self.nbytes()\n"
     ]
    },
    {
     "data": {
      "text/plain": [
       "==========================================================================================\n",
       "Layer (type:depth-idx)                   Output Shape              Param #\n",
       "==========================================================================================\n",
       "Model3                                   [1, 3]                    --\n",
       "├─Embedding: 1-1                         [1, 115, 50]              100,050\n",
       "├─LSTM: 1-2                              [1, 115, 64]              62,976\n",
       "├─Linear: 1-3                            [1, 128]                  8,320\n",
       "├─Sigmoid: 1-4                           [1, 128]                  --\n",
       "├─Dropout: 1-5                           [1, 128]                  --\n",
       "├─Linear: 1-6                            [1, 256]                  33,024\n",
       "├─Sigmoid: 1-7                           [1, 256]                  --\n",
       "├─Dropout: 1-8                           [1, 256]                  --\n",
       "├─Linear: 1-9                            [1, 512]                  131,584\n",
       "├─Sigmoid: 1-10                          [1, 512]                  --\n",
       "├─Dropout: 1-11                          [1, 512]                  --\n",
       "├─Linear: 1-12                           [1, 3]                    1,539\n",
       "├─Softmax: 1-13                          [1, 3]                    --\n",
       "==========================================================================================\n",
       "Total params: 337,493\n",
       "Trainable params: 337,493\n",
       "Non-trainable params: 0\n",
       "Total mult-adds (Units.MEGABYTES): 7.52\n",
       "==========================================================================================\n",
       "Input size (MB): 0.00\n",
       "Forward/backward pass size (MB): 0.11\n",
       "Params size (MB): 1.35\n",
       "Estimated Total Size (MB): 1.46\n",
       "=========================================================================================="
      ]
     },
     "execution_count": 140,
     "metadata": {},
     "output_type": "execute_result"
    }
   ],
   "source": [
    "# Tomar la columna de las review y almacenarlo todo en un vector numpy de reviews\n",
    "text_sequences = joined_df['Review Text'].values\n",
    "text_sequences.shape\n",
    "\n",
    "corpus = ' '.join(text_sequences)\n",
    "\n",
    "tokens = text_to_word_sequence(corpus)\n",
    "\n",
    "num_words = 2000\n",
    "vocab_size = num_words\n",
    "\n",
    "tok = Tokenizer(num_words=num_words) \n",
    "tok.fit_on_texts(tokens)\n",
    "\n",
    "# Obtener el diccionario de palabra (word) a índice\n",
    "# y observar la cantidad total del vocabulario\n",
    "word_index = tok.word_index\n",
    "len(word_index)\n",
    "\n",
    "sequences = tok.texts_to_sequences(text_sequences)\n",
    "\n",
    "num_words = 2000\n",
    "vocab_size = num_words\n",
    "\n",
    "tok = Tokenizer(num_words=num_words) \n",
    "tok.fit_on_texts(tokens)\n",
    "\n",
    "# Obtener el diccionario de palabra (word) a índice\n",
    "# y observar la cantidad total del vocabulario\n",
    "word_index = tok.word_index\n",
    "len(word_index)\n",
    "\n",
    "sequences = tok.texts_to_sequences(text_sequences)\n",
    "minimized_X = pad_sequences(sequences, padding='pre', maxlen=maxlen)\n",
    "ohe = OneHotEncoder(sparse=False)\n",
    "minimized_y = ohe.fit_transform(joined_df['Rating'].to_numpy().reshape(-1,1))\n",
    "\n",
    "data_set_2 = Data(minimized_X, minimized_y)\n",
    "\n",
    "input_size = data_set_2.x.shape[1]\n",
    "print(\"input_size:\", input_size)\n",
    "\n",
    "output_dim = data_set_2.y.shape[1]\n",
    "print(\"Output dim\", output_dim)\n",
    "\n",
    "torch.manual_seed(599)\n",
    "data_set_2_reduced_size = int(data_set_2.len * 1)\n",
    "valid_set_size = int(data_set_2_reduced_size * 0.1)\n",
    "train_set_size = data_set_2_reduced_size - valid_set_size\n",
    "data_set_2_reduced, _ = torch.utils.data.random_split(data_set_2, [data_set_2_reduced_size, data_set_2.len - data_set_2_reduced_size])\n",
    "train_set, valid_set = torch.utils.data.random_split(data_set_2_reduced, [train_set_size, data_set_2_reduced_size - train_set_size])\n",
    "\n",
    "print(\"Tamaño del conjunto de entrenamiento:\", len(train_set))\n",
    "print(\"Tamaño del conjunto de validacion:\", len(valid_set))\n",
    "\n",
    "train_loader = torch.utils.data.DataLoader(train_set, batch_size=32, shuffle=True)\n",
    "valid_loader = torch.utils.data.DataLoader(valid_set, batch_size=32, shuffle=True)\n",
    "\n",
    "\n",
    "model2 = Model3(vocab_size=vocab_size, output_dim=output_dim)\n",
    "\n",
    "# Crear el optimizador la una función de error\n",
    "model2_optimizer = torch.optim.Adam(model2.parameters(), lr=0.001)\n",
    "model2_criterion = torch.nn.MultiLabelSoftMarginLoss()  \n",
    "\n",
    "# Por defecto torchinfo testea el modelo con torch.FloatTensor\n",
    "summary(model2, input_size=(1, input_size), dtypes=['torch.IntTensor'], device=torch.device('cpu'))"
   ]
  },
  {
   "cell_type": "code",
   "execution_count": 141,
   "metadata": {},
   "outputs": [
    {
     "name": "stderr",
     "output_type": "stream",
     "text": [
      "/var/folders/1d/chtcpg0n5m75kwqdhbfl_yt00000gn/T/ipykernel_12542/4166223135.py:34: UserWarning: Implicit dimension choice for softmax has been deprecated. Change the call to include dim=X as an argument.\n",
      "  out = self.softmax(self.fc4(out))\n"
     ]
    },
    {
     "name": "stdout",
     "output_type": "stream",
     "text": [
      "Epoch: 1/30 - Train loss 0.715 - Train accuracy 0.555 - Valid Loss 0.660 - Valid accuracy 0.719\n",
      "Epoch: 2/30 - Train loss 0.715 - Train accuracy 0.556 - Valid Loss 0.702 - Valid accuracy 0.594\n",
      "Epoch: 3/30 - Train loss 0.715 - Train accuracy 0.556 - Valid Loss 0.723 - Valid accuracy 0.531\n",
      "Epoch: 4/30 - Train loss 0.715 - Train accuracy 0.556 - Valid Loss 0.671 - Valid accuracy 0.688\n",
      "Epoch: 5/30 - Train loss 0.715 - Train accuracy 0.556 - Valid Loss 0.702 - Valid accuracy 0.594\n",
      "Epoch: 6/30 - Train loss 0.715 - Train accuracy 0.556 - Valid Loss 0.733 - Valid accuracy 0.500\n",
      "Epoch: 7/30 - Train loss 0.715 - Train accuracy 0.555 - Valid Loss 0.723 - Valid accuracy 0.531\n",
      "Epoch: 8/30 - Train loss 0.715 - Train accuracy 0.556 - Valid Loss 0.712 - Valid accuracy 0.562\n",
      "Epoch: 9/30 - Train loss 0.715 - Train accuracy 0.556 - Valid Loss 0.702 - Valid accuracy 0.594\n",
      "Epoch: 10/30 - Train loss 0.715 - Train accuracy 0.556 - Valid Loss 0.692 - Valid accuracy 0.625\n",
      "Epoch: 11/30 - Train loss 0.715 - Train accuracy 0.556 - Valid Loss 0.692 - Valid accuracy 0.625\n",
      "Epoch: 12/30 - Train loss 0.715 - Train accuracy 0.556 - Valid Loss 0.796 - Valid accuracy 0.312\n",
      "Epoch: 13/30 - Train loss 0.715 - Train accuracy 0.556 - Valid Loss 0.723 - Valid accuracy 0.531\n",
      "Epoch: 14/30 - Train loss 0.715 - Train accuracy 0.556 - Valid Loss 0.712 - Valid accuracy 0.562\n",
      "Epoch: 15/30 - Train loss 0.715 - Train accuracy 0.556 - Valid Loss 0.692 - Valid accuracy 0.625\n",
      "Epoch: 16/30 - Train loss 0.715 - Train accuracy 0.556 - Valid Loss 0.681 - Valid accuracy 0.656\n",
      "Epoch: 17/30 - Train loss 0.715 - Train accuracy 0.556 - Valid Loss 0.754 - Valid accuracy 0.438\n",
      "Epoch: 18/30 - Train loss 0.715 - Train accuracy 0.556 - Valid Loss 0.744 - Valid accuracy 0.469\n",
      "Epoch: 19/30 - Train loss 0.715 - Train accuracy 0.556 - Valid Loss 0.754 - Valid accuracy 0.438\n",
      "Epoch: 20/30 - Train loss 0.715 - Train accuracy 0.556 - Valid Loss 0.733 - Valid accuracy 0.500\n",
      "Epoch: 21/30 - Train loss 0.715 - Train accuracy 0.556 - Valid Loss 0.733 - Valid accuracy 0.500\n",
      "Epoch: 22/30 - Train loss 0.715 - Train accuracy 0.556 - Valid Loss 0.733 - Valid accuracy 0.500\n",
      "Epoch: 23/30 - Train loss 0.715 - Train accuracy 0.556 - Valid Loss 0.775 - Valid accuracy 0.375\n",
      "Epoch: 24/30 - Train loss 0.715 - Train accuracy 0.556 - Valid Loss 0.723 - Valid accuracy 0.531\n",
      "Epoch: 25/30 - Train loss 0.715 - Train accuracy 0.556 - Valid Loss 0.702 - Valid accuracy 0.594\n",
      "Epoch: 26/30 - Train loss 0.715 - Train accuracy 0.556 - Valid Loss 0.723 - Valid accuracy 0.531\n",
      "Epoch: 27/30 - Train loss 0.715 - Train accuracy 0.556 - Valid Loss 0.712 - Valid accuracy 0.562\n",
      "Epoch: 28/30 - Train loss 0.715 - Train accuracy 0.556 - Valid Loss 0.712 - Valid accuracy 0.562\n",
      "Epoch: 29/30 - Train loss 0.715 - Train accuracy 0.556 - Valid Loss 0.692 - Valid accuracy 0.625\n",
      "Epoch: 30/30 - Train loss 0.715 - Train accuracy 0.556 - Valid Loss 0.744 - Valid accuracy 0.469\n"
     ]
    },
    {
     "data": {
      "image/png": "[encoded data removed]",
      "text/plain": [
       "<Figure size 640x480 with 1 Axes>"
      ]
     },
     "metadata": {},
     "output_type": "display_data"
    }
   ],
   "source": [
    "history2 = train(model2,\n",
    "                train_loader,\n",
    "                valid_loader,\n",
    "                model2_optimizer,\n",
    "                model2_criterion,\n",
    "                epochs=30\n",
    "                )\n",
    "\n",
    "epoch_count = range(1, len(history2['accuracy']) + 1)\n",
    "sns.lineplot(x=epoch_count,  y=history2['accuracy'], label='train')\n",
    "sns.lineplot(x=epoch_count,  y=history2['val_accuracy'], label='valid')\n",
    "sns.lineplot(x=epoch_count,  y=history2['loss'], label='train_loss')\n",
    "plt.show()"
   ]
  },
  {
   "cell_type": "code",
   "execution_count": 143,
   "metadata": {},
   "outputs": [
    {
     "name": "stdout",
     "output_type": "stream",
     "text": [
      "input_size: 115\n",
      "Output dim 5\n",
      "Tamaño del conjunto de entrenamiento: 20377\n",
      "Tamaño del conjunto de validacion: 2264\n"
     ]
    },
    {
     "name": "stderr",
     "output_type": "stream",
     "text": [
      "/Library/Frameworks/Python.framework/Versions/3.11/lib/python3.11/site-packages/sklearn/preprocessing/_encoders.py:868: FutureWarning: `sparse` was renamed to `sparse_output` in version 1.2 and will be removed in 1.4. `sparse_output` is ignored unless you leave `sparse` to its default value.\n",
      "  warnings.warn(\n",
      "/var/folders/1d/chtcpg0n5m75kwqdhbfl_yt00000gn/T/ipykernel_12542/4166223135.py:34: UserWarning: Implicit dimension choice for softmax has been deprecated. Change the call to include dim=X as an argument.\n",
      "  out = self.softmax(self.fc4(out))\n",
      "/Library/Frameworks/Python.framework/Versions/3.11/lib/python3.11/site-packages/torchinfo/torchinfo.py:477: UserWarning: TypedStorage is deprecated. It will be removed in the future and UntypedStorage will be the only storage class. This should only matter to you if you are using storages directly.  To access UntypedStorage directly, use tensor.untyped_storage() instead of tensor.storage()\n",
      "  action_fn=lambda data: sys.getsizeof(data.storage()),\n",
      "/Library/Frameworks/Python.framework/Versions/3.11/lib/python3.11/site-packages/torch/storage.py:665: UserWarning: TypedStorage is deprecated. It will be removed in the future and UntypedStorage will be the only storage class. This should only matter to you if you are using storages directly.  To access UntypedStorage directly, use tensor.untyped_storage() instead of tensor.storage()\n",
      "  return super().__sizeof__() + self.nbytes()\n"
     ]
    },
    {
     "data": {
      "text/plain": [
       "==========================================================================================\n",
       "Layer (type:depth-idx)                   Output Shape              Param #\n",
       "==========================================================================================\n",
       "Model3                                   [1, 5]                    --\n",
       "├─Embedding: 1-1                         [1, 115, 50]              100,050\n",
       "├─LSTM: 1-2                              [1, 115, 64]              62,976\n",
       "├─Linear: 1-3                            [1, 128]                  8,320\n",
       "├─Sigmoid: 1-4                           [1, 128]                  --\n",
       "├─Dropout: 1-5                           [1, 128]                  --\n",
       "├─Linear: 1-6                            [1, 256]                  33,024\n",
       "├─Sigmoid: 1-7                           [1, 256]                  --\n",
       "├─Dropout: 1-8                           [1, 256]                  --\n",
       "├─Linear: 1-9                            [1, 512]                  131,584\n",
       "├─Sigmoid: 1-10                          [1, 512]                  --\n",
       "├─Dropout: 1-11                          [1, 512]                  --\n",
       "├─Linear: 1-12                           [1, 5]                    2,565\n",
       "├─Softmax: 1-13                          [1, 5]                    --\n",
       "==========================================================================================\n",
       "Total params: 338,519\n",
       "Trainable params: 338,519\n",
       "Non-trainable params: 0\n",
       "Total mult-adds (Units.MEGABYTES): 7.52\n",
       "==========================================================================================\n",
       "Input size (MB): 0.00\n",
       "Forward/backward pass size (MB): 0.11\n",
       "Params size (MB): 1.35\n",
       "Estimated Total Size (MB): 1.47\n",
       "=========================================================================================="
      ]
     },
     "execution_count": 143,
     "metadata": {},
     "output_type": "execute_result"
    }
   ],
   "source": [
    "# Tomar la columna de las review y almacenarlo todo en un vector numpy de reviews\n",
    "text_sequences = df_reviews['Review Text'].values\n",
    "text_sequences.shape\n",
    "\n",
    "corpus = ' '.join(text_sequences)\n",
    "\n",
    "tokens = text_to_word_sequence(corpus)\n",
    "\n",
    "num_words = 2000\n",
    "vocab_size = num_words\n",
    "\n",
    "tok = Tokenizer(num_words=num_words) \n",
    "tok.fit_on_texts(tokens)\n",
    "\n",
    "# Obtener el diccionario de palabra (word) a índice\n",
    "# y observar la cantidad total del vocabulario\n",
    "word_index = tok.word_index\n",
    "len(word_index)\n",
    "\n",
    "sequences = tok.texts_to_sequences(text_sequences)\n",
    "\n",
    "num_words = 2000\n",
    "vocab_size = num_words\n",
    "\n",
    "tok = Tokenizer(num_words=num_words) \n",
    "tok.fit_on_texts(tokens)\n",
    "\n",
    "# Obtener el diccionario de palabra (word) a índice\n",
    "# y observar la cantidad total del vocabulario\n",
    "word_index = tok.word_index\n",
    "len(word_index)\n",
    "\n",
    "sequences = tok.texts_to_sequences(text_sequences)\n",
    "minimized_X = pad_sequences(sequences, padding='pre', maxlen=maxlen)\n",
    "ohe = OneHotEncoder(sparse=False)\n",
    "minimized_y = ohe.fit_transform(df_reviews['Rating'].to_numpy().reshape(-1,1))\n",
    "\n",
    "data_set_2 = Data(minimized_X, minimized_y)\n",
    "\n",
    "input_size = data_set_2.x.shape[1]\n",
    "print(\"input_size:\", input_size)\n",
    "\n",
    "output_dim = data_set_2.y.shape[1]\n",
    "print(\"Output dim\", output_dim)\n",
    "\n",
    "torch.manual_seed(147)\n",
    "data_set_2_reduced_size = int(data_set_2.len * 1)\n",
    "valid_set_size = int(data_set_2_reduced_size * 0.1)\n",
    "train_set_size = data_set_2_reduced_size - valid_set_size\n",
    "data_set_2_reduced, _ = torch.utils.data.random_split(data_set_2, [data_set_2_reduced_size, data_set_2.len - data_set_2_reduced_size])\n",
    "train_set, valid_set = torch.utils.data.random_split(data_set_2_reduced, [train_set_size, data_set_2_reduced_size - train_set_size])\n",
    "\n",
    "print(\"Tamaño del conjunto de entrenamiento:\", len(train_set))\n",
    "print(\"Tamaño del conjunto de validacion:\", len(valid_set))\n",
    "\n",
    "train_loader = torch.utils.data.DataLoader(train_set, batch_size=32, shuffle=True)\n",
    "valid_loader = torch.utils.data.DataLoader(valid_set, batch_size=32, shuffle=True)\n",
    "\n",
    "\n",
    "model2 = Model3(vocab_size=vocab_size, output_dim=output_dim)\n",
    "\n",
    "# Crear el optimizador la una función de error\n",
    "model2_optimizer = torch.optim.Adam(model2.parameters(), lr=0.0001)\n",
    "model2_criterion = torch.nn.MultiLabelSoftMarginLoss()  \n",
    "\n",
    "# Por defecto torchinfo testea el modelo con torch.FloatTensor\n",
    "summary(model2, input_size=(1, input_size), dtypes=['torch.IntTensor'], device=torch.device('cpu'))"
   ]
  },
  {
   "cell_type": "code",
   "execution_count": 144,
   "metadata": {},
   "outputs": [
    {
     "name": "stderr",
     "output_type": "stream",
     "text": [
      "/var/folders/1d/chtcpg0n5m75kwqdhbfl_yt00000gn/T/ipykernel_12542/4166223135.py:34: UserWarning: Implicit dimension choice for softmax has been deprecated. Change the call to include dim=X as an argument.\n",
      "  out = self.softmax(self.fc4(out))\n"
     ]
    },
    {
     "name": "stdout",
     "output_type": "stream",
     "text": [
      "Epoch: 1/30 - Train loss 0.709 - Train accuracy 0.551 - Valid Loss 0.736 - Valid accuracy 0.406\n",
      "Epoch: 2/30 - Train loss 0.706 - Train accuracy 0.554 - Valid Loss 0.748 - Valid accuracy 0.344\n",
      "Epoch: 3/30 - Train loss 0.706 - Train accuracy 0.555 - Valid Loss 0.736 - Valid accuracy 0.406\n",
      "Epoch: 4/30 - Train loss 0.706 - Train accuracy 0.555 - Valid Loss 0.705 - Valid accuracy 0.562\n",
      "Epoch: 5/30 - Train loss 0.706 - Train accuracy 0.554 - Valid Loss 0.692 - Valid accuracy 0.625\n",
      "Epoch: 6/30 - Train loss 0.706 - Train accuracy 0.555 - Valid Loss 0.673 - Valid accuracy 0.719\n",
      "Epoch: 7/30 - Train loss 0.706 - Train accuracy 0.554 - Valid Loss 0.711 - Valid accuracy 0.531\n",
      "Epoch: 8/30 - Train loss 0.706 - Train accuracy 0.554 - Valid Loss 0.698 - Valid accuracy 0.594\n",
      "Epoch: 9/30 - Train loss 0.706 - Train accuracy 0.555 - Valid Loss 0.705 - Valid accuracy 0.562\n",
      "Epoch: 10/30 - Train loss 0.706 - Train accuracy 0.554 - Valid Loss 0.717 - Valid accuracy 0.500\n",
      "Epoch: 11/30 - Train loss 0.706 - Train accuracy 0.554 - Valid Loss 0.761 - Valid accuracy 0.281\n",
      "Epoch: 12/30 - Train loss 0.706 - Train accuracy 0.555 - Valid Loss 0.667 - Valid accuracy 0.750\n",
      "Epoch: 13/30 - Train loss 0.706 - Train accuracy 0.554 - Valid Loss 0.705 - Valid accuracy 0.562\n",
      "Epoch: 14/30 - Train loss 0.706 - Train accuracy 0.555 - Valid Loss 0.692 - Valid accuracy 0.625\n",
      "Epoch: 15/30 - Train loss 0.706 - Train accuracy 0.554 - Valid Loss 0.723 - Valid accuracy 0.469\n",
      "Epoch: 16/30 - Train loss 0.706 - Train accuracy 0.555 - Valid Loss 0.730 - Valid accuracy 0.438\n",
      "Epoch: 17/30 - Train loss 0.706 - Train accuracy 0.554 - Valid Loss 0.686 - Valid accuracy 0.656\n",
      "Epoch: 18/30 - Train loss 0.706 - Train accuracy 0.555 - Valid Loss 0.723 - Valid accuracy 0.469\n",
      "Epoch: 19/30 - Train loss 0.706 - Train accuracy 0.555 - Valid Loss 0.698 - Valid accuracy 0.594\n",
      "Epoch: 20/30 - Train loss 0.706 - Train accuracy 0.554 - Valid Loss 0.723 - Valid accuracy 0.469\n",
      "Epoch: 21/30 - Train loss 0.706 - Train accuracy 0.554 - Valid Loss 0.711 - Valid accuracy 0.531\n",
      "Epoch: 22/30 - Train loss 0.706 - Train accuracy 0.554 - Valid Loss 0.698 - Valid accuracy 0.594\n",
      "Epoch: 23/30 - Train loss 0.706 - Train accuracy 0.555 - Valid Loss 0.705 - Valid accuracy 0.562\n",
      "Epoch: 24/30 - Train loss 0.706 - Train accuracy 0.554 - Valid Loss 0.730 - Valid accuracy 0.438\n",
      "Epoch: 25/30 - Train loss 0.706 - Train accuracy 0.554 - Valid Loss 0.723 - Valid accuracy 0.469\n",
      "Epoch: 26/30 - Train loss 0.706 - Train accuracy 0.555 - Valid Loss 0.711 - Valid accuracy 0.531\n",
      "Epoch: 27/30 - Train loss 0.706 - Train accuracy 0.554 - Valid Loss 0.723 - Valid accuracy 0.469\n",
      "Epoch: 28/30 - Train loss 0.706 - Train accuracy 0.554 - Valid Loss 0.698 - Valid accuracy 0.594\n",
      "Epoch: 29/30 - Train loss 0.706 - Train accuracy 0.554 - Valid Loss 0.717 - Valid accuracy 0.500\n",
      "Epoch: 30/30 - Train loss 0.706 - Train accuracy 0.555 - Valid Loss 0.742 - Valid accuracy 0.375\n"
     ]
    },
    {
     "data": {
      "image/png": "[encoded data removed]",
      "text/plain": [
       "<Figure size 640x480 with 1 Axes>"
      ]
     },
     "metadata": {},
     "output_type": "display_data"
    }
   ],
   "source": [
    "history2 = train(model2,\n",
    "                train_loader,\n",
    "                valid_loader,\n",
    "                model2_optimizer,\n",
    "                model2_criterion,\n",
    "                epochs=30\n",
    "                )\n",
    "\n",
    "epoch_count = range(1, len(history2['accuracy']) + 1)\n",
    "sns.lineplot(x=epoch_count,  y=history2['accuracy'], label='train')\n",
    "sns.lineplot(x=epoch_count,  y=history2['val_accuracy'], label='valid')\n",
    "sns.lineplot(x=epoch_count,  y=history2['loss'], label='train_loss')\n",
    "plt.show()"
   ]
  },
  {
   "attachments": {},
   "cell_type": "markdown",
   "metadata": {},
   "source": [
    "Veo que train_loss no baja a medida que suben las epochs, por lo que pruebo otro modelo"
   ]
  },
  {
   "cell_type": "code",
   "execution_count": 145,
   "metadata": {},
   "outputs": [],
   "source": [
    "import torch.nn as nn\n",
    "from torchinfo import summary\n",
    "\n",
    "class Model4(nn.Module):\n",
    "    def __init__(self, vocab_size, output_dim):\n",
    "        super().__init__()\n",
    "        # num_embeddings = vocab_size + 1 para padding o UNK\n",
    "        # embedding_dim = 50 --> crear embeddings de tamaño 50 (tamaño variable y ajustable)\n",
    "        self.lstm_size = 64\n",
    "        self.num_layers = 2\n",
    "        self.embedding_dim = 50\n",
    "        self.embedding = nn.Embedding(num_embeddings=vocab_size+1, embedding_dim=self.embedding_dim, padding_idx=0)\n",
    "        self.lstm1 = nn.LSTM(input_size=self.embedding_dim, hidden_size=self.lstm_size, batch_first=True,\n",
    "                            num_layers=self.num_layers, dropout=0.2) # LSTM layer\n",
    "        self.fc1 = nn.Linear(in_features=self.lstm_size, out_features=128) # Fully connected layer\n",
    "        self.fc2 = nn.Linear(in_features=128, out_features=256) # Fully connected layer\n",
    "        self.fc4 = nn.Linear(in_features=256, out_features=output_dim) # Fully connected layer\n",
    "        \n",
    "        self.relu = nn.ReLU()\n",
    "        self.dropout = nn.Dropout(0.2)\n",
    "        self.sigmoid = nn.Sigmoid()\n",
    "        self.softmax = nn.Softmax()\n",
    "\n",
    "    def forward(self, x):\n",
    "        out = self.embedding(x)\n",
    "        lstm_output, (ht, ct) = self.lstm1(out)\n",
    "        out = self.sigmoid(self.fc1(lstm_output[:,-1,:])) # take last output (last seq)\n",
    "        out = self.dropout(out)\n",
    "        out_f2 = self.sigmoid(self.fc2(out))\n",
    "        out = self.dropout(out_f2)\n",
    "        out = self.softmax(self.fc4(out))\n",
    "        return out"
   ]
  },
  {
   "cell_type": "code",
   "execution_count": 149,
   "metadata": {},
   "outputs": [
    {
     "name": "stdout",
     "output_type": "stream",
     "text": [
      "input_size: 115\n",
      "Output dim 5\n",
      "Tamaño del conjunto de entrenamiento: 9756\n",
      "Tamaño del conjunto de validacion: 1083\n"
     ]
    },
    {
     "name": "stderr",
     "output_type": "stream",
     "text": [
      "/Library/Frameworks/Python.framework/Versions/3.11/lib/python3.11/site-packages/sklearn/preprocessing/_encoders.py:868: FutureWarning: `sparse` was renamed to `sparse_output` in version 1.2 and will be removed in 1.4. `sparse_output` is ignored unless you leave `sparse` to its default value.\n",
      "  warnings.warn(\n",
      "/var/folders/1d/chtcpg0n5m75kwqdhbfl_yt00000gn/T/ipykernel_12542/2866331658.py:31: UserWarning: Implicit dimension choice for softmax has been deprecated. Change the call to include dim=X as an argument.\n",
      "  out = self.softmax(self.fc4(out))\n",
      "/Library/Frameworks/Python.framework/Versions/3.11/lib/python3.11/site-packages/torchinfo/torchinfo.py:477: UserWarning: TypedStorage is deprecated. It will be removed in the future and UntypedStorage will be the only storage class. This should only matter to you if you are using storages directly.  To access UntypedStorage directly, use tensor.untyped_storage() instead of tensor.storage()\n",
      "  action_fn=lambda data: sys.getsizeof(data.storage()),\n",
      "/Library/Frameworks/Python.framework/Versions/3.11/lib/python3.11/site-packages/torch/storage.py:665: UserWarning: TypedStorage is deprecated. It will be removed in the future and UntypedStorage will be the only storage class. This should only matter to you if you are using storages directly.  To access UntypedStorage directly, use tensor.untyped_storage() instead of tensor.storage()\n",
      "  return super().__sizeof__() + self.nbytes()\n"
     ]
    },
    {
     "data": {
      "text/plain": [
       "==========================================================================================\n",
       "Layer (type:depth-idx)                   Output Shape              Param #\n",
       "==========================================================================================\n",
       "Model4                                   [1, 5]                    --\n",
       "├─Embedding: 1-1                         [1, 115, 50]              200,050\n",
       "├─LSTM: 1-2                              [1, 115, 64]              62,976\n",
       "├─Linear: 1-3                            [1, 128]                  8,320\n",
       "├─Sigmoid: 1-4                           [1, 128]                  --\n",
       "├─Dropout: 1-5                           [1, 128]                  --\n",
       "├─Linear: 1-6                            [1, 256]                  33,024\n",
       "├─Sigmoid: 1-7                           [1, 256]                  --\n",
       "├─Dropout: 1-8                           [1, 256]                  --\n",
       "├─Linear: 1-9                            [1, 5]                    1,285\n",
       "├─Softmax: 1-10                          [1, 5]                    --\n",
       "==========================================================================================\n",
       "Total params: 305,655\n",
       "Trainable params: 305,655\n",
       "Non-trainable params: 0\n",
       "Total mult-adds (Units.MEGABYTES): 7.48\n",
       "==========================================================================================\n",
       "Input size (MB): 0.00\n",
       "Forward/backward pass size (MB): 0.11\n",
       "Params size (MB): 1.22\n",
       "Estimated Total Size (MB): 1.33\n",
       "=========================================================================================="
      ]
     },
     "execution_count": 149,
     "metadata": {},
     "output_type": "execute_result"
    }
   ],
   "source": [
    "# Tomar la columna de las review y almacenarlo todo en un vector numpy de reviews\n",
    "text_sequences = minimized_df['Review Text'].values\n",
    "text_sequences.shape\n",
    "\n",
    "corpus = ' '.join(text_sequences)\n",
    "\n",
    "tokens = text_to_word_sequence(corpus)\n",
    "\n",
    "num_words = 2000\n",
    "vocab_size = num_words\n",
    "\n",
    "tok = Tokenizer(num_words=num_words) \n",
    "tok.fit_on_texts(tokens)\n",
    "\n",
    "# Obtener el diccionario de palabra (word) a índice\n",
    "# y observar la cantidad total del vocabulario\n",
    "word_index = tok.word_index\n",
    "len(word_index)\n",
    "\n",
    "sequences = tok.texts_to_sequences(text_sequences)\n",
    "\n",
    "num_words = 4000\n",
    "vocab_size = num_words\n",
    "\n",
    "tok = Tokenizer(num_words=num_words) \n",
    "tok.fit_on_texts(tokens)\n",
    "\n",
    "# Obtener el diccionario de palabra (word) a índice\n",
    "# y observar la cantidad total del vocabulario\n",
    "word_index = tok.word_index\n",
    "len(word_index)\n",
    "\n",
    "sequences = tok.texts_to_sequences(text_sequences)\n",
    "minimized_X = pad_sequences(sequences, padding='pre', maxlen=maxlen)\n",
    "ohe = OneHotEncoder(sparse=False)\n",
    "minimized_y = ohe.fit_transform(minimized_df['Rating'].to_numpy().reshape(-1,1))\n",
    "\n",
    "data_set_2 = Data(minimized_X, minimized_y)\n",
    "\n",
    "input_size = data_set_2.x.shape[1]\n",
    "print(\"input_size:\", input_size)\n",
    "\n",
    "output_dim = data_set_2.y.shape[1]\n",
    "print(\"Output dim\", output_dim)\n",
    "\n",
    "torch.manual_seed(912)\n",
    "data_set_2_reduced_size = int(data_set_2.len * 1)\n",
    "valid_set_size = int(data_set_2_reduced_size * 0.1)\n",
    "train_set_size = data_set_2_reduced_size - valid_set_size\n",
    "data_set_2_reduced, _ = torch.utils.data.random_split(data_set_2, [data_set_2_reduced_size, data_set_2.len - data_set_2_reduced_size])\n",
    "train_set, valid_set = torch.utils.data.random_split(data_set_2_reduced, [train_set_size, data_set_2_reduced_size - train_set_size])\n",
    "\n",
    "print(\"Tamaño del conjunto de entrenamiento:\", len(train_set))\n",
    "print(\"Tamaño del conjunto de validacion:\", len(valid_set))\n",
    "\n",
    "train_loader = torch.utils.data.DataLoader(train_set, batch_size=32, shuffle=True)\n",
    "valid_loader = torch.utils.data.DataLoader(valid_set, batch_size=32, shuffle=True)\n",
    "\n",
    "\n",
    "model2 = Model4(vocab_size=vocab_size, output_dim=output_dim)\n",
    "\n",
    "# Crear el optimizador la una función de error\n",
    "model2_optimizer = torch.optim.Adam(model2.parameters(), lr=0.001)\n",
    "model2_criterion = torch.nn.MultiLabelSoftMarginLoss()  \n",
    "\n",
    "# Por defecto torchinfo testea el modelo con torch.FloatTensor\n",
    "summary(model2, input_size=(1, input_size), dtypes=['torch.IntTensor'], device=torch.device('cpu'))"
   ]
  },
  {
   "cell_type": "code",
   "execution_count": 150,
   "metadata": {},
   "outputs": [
    {
     "name": "stderr",
     "output_type": "stream",
     "text": [
      "/var/folders/1d/chtcpg0n5m75kwqdhbfl_yt00000gn/T/ipykernel_12542/2866331658.py:31: UserWarning: Implicit dimension choice for softmax has been deprecated. Change the call to include dim=X as an argument.\n",
      "  out = self.softmax(self.fc4(out))\n"
     ]
    },
    {
     "name": "stdout",
     "output_type": "stream",
     "text": [
      "Epoch: 1/500 - Train loss 0.746 - Train accuracy 0.316 - Valid Loss 0.754 - Valid accuracy 0.250\n",
      "Epoch: 2/500 - Train loss 0.734 - Train accuracy 0.399 - Valid Loss 0.729 - Valid accuracy 0.406\n",
      "Epoch: 3/500 - Train loss 0.730 - Train accuracy 0.426 - Valid Loss 0.712 - Valid accuracy 0.469\n",
      "Epoch: 4/500 - Train loss 0.726 - Train accuracy 0.447 - Valid Loss 0.750 - Valid accuracy 0.312\n",
      "Epoch: 5/500 - Train loss 0.731 - Train accuracy 0.414 - Valid Loss 0.697 - Valid accuracy 0.594\n",
      "Epoch: 6/500 - Train loss 0.725 - Train accuracy 0.451 - Valid Loss 0.730 - Valid accuracy 0.438\n",
      "Epoch: 7/500 - Train loss 0.719 - Train accuracy 0.483 - Valid Loss 0.729 - Valid accuracy 0.438\n",
      "Epoch: 8/500 - Train loss 0.716 - Train accuracy 0.497 - Valid Loss 0.708 - Valid accuracy 0.531\n",
      "Epoch: 9/500 - Train loss 0.713 - Train accuracy 0.520 - Valid Loss 0.707 - Valid accuracy 0.531\n",
      "Epoch: 10/500 - Train loss 0.710 - Train accuracy 0.536 - Valid Loss 0.729 - Valid accuracy 0.438\n",
      "Epoch: 11/500 - Train loss 0.707 - Train accuracy 0.548 - Valid Loss 0.732 - Valid accuracy 0.406\n",
      "Epoch: 12/500 - Train loss 0.706 - Train accuracy 0.552 - Valid Loss 0.734 - Valid accuracy 0.406\n",
      "Epoch: 13/500 - Train loss 0.705 - Train accuracy 0.561 - Valid Loss 0.739 - Valid accuracy 0.375\n",
      "Epoch: 14/500 - Train loss 0.705 - Train accuracy 0.558 - Valid Loss 0.742 - Valid accuracy 0.375\n",
      "Epoch: 15/500 - Train loss 0.702 - Train accuracy 0.574 - Valid Loss 0.714 - Valid accuracy 0.500\n",
      "Epoch: 16/500 - Train loss 0.701 - Train accuracy 0.577 - Valid Loss 0.744 - Valid accuracy 0.375\n",
      "Epoch: 17/500 - Train loss 0.700 - Train accuracy 0.582 - Valid Loss 0.711 - Valid accuracy 0.531\n",
      "Epoch: 18/500 - Train loss 0.699 - Train accuracy 0.587 - Valid Loss 0.709 - Valid accuracy 0.531\n",
      "Epoch: 19/500 - Train loss 0.698 - Train accuracy 0.594 - Valid Loss 0.717 - Valid accuracy 0.500\n",
      "Epoch: 20/500 - Train loss 0.704 - Train accuracy 0.563 - Valid Loss 0.692 - Valid accuracy 0.625\n",
      "Epoch: 21/500 - Train loss 0.700 - Train accuracy 0.585 - Valid Loss 0.708 - Valid accuracy 0.562\n",
      "Epoch: 22/500 - Train loss 0.698 - Train accuracy 0.592 - Valid Loss 0.724 - Valid accuracy 0.469\n",
      "Epoch: 23/500 - Train loss 0.697 - Train accuracy 0.600 - Valid Loss 0.719 - Valid accuracy 0.500\n",
      "Epoch: 24/500 - Train loss 0.698 - Train accuracy 0.595 - Valid Loss 0.756 - Valid accuracy 0.312\n",
      "Epoch: 25/500 - Train loss 0.695 - Train accuracy 0.608 - Valid Loss 0.717 - Valid accuracy 0.500\n",
      "Epoch: 26/500 - Train loss 0.695 - Train accuracy 0.611 - Valid Loss 0.729 - Valid accuracy 0.438\n",
      "Epoch: 27/500 - Train loss 0.695 - Train accuracy 0.608 - Valid Loss 0.721 - Valid accuracy 0.500\n",
      "Epoch: 28/500 - Train loss 0.696 - Train accuracy 0.605 - Valid Loss 0.711 - Valid accuracy 0.531\n",
      "Epoch: 29/500 - Train loss 0.695 - Train accuracy 0.608 - Valid Loss 0.735 - Valid accuracy 0.438\n",
      "Epoch: 30/500 - Train loss 0.694 - Train accuracy 0.612 - Valid Loss 0.719 - Valid accuracy 0.500\n",
      "Epoch: 31/500 - Train loss 0.694 - Train accuracy 0.613 - Valid Loss 0.734 - Valid accuracy 0.406\n",
      "Epoch: 32/500 - Train loss 0.694 - Train accuracy 0.612 - Valid Loss 0.729 - Valid accuracy 0.438\n",
      "Epoch: 33/500 - Train loss 0.696 - Train accuracy 0.604 - Valid Loss 0.736 - Valid accuracy 0.406\n",
      "Epoch: 34/500 - Train loss 0.693 - Train accuracy 0.618 - Valid Loss 0.723 - Valid accuracy 0.469\n",
      "Epoch: 35/500 - Train loss 0.692 - Train accuracy 0.626 - Valid Loss 0.741 - Valid accuracy 0.375\n",
      "Epoch: 36/500 - Train loss 0.690 - Train accuracy 0.631 - Valid Loss 0.714 - Valid accuracy 0.500\n",
      "Epoch: 37/500 - Train loss 0.691 - Train accuracy 0.629 - Valid Loss 0.711 - Valid accuracy 0.531\n",
      "Epoch: 38/500 - Train loss 0.690 - Train accuracy 0.632 - Valid Loss 0.741 - Valid accuracy 0.375\n",
      "Epoch: 39/500 - Train loss 0.689 - Train accuracy 0.640 - Valid Loss 0.730 - Valid accuracy 0.438\n",
      "Epoch: 40/500 - Train loss 0.690 - Train accuracy 0.636 - Valid Loss 0.718 - Valid accuracy 0.500\n",
      "Epoch: 41/500 - Train loss 0.689 - Train accuracy 0.641 - Valid Loss 0.773 - Valid accuracy 0.219\n",
      "Epoch: 42/500 - Train loss 0.689 - Train accuracy 0.641 - Valid Loss 0.716 - Valid accuracy 0.500\n",
      "Epoch: 43/500 - Train loss 0.690 - Train accuracy 0.635 - Valid Loss 0.758 - Valid accuracy 0.281\n",
      "Epoch: 44/500 - Train loss 0.688 - Train accuracy 0.643 - Valid Loss 0.746 - Valid accuracy 0.344\n",
      "Epoch: 45/500 - Train loss 0.687 - Train accuracy 0.651 - Valid Loss 0.728 - Valid accuracy 0.438\n",
      "Epoch: 46/500 - Train loss 0.687 - Train accuracy 0.649 - Valid Loss 0.736 - Valid accuracy 0.406\n",
      "Epoch: 47/500 - Train loss 0.687 - Train accuracy 0.649 - Valid Loss 0.732 - Valid accuracy 0.438\n",
      "Epoch: 48/500 - Train loss 0.686 - Train accuracy 0.653 - Valid Loss 0.752 - Valid accuracy 0.312\n",
      "Epoch: 49/500 - Train loss 0.685 - Train accuracy 0.660 - Valid Loss 0.735 - Valid accuracy 0.406\n",
      "Epoch: 50/500 - Train loss 0.686 - Train accuracy 0.656 - Valid Loss 0.750 - Valid accuracy 0.344\n",
      "Epoch: 51/500 - Train loss 0.685 - Train accuracy 0.660 - Valid Loss 0.716 - Valid accuracy 0.500\n",
      "Epoch: 52/500 - Train loss 0.687 - Train accuracy 0.652 - Valid Loss 0.711 - Valid accuracy 0.531\n",
      "Epoch: 53/500 - Train loss 0.686 - Train accuracy 0.656 - Valid Loss 0.726 - Valid accuracy 0.438\n",
      "Epoch: 54/500 - Train loss 0.685 - Train accuracy 0.659 - Valid Loss 0.736 - Valid accuracy 0.406\n",
      "Epoch: 55/500 - Train loss 0.685 - Train accuracy 0.657 - Valid Loss 0.729 - Valid accuracy 0.438\n",
      "Epoch: 56/500 - Train loss 0.687 - Train accuracy 0.647 - Valid Loss 0.731 - Valid accuracy 0.406\n",
      "Epoch: 57/500 - Train loss 0.685 - Train accuracy 0.657 - Valid Loss 0.714 - Valid accuracy 0.500\n",
      "Epoch: 58/500 - Train loss 0.685 - Train accuracy 0.660 - Valid Loss 0.744 - Valid accuracy 0.375\n",
      "Epoch: 59/500 - Train loss 0.683 - Train accuracy 0.671 - Valid Loss 0.717 - Valid accuracy 0.500\n",
      "Epoch: 60/500 - Train loss 0.683 - Train accuracy 0.671 - Valid Loss 0.747 - Valid accuracy 0.344\n",
      "Epoch: 61/500 - Train loss 0.682 - Train accuracy 0.673 - Valid Loss 0.730 - Valid accuracy 0.438\n",
      "Epoch: 62/500 - Train loss 0.682 - Train accuracy 0.674 - Valid Loss 0.729 - Valid accuracy 0.438\n",
      "Epoch: 63/500 - Train loss 0.682 - Train accuracy 0.677 - Valid Loss 0.711 - Valid accuracy 0.531\n",
      "Epoch: 64/500 - Train loss 0.681 - Train accuracy 0.678 - Valid Loss 0.728 - Valid accuracy 0.438\n",
      "Epoch: 65/500 - Train loss 0.681 - Train accuracy 0.680 - Valid Loss 0.761 - Valid accuracy 0.281\n",
      "Epoch: 66/500 - Train loss 0.680 - Train accuracy 0.684 - Valid Loss 0.761 - Valid accuracy 0.281\n",
      "Epoch: 67/500 - Train loss 0.680 - Train accuracy 0.684 - Valid Loss 0.726 - Valid accuracy 0.438\n",
      "Epoch: 68/500 - Train loss 0.681 - Train accuracy 0.681 - Valid Loss 0.754 - Valid accuracy 0.312\n",
      "Epoch: 69/500 - Train loss 0.682 - Train accuracy 0.674 - Valid Loss 0.724 - Valid accuracy 0.469\n",
      "Epoch: 70/500 - Train loss 0.681 - Train accuracy 0.679 - Valid Loss 0.748 - Valid accuracy 0.344\n",
      "Epoch: 71/500 - Train loss 0.682 - Train accuracy 0.677 - Valid Loss 0.743 - Valid accuracy 0.375\n",
      "Epoch: 72/500 - Train loss 0.680 - Train accuracy 0.683 - Valid Loss 0.724 - Valid accuracy 0.469\n",
      "Epoch: 73/500 - Train loss 0.680 - Train accuracy 0.683 - Valid Loss 0.731 - Valid accuracy 0.438\n",
      "Epoch: 74/500 - Train loss 0.680 - Train accuracy 0.684 - Valid Loss 0.698 - Valid accuracy 0.594\n",
      "Epoch: 75/500 - Train loss 0.682 - Train accuracy 0.674 - Valid Loss 0.718 - Valid accuracy 0.469\n",
      "Epoch: 76/500 - Train loss 0.679 - Train accuracy 0.689 - Valid Loss 0.706 - Valid accuracy 0.562\n",
      "Epoch: 77/500 - Train loss 0.678 - Train accuracy 0.696 - Valid Loss 0.712 - Valid accuracy 0.531\n",
      "Epoch: 78/500 - Train loss 0.680 - Train accuracy 0.686 - Valid Loss 0.730 - Valid accuracy 0.438\n",
      "Epoch: 79/500 - Train loss 0.682 - Train accuracy 0.674 - Valid Loss 0.752 - Valid accuracy 0.312\n",
      "Epoch: 80/500 - Train loss 0.682 - Train accuracy 0.677 - Valid Loss 0.723 - Valid accuracy 0.469\n",
      "Epoch: 81/500 - Train loss 0.679 - Train accuracy 0.690 - Valid Loss 0.726 - Valid accuracy 0.438\n",
      "Epoch: 82/500 - Train loss 0.679 - Train accuracy 0.693 - Valid Loss 0.717 - Valid accuracy 0.500\n",
      "Epoch: 83/500 - Train loss 0.678 - Train accuracy 0.692 - Valid Loss 0.695 - Valid accuracy 0.594\n",
      "Epoch: 84/500 - Train loss 0.678 - Train accuracy 0.695 - Valid Loss 0.729 - Valid accuracy 0.438\n",
      "Epoch: 85/500 - Train loss 0.678 - Train accuracy 0.693 - Valid Loss 0.747 - Valid accuracy 0.344\n",
      "Epoch: 86/500 - Train loss 0.678 - Train accuracy 0.695 - Valid Loss 0.739 - Valid accuracy 0.375\n",
      "Epoch: 87/500 - Train loss 0.678 - Train accuracy 0.695 - Valid Loss 0.723 - Valid accuracy 0.469\n",
      "Epoch: 88/500 - Train loss 0.678 - Train accuracy 0.693 - Valid Loss 0.711 - Valid accuracy 0.531\n",
      "Epoch: 89/500 - Train loss 0.678 - Train accuracy 0.697 - Valid Loss 0.711 - Valid accuracy 0.531\n",
      "Epoch: 90/500 - Train loss 0.677 - Train accuracy 0.701 - Valid Loss 0.751 - Valid accuracy 0.344\n",
      "Epoch: 91/500 - Train loss 0.676 - Train accuracy 0.704 - Valid Loss 0.736 - Valid accuracy 0.406\n",
      "Epoch: 92/500 - Train loss 0.676 - Train accuracy 0.707 - Valid Loss 0.742 - Valid accuracy 0.375\n",
      "Epoch: 93/500 - Train loss 0.677 - Train accuracy 0.703 - Valid Loss 0.733 - Valid accuracy 0.406\n",
      "Epoch: 94/500 - Train loss 0.677 - Train accuracy 0.701 - Valid Loss 0.741 - Valid accuracy 0.375\n",
      "Epoch: 95/500 - Train loss 0.675 - Train accuracy 0.709 - Valid Loss 0.735 - Valid accuracy 0.406\n",
      "Epoch: 96/500 - Train loss 0.675 - Train accuracy 0.709 - Valid Loss 0.747 - Valid accuracy 0.344\n",
      "Epoch: 97/500 - Train loss 0.675 - Train accuracy 0.708 - Valid Loss 0.748 - Valid accuracy 0.344\n",
      "Epoch: 98/500 - Train loss 0.675 - Train accuracy 0.711 - Valid Loss 0.735 - Valid accuracy 0.406\n",
      "Epoch: 99/500 - Train loss 0.675 - Train accuracy 0.712 - Valid Loss 0.778 - Valid accuracy 0.188\n",
      "Epoch: 100/500 - Train loss 0.676 - Train accuracy 0.704 - Valid Loss 0.748 - Valid accuracy 0.344\n",
      "Epoch: 101/500 - Train loss 0.676 - Train accuracy 0.708 - Valid Loss 0.730 - Valid accuracy 0.438\n",
      "Epoch: 102/500 - Train loss 0.675 - Train accuracy 0.708 - Valid Loss 0.717 - Valid accuracy 0.500\n",
      "Epoch: 103/500 - Train loss 0.675 - Train accuracy 0.713 - Valid Loss 0.717 - Valid accuracy 0.500\n",
      "Epoch: 104/500 - Train loss 0.676 - Train accuracy 0.703 - Valid Loss 0.736 - Valid accuracy 0.406\n",
      "Epoch: 105/500 - Train loss 0.677 - Train accuracy 0.699 - Valid Loss 0.724 - Valid accuracy 0.469\n",
      "Epoch: 106/500 - Train loss 0.675 - Train accuracy 0.709 - Valid Loss 0.730 - Valid accuracy 0.438\n",
      "Epoch: 107/500 - Train loss 0.675 - Train accuracy 0.708 - Valid Loss 0.734 - Valid accuracy 0.406\n",
      "Epoch: 108/500 - Train loss 0.674 - Train accuracy 0.714 - Valid Loss 0.730 - Valid accuracy 0.438\n",
      "Epoch: 109/500 - Train loss 0.673 - Train accuracy 0.718 - Valid Loss 0.755 - Valid accuracy 0.312\n",
      "Epoch: 110/500 - Train loss 0.673 - Train accuracy 0.718 - Valid Loss 0.754 - Valid accuracy 0.312\n",
      "Epoch: 111/500 - Train loss 0.673 - Train accuracy 0.719 - Valid Loss 0.766 - Valid accuracy 0.250\n",
      "Epoch: 112/500 - Train loss 0.672 - Train accuracy 0.723 - Valid Loss 0.773 - Valid accuracy 0.219\n",
      "Epoch: 113/500 - Train loss 0.673 - Train accuracy 0.721 - Valid Loss 0.728 - Valid accuracy 0.438\n",
      "Epoch: 114/500 - Train loss 0.673 - Train accuracy 0.722 - Valid Loss 0.698 - Valid accuracy 0.594\n",
      "Epoch: 115/500 - Train loss 0.673 - Train accuracy 0.720 - Valid Loss 0.723 - Valid accuracy 0.469\n",
      "Epoch: 116/500 - Train loss 0.674 - Train accuracy 0.717 - Valid Loss 0.730 - Valid accuracy 0.438\n",
      "Epoch: 117/500 - Train loss 0.674 - Train accuracy 0.717 - Valid Loss 0.725 - Valid accuracy 0.469\n",
      "Epoch: 118/500 - Train loss 0.673 - Train accuracy 0.720 - Valid Loss 0.704 - Valid accuracy 0.562\n",
      "Epoch: 119/500 - Train loss 0.673 - Train accuracy 0.720 - Valid Loss 0.735 - Valid accuracy 0.406\n",
      "Epoch: 120/500 - Train loss 0.673 - Train accuracy 0.721 - Valid Loss 0.723 - Valid accuracy 0.469\n",
      "Epoch: 121/500 - Train loss 0.673 - Train accuracy 0.722 - Valid Loss 0.724 - Valid accuracy 0.469\n",
      "Epoch: 122/500 - Train loss 0.673 - Train accuracy 0.720 - Valid Loss 0.748 - Valid accuracy 0.344\n",
      "Epoch: 123/500 - Train loss 0.673 - Train accuracy 0.722 - Valid Loss 0.716 - Valid accuracy 0.500\n",
      "Epoch: 124/500 - Train loss 0.673 - Train accuracy 0.723 - Valid Loss 0.734 - Valid accuracy 0.406\n",
      "Epoch: 125/500 - Train loss 0.673 - Train accuracy 0.723 - Valid Loss 0.736 - Valid accuracy 0.406\n",
      "Epoch: 126/500 - Train loss 0.676 - Train accuracy 0.704 - Valid Loss 0.714 - Valid accuracy 0.500\n",
      "Epoch: 127/500 - Train loss 0.675 - Train accuracy 0.712 - Valid Loss 0.705 - Valid accuracy 0.562\n",
      "Epoch: 128/500 - Train loss 0.674 - Train accuracy 0.717 - Valid Loss 0.736 - Valid accuracy 0.406\n",
      "Epoch: 129/500 - Train loss 0.673 - Train accuracy 0.722 - Valid Loss 0.735 - Valid accuracy 0.406\n",
      "Epoch: 130/500 - Train loss 0.673 - Train accuracy 0.722 - Valid Loss 0.680 - Valid accuracy 0.688\n",
      "Epoch: 131/500 - Train loss 0.672 - Train accuracy 0.726 - Valid Loss 0.749 - Valid accuracy 0.344\n",
      "Epoch: 132/500 - Train loss 0.672 - Train accuracy 0.724 - Valid Loss 0.722 - Valid accuracy 0.469\n",
      "Epoch: 133/500 - Train loss 0.672 - Train accuracy 0.728 - Valid Loss 0.748 - Valid accuracy 0.344\n",
      "Epoch: 134/500 - Train loss 0.672 - Train accuracy 0.725 - Valid Loss 0.711 - Valid accuracy 0.531\n",
      "Epoch: 135/500 - Train loss 0.672 - Train accuracy 0.724 - Valid Loss 0.729 - Valid accuracy 0.438\n",
      "Epoch: 136/500 - Train loss 0.672 - Train accuracy 0.727 - Valid Loss 0.758 - Valid accuracy 0.281\n",
      "Epoch: 137/500 - Train loss 0.672 - Train accuracy 0.726 - Valid Loss 0.736 - Valid accuracy 0.406\n",
      "Epoch: 138/500 - Train loss 0.671 - Train accuracy 0.729 - Valid Loss 0.754 - Valid accuracy 0.312\n",
      "Epoch: 139/500 - Train loss 0.672 - Train accuracy 0.728 - Valid Loss 0.723 - Valid accuracy 0.469\n",
      "Epoch: 140/500 - Train loss 0.671 - Train accuracy 0.730 - Valid Loss 0.736 - Valid accuracy 0.406\n",
      "Epoch: 141/500 - Train loss 0.672 - Train accuracy 0.728 - Valid Loss 0.742 - Valid accuracy 0.375\n",
      "Epoch: 142/500 - Train loss 0.673 - Train accuracy 0.720 - Valid Loss 0.723 - Valid accuracy 0.469\n",
      "Epoch: 143/500 - Train loss 0.674 - Train accuracy 0.717 - Valid Loss 0.710 - Valid accuracy 0.531\n",
      "Epoch: 144/500 - Train loss 0.673 - Train accuracy 0.721 - Valid Loss 0.717 - Valid accuracy 0.500\n",
      "Epoch: 145/500 - Train loss 0.675 - Train accuracy 0.711 - Valid Loss 0.711 - Valid accuracy 0.531\n",
      "Epoch: 146/500 - Train loss 0.671 - Train accuracy 0.729 - Valid Loss 0.729 - Valid accuracy 0.438\n",
      "Epoch: 147/500 - Train loss 0.671 - Train accuracy 0.730 - Valid Loss 0.722 - Valid accuracy 0.469\n",
      "Epoch: 148/500 - Train loss 0.671 - Train accuracy 0.732 - Valid Loss 0.747 - Valid accuracy 0.344\n",
      "Epoch: 149/500 - Train loss 0.671 - Train accuracy 0.731 - Valid Loss 0.742 - Valid accuracy 0.375\n",
      "Epoch: 150/500 - Train loss 0.671 - Train accuracy 0.729 - Valid Loss 0.730 - Valid accuracy 0.438\n",
      "Epoch: 151/500 - Train loss 0.671 - Train accuracy 0.733 - Valid Loss 0.767 - Valid accuracy 0.250\n",
      "Epoch: 152/500 - Train loss 0.670 - Train accuracy 0.737 - Valid Loss 0.705 - Valid accuracy 0.562\n",
      "Epoch: 153/500 - Train loss 0.670 - Train accuracy 0.735 - Valid Loss 0.774 - Valid accuracy 0.219\n",
      "Epoch: 154/500 - Train loss 0.670 - Train accuracy 0.735 - Valid Loss 0.724 - Valid accuracy 0.438\n",
      "Epoch: 155/500 - Train loss 0.670 - Train accuracy 0.734 - Valid Loss 0.733 - Valid accuracy 0.438\n",
      "Epoch: 156/500 - Train loss 0.670 - Train accuracy 0.737 - Valid Loss 0.730 - Valid accuracy 0.438\n",
      "Epoch: 157/500 - Train loss 0.670 - Train accuracy 0.737 - Valid Loss 0.717 - Valid accuracy 0.500\n",
      "Epoch: 158/500 - Train loss 0.670 - Train accuracy 0.734 - Valid Loss 0.698 - Valid accuracy 0.594\n",
      "Epoch: 159/500 - Train loss 0.670 - Train accuracy 0.733 - Valid Loss 0.729 - Valid accuracy 0.438\n",
      "Epoch: 160/500 - Train loss 0.670 - Train accuracy 0.738 - Valid Loss 0.742 - Valid accuracy 0.375\n",
      "Epoch: 161/500 - Train loss 0.670 - Train accuracy 0.735 - Valid Loss 0.750 - Valid accuracy 0.344\n",
      "Epoch: 162/500 - Train loss 0.669 - Train accuracy 0.740 - Valid Loss 0.711 - Valid accuracy 0.531\n",
      "Epoch: 163/500 - Train loss 0.671 - Train accuracy 0.732 - Valid Loss 0.724 - Valid accuracy 0.469\n",
      "Epoch: 164/500 - Train loss 0.672 - Train accuracy 0.725 - Valid Loss 0.709 - Valid accuracy 0.531\n",
      "Epoch: 165/500 - Train loss 0.671 - Train accuracy 0.730 - Valid Loss 0.736 - Valid accuracy 0.406\n",
      "Epoch: 166/500 - Train loss 0.670 - Train accuracy 0.735 - Valid Loss 0.717 - Valid accuracy 0.500\n",
      "Epoch: 167/500 - Train loss 0.669 - Train accuracy 0.740 - Valid Loss 0.736 - Valid accuracy 0.406\n",
      "Epoch: 168/500 - Train loss 0.670 - Train accuracy 0.738 - Valid Loss 0.730 - Valid accuracy 0.438\n",
      "Epoch: 169/500 - Train loss 0.669 - Train accuracy 0.741 - Valid Loss 0.723 - Valid accuracy 0.469\n",
      "Epoch: 170/500 - Train loss 0.669 - Train accuracy 0.742 - Valid Loss 0.717 - Valid accuracy 0.500\n",
      "Epoch: 171/500 - Train loss 0.669 - Train accuracy 0.742 - Valid Loss 0.736 - Valid accuracy 0.406\n",
      "Epoch: 172/500 - Train loss 0.669 - Train accuracy 0.741 - Valid Loss 0.723 - Valid accuracy 0.469\n",
      "Epoch: 173/500 - Train loss 0.669 - Train accuracy 0.739 - Valid Loss 0.748 - Valid accuracy 0.344\n",
      "Epoch: 174/500 - Train loss 0.669 - Train accuracy 0.739 - Valid Loss 0.720 - Valid accuracy 0.500\n",
      "Epoch: 175/500 - Train loss 0.670 - Train accuracy 0.736 - Valid Loss 0.730 - Valid accuracy 0.438\n",
      "Epoch: 176/500 - Train loss 0.669 - Train accuracy 0.739 - Valid Loss 0.728 - Valid accuracy 0.469\n",
      "Epoch: 177/500 - Train loss 0.669 - Train accuracy 0.743 - Valid Loss 0.736 - Valid accuracy 0.406\n",
      "Epoch: 178/500 - Train loss 0.669 - Train accuracy 0.742 - Valid Loss 0.722 - Valid accuracy 0.469\n",
      "Epoch: 179/500 - Train loss 0.669 - Train accuracy 0.740 - Valid Loss 0.720 - Valid accuracy 0.500\n",
      "Epoch: 180/500 - Train loss 0.669 - Train accuracy 0.740 - Valid Loss 0.710 - Valid accuracy 0.531\n",
      "Epoch: 181/500 - Train loss 0.669 - Train accuracy 0.742 - Valid Loss 0.695 - Valid accuracy 0.594\n",
      "Epoch: 182/500 - Train loss 0.669 - Train accuracy 0.742 - Valid Loss 0.708 - Valid accuracy 0.531\n",
      "Epoch: 183/500 - Train loss 0.669 - Train accuracy 0.742 - Valid Loss 0.703 - Valid accuracy 0.562\n",
      "Epoch: 184/500 - Train loss 0.669 - Train accuracy 0.743 - Valid Loss 0.723 - Valid accuracy 0.469\n",
      "Epoch: 185/500 - Train loss 0.668 - Train accuracy 0.743 - Valid Loss 0.730 - Valid accuracy 0.438\n",
      "Epoch: 186/500 - Train loss 0.669 - Train accuracy 0.742 - Valid Loss 0.742 - Valid accuracy 0.375\n",
      "Epoch: 187/500 - Train loss 0.668 - Train accuracy 0.747 - Valid Loss 0.755 - Valid accuracy 0.312\n",
      "Epoch: 188/500 - Train loss 0.667 - Train accuracy 0.750 - Valid Loss 0.693 - Valid accuracy 0.625\n",
      "Epoch: 189/500 - Train loss 0.667 - Train accuracy 0.749 - Valid Loss 0.728 - Valid accuracy 0.438\n",
      "Epoch: 190/500 - Train loss 0.667 - Train accuracy 0.751 - Valid Loss 0.756 - Valid accuracy 0.312\n",
      "Epoch: 191/500 - Train loss 0.667 - Train accuracy 0.748 - Valid Loss 0.748 - Valid accuracy 0.344\n",
      "Epoch: 192/500 - Train loss 0.668 - Train accuracy 0.747 - Valid Loss 0.728 - Valid accuracy 0.438\n",
      "Epoch: 193/500 - Train loss 0.669 - Train accuracy 0.742 - Valid Loss 0.719 - Valid accuracy 0.500\n",
      "Epoch: 194/500 - Train loss 0.668 - Train accuracy 0.743 - Valid Loss 0.742 - Valid accuracy 0.375\n",
      "Epoch: 195/500 - Train loss 0.669 - Train accuracy 0.743 - Valid Loss 0.730 - Valid accuracy 0.438\n",
      "Epoch: 196/500 - Train loss 0.669 - Train accuracy 0.738 - Valid Loss 0.724 - Valid accuracy 0.469\n",
      "Epoch: 197/500 - Train loss 0.668 - Train accuracy 0.745 - Valid Loss 0.723 - Valid accuracy 0.469\n",
      "Epoch: 198/500 - Train loss 0.668 - Train accuracy 0.747 - Valid Loss 0.717 - Valid accuracy 0.500\n",
      "Epoch: 199/500 - Train loss 0.668 - Train accuracy 0.747 - Valid Loss 0.748 - Valid accuracy 0.344\n",
      "Epoch: 200/500 - Train loss 0.668 - Train accuracy 0.748 - Valid Loss 0.727 - Valid accuracy 0.438\n",
      "Epoch: 201/500 - Train loss 0.668 - Train accuracy 0.747 - Valid Loss 0.727 - Valid accuracy 0.438\n",
      "Epoch: 202/500 - Train loss 0.667 - Train accuracy 0.749 - Valid Loss 0.744 - Valid accuracy 0.375\n",
      "Epoch: 203/500 - Train loss 0.668 - Train accuracy 0.746 - Valid Loss 0.730 - Valid accuracy 0.438\n",
      "Epoch: 204/500 - Train loss 0.668 - Train accuracy 0.747 - Valid Loss 0.736 - Valid accuracy 0.406\n",
      "Epoch: 205/500 - Train loss 0.667 - Train accuracy 0.749 - Valid Loss 0.712 - Valid accuracy 0.500\n",
      "Epoch: 206/500 - Train loss 0.668 - Train accuracy 0.744 - Valid Loss 0.736 - Valid accuracy 0.406\n",
      "Epoch: 207/500 - Train loss 0.669 - Train accuracy 0.739 - Valid Loss 0.717 - Valid accuracy 0.500\n",
      "Epoch: 208/500 - Train loss 0.668 - Train accuracy 0.745 - Valid Loss 0.719 - Valid accuracy 0.500\n",
      "Epoch: 209/500 - Train loss 0.667 - Train accuracy 0.748 - Valid Loss 0.740 - Valid accuracy 0.375\n",
      "Epoch: 210/500 - Train loss 0.669 - Train accuracy 0.741 - Valid Loss 0.754 - Valid accuracy 0.312\n",
      "Epoch: 211/500 - Train loss 0.667 - Train accuracy 0.748 - Valid Loss 0.730 - Valid accuracy 0.438\n",
      "Epoch: 212/500 - Train loss 0.668 - Train accuracy 0.747 - Valid Loss 0.720 - Valid accuracy 0.469\n",
      "Epoch: 213/500 - Train loss 0.668 - Train accuracy 0.746 - Valid Loss 0.716 - Valid accuracy 0.500\n",
      "Epoch: 214/500 - Train loss 0.670 - Train accuracy 0.737 - Valid Loss 0.773 - Valid accuracy 0.219\n",
      "Epoch: 215/500 - Train loss 0.668 - Train accuracy 0.744 - Valid Loss 0.699 - Valid accuracy 0.594\n",
      "Epoch: 216/500 - Train loss 0.668 - Train accuracy 0.746 - Valid Loss 0.721 - Valid accuracy 0.469\n",
      "Epoch: 217/500 - Train loss 0.667 - Train accuracy 0.748 - Valid Loss 0.723 - Valid accuracy 0.469\n",
      "Epoch: 218/500 - Train loss 0.668 - Train accuracy 0.747 - Valid Loss 0.717 - Valid accuracy 0.469\n",
      "Epoch: 219/500 - Train loss 0.667 - Train accuracy 0.750 - Valid Loss 0.753 - Valid accuracy 0.312\n",
      "Epoch: 220/500 - Train loss 0.668 - Train accuracy 0.747 - Valid Loss 0.730 - Valid accuracy 0.438\n",
      "Epoch: 221/500 - Train loss 0.667 - Train accuracy 0.751 - Valid Loss 0.748 - Valid accuracy 0.344\n",
      "Epoch: 222/500 - Train loss 0.667 - Train accuracy 0.751 - Valid Loss 0.730 - Valid accuracy 0.438\n",
      "Epoch: 223/500 - Train loss 0.667 - Train accuracy 0.750 - Valid Loss 0.736 - Valid accuracy 0.406\n",
      "Epoch: 224/500 - Train loss 0.667 - Train accuracy 0.751 - Valid Loss 0.717 - Valid accuracy 0.500\n",
      "Epoch: 225/500 - Train loss 0.667 - Train accuracy 0.748 - Valid Loss 0.755 - Valid accuracy 0.312\n",
      "Epoch: 226/500 - Train loss 0.667 - Train accuracy 0.749 - Valid Loss 0.735 - Valid accuracy 0.406\n",
      "Epoch: 227/500 - Train loss 0.668 - Train accuracy 0.747 - Valid Loss 0.724 - Valid accuracy 0.469\n",
      "Epoch: 228/500 - Train loss 0.667 - Train accuracy 0.748 - Valid Loss 0.715 - Valid accuracy 0.500\n",
      "Epoch: 229/500 - Train loss 0.667 - Train accuracy 0.750 - Valid Loss 0.693 - Valid accuracy 0.625\n",
      "Epoch: 230/500 - Train loss 0.668 - Train accuracy 0.745 - Valid Loss 0.698 - Valid accuracy 0.594\n",
      "Epoch: 231/500 - Train loss 0.668 - Train accuracy 0.748 - Valid Loss 0.723 - Valid accuracy 0.469\n",
      "Epoch: 232/500 - Train loss 0.669 - Train accuracy 0.743 - Valid Loss 0.779 - Valid accuracy 0.188\n",
      "Epoch: 233/500 - Train loss 0.669 - Train accuracy 0.741 - Valid Loss 0.701 - Valid accuracy 0.562\n",
      "Epoch: 234/500 - Train loss 0.667 - Train accuracy 0.749 - Valid Loss 0.748 - Valid accuracy 0.344\n",
      "Epoch: 235/500 - Train loss 0.667 - Train accuracy 0.752 - Valid Loss 0.731 - Valid accuracy 0.438\n",
      "Epoch: 236/500 - Train loss 0.668 - Train accuracy 0.746 - Valid Loss 0.729 - Valid accuracy 0.438\n",
      "Epoch: 237/500 - Train loss 0.670 - Train accuracy 0.737 - Valid Loss 0.730 - Valid accuracy 0.438\n",
      "Epoch: 238/500 - Train loss 0.668 - Train accuracy 0.744 - Valid Loss 0.730 - Valid accuracy 0.438\n",
      "Epoch: 239/500 - Train loss 0.667 - Train accuracy 0.749 - Valid Loss 0.711 - Valid accuracy 0.562\n",
      "Epoch: 240/500 - Train loss 0.667 - Train accuracy 0.749 - Valid Loss 0.717 - Valid accuracy 0.500\n",
      "Epoch: 241/500 - Train loss 0.667 - Train accuracy 0.750 - Valid Loss 0.730 - Valid accuracy 0.438\n",
      "Epoch: 242/500 - Train loss 0.667 - Train accuracy 0.748 - Valid Loss 0.729 - Valid accuracy 0.438\n",
      "Epoch: 243/500 - Train loss 0.667 - Train accuracy 0.749 - Valid Loss 0.755 - Valid accuracy 0.312\n",
      "Epoch: 244/500 - Train loss 0.667 - Train accuracy 0.750 - Valid Loss 0.707 - Valid accuracy 0.562\n",
      "Epoch: 245/500 - Train loss 0.667 - Train accuracy 0.752 - Valid Loss 0.720 - Valid accuracy 0.469\n",
      "Epoch: 246/500 - Train loss 0.668 - Train accuracy 0.748 - Valid Loss 0.754 - Valid accuracy 0.312\n",
      "Epoch: 247/500 - Train loss 0.667 - Train accuracy 0.750 - Valid Loss 0.717 - Valid accuracy 0.500\n",
      "Epoch: 248/500 - Train loss 0.667 - Train accuracy 0.749 - Valid Loss 0.725 - Valid accuracy 0.469\n",
      "Epoch: 249/500 - Train loss 0.666 - Train accuracy 0.754 - Valid Loss 0.736 - Valid accuracy 0.406\n",
      "Epoch: 250/500 - Train loss 0.666 - Train accuracy 0.755 - Valid Loss 0.686 - Valid accuracy 0.656\n",
      "Epoch: 251/500 - Train loss 0.666 - Train accuracy 0.756 - Valid Loss 0.722 - Valid accuracy 0.469\n",
      "Epoch: 252/500 - Train loss 0.666 - Train accuracy 0.756 - Valid Loss 0.705 - Valid accuracy 0.562\n",
      "Epoch: 253/500 - Train loss 0.666 - Train accuracy 0.754 - Valid Loss 0.725 - Valid accuracy 0.469\n",
      "Epoch: 254/500 - Train loss 0.666 - Train accuracy 0.757 - Valid Loss 0.724 - Valid accuracy 0.469\n",
      "Epoch: 255/500 - Train loss 0.666 - Train accuracy 0.753 - Valid Loss 0.729 - Valid accuracy 0.438\n",
      "Epoch: 256/500 - Train loss 0.666 - Train accuracy 0.757 - Valid Loss 0.717 - Valid accuracy 0.500\n",
      "Epoch: 257/500 - Train loss 0.665 - Train accuracy 0.759 - Valid Loss 0.710 - Valid accuracy 0.531\n",
      "Epoch: 258/500 - Train loss 0.667 - Train accuracy 0.749 - Valid Loss 0.732 - Valid accuracy 0.438\n",
      "Epoch: 259/500 - Train loss 0.666 - Train accuracy 0.758 - Valid Loss 0.728 - Valid accuracy 0.438\n",
      "Epoch: 260/500 - Train loss 0.666 - Train accuracy 0.757 - Valid Loss 0.692 - Valid accuracy 0.625\n",
      "Epoch: 261/500 - Train loss 0.667 - Train accuracy 0.749 - Valid Loss 0.733 - Valid accuracy 0.406\n",
      "Epoch: 262/500 - Train loss 0.666 - Train accuracy 0.758 - Valid Loss 0.715 - Valid accuracy 0.531\n",
      "Epoch: 263/500 - Train loss 0.666 - Train accuracy 0.757 - Valid Loss 0.735 - Valid accuracy 0.406\n",
      "Epoch: 264/500 - Train loss 0.666 - Train accuracy 0.755 - Valid Loss 0.717 - Valid accuracy 0.500\n",
      "Epoch: 265/500 - Train loss 0.665 - Train accuracy 0.759 - Valid Loss 0.761 - Valid accuracy 0.281\n",
      "Epoch: 266/500 - Train loss 0.665 - Train accuracy 0.759 - Valid Loss 0.727 - Valid accuracy 0.438\n",
      "Epoch: 267/500 - Train loss 0.665 - Train accuracy 0.758 - Valid Loss 0.736 - Valid accuracy 0.406\n",
      "Epoch: 268/500 - Train loss 0.665 - Train accuracy 0.759 - Valid Loss 0.742 - Valid accuracy 0.375\n",
      "Epoch: 269/500 - Train loss 0.665 - Train accuracy 0.761 - Valid Loss 0.736 - Valid accuracy 0.406\n",
      "Epoch: 270/500 - Train loss 0.664 - Train accuracy 0.763 - Valid Loss 0.735 - Valid accuracy 0.406\n",
      "Epoch: 271/500 - Train loss 0.664 - Train accuracy 0.764 - Valid Loss 0.748 - Valid accuracy 0.344\n",
      "Epoch: 272/500 - Train loss 0.664 - Train accuracy 0.764 - Valid Loss 0.717 - Valid accuracy 0.500\n",
      "Epoch: 273/500 - Train loss 0.665 - Train accuracy 0.762 - Valid Loss 0.711 - Valid accuracy 0.531\n",
      "Epoch: 274/500 - Train loss 0.665 - Train accuracy 0.762 - Valid Loss 0.736 - Valid accuracy 0.406\n",
      "Epoch: 275/500 - Train loss 0.665 - Train accuracy 0.760 - Valid Loss 0.736 - Valid accuracy 0.406\n",
      "Epoch: 276/500 - Train loss 0.665 - Train accuracy 0.760 - Valid Loss 0.741 - Valid accuracy 0.375\n",
      "Epoch: 277/500 - Train loss 0.665 - Train accuracy 0.762 - Valid Loss 0.724 - Valid accuracy 0.469\n",
      "Epoch: 278/500 - Train loss 0.665 - Train accuracy 0.760 - Valid Loss 0.729 - Valid accuracy 0.438\n",
      "Epoch: 279/500 - Train loss 0.665 - Train accuracy 0.761 - Valid Loss 0.724 - Valid accuracy 0.469\n",
      "Epoch: 280/500 - Train loss 0.666 - Train accuracy 0.757 - Valid Loss 0.719 - Valid accuracy 0.500\n",
      "Epoch: 281/500 - Train loss 0.665 - Train accuracy 0.761 - Valid Loss 0.722 - Valid accuracy 0.469\n",
      "Epoch: 282/500 - Train loss 0.666 - Train accuracy 0.755 - Valid Loss 0.723 - Valid accuracy 0.469\n",
      "Epoch: 283/500 - Train loss 0.664 - Train accuracy 0.764 - Valid Loss 0.742 - Valid accuracy 0.375\n",
      "Epoch: 284/500 - Train loss 0.664 - Train accuracy 0.764 - Valid Loss 0.718 - Valid accuracy 0.500\n",
      "Epoch: 285/500 - Train loss 0.664 - Train accuracy 0.766 - Valid Loss 0.711 - Valid accuracy 0.531\n",
      "Epoch: 286/500 - Train loss 0.664 - Train accuracy 0.764 - Valid Loss 0.717 - Valid accuracy 0.500\n",
      "Epoch: 287/500 - Train loss 0.664 - Train accuracy 0.767 - Valid Loss 0.728 - Valid accuracy 0.438\n",
      "Epoch: 288/500 - Train loss 0.666 - Train accuracy 0.755 - Valid Loss 0.746 - Valid accuracy 0.344\n",
      "Epoch: 289/500 - Train loss 0.665 - Train accuracy 0.758 - Valid Loss 0.730 - Valid accuracy 0.438\n",
      "Epoch: 290/500 - Train loss 0.665 - Train accuracy 0.760 - Valid Loss 0.722 - Valid accuracy 0.469\n",
      "Epoch: 291/500 - Train loss 0.664 - Train accuracy 0.767 - Valid Loss 0.716 - Valid accuracy 0.500\n",
      "Epoch: 292/500 - Train loss 0.665 - Train accuracy 0.761 - Valid Loss 0.743 - Valid accuracy 0.375\n",
      "Epoch: 293/500 - Train loss 0.664 - Train accuracy 0.763 - Valid Loss 0.723 - Valid accuracy 0.469\n",
      "Epoch: 294/500 - Train loss 0.664 - Train accuracy 0.765 - Valid Loss 0.742 - Valid accuracy 0.375\n",
      "Epoch: 295/500 - Train loss 0.665 - Train accuracy 0.762 - Valid Loss 0.733 - Valid accuracy 0.406\n",
      "Epoch: 296/500 - Train loss 0.664 - Train accuracy 0.764 - Valid Loss 0.723 - Valid accuracy 0.469\n",
      "Epoch: 297/500 - Train loss 0.664 - Train accuracy 0.763 - Valid Loss 0.734 - Valid accuracy 0.406\n",
      "Epoch: 298/500 - Train loss 0.665 - Train accuracy 0.760 - Valid Loss 0.748 - Valid accuracy 0.344\n",
      "Epoch: 299/500 - Train loss 0.665 - Train accuracy 0.762 - Valid Loss 0.718 - Valid accuracy 0.500\n",
      "Epoch: 300/500 - Train loss 0.664 - Train accuracy 0.766 - Valid Loss 0.735 - Valid accuracy 0.406\n",
      "Epoch: 301/500 - Train loss 0.664 - Train accuracy 0.768 - Valid Loss 0.730 - Valid accuracy 0.438\n",
      "Epoch: 302/500 - Train loss 0.664 - Train accuracy 0.766 - Valid Loss 0.737 - Valid accuracy 0.375\n",
      "Epoch: 303/500 - Train loss 0.664 - Train accuracy 0.766 - Valid Loss 0.760 - Valid accuracy 0.281\n",
      "Epoch: 304/500 - Train loss 0.664 - Train accuracy 0.764 - Valid Loss 0.725 - Valid accuracy 0.469\n",
      "Epoch: 305/500 - Train loss 0.664 - Train accuracy 0.768 - Valid Loss 0.723 - Valid accuracy 0.469\n",
      "Epoch: 306/500 - Train loss 0.665 - Train accuracy 0.762 - Valid Loss 0.730 - Valid accuracy 0.438\n",
      "Epoch: 307/500 - Train loss 0.664 - Train accuracy 0.767 - Valid Loss 0.754 - Valid accuracy 0.312\n",
      "Epoch: 308/500 - Train loss 0.663 - Train accuracy 0.770 - Valid Loss 0.724 - Valid accuracy 0.469\n",
      "Epoch: 309/500 - Train loss 0.664 - Train accuracy 0.766 - Valid Loss 0.729 - Valid accuracy 0.438\n",
      "Epoch: 310/500 - Train loss 0.665 - Train accuracy 0.762 - Valid Loss 0.742 - Valid accuracy 0.375\n",
      "Epoch: 311/500 - Train loss 0.664 - Train accuracy 0.766 - Valid Loss 0.715 - Valid accuracy 0.500\n",
      "Epoch: 312/500 - Train loss 0.664 - Train accuracy 0.767 - Valid Loss 0.755 - Valid accuracy 0.312\n",
      "Epoch: 313/500 - Train loss 0.664 - Train accuracy 0.767 - Valid Loss 0.723 - Valid accuracy 0.469\n",
      "Epoch: 314/500 - Train loss 0.665 - Train accuracy 0.762 - Valid Loss 0.743 - Valid accuracy 0.375\n",
      "Epoch: 315/500 - Train loss 0.664 - Train accuracy 0.766 - Valid Loss 0.742 - Valid accuracy 0.375\n",
      "Epoch: 316/500 - Train loss 0.665 - Train accuracy 0.762 - Valid Loss 0.716 - Valid accuracy 0.500\n",
      "Epoch: 317/500 - Train loss 0.665 - Train accuracy 0.762 - Valid Loss 0.723 - Valid accuracy 0.469\n",
      "Epoch: 318/500 - Train loss 0.666 - Train accuracy 0.755 - Valid Loss 0.737 - Valid accuracy 0.406\n",
      "Epoch: 319/500 - Train loss 0.666 - Train accuracy 0.757 - Valid Loss 0.742 - Valid accuracy 0.375\n",
      "Epoch: 320/500 - Train loss 0.665 - Train accuracy 0.761 - Valid Loss 0.717 - Valid accuracy 0.500\n",
      "Epoch: 321/500 - Train loss 0.664 - Train accuracy 0.764 - Valid Loss 0.749 - Valid accuracy 0.344\n",
      "Epoch: 322/500 - Train loss 0.663 - Train accuracy 0.768 - Valid Loss 0.730 - Valid accuracy 0.438\n",
      "Epoch: 323/500 - Train loss 0.663 - Train accuracy 0.771 - Valid Loss 0.748 - Valid accuracy 0.344\n",
      "Epoch: 324/500 - Train loss 0.664 - Train accuracy 0.763 - Valid Loss 0.748 - Valid accuracy 0.344\n",
      "Epoch: 325/500 - Train loss 0.664 - Train accuracy 0.768 - Valid Loss 0.691 - Valid accuracy 0.625\n",
      "Epoch: 326/500 - Train loss 0.664 - Train accuracy 0.767 - Valid Loss 0.749 - Valid accuracy 0.344\n",
      "Epoch: 327/500 - Train loss 0.664 - Train accuracy 0.767 - Valid Loss 0.754 - Valid accuracy 0.312\n",
      "Epoch: 328/500 - Train loss 0.665 - Train accuracy 0.763 - Valid Loss 0.729 - Valid accuracy 0.438\n",
      "Epoch: 329/500 - Train loss 0.664 - Train accuracy 0.764 - Valid Loss 0.748 - Valid accuracy 0.344\n",
      "Epoch: 330/500 - Train loss 0.663 - Train accuracy 0.769 - Valid Loss 0.724 - Valid accuracy 0.469\n",
      "Epoch: 331/500 - Train loss 0.664 - Train accuracy 0.764 - Valid Loss 0.748 - Valid accuracy 0.344\n",
      "Epoch: 332/500 - Train loss 0.664 - Train accuracy 0.765 - Valid Loss 0.748 - Valid accuracy 0.344\n",
      "Epoch: 333/500 - Train loss 0.664 - Train accuracy 0.766 - Valid Loss 0.711 - Valid accuracy 0.531\n",
      "Epoch: 334/500 - Train loss 0.664 - Train accuracy 0.767 - Valid Loss 0.736 - Valid accuracy 0.406\n",
      "Epoch: 335/500 - Train loss 0.664 - Train accuracy 0.766 - Valid Loss 0.732 - Valid accuracy 0.438\n",
      "Epoch: 336/500 - Train loss 0.664 - Train accuracy 0.763 - Valid Loss 0.711 - Valid accuracy 0.531\n",
      "Epoch: 337/500 - Train loss 0.664 - Train accuracy 0.764 - Valid Loss 0.705 - Valid accuracy 0.562\n",
      "Epoch: 338/500 - Train loss 0.663 - Train accuracy 0.769 - Valid Loss 0.723 - Valid accuracy 0.469\n",
      "Epoch: 339/500 - Train loss 0.664 - Train accuracy 0.767 - Valid Loss 0.705 - Valid accuracy 0.562\n",
      "Epoch: 340/500 - Train loss 0.665 - Train accuracy 0.762 - Valid Loss 0.729 - Valid accuracy 0.438\n",
      "Epoch: 341/500 - Train loss 0.664 - Train accuracy 0.764 - Valid Loss 0.742 - Valid accuracy 0.375\n",
      "Epoch: 342/500 - Train loss 0.664 - Train accuracy 0.768 - Valid Loss 0.744 - Valid accuracy 0.375\n",
      "Epoch: 343/500 - Train loss 0.665 - Train accuracy 0.762 - Valid Loss 0.704 - Valid accuracy 0.562\n",
      "Epoch: 344/500 - Train loss 0.664 - Train accuracy 0.763 - Valid Loss 0.755 - Valid accuracy 0.312\n",
      "Epoch: 345/500 - Train loss 0.664 - Train accuracy 0.764 - Valid Loss 0.723 - Valid accuracy 0.469\n",
      "Epoch: 346/500 - Train loss 0.664 - Train accuracy 0.767 - Valid Loss 0.726 - Valid accuracy 0.438\n",
      "Epoch: 347/500 - Train loss 0.664 - Train accuracy 0.768 - Valid Loss 0.714 - Valid accuracy 0.531\n",
      "Epoch: 348/500 - Train loss 0.664 - Train accuracy 0.768 - Valid Loss 0.723 - Valid accuracy 0.469\n",
      "Epoch: 349/500 - Train loss 0.663 - Train accuracy 0.772 - Valid Loss 0.738 - Valid accuracy 0.406\n",
      "Epoch: 350/500 - Train loss 0.663 - Train accuracy 0.770 - Valid Loss 0.711 - Valid accuracy 0.531\n",
      "Epoch: 351/500 - Train loss 0.663 - Train accuracy 0.771 - Valid Loss 0.742 - Valid accuracy 0.375\n",
      "Epoch: 352/500 - Train loss 0.664 - Train accuracy 0.766 - Valid Loss 0.724 - Valid accuracy 0.469\n",
      "Epoch: 353/500 - Train loss 0.663 - Train accuracy 0.772 - Valid Loss 0.723 - Valid accuracy 0.469\n",
      "Epoch: 354/500 - Train loss 0.663 - Train accuracy 0.771 - Valid Loss 0.729 - Valid accuracy 0.438\n",
      "Epoch: 355/500 - Train loss 0.664 - Train accuracy 0.767 - Valid Loss 0.736 - Valid accuracy 0.406\n",
      "Epoch: 356/500 - Train loss 0.664 - Train accuracy 0.765 - Valid Loss 0.725 - Valid accuracy 0.469\n",
      "Epoch: 357/500 - Train loss 0.663 - Train accuracy 0.769 - Valid Loss 0.710 - Valid accuracy 0.531\n",
      "Epoch: 358/500 - Train loss 0.664 - Train accuracy 0.768 - Valid Loss 0.730 - Valid accuracy 0.438\n",
      "Epoch: 359/500 - Train loss 0.665 - Train accuracy 0.760 - Valid Loss 0.729 - Valid accuracy 0.438\n",
      "Epoch: 360/500 - Train loss 0.665 - Train accuracy 0.762 - Valid Loss 0.723 - Valid accuracy 0.469\n",
      "Epoch: 361/500 - Train loss 0.663 - Train accuracy 0.768 - Valid Loss 0.703 - Valid accuracy 0.562\n",
      "Epoch: 362/500 - Train loss 0.663 - Train accuracy 0.771 - Valid Loss 0.742 - Valid accuracy 0.375\n",
      "Epoch: 363/500 - Train loss 0.663 - Train accuracy 0.771 - Valid Loss 0.713 - Valid accuracy 0.531\n",
      "Epoch: 364/500 - Train loss 0.663 - Train accuracy 0.773 - Valid Loss 0.736 - Valid accuracy 0.406\n",
      "Epoch: 365/500 - Train loss 0.662 - Train accuracy 0.774 - Valid Loss 0.717 - Valid accuracy 0.500\n",
      "Epoch: 366/500 - Train loss 0.663 - Train accuracy 0.772 - Valid Loss 0.728 - Valid accuracy 0.438\n",
      "Epoch: 367/500 - Train loss 0.663 - Train accuracy 0.770 - Valid Loss 0.717 - Valid accuracy 0.500\n",
      "Epoch: 368/500 - Train loss 0.662 - Train accuracy 0.774 - Valid Loss 0.717 - Valid accuracy 0.500\n",
      "Epoch: 369/500 - Train loss 0.663 - Train accuracy 0.771 - Valid Loss 0.717 - Valid accuracy 0.500\n",
      "Epoch: 370/500 - Train loss 0.663 - Train accuracy 0.773 - Valid Loss 0.742 - Valid accuracy 0.375\n",
      "Epoch: 371/500 - Train loss 0.663 - Train accuracy 0.772 - Valid Loss 0.759 - Valid accuracy 0.281\n",
      "Epoch: 372/500 - Train loss 0.663 - Train accuracy 0.770 - Valid Loss 0.767 - Valid accuracy 0.250\n",
      "Epoch: 373/500 - Train loss 0.662 - Train accuracy 0.774 - Valid Loss 0.694 - Valid accuracy 0.625\n",
      "Epoch: 374/500 - Train loss 0.662 - Train accuracy 0.774 - Valid Loss 0.761 - Valid accuracy 0.281\n",
      "Epoch: 375/500 - Train loss 0.662 - Train accuracy 0.775 - Valid Loss 0.724 - Valid accuracy 0.469\n",
      "Epoch: 376/500 - Train loss 0.662 - Train accuracy 0.776 - Valid Loss 0.753 - Valid accuracy 0.312\n",
      "Epoch: 377/500 - Train loss 0.662 - Train accuracy 0.778 - Valid Loss 0.717 - Valid accuracy 0.500\n",
      "Epoch: 378/500 - Train loss 0.663 - Train accuracy 0.772 - Valid Loss 0.741 - Valid accuracy 0.375\n",
      "Epoch: 379/500 - Train loss 0.662 - Train accuracy 0.775 - Valid Loss 0.730 - Valid accuracy 0.438\n",
      "Epoch: 380/500 - Train loss 0.662 - Train accuracy 0.774 - Valid Loss 0.742 - Valid accuracy 0.375\n",
      "Epoch: 381/500 - Train loss 0.666 - Train accuracy 0.758 - Valid Loss 0.736 - Valid accuracy 0.406\n",
      "Epoch: 382/500 - Train loss 0.663 - Train accuracy 0.769 - Valid Loss 0.762 - Valid accuracy 0.281\n",
      "Epoch: 383/500 - Train loss 0.663 - Train accuracy 0.773 - Valid Loss 0.718 - Valid accuracy 0.500\n",
      "Epoch: 384/500 - Train loss 0.662 - Train accuracy 0.774 - Valid Loss 0.717 - Valid accuracy 0.500\n",
      "Epoch: 385/500 - Train loss 0.663 - Train accuracy 0.769 - Valid Loss 0.733 - Valid accuracy 0.406\n",
      "Epoch: 386/500 - Train loss 0.663 - Train accuracy 0.773 - Valid Loss 0.713 - Valid accuracy 0.500\n",
      "Epoch: 387/500 - Train loss 0.665 - Train accuracy 0.763 - Valid Loss 0.697 - Valid accuracy 0.594\n",
      "Epoch: 388/500 - Train loss 0.663 - Train accuracy 0.768 - Valid Loss 0.736 - Valid accuracy 0.406\n",
      "Epoch: 389/500 - Train loss 0.663 - Train accuracy 0.770 - Valid Loss 0.730 - Valid accuracy 0.438\n",
      "Epoch: 390/500 - Train loss 0.663 - Train accuracy 0.772 - Valid Loss 0.716 - Valid accuracy 0.500\n",
      "Epoch: 391/500 - Train loss 0.662 - Train accuracy 0.773 - Valid Loss 0.761 - Valid accuracy 0.281\n",
      "Epoch: 392/500 - Train loss 0.662 - Train accuracy 0.774 - Valid Loss 0.728 - Valid accuracy 0.438\n",
      "Epoch: 393/500 - Train loss 0.662 - Train accuracy 0.774 - Valid Loss 0.729 - Valid accuracy 0.438\n",
      "Epoch: 394/500 - Train loss 0.662 - Train accuracy 0.777 - Valid Loss 0.733 - Valid accuracy 0.406\n",
      "Epoch: 395/500 - Train loss 0.662 - Train accuracy 0.777 - Valid Loss 0.741 - Valid accuracy 0.375\n",
      "Epoch: 396/500 - Train loss 0.662 - Train accuracy 0.776 - Valid Loss 0.722 - Valid accuracy 0.469\n",
      "Epoch: 397/500 - Train loss 0.664 - Train accuracy 0.764 - Valid Loss 0.728 - Valid accuracy 0.438\n",
      "Epoch: 398/500 - Train loss 0.662 - Train accuracy 0.774 - Valid Loss 0.702 - Valid accuracy 0.562\n",
      "Epoch: 399/500 - Train loss 0.662 - Train accuracy 0.774 - Valid Loss 0.742 - Valid accuracy 0.375\n",
      "Epoch: 400/500 - Train loss 0.663 - Train accuracy 0.769 - Valid Loss 0.742 - Valid accuracy 0.375\n",
      "Epoch: 401/500 - Train loss 0.663 - Train accuracy 0.771 - Valid Loss 0.742 - Valid accuracy 0.375\n",
      "Epoch: 402/500 - Train loss 0.662 - Train accuracy 0.778 - Valid Loss 0.711 - Valid accuracy 0.531\n",
      "Epoch: 403/500 - Train loss 0.662 - Train accuracy 0.775 - Valid Loss 0.718 - Valid accuracy 0.500\n",
      "Epoch: 404/500 - Train loss 0.662 - Train accuracy 0.777 - Valid Loss 0.743 - Valid accuracy 0.375\n",
      "Epoch: 405/500 - Train loss 0.661 - Train accuracy 0.780 - Valid Loss 0.717 - Valid accuracy 0.500\n",
      "Epoch: 406/500 - Train loss 0.661 - Train accuracy 0.778 - Valid Loss 0.736 - Valid accuracy 0.406\n",
      "Epoch: 407/500 - Train loss 0.664 - Train accuracy 0.764 - Valid Loss 0.742 - Valid accuracy 0.375\n",
      "Epoch: 408/500 - Train loss 0.664 - Train accuracy 0.765 - Valid Loss 0.704 - Valid accuracy 0.562\n",
      "Epoch: 409/500 - Train loss 0.667 - Train accuracy 0.751 - Valid Loss 0.754 - Valid accuracy 0.312\n",
      "Epoch: 410/500 - Train loss 0.666 - Train accuracy 0.753 - Valid Loss 0.705 - Valid accuracy 0.562\n",
      "Epoch: 411/500 - Train loss 0.664 - Train accuracy 0.768 - Valid Loss 0.704 - Valid accuracy 0.562\n",
      "Epoch: 412/500 - Train loss 0.662 - Train accuracy 0.774 - Valid Loss 0.723 - Valid accuracy 0.469\n",
      "Epoch: 413/500 - Train loss 0.662 - Train accuracy 0.776 - Valid Loss 0.746 - Valid accuracy 0.344\n",
      "Epoch: 414/500 - Train loss 0.662 - Train accuracy 0.778 - Valid Loss 0.723 - Valid accuracy 0.469\n",
      "Epoch: 415/500 - Train loss 0.661 - Train accuracy 0.780 - Valid Loss 0.723 - Valid accuracy 0.469\n",
      "Epoch: 416/500 - Train loss 0.661 - Train accuracy 0.780 - Valid Loss 0.733 - Valid accuracy 0.406\n",
      "Epoch: 417/500 - Train loss 0.661 - Train accuracy 0.779 - Valid Loss 0.734 - Valid accuracy 0.406\n",
      "Epoch: 418/500 - Train loss 0.661 - Train accuracy 0.779 - Valid Loss 0.670 - Valid accuracy 0.719\n",
      "Epoch: 419/500 - Train loss 0.661 - Train accuracy 0.778 - Valid Loss 0.723 - Valid accuracy 0.469\n",
      "Epoch: 420/500 - Train loss 0.661 - Train accuracy 0.779 - Valid Loss 0.716 - Valid accuracy 0.500\n",
      "Epoch: 421/500 - Train loss 0.663 - Train accuracy 0.771 - Valid Loss 0.716 - Valid accuracy 0.500\n",
      "Epoch: 422/500 - Train loss 0.662 - Train accuracy 0.774 - Valid Loss 0.693 - Valid accuracy 0.625\n",
      "Epoch: 423/500 - Train loss 0.662 - Train accuracy 0.776 - Valid Loss 0.721 - Valid accuracy 0.469\n",
      "Epoch: 424/500 - Train loss 0.661 - Train accuracy 0.780 - Valid Loss 0.707 - Valid accuracy 0.562\n",
      "Epoch: 425/500 - Train loss 0.661 - Train accuracy 0.779 - Valid Loss 0.747 - Valid accuracy 0.344\n",
      "Epoch: 426/500 - Train loss 0.662 - Train accuracy 0.777 - Valid Loss 0.732 - Valid accuracy 0.438\n",
      "Epoch: 427/500 - Train loss 0.661 - Train accuracy 0.780 - Valid Loss 0.724 - Valid accuracy 0.469\n",
      "Epoch: 428/500 - Train loss 0.662 - Train accuracy 0.777 - Valid Loss 0.748 - Valid accuracy 0.344\n",
      "Epoch: 429/500 - Train loss 0.662 - Train accuracy 0.778 - Valid Loss 0.742 - Valid accuracy 0.375\n",
      "Epoch: 430/500 - Train loss 0.662 - Train accuracy 0.776 - Valid Loss 0.735 - Valid accuracy 0.406\n",
      "Epoch: 431/500 - Train loss 0.661 - Train accuracy 0.778 - Valid Loss 0.723 - Valid accuracy 0.469\n",
      "Epoch: 432/500 - Train loss 0.662 - Train accuracy 0.778 - Valid Loss 0.765 - Valid accuracy 0.250\n",
      "Epoch: 433/500 - Train loss 0.661 - Train accuracy 0.780 - Valid Loss 0.749 - Valid accuracy 0.344\n",
      "Epoch: 434/500 - Train loss 0.661 - Train accuracy 0.781 - Valid Loss 0.724 - Valid accuracy 0.469\n",
      "Epoch: 435/500 - Train loss 0.660 - Train accuracy 0.783 - Valid Loss 0.729 - Valid accuracy 0.438\n",
      "Epoch: 436/500 - Train loss 0.662 - Train accuracy 0.777 - Valid Loss 0.743 - Valid accuracy 0.375\n",
      "Epoch: 437/500 - Train loss 0.661 - Train accuracy 0.780 - Valid Loss 0.723 - Valid accuracy 0.469\n",
      "Epoch: 438/500 - Train loss 0.661 - Train accuracy 0.780 - Valid Loss 0.723 - Valid accuracy 0.469\n",
      "Epoch: 439/500 - Train loss 0.661 - Train accuracy 0.778 - Valid Loss 0.695 - Valid accuracy 0.594\n",
      "Epoch: 440/500 - Train loss 0.663 - Train accuracy 0.770 - Valid Loss 0.692 - Valid accuracy 0.625\n",
      "Epoch: 441/500 - Train loss 0.662 - Train accuracy 0.774 - Valid Loss 0.705 - Valid accuracy 0.562\n",
      "Epoch: 442/500 - Train loss 0.661 - Train accuracy 0.779 - Valid Loss 0.715 - Valid accuracy 0.500\n",
      "Epoch: 443/500 - Train loss 0.661 - Train accuracy 0.782 - Valid Loss 0.730 - Valid accuracy 0.438\n",
      "Epoch: 444/500 - Train loss 0.661 - Train accuracy 0.780 - Valid Loss 0.731 - Valid accuracy 0.438\n",
      "Epoch: 445/500 - Train loss 0.662 - Train accuracy 0.776 - Valid Loss 0.748 - Valid accuracy 0.344\n",
      "Epoch: 446/500 - Train loss 0.663 - Train accuracy 0.770 - Valid Loss 0.722 - Valid accuracy 0.469\n",
      "Epoch: 447/500 - Train loss 0.662 - Train accuracy 0.778 - Valid Loss 0.729 - Valid accuracy 0.438\n",
      "Epoch: 448/500 - Train loss 0.661 - Train accuracy 0.779 - Valid Loss 0.730 - Valid accuracy 0.438\n",
      "Epoch: 449/500 - Train loss 0.661 - Train accuracy 0.779 - Valid Loss 0.732 - Valid accuracy 0.438\n",
      "Epoch: 450/500 - Train loss 0.660 - Train accuracy 0.785 - Valid Loss 0.723 - Valid accuracy 0.469\n",
      "Epoch: 451/500 - Train loss 0.659 - Train accuracy 0.788 - Valid Loss 0.742 - Valid accuracy 0.375\n",
      "Epoch: 452/500 - Train loss 0.660 - Train accuracy 0.783 - Valid Loss 0.730 - Valid accuracy 0.438\n",
      "Epoch: 453/500 - Train loss 0.660 - Train accuracy 0.783 - Valid Loss 0.720 - Valid accuracy 0.469\n",
      "Epoch: 454/500 - Train loss 0.659 - Train accuracy 0.789 - Valid Loss 0.704 - Valid accuracy 0.562\n",
      "Epoch: 455/500 - Train loss 0.659 - Train accuracy 0.789 - Valid Loss 0.723 - Valid accuracy 0.469\n",
      "Epoch: 456/500 - Train loss 0.660 - Train accuracy 0.788 - Valid Loss 0.717 - Valid accuracy 0.500\n",
      "Epoch: 457/500 - Train loss 0.658 - Train accuracy 0.793 - Valid Loss 0.727 - Valid accuracy 0.438\n",
      "Epoch: 458/500 - Train loss 0.659 - Train accuracy 0.791 - Valid Loss 0.754 - Valid accuracy 0.312\n",
      "Epoch: 459/500 - Train loss 0.659 - Train accuracy 0.791 - Valid Loss 0.722 - Valid accuracy 0.469\n",
      "Epoch: 460/500 - Train loss 0.659 - Train accuracy 0.790 - Valid Loss 0.736 - Valid accuracy 0.406\n",
      "Epoch: 461/500 - Train loss 0.660 - Train accuracy 0.786 - Valid Loss 0.714 - Valid accuracy 0.500\n",
      "Epoch: 462/500 - Train loss 0.659 - Train accuracy 0.789 - Valid Loss 0.736 - Valid accuracy 0.406\n",
      "Epoch: 463/500 - Train loss 0.659 - Train accuracy 0.789 - Valid Loss 0.711 - Valid accuracy 0.531\n",
      "Epoch: 464/500 - Train loss 0.660 - Train accuracy 0.783 - Valid Loss 0.767 - Valid accuracy 0.250\n",
      "Epoch: 465/500 - Train loss 0.660 - Train accuracy 0.786 - Valid Loss 0.736 - Valid accuracy 0.406\n",
      "Epoch: 466/500 - Train loss 0.659 - Train accuracy 0.789 - Valid Loss 0.732 - Valid accuracy 0.438\n",
      "Epoch: 467/500 - Train loss 0.659 - Train accuracy 0.791 - Valid Loss 0.752 - Valid accuracy 0.312\n",
      "Epoch: 468/500 - Train loss 0.659 - Train accuracy 0.792 - Valid Loss 0.773 - Valid accuracy 0.219\n",
      "Epoch: 469/500 - Train loss 0.659 - Train accuracy 0.791 - Valid Loss 0.684 - Valid accuracy 0.656\n",
      "Epoch: 470/500 - Train loss 0.659 - Train accuracy 0.789 - Valid Loss 0.749 - Valid accuracy 0.344\n",
      "Epoch: 471/500 - Train loss 0.659 - Train accuracy 0.792 - Valid Loss 0.764 - Valid accuracy 0.250\n",
      "Epoch: 472/500 - Train loss 0.659 - Train accuracy 0.789 - Valid Loss 0.706 - Valid accuracy 0.562\n",
      "Epoch: 473/500 - Train loss 0.659 - Train accuracy 0.793 - Valid Loss 0.717 - Valid accuracy 0.500\n",
      "Epoch: 474/500 - Train loss 0.659 - Train accuracy 0.791 - Valid Loss 0.761 - Valid accuracy 0.281\n",
      "Epoch: 475/500 - Train loss 0.659 - Train accuracy 0.791 - Valid Loss 0.714 - Valid accuracy 0.500\n",
      "Epoch: 476/500 - Train loss 0.659 - Train accuracy 0.789 - Valid Loss 0.729 - Valid accuracy 0.438\n",
      "Epoch: 477/500 - Train loss 0.659 - Train accuracy 0.791 - Valid Loss 0.730 - Valid accuracy 0.438\n",
      "Epoch: 478/500 - Train loss 0.659 - Train accuracy 0.791 - Valid Loss 0.767 - Valid accuracy 0.250\n",
      "Epoch: 479/500 - Train loss 0.659 - Train accuracy 0.790 - Valid Loss 0.723 - Valid accuracy 0.469\n",
      "Epoch: 480/500 - Train loss 0.660 - Train accuracy 0.787 - Valid Loss 0.705 - Valid accuracy 0.562\n",
      "Epoch: 481/500 - Train loss 0.661 - Train accuracy 0.781 - Valid Loss 0.752 - Valid accuracy 0.312\n",
      "Epoch: 482/500 - Train loss 0.660 - Train accuracy 0.785 - Valid Loss 0.722 - Valid accuracy 0.469\n",
      "Epoch: 483/500 - Train loss 0.660 - Train accuracy 0.784 - Valid Loss 0.711 - Valid accuracy 0.531\n",
      "Epoch: 484/500 - Train loss 0.662 - Train accuracy 0.778 - Valid Loss 0.719 - Valid accuracy 0.500\n",
      "Epoch: 485/500 - Train loss 0.659 - Train accuracy 0.789 - Valid Loss 0.730 - Valid accuracy 0.438\n",
      "Epoch: 486/500 - Train loss 0.659 - Train accuracy 0.793 - Valid Loss 0.723 - Valid accuracy 0.469\n",
      "Epoch: 487/500 - Train loss 0.659 - Train accuracy 0.792 - Valid Loss 0.737 - Valid accuracy 0.406\n",
      "Epoch: 488/500 - Train loss 0.659 - Train accuracy 0.791 - Valid Loss 0.692 - Valid accuracy 0.625\n",
      "Epoch: 489/500 - Train loss 0.659 - Train accuracy 0.792 - Valid Loss 0.724 - Valid accuracy 0.469\n",
      "Epoch: 490/500 - Train loss 0.658 - Train accuracy 0.793 - Valid Loss 0.766 - Valid accuracy 0.250\n",
      "Epoch: 491/500 - Train loss 0.659 - Train accuracy 0.790 - Valid Loss 0.742 - Valid accuracy 0.375\n",
      "Epoch: 492/500 - Train loss 0.659 - Train accuracy 0.791 - Valid Loss 0.725 - Valid accuracy 0.469\n",
      "Epoch: 493/500 - Train loss 0.659 - Train accuracy 0.790 - Valid Loss 0.690 - Valid accuracy 0.625\n",
      "Epoch: 494/500 - Train loss 0.659 - Train accuracy 0.790 - Valid Loss 0.748 - Valid accuracy 0.344\n",
      "Epoch: 495/500 - Train loss 0.659 - Train accuracy 0.789 - Valid Loss 0.719 - Valid accuracy 0.500\n",
      "Epoch: 496/500 - Train loss 0.659 - Train accuracy 0.791 - Valid Loss 0.711 - Valid accuracy 0.531\n",
      "Epoch: 497/500 - Train loss 0.659 - Train accuracy 0.789 - Valid Loss 0.734 - Valid accuracy 0.406\n",
      "Epoch: 498/500 - Train loss 0.658 - Train accuracy 0.794 - Valid Loss 0.717 - Valid accuracy 0.500\n",
      "Epoch: 499/500 - Train loss 0.658 - Train accuracy 0.793 - Valid Loss 0.705 - Valid accuracy 0.562\n",
      "Epoch: 500/500 - Train loss 0.659 - Train accuracy 0.790 - Valid Loss 0.723 - Valid accuracy 0.469\n"
     ]
    },
    {
     "data": {
      "image/png": "[encoded data removed]",
      "text/plain": [
       "<Figure size 640x480 with 1 Axes>"
      ]
     },
     "metadata": {},
     "output_type": "display_data"
    }
   ],
   "source": [
    "history2 = train(model2,\n",
    "                train_loader,\n",
    "                valid_loader,\n",
    "                model2_optimizer,\n",
    "                model2_criterion,\n",
    "                epochs=500\n",
    "                )\n",
    "\n",
    "epoch_count = range(1, len(history2['accuracy']) + 1)\n",
    "sns.lineplot(x=epoch_count,  y=history2['accuracy'], label='train')\n",
    "sns.lineplot(x=epoch_count,  y=history2['val_accuracy'], label='valid')\n",
    "sns.lineplot(x=epoch_count,  y=history2['loss'], label='train_loss')\n",
    "plt.show()"
   ]
  },
  {
   "attachments": {},
   "cell_type": "markdown",
   "metadata": {},
   "source": [
    "Ahora se ve una evolución del acc a medida que suben las epochs"
   ]
  },
  {
   "attachments": {},
   "cell_type": "markdown",
   "metadata": {},
   "source": [
    "Intentamos otro preprocesamiento"
   ]
  },
  {
   "attachments": {},
   "cell_type": "markdown",
   "metadata": {},
   "source": [
    "La idea es tomar ejemplos de las clases minoritarias e intentar en función de los mismos crear ejemplos similares, aplicando el concepto de data augmentation. Para agregar n ejemplos a una clase, tomaremos ejemplos reales y les cambiaremos palabras que tienen connotacion negativa por otras palabras con connotación negativa tomadas de la clase de la que queremos crear ejemplos, tomando alguna aleatoria de entre las palabras mas usadas."
   ]
  },
  {
   "cell_type": "code",
   "execution_count": 151,
   "metadata": {},
   "outputs": [
    {
     "data": {
      "text/plain": [
       "Rating\n",
       "4    12540\n",
       "3     4908\n",
       "2     2823\n",
       "1     1549\n",
       "0      821\n",
       "Name: count, dtype: int64"
      ]
     },
     "execution_count": 151,
     "metadata": {},
     "output_type": "execute_result"
    }
   ],
   "source": [
    "df_reviews['Rating'].value_counts()"
   ]
  },
  {
   "cell_type": "code",
   "execution_count": 152,
   "metadata": {},
   "outputs": [
    {
     "data": {
      "text/plain": [
       "Rating\n",
       "0    821\n",
       "Name: count, dtype: int64"
      ]
     },
     "execution_count": 152,
     "metadata": {},
     "output_type": "execute_result"
    }
   ],
   "source": [
    "class_0 = df_reviews[df_reviews['Rating'] == 0]\n",
    "class_0['Rating'].value_counts()"
   ]
  },
  {
   "cell_type": "code",
   "execution_count": 161,
   "metadata": {},
   "outputs": [
    {
     "name": "stderr",
     "output_type": "stream",
     "text": [
      "[nltk_data] Downloading package stopwords to\n",
      "[nltk_data]     /Users/ezequielfernandez/nltk_data...\n",
      "[nltk_data]   Unzipping corpora/stopwords.zip.\n"
     ]
    },
    {
     "data": {
      "text/plain": [
       "True"
      ]
     },
     "execution_count": 161,
     "metadata": {},
     "output_type": "execute_result"
    }
   ],
   "source": [
    "import nltk\n",
    "from nltk.corpus import stopwords\n",
    "nltk.download('stopwords')"
   ]
  },
  {
   "cell_type": "code",
   "execution_count": 162,
   "metadata": {},
   "outputs": [],
   "source": [
    "class_0_sequences = class_0['Review Text'].values\n",
    "# Concatenar todas las reviews para armar el corpus\n",
    "class_0_corpus = ' '.join(class_0_sequences)\n",
    "class_0_tokens = text_to_word_sequence(class_0_corpus)"
   ]
  },
  {
   "cell_type": "code",
   "execution_count": 167,
   "metadata": {},
   "outputs": [
    {
     "data": {
      "text/plain": [
       "['3', 'tags', 'sewn', 'in', '2', 'small', 'about', \"1''\", 'long', 'and']"
      ]
     },
     "execution_count": 167,
     "metadata": {},
     "output_type": "execute_result"
    }
   ],
   "source": [
    "class_0_tokens[:10]"
   ]
  },
  {
   "cell_type": "code",
   "execution_count": 175,
   "metadata": {},
   "outputs": [],
   "source": [
    "import re\n",
    "pattern = r'[^a-zA-z.,!?/:;\\'\\s]' # igual al anterior pero sin cifras numéricas"
   ]
  },
  {
   "attachments": {},
   "cell_type": "markdown",
   "metadata": {},
   "source": [
    "Esta es una lista de palabras con connotación negativa tomada de internet. Link: https://ptrckprry.com/course/ssd/data/negative-words.txt\n"
   ]
  },
  {
   "cell_type": "code",
   "execution_count": 194,
   "metadata": {},
   "outputs": [],
   "source": [
    "negative_words = [\"abnormal\",\"abolish\",\"abominable\",\"abominably\",\"abominate\",\"abomination\",\"abort\",\"aborted\",\"aborts\",\"abrade\",\"abrasive\",\"abrupt\",\"abruptly\",\"abscond\",\"absence\",\"absent-minded\",\"absentee\",\"absurd\",\"absurdity\",\"absurdly\",\"absurdness\",\"abuse\",\"abused\",\"abuses\",\"abusive\",\"abysmal\",\"abysmally\",\"abyss\",\"accidental\",\"accost\",\"accursed\",\"accusation\",\"accusations\",\"accuse\",\"accuses\",\"accusing\",\"accusingly\",\"acerbate\",\"acerbic\",\"acerbically\",\"ache\",\"ached\",\"aches\",\"achey\",\"aching\",\"acrid\",\"acridly\",\"acridness\",\"acrimonious\",\"acrimoniously\",\"acrimony\",\"adamant\",\"adamantly\",\"addict\",\"addicted\",\"addicting\",\"addicts\",\"admonish\",\"admonisher\",\"admonishingly\",\"admonishment\",\"admonition\",\"adulterate\",\"adulterated\",\"adulteration\",\"adulterier\",\"adversarial\",\"adversary\",\"adverse\",\"adversity\",\"afflict\",\"affliction\",\"afflictive\",\"affront\",\"afraid\",\"aggravate\",\"aggravating\",\"aggravation\",\"aggression\",\"aggressive\",\"aggressiveness\",\"aggressor\",\"aggrieve\",\"aggrieved\",\"aggrivation\",\"aghast\",\"agonies\",\"agonize\",\"agonizing\",\"agonizingly\",\"agony\",\"aground\",\"ail\",\"ailing\",\"ailment\",\"aimless\",\"alarm\",\"alarmed\",\"alarming\",\"alarmingly\",\"alienate\",\"alienated\",\"alienation\",\"allegation\",\"allegations\",\"allege\",\"allergic\",\"allergies\",\"allergy\",\"aloof\",\"altercation\",\"ambiguity\",\"ambiguous\",\"ambivalence\",\"ambivalent\",\"ambush\",\"amiss\",\"amputate\",\"anarchism\",\"anarchist\",\"anarchistic\",\"anarchy\",\"anemic\",\"anger\",\"angrily\",\"angriness\",\"angry\",\"anguish\",\"animosity\",\"annihilate\",\"annihilation\",\"annoy\",\"annoyance\",\"annoyances\",\"annoyed\",\"annoying\",\"annoyingly\",\"annoys\",\"anomalous\",\"anomaly\",\"antagonism\",\"antagonist\",\"antagonistic\",\"antagonize\",\"anti-\",\"anti-american\",\"anti-israeli\",\"anti-occupation\",\"anti-proliferation\",\"anti-semites\",\"anti-social\",\"anti-us\",\"anti-white\",\"antipathy\",\"antiquated\",\"antithetical\",\"anxieties\",\"anxiety\",\"anxious\",\"anxiously\",\"anxiousness\",\"apathetic\",\"apathetically\",\"apathy\",\"apocalypse\",\"apocalyptic\",\"apologist\",\"apologists\",\"appal\",\"appall\",\"appalled\",\"appalling\",\"appallingly\",\"apprehension\",\"apprehensions\",\"apprehensive\",\"apprehensively\",\"arbitrary\",\"arcane\",\"archaic\",\"arduous\",\"arduously\",\"argumentative\",\"arrogance\",\"arrogant\",\"arrogantly\",\"ashamed\",\"asinine\",\"asininely\",\"asinininity\",\"askance\",\"asperse\",\"aspersion\",\"aspersions\",\"assail\",\"assassin\",\"assassinate\",\"assault\",\"assult\",\"astray\",\"asunder\",\"atrocious\",\"atrocities\",\"atrocity\",\"atrophy\",\"attack\",\"attacks\",\"audacious\",\"audaciously\",\"audaciousness\",\"audacity\",\"audiciously\",\"austere\",\"authoritarian\",\"autocrat\",\"autocratic\",\"avalanche\",\"avarice\",\"avaricious\",\"avariciously\",\"avenge\",\"averse\",\"aversion\",\"aweful\",\"awful\",\"awfully\",\"awfulness\",\"awkward\",\"awkwardness\",\"ax\",\"babble\",\"back-logged\",\"back-wood\",\"back-woods\",\"backache\",\"backaches\",\"backaching\",\"backbite\",\"backbiting\",\"backward\",\"backwardness\",\"backwood\",\"backwoods\",\"bad\",\"badly\",\"baffle\",\"baffled\",\"bafflement\",\"baffling\",\"bait\",\"balk\",\"banal\",\"banalize\",\"bane\",\"banish\",\"banishment\",\"bankrupt\",\"barbarian\",\"barbaric\",\"barbarically\",\"barbarity\",\"barbarous\",\"barbarously\",\"barren\",\"baseless\",\"bash\",\"bashed\",\"bashful\",\"bashing\",\"bastard\",\"bastards\",\"battered\",\"battering\",\"batty\",\"bearish\",\"beastly\",\"bedlam\",\"bedlamite\",\"befoul\",\"beg\",\"beggar\",\"beggarly\",\"begging\",\"beguile\",\"belabor\",\"belated\",\"beleaguer\",\"belie\",\"belittle\",\"belittled\",\"belittling\",\"bellicose\",\"belligerence\",\"belligerent\",\"belligerently\",\"bemoan\",\"bemoaning\",\"bemused\",\"bent\",\"berate\",\"bereave\",\"bereavement\",\"bereft\",\"berserk\",\"beseech\",\"beset\",\"besiege\",\"besmirch\",\"bestial\",\"betray\",\"betrayal\",\"betrayals\",\"betrayer\",\"betraying\",\"betrays\",\"bewail\",\"beware\",\"bewilder\",\"bewildered\",\"bewildering\",\"bewilderingly\",\"bewilderment\",\"bewitch\",\"bias\",\"biased\",\"biases\",\"bicker\",\"bickering\",\"bid-rigging\",\"bigotries\",\"bigotry\",\"bitch\",\"bitchy\",\"biting\",\"bitingly\",\"bitter\",\"bitterly\",\"bitterness\",\"bizarre\",\"blab\",\"blabber\",\"blackmail\",\"blah\",\"blame\",\"blameworthy\",\"bland\",\"blandish\",\"blaspheme\",\"blasphemous\",\"blasphemy\",\"blasted\",\"blatant\",\"blatantly\",\"blather\",\"bleak\",\"bleakly\",\"bleakness\",\"bleed\",\"bleeding\",\"bleeds\",\"blemish\",\"blind\",\"blinding\",\"blindingly\",\"blindside\",\"blister\",\"blistering\",\"bloated\",\"blockage\",\"blockhead\",\"bloodshed\",\"bloodthirsty\",\"bloody\",\"blotchy\",\"blow\",\"blunder\",\"blundering\",\"blunders\",\"blunt\",\"blur\",\"bluring\",\"blurred\",\"blurring\",\"blurry\",\"blurs\",\"blurt\",\"boastful\",\"boggle\",\"bogus\",\"boil\",\"boiling\",\"boisterous\",\"bomb\",\"bombard\",\"bombardment\",\"bombastic\",\"bondage\",\"bonkers\",\"bore\",\"bored\",\"boredom\",\"bores\",\"boring\",\"botch\",\"bother\",\"bothered\",\"bothering\",\"bothers\",\"bothersome\",\"bowdlerize\",\"boycott\",\"braggart\",\"bragger\",\"brainless\",\"brainwash\",\"brash\",\"brashly\",\"brashness\",\"brat\",\"bravado\",\"brazen\",\"brazenly\",\"brazenness\",\"breach\",\"break\",\"break-up\",\"break-ups\",\"breakdown\",\"breaking\",\"breaks\",\"breakup\",\"breakups\",\"bribery\",\"brimstone\",\"bristle\",\"brittle\",\"broke\",\"broken\",\"broken-hearted\",\"brood\",\"browbeat\",\"bruise\",\"bruised\",\"bruises\",\"bruising\",\"brusque\",\"brutal\",\"brutalising\",\"brutalities\",\"brutality\",\"brutalize\",\"brutalizing\",\"brutally\",\"brute\",\"brutish\",\"bs\",\"buckle\",\"bug\",\"bugging\",\"buggy\",\"bugs\",\"bulkier\",\"bulkiness\",\"bulky\",\"bulkyness\",\"bull****\",\"bull----\",\"bullies\",\"bullshit\",\"bullshyt\",\"bully\",\"bullying\",\"bullyingly\",\"bum\",\"bump\",\"bumped\",\"bumping\",\"bumpping\",\"bumps\",\"bumpy\",\"bungle\",\"bungler\",\"bungling\",\"bunk\",\"burden\",\"burdensome\",\"burdensomely\",\"burn\",\"burned\",\"burning\",\"burns\",\"bust\",\"busts\",\"busybody\",\"butcher\",\"butchery\",\"buzzing\",\"byzantine\",\"cackle\",\"calamities\",\"calamitous\",\"calamitously\",\"calamity\",\"callous\",\"calumniate\",\"calumniation\",\"calumnies\",\"calumnious\",\"calumniously\",\"calumny\",\"cancer\",\"cancerous\",\"cannibal\",\"cannibalize\",\"capitulate\",\"capricious\",\"capriciously\",\"capriciousness\",\"capsize\",\"careless\",\"carelessness\",\"caricature\",\"carnage\",\"carp\",\"cartoonish\",\"cash-strapped\",\"castigate\",\"castrated\",\"casualty\",\"cataclysm\",\"cataclysmal\",\"cataclysmic\",\"cataclysmically\",\"catastrophe\",\"catastrophes\",\"catastrophic\",\"catastrophically\",\"catastrophies\",\"caustic\",\"caustically\",\"cautionary\",\"cave\",\"censure\",\"chafe\",\"chaff\",\"chagrin\",\"challenging\",\"chaos\",\"chaotic\",\"chasten\",\"chastise\",\"chastisement\",\"chatter\",\"chatterbox\",\"cheap\",\"cheapen\",\"cheaply\",\"cheat\",\"cheated\",\"cheater\",\"cheating\",\"cheats\",\"checkered\",\"cheerless\",\"cheesy\",\"chide\",\"childish\",\"chill\",\"chilly\",\"chintzy\",\"choke\",\"choleric\",\"choppy\",\"chore\",\"chronic\",\"chunky\",\"clamor\",\"clamorous\",\"clash\",\"cliche\",\"cliched\",\"clique\",\"clog\",\"clogged\",\"clogs\",\"cloud\",\"clouding\",\"cloudy\",\"clueless\",\"clumsy\",\"clunky\",\"coarse\",\"cocky\",\"coerce\",\"coercion\",\"coercive\",\"cold\",\"coldly\",\"collapse\",\"collude\",\"collusion\",\"combative\",\"combust\",\"comical\",\"commiserate\",\"commonplace\",\"commotion\",\"commotions\",\"complacent\",\"complain\",\"complained\",\"complaining\",\"complains\",\"complaint\",\"complaints\",\"complex\",\"complicated\",\"complication\",\"complicit\",\"compulsion\",\"compulsive\",\"concede\",\"conceded\",\"conceit\",\"conceited\",\"concen\",\"concens\",\"concern\",\"concerned\",\"concerns\",\"concession\",\"concessions\",\"condemn\",\"condemnable\",\"condemnation\",\"condemned\",\"condemns\",\"condescend\",\"condescending\",\"condescendingly\",\"condescension\",\"confess\",\"confession\",\"confessions\",\"confined\",\"conflict\",\"conflicted\",\"conflicting\",\"conflicts\",\"confound\",\"confounded\",\"confounding\",\"confront\",\"confrontation\",\"confrontational\",\"confuse\",\"confused\",\"confuses\",\"confusing\",\"confusion\",\"confusions\",\"congested\",\"congestion\",\"cons\",\"conscons\",\"conservative\",\"conspicuous\",\"conspicuously\",\"conspiracies\",\"conspiracy\",\"conspirator\",\"conspiratorial\",\"conspire\",\"consternation\",\"contagious\",\"contaminate\",\"contaminated\",\"contaminates\",\"contaminating\",\"contamination\",\"contempt\",\"contemptible\",\"contemptuous\",\"contemptuously\",\"contend\",\"contention\",\"contentious\",\"contort\",\"contortions\",\"contradict\",\"contradiction\",\"contradictory\",\"contrariness\",\"contravene\",\"contrive\",\"contrived\",\"controversial\",\"controversy\",\"convoluted\",\"corrode\",\"corrosion\",\"corrosions\",\"corrosive\",\"corrupt\",\"corrupted\",\"corrupting\",\"corruption\",\"corrupts\",\"corruptted\",\"costlier\",\"costly\",\"counter-productive\",\"counterproductive\",\"coupists\",\"covetous\",\"coward\",\"cowardly\",\"crabby\",\"crack\",\"cracked\",\"cracks\",\"craftily\",\"craftly\",\"crafty\",\"cramp\",\"cramped\",\"cramping\",\"cranky\",\"crap\",\"crappy\",\"craps\",\"crash\",\"crashed\",\"crashes\",\"crashing\",\"crass\",\"craven\",\"cravenly\",\"craze\",\"crazily\",\"craziness\",\"crazy\",\"creak\",\"creaking\",\"creaks\",\"credulous\",\"creep\",\"creeping\",\"creeps\",\"creepy\",\"crept\",\"crime\",\"criminal\",\"cringe\",\"cringed\",\"cringes\",\"cripple\",\"crippled\",\"cripples\",\"crippling\",\"crisis\",\"critic\",\"critical\",\"criticism\",\"criticisms\",\"criticize\",\"criticized\",\"criticizing\",\"critics\",\"cronyism\",\"crook\",\"crooked\",\"crooks\",\"crowded\",\"crowdedness\",\"crude\",\"cruel\",\"crueler\",\"cruelest\",\"cruelly\",\"cruelness\",\"cruelties\",\"cruelty\",\"crumble\",\"crumbling\",\"crummy\",\"crumple\",\"crumpled\",\"crumples\",\"crush\",\"crushed\",\"crushing\",\"cry\",\"culpable\",\"culprit\",\"cumbersome\",\"cunt\",\"cunts\",\"cuplrit\",\"curse\",\"cursed\",\"curses\",\"curt\",\"cuss\",\"cussed\",\"cutthroat\",\"cynical\",\"cynicism\",\"d*mn\",\"damage\",\"damaged\",\"damages\",\"damaging\",\"damn\",\"damnable\",\"damnably\",\"damnation\",\"damned\",\"damning\",\"damper\",\"danger\",\"dangerous\",\"dangerousness\",\"dark\",\"darken\",\"darkened\",\"darker\",\"darkness\",\"dastard\",\"dastardly\",\"daunt\",\"daunting\",\"dauntingly\",\"dawdle\",\"daze\",\"dazed\",\"dead\",\"deadbeat\",\"deadlock\",\"deadly\",\"deadweight\",\"deaf\",\"dearth\",\"death\",\"debacle\",\"debase\",\"debasement\",\"debaser\",\"debatable\",\"debauch\",\"debaucher\",\"debauchery\",\"debilitate\",\"debilitating\",\"debility\",\"debt\",\"debts\",\"decadence\",\"decadent\",\"decay\",\"decayed\",\"deceit\",\"deceitful\",\"deceitfully\",\"deceitfulness\",\"deceive\",\"deceiver\",\"deceivers\",\"deceiving\",\"deception\",\"deceptive\",\"deceptively\",\"declaim\",\"decline\",\"declines\",\"declining\",\"decrement\",\"decrepit\",\"decrepitude\",\"decry\",\"defamation\",\"defamations\",\"defamatory\",\"defame\",\"defect\",\"defective\",\"defects\",\"defensive\",\"defiance\",\"defiant\",\"defiantly\",\"deficiencies\",\"deficiency\",\"deficient\",\"defile\",\"defiler\",\"deform\",\"deformed\",\"defrauding\",\"defunct\",\"defy\",\"degenerate\",\"degenerately\",\"degeneration\",\"degradation\",\"degrade\",\"degrading\",\"degradingly\",\"dehumanization\",\"dehumanize\",\"deign\",\"deject\",\"dejected\",\"dejectedly\",\"dejection\",\"delay\",\"delayed\",\"delaying\",\"delays\",\"delinquency\",\"delinquent\",\"delirious\",\"delirium\",\"delude\",\"deluded\",\"deluge\",\"delusion\",\"delusional\",\"delusions\",\"demean\",\"demeaning\",\"demise\",\"demolish\",\"demolisher\",\"demon\",\"demonic\",\"demonize\",\"demonized\",\"demonizes\",\"demonizing\",\"demoralize\",\"demoralizing\",\"demoralizingly\",\"denial\",\"denied\",\"denies\",\"denigrate\",\"denounce\",\"dense\",\"dent\",\"dented\",\"dents\",\"denunciate\",\"denunciation\",\"denunciations\",\"deny\",\"denying\",\"deplete\",\"deplorable\",\"deplorably\",\"deplore\",\"deploring\",\"deploringly\",\"deprave\",\"depraved\",\"depravedly\",\"deprecate\",\"depress\",\"depressed\",\"depressing\",\"depressingly\",\"depression\",\"depressions\",\"deprive\",\"deprived\",\"deride\",\"derision\",\"derisive\",\"derisively\",\"derisiveness\",\"derogatory\",\"desecrate\",\"desert\",\"desertion\",\"desiccate\",\"desiccated\",\"desititute\",\"desolate\",\"desolately\",\"desolation\",\"despair\",\"despairing\",\"despairingly\",\"desperate\",\"desperately\",\"desperation\",\"despicable\",\"despicably\",\"despise\",\"despised\",\"despoil\",\"despoiler\",\"despondence\",\"despondency\",\"despondent\",\"despondently\",\"despot\",\"despotic\",\"despotism\",\"destabilisation\",\"destains\",\"destitute\",\"destitution\",\"destroy\",\"destroyer\",\"destruction\",\"destructive\",\"desultory\",\"deter\",\"deteriorate\",\"deteriorating\",\"deterioration\",\"deterrent\",\"detest\",\"detestable\",\"detestably\",\"detested\",\"detesting\",\"detests\",\"detract\",\"detracted\",\"detracting\",\"detraction\",\"detracts\",\"detriment\",\"detrimental\",\"devastate\",\"devastated\",\"devastates\",\"devastating\",\"devastatingly\",\"devastation\",\"deviate\",\"deviation\",\"devil\",\"devilish\",\"devilishly\",\"devilment\",\"devilry\",\"devious\",\"deviously\",\"deviousness\",\"devoid\",\"diabolic\",\"diabolical\",\"diabolically\",\"diametrically\",\"diappointed\",\"diatribe\",\"diatribes\",\"dick\",\"dictator\",\"dictatorial\",\"die\",\"die-hard\",\"died\",\"dies\",\"difficult\",\"difficulties\",\"difficulty\",\"diffidence\",\"dilapidated\",\"dilemma\",\"dilly-dally\",\"dim\",\"dimmer\",\"din\",\"ding\",\"dings\",\"dinky\",\"dire\",\"direly\",\"direness\",\"dirt\",\"dirtbag\",\"dirtbags\",\"dirts\",\"dirty\",\"disable\",\"disabled\",\"disaccord\",\"disadvantage\",\"disadvantaged\",\"disadvantageous\",\"disadvantages\",\"disaffect\",\"disaffected\",\"disaffirm\",\"disagree\",\"disagreeable\",\"disagreeably\",\"disagreed\",\"disagreeing\",\"disagreement\",\"disagrees\",\"disallow\",\"disapointed\",\"disapointing\",\"disapointment\",\"disappoint\",\"disappointed\",\"disappointing\",\"disappointingly\",\"disappointment\",\"disappointments\",\"disappoints\",\"disapprobation\",\"disapproval\",\"disapprove\",\"disapproving\",\"disarm\",\"disarray\",\"disaster\",\"disasterous\",\"disastrous\",\"disastrously\",\"disavow\",\"disavowal\",\"disbelief\",\"disbelieve\",\"disbeliever\",\"disclaim\",\"discombobulate\",\"discomfit\",\"discomfititure\",\"discomfort\",\"discompose\",\"disconcert\",\"disconcerted\",\"disconcerting\",\"disconcertingly\",\"disconsolate\",\"disconsolately\",\"disconsolation\",\"discontent\",\"discontented\",\"discontentedly\",\"discontinued\",\"discontinuity\",\"discontinuous\",\"discord\",\"discordance\",\"discordant\",\"discountenance\",\"discourage\",\"discouragement\",\"discouraging\",\"discouragingly\",\"discourteous\",\"discourteously\",\"discoutinous\",\"discredit\",\"discrepant\",\"discriminate\",\"discrimination\",\"discriminatory\",\"disdain\",\"disdained\",\"disdainful\",\"disdainfully\",\"disfavor\",\"disgrace\",\"disgraced\",\"disgraceful\",\"disgracefully\",\"disgruntle\",\"disgruntled\",\"disgust\",\"disgusted\",\"disgustedly\",\"disgustful\",\"disgustfully\",\"disgusting\",\"disgustingly\",\"dishearten\",\"disheartening\",\"dishearteningly\",\"dishonest\",\"dishonestly\",\"dishonesty\",\"dishonor\",\"dishonorable\",\"dishonorablely\",\"disillusion\",\"disillusioned\",\"disillusionment\",\"disillusions\",\"disinclination\",\"disinclined\",\"disingenuous\",\"disingenuously\",\"disintegrate\",\"disintegrated\",\"disintegrates\",\"disintegration\",\"disinterest\",\"disinterested\",\"dislike\",\"disliked\",\"dislikes\",\"disliking\",\"dislocated\",\"disloyal\",\"disloyalty\",\"dismal\",\"dismally\",\"dismalness\",\"dismay\",\"dismayed\",\"dismaying\",\"dismayingly\",\"dismissive\",\"dismissively\",\"disobedience\",\"disobedient\",\"disobey\",\"disoobedient\",\"disorder\",\"disordered\",\"disorderly\",\"disorganized\",\"disorient\",\"disoriented\",\"disown\",\"disparage\",\"disparaging\",\"disparagingly\",\"dispensable\",\"dispirit\",\"dispirited\",\"dispiritedly\",\"dispiriting\",\"displace\",\"displaced\",\"displease\",\"displeased\",\"displeasing\",\"displeasure\",\"disproportionate\",\"disprove\",\"disputable\",\"dispute\",\"disputed\",\"disquiet\",\"disquieting\",\"disquietingly\",\"disquietude\",\"disregard\",\"disregardful\",\"disreputable\",\"disrepute\",\"disrespect\",\"disrespectable\",\"disrespectablity\",\"disrespectful\",\"disrespectfully\",\"disrespectfulness\",\"disrespecting\",\"disrupt\",\"disruption\",\"disruptive\",\"diss\",\"dissapointed\",\"dissappointed\",\"dissappointing\",\"dissatisfaction\",\"dissatisfactory\",\"dissatisfied\",\"dissatisfies\",\"dissatisfy\",\"dissatisfying\",\"dissed\",\"dissemble\",\"dissembler\",\"dissension\",\"dissent\",\"dissenter\",\"dissention\",\"disservice\",\"disses\",\"dissidence\",\"dissident\",\"dissidents\",\"dissing\",\"dissocial\",\"dissolute\",\"dissolution\",\"dissonance\",\"dissonant\",\"dissonantly\",\"dissuade\",\"dissuasive\",\"distains\",\"distaste\",\"distasteful\",\"distastefully\",\"distort\",\"distorted\",\"distortion\",\"distorts\",\"distract\",\"distracting\",\"distraction\",\"distraught\",\"distraughtly\",\"distraughtness\",\"distress\",\"distressed\",\"distressing\",\"distressingly\",\"distrust\",\"distrustful\",\"distrusting\",\"disturb\",\"disturbance\",\"disturbed\",\"disturbing\",\"disturbingly\",\"disunity\",\"disvalue\",\"divergent\",\"divisive\",\"divisively\",\"divisiveness\",\"dizzing\",\"dizzingly\",\"dizzy\",\"doddering\",\"dodgey\",\"dogged\",\"doggedly\",\"dogmatic\",\"doldrums\",\"domineer\",\"domineering\",\"donside\",\"doom\",\"doomed\",\"doomsday\",\"dope\",\"doubt\",\"doubtful\",\"doubtfully\",\"doubts\",\"douchbag\",\"douchebag\",\"douchebags\",\"downbeat\",\"downcast\",\"downer\",\"downfall\",\"downfallen\",\"downgrade\",\"downhearted\",\"downheartedly\",\"downhill\",\"downside\",\"downsides\",\"downturn\",\"downturns\",\"drab\",\"draconian\",\"draconic\",\"drag\",\"dragged\",\"dragging\",\"dragoon\",\"drags\",\"drain\",\"drained\",\"draining\",\"drains\",\"drastic\",\"drastically\",\"drawback\",\"drawbacks\",\"dread\",\"dreadful\",\"dreadfully\",\"dreadfulness\",\"dreary\",\"dripped\",\"dripping\",\"drippy\",\"drips\",\"drones\",\"droop\",\"droops\",\"drop-out\",\"drop-outs\",\"dropout\",\"dropouts\",\"drought\",\"drowning\",\"drunk\",\"drunkard\",\"drunken\",\"dubious\",\"dubiously\",\"dubitable\",\"dud\",\"dull\",\"dullard\",\"dumb\",\"dumbfound\",\"dump\",\"dumped\",\"dumping\",\"dumps\",\"dunce\",\"dungeon\",\"dungeons\",\"dupe\",\"dust\",\"dusty\",\"dwindling\",\"dying\",\"earsplitting\",\"eccentric\",\"eccentricity\",\"effigy\",\"effrontery\",\"egocentric\",\"egomania\",\"egotism\",\"egotistical\",\"egotistically\",\"egregious\",\"egregiously\",\"election-rigger\",\"elimination\",\"emaciated\",\"emasculate\",\"embarrass\",\"embarrassing\",\"embarrassingly\",\"embarrassment\",\"embattled\",\"embroil\",\"embroiled\",\"embroilment\",\"emergency\",\"emphatic\",\"emphatically\",\"emptiness\",\"encroach\",\"encroachment\",\"endanger\",\"enemies\",\"enemy\",\"enervate\",\"enfeeble\",\"enflame\",\"engulf\",\"enjoin\",\"enmity\",\"enrage\",\"enraged\",\"enraging\",\"enslave\",\"entangle\",\"entanglement\",\"entrap\",\"entrapment\",\"envious\",\"enviously\",\"enviousness\",\"epidemic\",\"equivocal\",\"erase\",\"erode\",\"erodes\",\"erosion\",\"err\",\"errant\",\"erratic\",\"erratically\",\"erroneous\",\"erroneously\",\"error\",\"errors\",\"eruptions\",\"escapade\",\"eschew\",\"estranged\",\"evade\",\"evasion\",\"evasive\",\"evil\",\"evildoer\",\"evils\",\"eviscerate\",\"exacerbate\",\"exagerate\",\"exagerated\",\"exagerates\",\"exaggerate\",\"exaggeration\",\"exasperate\",\"exasperated\",\"exasperating\",\"exasperatingly\",\"exasperation\",\"excessive\",\"excessively\",\"exclusion\",\"excoriate\",\"excruciating\",\"excruciatingly\",\"excuse\",\"excuses\",\"execrate\",\"exhaust\",\"exhausted\",\"exhaustion\",\"exhausts\",\"exhorbitant\",\"exhort\",\"exile\",\"exorbitant\",\"exorbitantance\",\"exorbitantly\",\"expel\",\"expensive\",\"expire\",\"expired\",\"explode\",\"exploit\",\"exploitation\",\"explosive\",\"expropriate\",\"expropriation\",\"expulse\",\"expunge\",\"exterminate\",\"extermination\",\"extinguish\",\"extort\",\"extortion\",\"extraneous\",\"extravagance\",\"extravagant\",\"extravagantly\",\"extremism\",\"extremist\",\"extremists\",\"eyesore\",\"f**k\",\"fabricate\",\"fabrication\",\"facetious\",\"facetiously\",\"fail\",\"failed\",\"failing\",\"fails\",\"failure\",\"failures\",\"faint\",\"fainthearted\",\"faithless\",\"fake\",\"fall\",\"fallacies\",\"fallacious\",\"fallaciously\",\"fallaciousness\",\"fallacy\",\"fallen\",\"falling\",\"fallout\",\"falls\",\"false\",\"falsehood\",\"falsely\",\"falsify\",\"falter\",\"faltered\",\"famine\",\"famished\",\"fanatic\",\"fanatical\",\"fanatically\",\"fanaticism\",\"fanatics\",\"fanciful\",\"far-fetched\",\"farce\",\"farcical\",\"farcical-yet-provocative\",\"farcically\",\"farfetched\",\"fascism\",\"fascist\",\"fastidious\",\"fastidiously\",\"fastuous\",\"fat\",\"fat-cat\",\"fat-cats\",\"fatal\",\"fatalistic\",\"fatalistically\",\"fatally\",\"fatcat\",\"fatcats\",\"fateful\",\"fatefully\",\"fathomless\",\"fatigue\",\"fatigued\",\"fatique\",\"fatty\",\"fatuity\",\"fatuous\",\"fatuously\",\"fault\",\"faults\",\"faulty\",\"fawningly\",\"faze\",\"fear\",\"fearful\",\"fearfully\",\"fears\",\"fearsome\",\"feckless\",\"feeble\",\"feeblely\",\"feebleminded\",\"feign\",\"feint\",\"fell\",\"felon\",\"felonious\",\"ferociously\",\"ferocity\",\"fetid\",\"fever\",\"feverish\",\"fevers\",\"fiasco\",\"fib\",\"fibber\",\"fickle\",\"fiction\",\"fictional\",\"fictitious\",\"fidget\",\"fidgety\",\"fiend\",\"fiendish\",\"fierce\",\"figurehead\",\"filth\",\"filthy\",\"finagle\",\"finicky\",\"fissures\",\"fist\",\"flabbergast\",\"flabbergasted\",\"flagging\",\"flagrant\",\"flagrantly\",\"flair\",\"flairs\",\"flak\",\"flake\",\"flakey\",\"flakieness\",\"flaking\",\"flaky\",\"flare\",\"flares\",\"flareup\",\"flareups\",\"flat-out\",\"flaunt\",\"flaw\",\"flawed\",\"flaws\",\"flee\",\"fleed\",\"fleeing\",\"fleer\",\"flees\",\"fleeting\",\"flicering\",\"flicker\",\"flickering\",\"flickers\",\"flighty\",\"flimflam\",\"flimsy\",\"flirt\",\"flirty\",\"floored\",\"flounder\",\"floundering\",\"flout\",\"fluster\",\"foe\",\"fool\",\"fooled\",\"foolhardy\",\"foolish\",\"foolishly\",\"foolishness\",\"forbid\",\"forbidden\",\"forbidding\",\"forceful\",\"foreboding\",\"forebodingly\",\"forfeit\",\"forged\",\"forgetful\",\"forgetfully\",\"forgetfulness\",\"forlorn\",\"forlornly\",\"forsake\",\"forsaken\",\"forswear\",\"foul\",\"foully\",\"foulness\",\"fractious\",\"fractiously\",\"fracture\",\"fragile\",\"fragmented\",\"frail\",\"frantic\",\"frantically\",\"franticly\",\"fraud\",\"fraudulent\",\"fraught\",\"frazzle\",\"frazzled\",\"freak\",\"freaking\",\"freakish\",\"freakishly\",\"freaks\",\"freeze\",\"freezes\",\"freezing\",\"frenetic\",\"frenetically\",\"frenzied\",\"frenzy\",\"fret\",\"fretful\",\"frets\",\"friction\",\"frictions\",\"fried\",\"friggin\",\"frigging\",\"fright\",\"frighten\",\"frightening\",\"frighteningly\",\"frightful\",\"frightfully\",\"frigid\",\"frost\",\"frown\",\"froze\",\"frozen\",\"fruitless\",\"fruitlessly\",\"frustrate\",\"frustrated\",\"frustrates\",\"frustrating\",\"frustratingly\",\"frustration\",\"frustrations\",\"fuck\",\"fucking\",\"fudge\",\"fugitive\",\"full-blown\",\"fulminate\",\"fumble\",\"fume\",\"fumes\",\"fundamentalism\",\"funky\",\"funnily\",\"funny\",\"furious\",\"furiously\",\"furor\",\"fury\",\"fuss\",\"fussy\",\"fustigate\",\"fusty\",\"futile\",\"futilely\",\"futility\",\"fuzzy\",\"gabble\",\"gaff\",\"gaffe\",\"gainsay\",\"gainsayer\",\"gall\",\"galling\",\"gallingly\",\"galls\",\"gangster\",\"gape\",\"garbage\",\"garish\",\"gasp\",\"gauche\",\"gaudy\",\"gawk\",\"gawky\",\"geezer\",\"genocide\",\"get-rich\",\"ghastly\",\"ghetto\",\"ghosting\",\"gibber\",\"gibberish\",\"gibe\",\"giddy\",\"gimmick\",\"gimmicked\",\"gimmicking\",\"gimmicks\",\"gimmicky\",\"glare\",\"glaringly\",\"glib\",\"glibly\",\"glitch\",\"glitches\",\"gloatingly\",\"gloom\",\"gloomy\",\"glower\",\"glum\",\"glut\",\"gnawing\",\"goad\",\"goading\",\"god-awful\",\"goof\",\"goofy\",\"goon\",\"gossip\",\"graceless\",\"gracelessly\",\"graft\",\"grainy\",\"grapple\",\"grate\",\"grating\",\"gravely\",\"greasy\",\"greed\",\"greedy\",\"grief\",\"grievance\",\"grievances\",\"grieve\",\"grieving\",\"grievous\",\"grievously\",\"grim\",\"grimace\",\"grind\",\"gripe\",\"gripes\",\"grisly\",\"gritty\",\"gross\",\"grossly\",\"grotesque\",\"grouch\",\"grouchy\",\"groundless\",\"grouse\",\"growl\",\"grudge\",\"grudges\",\"grudging\",\"grudgingly\",\"gruesome\",\"gruesomely\",\"gruff\",\"grumble\",\"grumpier\",\"grumpiest\",\"grumpily\",\"grumpish\",\"grumpy\",\"guile\",\"guilt\",\"guiltily\",\"guilty\",\"gullible\",\"gutless\",\"gutter\",\"hack\",\"hacks\",\"haggard\",\"haggle\",\"hairloss\",\"halfhearted\",\"halfheartedly\",\"hallucinate\",\"hallucination\",\"hamper\",\"hampered\",\"handicapped\",\"hang\",\"hangs\",\"haphazard\",\"hapless\",\"harangue\",\"harass\",\"harassed\",\"harasses\",\"harassment\",\"harboring\",\"harbors\",\"hard\",\"hard-hit\",\"hard-line\",\"hard-liner\",\"hardball\",\"harden\",\"hardened\",\"hardheaded\",\"hardhearted\",\"hardliner\",\"hardliners\",\"hardship\",\"hardships\",\"harm\",\"harmed\",\"harmful\",\"harms\",\"harpy\",\"harridan\",\"harried\",\"harrow\",\"harsh\",\"harshly\",\"hasseling\",\"hassle\",\"hassled\",\"hassles\",\"haste\",\"hastily\",\"hasty\",\"hate\",\"hated\",\"hateful\",\"hatefully\",\"hatefulness\",\"hater\",\"haters\",\"hates\",\"hating\",\"hatred\",\"haughtily\",\"haughty\",\"haunt\",\"haunting\",\"havoc\",\"hawkish\",\"haywire\",\"hazard\",\"hazardous\",\"haze\",\"hazy\",\"head-aches\",\"headache\",\"headaches\",\"heartbreaker\",\"heartbreaking\",\"heartbreakingly\",\"heartless\",\"heathen\",\"heavy-handed\",\"heavyhearted\",\"heck\",\"heckle\",\"heckled\",\"heckles\",\"hectic\",\"hedge\",\"hedonistic\",\"heedless\",\"hefty\",\"hegemonism\",\"hegemonistic\",\"hegemony\",\"heinous\",\"hell\",\"hell-bent\",\"hellion\",\"hells\",\"helpless\",\"helplessly\",\"helplessness\",\"heresy\",\"heretic\",\"heretical\",\"hesitant\",\"hestitant\",\"hideous\",\"hideously\",\"hideousness\",\"high-priced\",\"hiliarious\",\"hinder\",\"hindrance\",\"hiss\",\"hissed\",\"hissing\",\"ho-hum\",\"hoard\",\"hoax\",\"hobble\",\"hogs\",\"hollow\",\"hoodium\",\"hoodwink\",\"hooligan\",\"hopeless\",\"hopelessly\",\"hopelessness\",\"horde\",\"horrendous\",\"horrendously\",\"horrible\",\"horrid\",\"horrific\",\"horrified\",\"horrifies\",\"horrify\",\"horrifying\",\"horrifys\",\"hostage\",\"hostile\",\"hostilities\",\"hostility\",\"hotbeds\",\"hothead\",\"hotheaded\",\"hothouse\",\"hubris\",\"huckster\",\"hum\",\"humid\",\"humiliate\",\"humiliating\",\"humiliation\",\"humming\",\"hung\",\"hurt\",\"hurted\",\"hurtful\",\"hurting\",\"hurts\",\"hustler\",\"hype\",\"hypocricy\",\"hypocrisy\",\"hypocrite\",\"hypocrites\",\"hypocritical\",\"hypocritically\",\"hysteria\",\"hysteric\",\"hysterical\",\"hysterically\",\"hysterics\",\"idiocies\",\"idiocy\",\"idiot\",\"idiotic\",\"idiotically\",\"idiots\",\"idle\",\"ignoble\",\"ignominious\",\"ignominiously\",\"ignominy\",\"ignorance\",\"ignorant\",\"ignore\",\"ill-advised\",\"ill-conceived\",\"ill-defined\",\"ill-designed\",\"ill-fated\",\"ill-favored\",\"ill-formed\",\"ill-mannered\",\"ill-natured\",\"ill-sorted\",\"ill-tempered\",\"ill-treated\",\"ill-treatment\",\"ill-usage\",\"ill-used\",\"illegal\",\"illegally\",\"illegitimate\",\"illicit\",\"illiterate\",\"illness\",\"illogic\",\"illogical\",\"illogically\",\"illusion\",\"illusions\",\"illusory\",\"imaginary\",\"imbalance\",\"imbecile\",\"imbroglio\",\"immaterial\",\"immature\",\"imminence\",\"imminently\",\"immobilized\",\"immoderate\",\"immoderately\",\"immodest\",\"immoral\",\"immorality\",\"immorally\",\"immovable\",\"impair\",\"impaired\",\"impasse\",\"impatience\",\"impatient\",\"impatiently\",\"impeach\",\"impedance\",\"impede\",\"impediment\",\"impending\",\"impenitent\",\"imperfect\",\"imperfection\",\"imperfections\",\"imperfectly\",\"imperialist\",\"imperil\",\"imperious\",\"imperiously\",\"impermissible\",\"impersonal\",\"impertinent\",\"impetuous\",\"impetuously\",\"impiety\",\"impinge\",\"impious\",\"implacable\",\"implausible\",\"implausibly\",\"implicate\",\"implication\",\"implode\",\"impolite\",\"impolitely\",\"impolitic\",\"importunate\",\"importune\",\"impose\",\"imposers\",\"imposing\",\"imposition\",\"impossible\",\"impossiblity\",\"impossibly\",\"impotent\",\"impoverish\",\"impoverished\",\"impractical\",\"imprecate\",\"imprecise\",\"imprecisely\",\"imprecision\",\"imprison\",\"imprisonment\",\"improbability\",\"improbable\",\"improbably\",\"improper\",\"improperly\",\"impropriety\",\"imprudence\",\"imprudent\",\"impudence\",\"impudent\",\"impudently\",\"impugn\",\"impulsive\",\"impulsively\",\"impunity\",\"impure\",\"impurity\",\"inability\",\"inaccuracies\",\"inaccuracy\",\"inaccurate\",\"inaccurately\",\"inaction\",\"inactive\",\"inadequacy\",\"inadequate\",\"inadequately\",\"inadverent\",\"inadverently\",\"inadvisable\",\"inadvisably\",\"inane\",\"inanely\",\"inappropriate\",\"inappropriately\",\"inapt\",\"inaptitude\",\"inarticulate\",\"inattentive\",\"inaudible\",\"incapable\",\"incapably\",\"incautious\",\"incendiary\",\"incense\",\"incessant\",\"incessantly\",\"incite\",\"incitement\",\"incivility\",\"inclement\",\"incognizant\",\"incoherence\",\"incoherent\",\"incoherently\",\"incommensurate\",\"incomparable\",\"incomparably\",\"incompatability\",\"incompatibility\",\"incompatible\",\"incompetence\",\"incompetent\",\"incompetently\",\"incomplete\",\"incompliant\",\"incomprehensible\",\"incomprehension\",\"inconceivable\",\"inconceivably\",\"incongruous\",\"incongruously\",\"inconsequent\",\"inconsequential\",\"inconsequentially\",\"inconsequently\",\"inconsiderate\",\"inconsiderately\",\"inconsistence\",\"inconsistencies\",\"inconsistency\",\"inconsistent\",\"inconsolable\",\"inconsolably\",\"inconstant\",\"inconvenience\",\"inconveniently\",\"incorrect\",\"incorrectly\",\"incorrigible\",\"incorrigibly\",\"incredulous\",\"incredulously\",\"inculcate\",\"indecency\",\"indecent\",\"indecently\",\"indecision\",\"indecisive\",\"indecisively\",\"indecorum\",\"indefensible\",\"indelicate\",\"indeterminable\",\"indeterminably\",\"indeterminate\",\"indifference\",\"indifferent\",\"indigent\",\"indignant\",\"indignantly\",\"indignation\",\"indignity\",\"indiscernible\",\"indiscreet\",\"indiscreetly\",\"indiscretion\",\"indiscriminate\",\"indiscriminately\",\"indiscriminating\",\"indistinguishable\",\"indoctrinate\",\"indoctrination\",\"indolent\",\"indulge\",\"ineffective\",\"ineffectively\",\"ineffectiveness\",\"ineffectual\",\"ineffectually\",\"ineffectualness\",\"inefficacious\",\"inefficacy\",\"inefficiency\",\"inefficient\",\"inefficiently\",\"inelegance\",\"inelegant\",\"ineligible\",\"ineloquent\",\"ineloquently\",\"inept\",\"ineptitude\",\"ineptly\",\"inequalities\",\"inequality\",\"inequitable\",\"inequitably\",\"inequities\",\"inescapable\",\"inescapably\",\"inessential\",\"inevitable\",\"inevitably\",\"inexcusable\",\"inexcusably\",\"inexorable\",\"inexorably\",\"inexperience\",\"inexperienced\",\"inexpert\",\"inexpertly\",\"inexpiable\",\"inexplainable\",\"inextricable\",\"inextricably\",\"infamous\",\"infamously\",\"infamy\",\"infected\",\"infection\",\"infections\",\"inferior\",\"inferiority\",\"infernal\",\"infest\",\"infested\",\"infidel\",\"infidels\",\"infiltrator\",\"infiltrators\",\"infirm\",\"inflame\",\"inflammation\",\"inflammatory\",\"inflammed\",\"inflated\",\"inflationary\",\"inflexible\",\"inflict\",\"infraction\",\"infringe\",\"infringement\",\"infringements\",\"infuriate\",\"infuriated\",\"infuriating\",\"infuriatingly\",\"inglorious\",\"ingrate\",\"ingratitude\",\"inhibit\",\"inhibition\",\"inhospitable\",\"inhospitality\",\"inhuman\",\"inhumane\",\"inhumanity\",\"inimical\",\"inimically\",\"iniquitous\",\"iniquity\",\"injudicious\",\"injure\",\"injurious\",\"injury\",\"injustice\",\"injustices\",\"innuendo\",\"inoperable\",\"inopportune\",\"inordinate\",\"inordinately\",\"insane\",\"insanely\",\"insanity\",\"insatiable\",\"insecure\",\"insecurity\",\"insensible\",\"insensitive\",\"insensitively\",\"insensitivity\",\"insidious\",\"insidiously\",\"insignificance\",\"insignificant\",\"insignificantly\",\"insincere\",\"insincerely\",\"insincerity\",\"insinuate\",\"insinuating\",\"insinuation\",\"insociable\",\"insolence\",\"insolent\",\"insolently\",\"insolvent\",\"insouciance\",\"instability\",\"instable\",\"instigate\",\"instigator\",\"instigators\",\"insubordinate\",\"insubstantial\",\"insubstantially\",\"insufferable\",\"insufferably\",\"insufficiency\",\"insufficient\",\"insufficiently\",\"insular\",\"insult\",\"insulted\",\"insulting\",\"insultingly\",\"insults\",\"insupportable\",\"insupportably\",\"insurmountable\",\"insurmountably\",\"insurrection\",\"intefere\",\"inteferes\",\"intense\",\"interfere\",\"interference\",\"interferes\",\"intermittent\",\"interrupt\",\"interruption\",\"interruptions\",\"intimidate\",\"intimidating\",\"intimidatingly\",\"intimidation\",\"intolerable\",\"intolerablely\",\"intolerance\",\"intoxicate\",\"intractable\",\"intransigence\",\"intransigent\",\"intrude\",\"intrusion\",\"intrusive\",\"inundate\",\"inundated\",\"invader\",\"invalid\",\"invalidate\",\"invalidity\",\"invasive\",\"invective\",\"inveigle\",\"invidious\",\"invidiously\",\"invidiousness\",\"invisible\",\"involuntarily\",\"involuntary\",\"irascible\",\"irate\",\"irately\",\"ire\",\"irk\",\"irked\",\"irking\",\"irks\",\"irksome\",\"irksomely\",\"irksomeness\",\"irksomenesses\",\"ironic\",\"ironical\",\"ironically\",\"ironies\",\"irony\",\"irragularity\",\"irrational\",\"irrationalities\",\"irrationality\",\"irrationally\",\"irrationals\",\"irreconcilable\",\"irrecoverable\",\"irrecoverableness\",\"irrecoverablenesses\",\"irrecoverably\",\"irredeemable\",\"irredeemably\",\"irreformable\",\"irregular\",\"irregularity\",\"irrelevance\",\"irrelevant\",\"irreparable\",\"irreplacible\",\"irrepressible\",\"irresolute\",\"irresolvable\",\"irresponsible\",\"irresponsibly\",\"irretating\",\"irretrievable\",\"irreversible\",\"irritable\",\"irritably\",\"irritant\",\"irritate\",\"irritated\",\"irritating\",\"irritation\",\"irritations\",\"isolate\",\"isolated\",\"isolation\",\"issue\",\"issues\",\"itch\",\"itching\",\"itchy\",\"jabber\",\"jaded\",\"jagged\",\"jam\",\"jarring\",\"jaundiced\",\"jealous\",\"jealously\",\"jealousness\",\"jealousy\",\"jeer\",\"jeering\",\"jeeringly\",\"jeers\",\"jeopardize\",\"jeopardy\",\"jerk\",\"jerky\",\"jitter\",\"jitters\",\"jittery\",\"job-killing\",\"jobless\",\"joke\",\"joker\",\"jolt\",\"judder\",\"juddering\",\"judders\",\"jumpy\",\"junk\",\"junky\",\"junkyard\",\"jutter\",\"jutters\",\"kaput\",\"kill\",\"killed\",\"killer\",\"killing\",\"killjoy\",\"kills\",\"knave\",\"knife\",\"knock\",\"knotted\",\"kook\",\"kooky\",\"lack\",\"lackadaisical\",\"lacked\",\"lackey\",\"lackeys\",\"lacking\",\"lackluster\",\"lacks\",\"laconic\",\"lag\",\"lagged\",\"lagging\",\"laggy\",\"lags\",\"laid-off\",\"lambast\",\"lambaste\",\"lame\",\"lame-duck\",\"lament\",\"lamentable\",\"lamentably\",\"languid\",\"languish\",\"languor\",\"languorous\",\"languorously\",\"lanky\",\"lapse\",\"lapsed\",\"lapses\",\"lascivious\",\"last-ditch\",\"latency\",\"laughable\",\"laughably\",\"laughingstock\",\"lawbreaker\",\"lawbreaking\",\"lawless\",\"lawlessness\",\"layoff\",\"layoff-happy\",\"lazy\",\"leak\",\"leakage\",\"leakages\",\"leaking\",\"leaks\",\"leaky\",\"lech\",\"lecher\",\"lecherous\",\"lechery\",\"leech\",\"leer\",\"leery\",\"left-leaning\",\"lemon\",\"lengthy\",\"less-developed\",\"lesser-known\",\"letch\",\"lethal\",\"lethargic\",\"lethargy\",\"lewd\",\"lewdly\",\"lewdness\",\"liability\",\"liable\",\"liar\",\"liars\",\"licentious\",\"licentiously\",\"licentiousness\",\"lie\",\"lied\",\"lier\",\"lies\",\"life-threatening\",\"lifeless\",\"limit\",\"limitation\",\"limitations\",\"limited\",\"limits\",\"limp\",\"listless\",\"litigious\",\"little-known\",\"livid\",\"lividly\",\"loath\",\"loathe\",\"loathing\",\"loathly\",\"loathsome\",\"loathsomely\",\"lone\",\"loneliness\",\"lonely\",\"loner\",\"lonesome\",\"long-time\",\"long-winded\",\"longing\",\"longingly\",\"loophole\",\"loopholes\",\"loose\",\"loot\",\"lorn\",\"lose\",\"loser\",\"losers\",\"loses\",\"losing\",\"loss\",\"losses\",\"lost\",\"loud\",\"louder\",\"lousy\",\"loveless\",\"lovelorn\",\"low-rated\",\"lowly\",\"ludicrous\",\"ludicrously\",\"lugubrious\",\"lukewarm\",\"lull\",\"lumpy\",\"lunatic\",\"lunaticism\",\"lurch\",\"lure\",\"lurid\",\"lurk\",\"lurking\",\"lying\",\"macabre\",\"mad\",\"madden\",\"maddening\",\"maddeningly\",\"madder\",\"madly\",\"madman\",\"madness\",\"maladjusted\",\"maladjustment\",\"malady\",\"malaise\",\"malcontent\",\"malcontented\",\"maledict\",\"malevolence\",\"malevolent\",\"malevolently\",\"malice\",\"malicious\",\"maliciously\",\"maliciousness\",\"malign\",\"malignant\",\"malodorous\",\"maltreatment\",\"mangle\",\"mangled\",\"mangles\",\"mangling\",\"mania\",\"maniac\",\"maniacal\",\"manic\",\"manipulate\",\"manipulation\",\"manipulative\",\"manipulators\",\"mar\",\"marginal\",\"marginally\",\"martyrdom\",\"martyrdom-seeking\",\"mashed\",\"massacre\",\"massacres\",\"matte\",\"mawkish\",\"mawkishly\",\"mawkishness\",\"meager\",\"meaningless\",\"meanness\",\"measly\",\"meddle\",\"meddlesome\",\"mediocre\",\"mediocrity\",\"melancholy\",\"melodramatic\",\"melodramatically\",\"meltdown\",\"menace\",\"menacing\",\"menacingly\",\"mendacious\",\"mendacity\",\"menial\",\"merciless\",\"mercilessly\",\"mess\",\"messed\",\"messes\",\"messing\",\"messy\",\"midget\",\"miff\",\"militancy\",\"mindless\",\"mindlessly\",\"mirage\",\"mire\",\"misalign\",\"misaligned\",\"misaligns\",\"misapprehend\",\"misbecome\",\"misbecoming\",\"misbegotten\",\"misbehave\",\"misbehavior\",\"miscalculate\",\"miscalculation\",\"miscellaneous\",\"mischief\",\"mischievous\",\"mischievously\",\"misconception\",\"misconceptions\",\"miscreant\",\"miscreants\",\"misdirection\",\"miser\",\"miserable\",\"miserableness\",\"miserably\",\"miseries\",\"miserly\",\"misery\",\"misfit\",\"misfortune\",\"misgiving\",\"misgivings\",\"misguidance\",\"misguide\",\"misguided\",\"mishandle\",\"mishap\",\"misinform\",\"misinformed\",\"misinterpret\",\"misjudge\",\"misjudgment\",\"mislead\",\"misleading\",\"misleadingly\",\"mislike\",\"mismanage\",\"mispronounce\",\"mispronounced\",\"mispronounces\",\"misread\",\"misreading\",\"misrepresent\",\"misrepresentation\",\"miss\",\"missed\",\"misses\",\"misstatement\",\"mist\",\"mistake\",\"mistaken\",\"mistakenly\",\"mistakes\",\"mistified\",\"mistress\",\"mistrust\",\"mistrustful\",\"mistrustfully\",\"mists\",\"misunderstand\",\"misunderstanding\",\"misunderstandings\",\"misunderstood\",\"misuse\",\"moan\",\"mobster\",\"mock\",\"mocked\",\"mockeries\",\"mockery\",\"mocking\",\"mockingly\",\"mocks\",\"molest\",\"molestation\",\"monotonous\",\"monotony\",\"monster\",\"monstrosities\",\"monstrosity\",\"monstrous\",\"monstrously\",\"moody\",\"moot\",\"mope\",\"morbid\",\"morbidly\",\"mordant\",\"mordantly\",\"moribund\",\"moron\",\"moronic\",\"morons\",\"mortification\",\"mortified\",\"mortify\",\"mortifying\",\"motionless\",\"motley\",\"mourn\",\"mourner\",\"mournful\",\"mournfully\",\"muddle\",\"muddy\",\"mudslinger\",\"mudslinging\",\"mulish\",\"multi-polarization\",\"mundane\",\"murder\",\"murderer\",\"murderous\",\"murderously\",\"murky\",\"muscle-flexing\",\"mushy\",\"musty\",\"mysterious\",\"mysteriously\",\"mystery\",\"mystify\",\"myth\",\"nag\",\"nagging\",\"naive\",\"naively\",\"narrower\",\"nastily\",\"nastiness\",\"nasty\",\"naughty\",\"nauseate\",\"nauseates\",\"nauseating\",\"nauseatingly\",\"na�ve\",\"nebulous\",\"nebulously\",\"needless\",\"needlessly\",\"needy\",\"nefarious\",\"nefariously\",\"negate\",\"negation\",\"negative\",\"negatives\",\"negativity\",\"neglect\",\"neglected\",\"negligence\",\"negligent\",\"nemesis\",\"nepotism\",\"nervous\",\"nervously\",\"nervousness\",\"nettle\",\"nettlesome\",\"neurotic\",\"neurotically\",\"niggle\",\"niggles\",\"nightmare\",\"nightmarish\",\"nightmarishly\",\"nitpick\",\"nitpicking\",\"noise\",\"noises\",\"noisier\",\"noisy\",\"non-confidence\",\"nonexistent\",\"nonresponsive\",\"nonsense\",\"nosey\",\"notoriety\",\"notorious\",\"notoriously\",\"noxious\",\"nuisance\",\"numb\",\"obese\",\"object\",\"objection\",\"objectionable\",\"objections\",\"oblique\",\"obliterate\",\"obliterated\",\"oblivious\",\"obnoxious\",\"obnoxiously\",\"obscene\",\"obscenely\",\"obscenity\",\"obscure\",\"obscured\",\"obscures\",\"obscurity\",\"obsess\",\"obsessive\",\"obsessively\",\"obsessiveness\",\"obsolete\",\"obstacle\",\"obstinate\",\"obstinately\",\"obstruct\",\"obstructed\",\"obstructing\",\"obstruction\",\"obstructs\",\"obtrusive\",\"obtuse\",\"occlude\",\"occluded\",\"occludes\",\"occluding\",\"odd\",\"odder\",\"oddest\",\"oddities\",\"oddity\",\"oddly\",\"odor\",\"offence\",\"offend\",\"offender\",\"offending\",\"offenses\",\"offensive\",\"offensively\",\"offensiveness\",\"officious\",\"ominous\",\"ominously\",\"omission\",\"omit\",\"one-sided\",\"onerous\",\"onerously\",\"onslaught\",\"opinionated\",\"opponent\",\"opportunistic\",\"oppose\",\"opposition\",\"oppositions\",\"oppress\",\"oppression\",\"oppressive\",\"oppressively\",\"oppressiveness\",\"oppressors\",\"ordeal\",\"orphan\",\"ostracize\",\"outbreak\",\"outburst\",\"outbursts\",\"outcast\",\"outcry\",\"outlaw\",\"outmoded\",\"outrage\",\"outraged\",\"outrageous\",\"outrageously\",\"outrageousness\",\"outrages\",\"outsider\",\"over-acted\",\"over-awe\",\"over-balanced\",\"over-hyped\",\"over-priced\",\"over-valuation\",\"overact\",\"overacted\",\"overawe\",\"overbalance\",\"overbalanced\",\"overbearing\",\"overbearingly\",\"overblown\",\"overdo\",\"overdone\",\"overdue\",\"overemphasize\",\"overheat\",\"overkill\",\"overloaded\",\"overlook\",\"overpaid\",\"overpayed\",\"overplay\",\"overpower\",\"overpriced\",\"overrated\",\"overreach\",\"overrun\",\"overshadow\",\"oversight\",\"oversights\",\"oversimplification\",\"oversimplified\",\"oversimplify\",\"oversize\",\"overstate\",\"overstated\",\"overstatement\",\"overstatements\",\"overstates\",\"overtaxed\",\"overthrow\",\"overthrows\",\"overturn\",\"overweight\",\"overwhelm\",\"overwhelmed\",\"overwhelming\",\"overwhelmingly\",\"overwhelms\",\"overzealous\",\"overzealously\",\"overzelous\",\"pain\",\"painful\",\"painfull\",\"painfully\",\"pains\",\"pale\",\"pales\",\"paltry\",\"pan\",\"pandemonium\",\"pander\",\"pandering\",\"panders\",\"panic\",\"panick\",\"panicked\",\"panicking\",\"panicky\",\"paradoxical\",\"paradoxically\",\"paralize\",\"paralyzed\",\"paranoia\",\"paranoid\",\"parasite\",\"pariah\",\"parody\",\"partiality\",\"partisan\",\"partisans\",\"passe\",\"passive\",\"passiveness\",\"pathetic\",\"pathetically\",\"patronize\",\"paucity\",\"pauper\",\"paupers\",\"payback\",\"peculiar\",\"peculiarly\",\"pedantic\",\"peeled\",\"peeve\",\"peeved\",\"peevish\",\"peevishly\",\"penalize\",\"penalty\",\"perfidious\",\"perfidity\",\"perfunctory\",\"peril\",\"perilous\",\"perilously\",\"perish\",\"pernicious\",\"perplex\",\"perplexed\",\"perplexing\",\"perplexity\",\"persecute\",\"persecution\",\"pertinacious\",\"pertinaciously\",\"pertinacity\",\"perturb\",\"perturbed\",\"pervasive\",\"perverse\",\"perversely\",\"perversion\",\"perversity\",\"pervert\",\"perverted\",\"perverts\",\"pessimism\",\"pessimistic\",\"pessimistically\",\"pest\",\"pestilent\",\"petrified\",\"petrify\",\"pettifog\",\"petty\",\"phobia\",\"phobic\",\"phony\",\"picket\",\"picketed\",\"picketing\",\"pickets\",\"picky\",\"pig\",\"pigs\",\"pillage\",\"pillory\",\"pimple\",\"pinch\",\"pique\",\"pitiable\",\"pitiful\",\"pitifully\",\"pitiless\",\"pitilessly\",\"pittance\",\"pity\",\"plagiarize\",\"plague\",\"plasticky\",\"plaything\",\"plea\",\"pleas\",\"plebeian\",\"plight\",\"plot\",\"plotters\",\"ploy\",\"plunder\",\"plunderer\",\"pointless\",\"pointlessly\",\"poison\",\"poisonous\",\"poisonously\",\"pokey\",\"poky\",\"polarisation\",\"polemize\",\"pollute\",\"polluter\",\"polluters\",\"polution\",\"pompous\",\"poor\",\"poorer\",\"poorest\",\"poorly\",\"posturing\",\"pout\",\"poverty\",\"powerless\",\"prate\",\"pratfall\",\"prattle\",\"precarious\",\"precariously\",\"precipitate\",\"precipitous\",\"predatory\",\"predicament\",\"prejudge\",\"prejudice\",\"prejudices\",\"prejudicial\",\"premeditated\",\"preoccupy\",\"preposterous\",\"preposterously\",\"presumptuous\",\"presumptuously\",\"pretence\",\"pretend\",\"pretense\",\"pretentious\",\"pretentiously\",\"prevaricate\",\"pricey\",\"pricier\",\"prick\",\"prickle\",\"prickles\",\"prideful\",\"prik\",\"primitive\",\"prison\",\"prisoner\",\"problem\",\"problematic\",\"problems\",\"procrastinate\",\"procrastinates\",\"procrastination\",\"profane\",\"profanity\",\"prohibit\",\"prohibitive\",\"prohibitively\",\"propaganda\",\"propagandize\",\"proprietary\",\"prosecute\",\"protest\",\"protested\",\"protesting\",\"protests\",\"protracted\",\"provocation\",\"provocative\",\"provoke\",\"pry\",\"pugnacious\",\"pugnaciously\",\"pugnacity\",\"punch\",\"punish\",\"punishable\",\"punitive\",\"punk\",\"puny\",\"puppet\",\"puppets\",\"puzzled\",\"puzzlement\",\"puzzling\",\"quack\",\"qualm\",\"qualms\",\"quandary\",\"quarrel\",\"quarrellous\",\"quarrellously\",\"quarrels\",\"quarrelsome\",\"quash\",\"queer\",\"questionable\",\"quibble\",\"quibbles\",\"quitter\",\"rabid\",\"racism\",\"racist\",\"racists\",\"racy\",\"radical\",\"radicalization\",\"radically\",\"radicals\",\"rage\",\"ragged\",\"raging\",\"rail\",\"raked\",\"rampage\",\"rampant\",\"ramshackle\",\"rancor\",\"randomly\",\"rankle\",\"rant\",\"ranted\",\"ranting\",\"rantingly\",\"rants\",\"rape\",\"raped\",\"raping\",\"rascal\",\"rascals\",\"rash\",\"rattle\",\"rattled\",\"rattles\",\"ravage\",\"raving\",\"reactionary\",\"rebellious\",\"rebuff\",\"rebuke\",\"recalcitrant\",\"recant\",\"recession\",\"recessionary\",\"reckless\",\"recklessly\",\"recklessness\",\"recoil\",\"recourses\",\"redundancy\",\"redundant\",\"refusal\",\"refuse\",\"refused\",\"refuses\",\"refusing\",\"refutation\",\"refute\",\"refuted\",\"refutes\",\"refuting\",\"regress\",\"regression\",\"regressive\",\"regret\",\"regreted\",\"regretful\",\"regretfully\",\"regrets\",\"regrettable\",\"regrettably\",\"regretted\",\"reject\",\"rejected\",\"rejecting\",\"rejection\",\"rejects\",\"relapse\",\"relentless\",\"relentlessly\",\"relentlessness\",\"reluctance\",\"reluctant\",\"reluctantly\",\"remorse\",\"remorseful\",\"remorsefully\",\"remorseless\",\"remorselessly\",\"remorselessness\",\"renounce\",\"renunciation\",\"repel\",\"repetitive\",\"reprehensible\",\"reprehensibly\",\"reprehension\",\"reprehensive\",\"repress\",\"repression\",\"repressive\",\"reprimand\",\"reproach\",\"reproachful\",\"reprove\",\"reprovingly\",\"repudiate\",\"repudiation\",\"repugn\",\"repugnance\",\"repugnant\",\"repugnantly\",\"repulse\",\"repulsed\",\"repulsing\",\"repulsive\",\"repulsively\",\"repulsiveness\",\"resent\",\"resentful\",\"resentment\",\"resignation\",\"resigned\",\"resistance\",\"restless\",\"restlessness\",\"restrict\",\"restricted\",\"restriction\",\"restrictive\",\"resurgent\",\"retaliate\",\"retaliatory\",\"retard\",\"retarded\",\"retardedness\",\"retards\",\"reticent\",\"retract\",\"retreat\",\"retreated\",\"revenge\",\"revengeful\",\"revengefully\",\"revert\",\"revile\",\"reviled\",\"revoke\",\"revolt\",\"revolting\",\"revoltingly\",\"revulsion\",\"revulsive\",\"rhapsodize\",\"rhetoric\",\"rhetorical\",\"ricer\",\"ridicule\",\"ridicules\",\"ridiculous\",\"ridiculously\",\"rife\",\"rift\",\"rifts\",\"rigid\",\"rigidity\",\"rigidness\",\"rile\",\"riled\",\"rip\",\"rip-off\",\"ripoff\",\"ripped\",\"risk\",\"risks\",\"risky\",\"rival\",\"rivalry\",\"roadblocks\",\"rocky\",\"rogue\",\"rollercoaster\",\"rot\",\"rotten\",\"rough\",\"rremediable\",\"rubbish\",\"rude\",\"rue\",\"ruffian\",\"ruffle\",\"ruin\",\"ruined\",\"ruining\",\"ruinous\",\"ruins\",\"rumbling\",\"rumor\",\"rumors\",\"rumours\",\"rumple\",\"run-down\",\"runaway\",\"rupture\",\"rust\",\"rusts\",\"rusty\",\"rut\",\"ruthless\",\"ruthlessly\",\"ruthlessness\",\"ruts\",\"sabotage\",\"sack\",\"sacrificed\",\"sad\",\"sadden\",\"sadly\",\"sadness\",\"sag\",\"sagged\",\"sagging\",\"saggy\",\"sags\",\"salacious\",\"sanctimonious\",\"sap\",\"sarcasm\",\"sarcastic\",\"sarcastically\",\"sardonic\",\"sardonically\",\"sass\",\"satirical\",\"satirize\",\"savage\",\"savaged\",\"savagery\",\"savages\",\"scaly\",\"scam\",\"scams\",\"scandal\",\"scandalize\",\"scandalized\",\"scandalous\",\"scandalously\",\"scandals\",\"scandel\",\"scandels\",\"scant\",\"scapegoat\",\"scar\",\"scarce\",\"scarcely\",\"scarcity\",\"scare\",\"scared\",\"scarier\",\"scariest\",\"scarily\",\"scarred\",\"scars\",\"scary\",\"scathing\",\"scathingly\",\"sceptical\",\"scoff\",\"scoffingly\",\"scold\",\"scolded\",\"scolding\",\"scoldingly\",\"scorching\",\"scorchingly\",\"scorn\",\"scornful\",\"scornfully\",\"scoundrel\",\"scourge\",\"scowl\",\"scramble\",\"scrambled\",\"scrambles\",\"scrambling\",\"scrap\",\"scratch\",\"scratched\",\"scratches\",\"scratchy\",\"scream\",\"screech\",\"screw-up\",\"screwed\",\"screwed-up\",\"screwy\",\"scuff\",\"scuffs\",\"scum\",\"scummy\",\"second-class\",\"second-tier\",\"secretive\",\"sedentary\",\"seedy\",\"seethe\",\"seething\",\"self-coup\",\"self-criticism\",\"self-defeating\",\"self-destructive\",\"self-humiliation\",\"self-interest\",\"self-interested\",\"self-serving\",\"selfinterested\",\"selfish\",\"selfishly\",\"selfishness\",\"semi-retarded\",\"senile\",\"sensationalize\",\"senseless\",\"senselessly\",\"seriousness\",\"sermonize\",\"servitude\",\"set-up\",\"setback\",\"setbacks\",\"sever\",\"severe\",\"severity\",\"sh*t\",\"shabby\",\"shadowy\",\"shady\",\"shake\",\"shaky\",\"shallow\",\"sham\",\"shambles\",\"shame\",\"shameful\",\"shamefully\",\"shamefulness\",\"shameless\",\"shamelessly\",\"shamelessness\",\"shark\",\"sharply\",\"shatter\",\"shemale\",\"shimmer\",\"shimmy\",\"shipwreck\",\"shirk\",\"shirker\",\"shit\",\"shiver\",\"shock\",\"shocked\",\"shocking\",\"shockingly\",\"shoddy\",\"short-lived\",\"shortage\",\"shortchange\",\"shortcoming\",\"shortcomings\",\"shortness\",\"shortsighted\",\"shortsightedness\",\"showdown\",\"shrew\",\"shriek\",\"shrill\",\"shrilly\",\"shrivel\",\"shroud\",\"shrouded\",\"shrug\",\"shun\",\"shunned\",\"sick\",\"sicken\",\"sickening\",\"sickeningly\",\"sickly\",\"sickness\",\"sidetrack\",\"sidetracked\",\"siege\",\"sillily\",\"silly\",\"simplistic\",\"simplistically\",\"sin\",\"sinful\",\"sinfully\",\"sinister\",\"sinisterly\",\"sink\",\"sinking\",\"skeletons\",\"skeptic\",\"skeptical\",\"skeptically\",\"skepticism\",\"sketchy\",\"skimpy\",\"skinny\",\"skittish\",\"skittishly\",\"skulk\",\"slack\",\"slander\",\"slanderer\",\"slanderous\",\"slanderously\",\"slanders\",\"slap\",\"slashing\",\"slaughter\",\"slaughtered\",\"slave\",\"slaves\",\"sleazy\",\"slime\",\"slog\",\"slogged\",\"slogging\",\"slogs\",\"sloooooooooooooow\",\"sloooow\",\"slooow\",\"sloow\",\"sloppily\",\"sloppy\",\"sloth\",\"slothful\",\"slow\",\"slow-moving\",\"slowed\",\"slower\",\"slowest\",\"slowly\",\"sloww\",\"slowww\",\"slowwww\",\"slug\",\"sluggish\",\"slump\",\"slumping\",\"slumpping\",\"slur\",\"slut\",\"sluts\",\"sly\",\"smack\",\"smallish\",\"smash\",\"smear\",\"smell\",\"smelled\",\"smelling\",\"smells\",\"smelly\",\"smelt\",\"smoke\",\"smokescreen\",\"smolder\",\"smoldering\",\"smother\",\"smoulder\",\"smouldering\",\"smudge\",\"smudged\",\"smudges\",\"smudging\",\"smug\",\"smugly\",\"smut\",\"smuttier\",\"smuttiest\",\"smutty\",\"snag\",\"snagged\",\"snagging\",\"snags\",\"snappish\",\"snappishly\",\"snare\",\"snarky\",\"snarl\",\"sneak\",\"sneakily\",\"sneaky\",\"sneer\",\"sneering\",\"sneeringly\",\"snob\",\"snobbish\",\"snobby\",\"snobish\",\"snobs\",\"snub\",\"so-cal\",\"soapy\",\"sob\",\"sober\",\"sobering\",\"solemn\",\"solicitude\",\"somber\",\"sore\",\"sorely\",\"soreness\",\"sorrow\",\"sorrowful\",\"sorrowfully\",\"sorry\",\"sour\",\"sourly\",\"spade\",\"spank\",\"spendy\",\"spew\",\"spewed\",\"spewing\",\"spews\",\"spilling\",\"spinster\",\"spiritless\",\"spite\",\"spiteful\",\"spitefully\",\"spitefulness\",\"splatter\",\"split\",\"splitting\",\"spoil\",\"spoilage\",\"spoilages\",\"spoiled\",\"spoilled\",\"spoils\",\"spook\",\"spookier\",\"spookiest\",\"spookily\",\"spooky\",\"spoon-fed\",\"spoon-feed\",\"spoonfed\",\"sporadic\",\"spotty\",\"spurious\",\"spurn\",\"sputter\",\"squabble\",\"squabbling\",\"squander\",\"squash\",\"squeak\",\"squeaks\",\"squeaky\",\"squeal\",\"squealing\",\"squeals\",\"squirm\",\"stab\",\"stagnant\",\"stagnate\",\"stagnation\",\"staid\",\"stain\",\"stains\",\"stale\",\"stalemate\",\"stall\",\"stalls\",\"stammer\",\"stampede\",\"standstill\",\"stark\",\"starkly\",\"startle\",\"startling\",\"startlingly\",\"starvation\",\"starve\",\"static\",\"steal\",\"stealing\",\"steals\",\"steep\",\"steeply\",\"stench\",\"stereotype\",\"stereotypical\",\"stereotypically\",\"stern\",\"stew\",\"sticky\",\"stiff\",\"stiffness\",\"stifle\",\"stifling\",\"stiflingly\",\"stigma\",\"stigmatize\",\"sting\",\"stinging\",\"stingingly\",\"stingy\",\"stink\",\"stinks\",\"stodgy\",\"stole\",\"stolen\",\"stooge\",\"stooges\",\"stormy\",\"straggle\",\"straggler\",\"strain\",\"strained\",\"straining\",\"strange\",\"strangely\",\"stranger\",\"strangest\",\"strangle\",\"streaky\",\"strenuous\",\"stress\",\"stresses\",\"stressful\",\"stressfully\",\"stricken\",\"strict\",\"strictly\",\"strident\",\"stridently\",\"strife\",\"strike\",\"stringent\",\"stringently\",\"struck\",\"struggle\",\"struggled\",\"struggles\",\"struggling\",\"strut\",\"stubborn\",\"stubbornly\",\"stubbornness\",\"stuck\",\"stuffy\",\"stumble\",\"stumbled\",\"stumbles\",\"stump\",\"stumped\",\"stumps\",\"stun\",\"stunt\",\"stunted\",\"stupid\",\"stupidest\",\"stupidity\",\"stupidly\",\"stupified\",\"stupify\",\"stupor\",\"stutter\",\"stuttered\",\"stuttering\",\"stutters\",\"sty\",\"stymied\",\"sub-par\",\"subdued\",\"subjected\",\"subjection\",\"subjugate\",\"subjugation\",\"submissive\",\"subordinate\",\"subpoena\",\"subpoenas\",\"subservience\",\"subservient\",\"substandard\",\"subtract\",\"subversion\",\"subversive\",\"subversively\",\"subvert\",\"succumb\",\"suck\",\"sucked\",\"sucker\",\"sucks\",\"sucky\",\"sue\",\"sued\",\"sueing\",\"sues\",\"suffer\",\"suffered\",\"sufferer\",\"sufferers\",\"suffering\",\"suffers\",\"suffocate\",\"sugar-coat\",\"sugar-coated\",\"sugarcoated\",\"suicidal\",\"suicide\",\"sulk\",\"sullen\",\"sully\",\"sunder\",\"sunk\",\"sunken\",\"superficial\",\"superficiality\",\"superficially\",\"superfluous\",\"superstition\",\"superstitious\",\"suppress\",\"suppression\",\"surrender\",\"susceptible\",\"suspect\",\"suspicion\",\"suspicions\",\"suspicious\",\"suspiciously\",\"swagger\",\"swamped\",\"sweaty\",\"swelled\",\"swelling\",\"swindle\",\"swipe\",\"swollen\",\"symptom\",\"symptoms\",\"syndrome\",\"taboo\",\"tacky\",\"taint\",\"tainted\",\"tamper\",\"tangle\",\"tangled\",\"tangles\",\"tank\",\"tanked\",\"tanks\",\"tantrum\",\"tardy\",\"tarnish\",\"tarnished\",\"tarnishes\",\"tarnishing\",\"tattered\",\"taunt\",\"taunting\",\"tauntingly\",\"taunts\",\"taut\",\"tawdry\",\"taxing\",\"tease\",\"teasingly\",\"tedious\",\"tediously\",\"temerity\",\"temper\",\"tempest\",\"temptation\",\"tenderness\",\"tense\",\"tension\",\"tentative\",\"tentatively\",\"tenuous\",\"tenuously\",\"tepid\",\"terrible\",\"terribleness\",\"terribly\",\"terror\",\"terror-genic\",\"terrorism\",\"terrorize\",\"testily\",\"testy\",\"tetchily\",\"tetchy\",\"thankless\",\"thicker\",\"thirst\",\"thorny\",\"thoughtless\",\"thoughtlessly\",\"thoughtlessness\",\"thrash\",\"threat\",\"threaten\",\"threatening\",\"threats\",\"threesome\",\"throb\",\"throbbed\",\"throbbing\",\"throbs\",\"throttle\",\"thug\",\"thumb-down\",\"thumbs-down\",\"thwart\",\"time-consuming\",\"timid\",\"timidity\",\"timidly\",\"timidness\",\"tin-y\",\"tingled\",\"tingling\",\"tired\",\"tiresome\",\"tiring\",\"tiringly\",\"toil\",\"toll\",\"top-heavy\",\"topple\",\"torment\",\"tormented\",\"torrent\",\"tortuous\",\"torture\",\"tortured\",\"tortures\",\"torturing\",\"torturous\",\"torturously\",\"totalitarian\",\"touchy\",\"toughness\",\"tout\",\"touted\",\"touts\",\"toxic\",\"traduce\",\"tragedy\",\"tragic\",\"tragically\",\"traitor\",\"traitorous\",\"traitorously\",\"tramp\",\"trample\",\"transgress\",\"transgression\",\"trap\",\"traped\",\"trapped\",\"trash\",\"trashed\",\"trashy\",\"trauma\",\"traumatic\",\"traumatically\",\"traumatize\",\"traumatized\",\"travesties\",\"travesty\",\"treacherous\",\"treacherously\",\"treachery\",\"treason\",\"treasonous\",\"trick\",\"tricked\",\"trickery\",\"tricky\",\"trivial\",\"trivialize\",\"trouble\",\"troubled\",\"troublemaker\",\"troubles\",\"troublesome\",\"troublesomely\",\"troubling\",\"troublingly\",\"truant\",\"tumble\",\"tumbled\",\"tumbles\",\"tumultuous\",\"turbulent\",\"turmoil\",\"twist\",\"twisted\",\"twists\",\"two-faced\",\"two-faces\",\"tyrannical\",\"tyrannically\",\"tyranny\",\"tyrant\",\"ugh\",\"uglier\",\"ugliest\",\"ugliness\",\"ugly\",\"ulterior\",\"ultimatum\",\"ultimatums\",\"ultra-hardline\",\"un-viewable\",\"unable\",\"unacceptable\",\"unacceptablely\",\"unacceptably\",\"unaccessible\",\"unaccustomed\",\"unachievable\",\"unaffordable\",\"unappealing\",\"unattractive\",\"unauthentic\",\"unavailable\",\"unavoidably\",\"unbearable\",\"unbearablely\",\"unbelievable\",\"unbelievably\",\"uncaring\",\"uncertain\",\"uncivil\",\"uncivilized\",\"unclean\",\"unclear\",\"uncollectible\",\"uncomfortable\",\"uncomfortably\",\"uncomfy\",\"uncompetitive\",\"uncompromising\",\"uncompromisingly\",\"unconfirmed\",\"unconstitutional\",\"uncontrolled\",\"unconvincing\",\"unconvincingly\",\"uncooperative\",\"uncouth\",\"uncreative\",\"undecided\",\"undefined\",\"undependability\",\"undependable\",\"undercut\",\"undercuts\",\"undercutting\",\"underdog\",\"underestimate\",\"underlings\",\"undermine\",\"undermined\",\"undermines\",\"undermining\",\"underpaid\",\"underpowered\",\"undersized\",\"undesirable\",\"undetermined\",\"undid\",\"undignified\",\"undissolved\",\"undocumented\",\"undone\",\"undue\",\"unease\",\"uneasily\",\"uneasiness\",\"uneasy\",\"uneconomical\",\"unemployed\",\"unequal\",\"unethical\",\"uneven\",\"uneventful\",\"unexpected\",\"unexpectedly\",\"unexplained\",\"unfairly\",\"unfaithful\",\"unfaithfully\",\"unfamiliar\",\"unfavorable\",\"unfeeling\",\"unfinished\",\"unfit\",\"unforeseen\",\"unforgiving\",\"unfortunate\",\"unfortunately\",\"unfounded\",\"unfriendly\",\"unfulfilled\",\"unfunded\",\"ungovernable\",\"ungrateful\",\"unhappily\",\"unhappiness\",\"unhappy\",\"unhealthy\",\"unhelpful\",\"unilateralism\",\"unimaginable\",\"unimaginably\",\"unimportant\",\"uninformed\",\"uninsured\",\"unintelligible\",\"unintelligile\",\"unipolar\",\"unjust\",\"unjustifiable\",\"unjustifiably\",\"unjustified\",\"unjustly\",\"unkind\",\"unkindly\",\"unknown\",\"unlamentable\",\"unlamentably\",\"unlawful\",\"unlawfully\",\"unlawfulness\",\"unleash\",\"unlicensed\",\"unlikely\",\"unlucky\",\"unmoved\",\"unnatural\",\"unnaturally\",\"unnecessary\",\"unneeded\",\"unnerve\",\"unnerved\",\"unnerving\",\"unnervingly\",\"unnoticed\",\"unobserved\",\"unorthodox\",\"unorthodoxy\",\"unpleasant\",\"unpleasantries\",\"unpopular\",\"unpredictable\",\"unprepared\",\"unproductive\",\"unprofitable\",\"unprove\",\"unproved\",\"unproven\",\"unproves\",\"unproving\",\"unqualified\",\"unravel\",\"unraveled\",\"unreachable\",\"unreadable\",\"unrealistic\",\"unreasonable\",\"unreasonably\",\"unrelenting\",\"unrelentingly\",\"unreliability\",\"unreliable\",\"unresolved\",\"unresponsive\",\"unrest\",\"unruly\",\"unsafe\",\"unsatisfactory\",\"unsavory\",\"unscrupulous\",\"unscrupulously\",\"unsecure\",\"unseemly\",\"unsettle\",\"unsettled\",\"unsettling\",\"unsettlingly\",\"unskilled\",\"unsophisticated\",\"unsound\",\"unspeakable\",\"unspeakablely\",\"unspecified\",\"unstable\",\"unsteadily\",\"unsteadiness\",\"unsteady\",\"unsuccessful\",\"unsuccessfully\",\"unsupported\",\"unsupportive\",\"unsure\",\"unsuspecting\",\"unsustainable\",\"untenable\",\"untested\",\"unthinkable\",\"unthinkably\",\"untimely\",\"untouched\",\"untrue\",\"untrustworthy\",\"untruthful\",\"unusable\",\"unusably\",\"unuseable\",\"unuseably\",\"unusual\",\"unusually\",\"unviewable\",\"unwanted\",\"unwarranted\",\"unwatchable\",\"unwelcome\",\"unwell\",\"unwieldy\",\"unwilling\",\"unwillingly\",\"unwillingness\",\"unwise\",\"unwisely\",\"unworkable\",\"unworthy\",\"unyielding\",\"upbraid\",\"upheaval\",\"uprising\",\"uproar\",\"uproarious\",\"uproariously\",\"uproarous\",\"uproarously\",\"uproot\",\"upset\",\"upseting\",\"upsets\",\"upsetting\",\"upsettingly\",\"urgent\",\"useless\",\"usurp\",\"usurper\",\"utterly\",\"vagrant\",\"vague\",\"vagueness\",\"vain\",\"vainly\",\"vanity\",\"vehement\",\"vehemently\",\"vengeance\",\"vengeful\",\"vengefully\",\"vengefulness\",\"venom\",\"venomous\",\"venomously\",\"vent\",\"vestiges\",\"vex\",\"vexation\",\"vexing\",\"vexingly\",\"vibrate\",\"vibrated\",\"vibrates\",\"vibrating\",\"vibration\",\"vice\",\"vicious\",\"viciously\",\"viciousness\",\"victimize\",\"vile\",\"vileness\",\"vilify\",\"villainous\",\"villainously\",\"villains\",\"villian\",\"villianous\",\"villianously\",\"villify\",\"vindictive\",\"vindictively\",\"vindictiveness\",\"violate\",\"violation\",\"violator\",\"violators\",\"violent\",\"violently\",\"viper\",\"virulence\",\"virulent\",\"virulently\",\"virus\",\"vociferous\",\"vociferously\",\"volatile\",\"volatility\",\"vomit\",\"vomited\",\"vomiting\",\"vomits\",\"vulgar\",\"vulnerable\",\"wack\",\"wail\",\"wallow\",\"wane\",\"waning\",\"wanton\",\"war-like\",\"warily\",\"wariness\",\"warlike\",\"warned\",\"warning\",\"warp\",\"warped\",\"wary\",\"washed-out\",\"waste\",\"wasted\",\"wasteful\",\"wastefulness\",\"wasting\",\"water-down\",\"watered-down\",\"wayward\",\"weak\",\"weaken\",\"weakening\",\"weaker\",\"weakness\",\"weaknesses\",\"weariness\",\"wearisome\",\"weary\",\"wedge\",\"weed\",\"weep\",\"weird\",\"weirdly\",\"wheedle\",\"whimper\",\"whine\",\"whining\",\"whiny\",\"whips\",\"whore\",\"whores\",\"wicked\",\"wickedly\",\"wickedness\",\"wild\",\"wildly\",\"wiles\",\"wilt\",\"wily\",\"wimpy\",\"wince\",\"wobble\",\"wobbled\",\"wobbles\",\"woe\",\"woebegone\",\"woeful\",\"woefully\",\"womanizer\",\"womanizing\",\"worn\",\"worried\",\"worriedly\",\"worrier\",\"worries\",\"worrisome\",\"worry\",\"worrying\",\"worryingly\",\"worse\",\"worsen\",\"worsening\",\"worst\",\"worthless\",\"worthlessly\",\"worthlessness\",\"wound\",\"wounds\",\"wrangle\",\"wrath\",\"wreak\",\"wreaked\",\"wreaks\",\"wreck\",\"wrest\",\"wrestle\",\"wretch\",\"wretched\",\"wretchedly\",\"wretchedness\",\"wrinkle\",\"wrinkled\",\"wrinkles\",\"wrip\",\"wripped\",\"wripping\",\"writhe\",\"wrong\",\"wrongful\",\"wrongly\",\"wrought\",\"yawn\",\"zap\",\"zapped\",\"zaps\",\"zealot\",\"zealous\",\"zealously\",\"zombie\"]"
   ]
  },
  {
   "cell_type": "code",
   "execution_count": 195,
   "metadata": {},
   "outputs": [],
   "source": [
    "def is_util_word(value):\n",
    "    return '' != value and \"''\" != value and value in negative_words"
   ]
  },
  {
   "cell_type": "code",
   "execution_count": 196,
   "metadata": {},
   "outputs": [],
   "source": [
    "filtered_words = [re.sub(pattern, '', word) for word in class_0_tokens if (word not in stopwords.words('english')) and is_util_word(re.sub(pattern, '', word))]"
   ]
  },
  {
   "cell_type": "code",
   "execution_count": 197,
   "metadata": {},
   "outputs": [
    {
     "data": {
      "text/plain": [
       "1670"
      ]
     },
     "execution_count": 197,
     "metadata": {},
     "output_type": "execute_result"
    }
   ],
   "source": [
    "len(filtered_words)"
   ]
  },
  {
   "cell_type": "code",
   "execution_count": 198,
   "metadata": {},
   "outputs": [
    {
     "data": {
      "text/plain": [
       "329"
      ]
     },
     "execution_count": 198,
     "metadata": {},
     "output_type": "execute_result"
    }
   ],
   "source": [
    "len(set(filtered_words))"
   ]
  },
  {
   "cell_type": "code",
   "execution_count": 199,
   "metadata": {},
   "outputs": [],
   "source": [
    "from collections import defaultdict\n",
    "frequency_words = defaultdict( int )\n",
    "for w in filtered_words:\n",
    "    frequency_words[w] += 1"
   ]
  },
  {
   "cell_type": "code",
   "execution_count": 213,
   "metadata": {},
   "outputs": [],
   "source": [
    "significant_words_count = 200\n",
    "sorted_dict = sorted(frequency_words.items(), key=lambda x: x[1], reverse=True)\n",
    "# Esto ordena el diccionario en función del valor (en orden descendente)\n",
    "# La función lambda se utiliza para especificar que queremos ordenar en función del valor (x[1])\n",
    "\n",
    "words_to_use = [x[0] for x in sorted_dict[:significant_words_count]]"
   ]
  },
  {
   "cell_type": "code",
   "execution_count": 209,
   "metadata": {},
   "outputs": [],
   "source": [
    "w = class_0['Review Text'].iloc[0].split()"
   ]
  },
  {
   "cell_type": "code",
   "execution_count": 221,
   "metadata": {},
   "outputs": [],
   "source": [
    "def process_word(value):\n",
    "    if value in negative_words:\n",
    "        return words_to_use[randrange(significant_words_count)]\n",
    "    \n",
    "    return value"
   ]
  },
  {
   "cell_type": "code",
   "execution_count": 222,
   "metadata": {},
   "outputs": [],
   "source": [
    "n = [process_word(c) for c in w]"
   ]
  },
  {
   "cell_type": "code",
   "execution_count": 223,
   "metadata": {},
   "outputs": [
    {
     "data": {
      "text/plain": [
       "\"3 tags sewn in, 2 small (about 1'' long) and 1 huge (about 2'' x 3''). very itchy so i cut them out. then the thread left behind was plasticy and even more itchy! how can you make an intimates item with such itchy tags? not comfortable at all! also - i love bralettes and wear them all the time including to work. i am a b cup. however, this one is so thin and flimsy that it gives no support even to a b cup - so for me this would only be a lounging bralette - if it wasn't so itchy!\""
      ]
     },
     "execution_count": 223,
     "metadata": {},
     "output_type": "execute_result"
    }
   ],
   "source": [
    "' '.join(w)"
   ]
  },
  {
   "cell_type": "code",
   "execution_count": 224,
   "metadata": {},
   "outputs": [
    {
     "data": {
      "text/plain": [
       "\"3 tags sewn in, 2 small (about 1'' long) and 1 huge (about 2'' x 3''). very unfinished so i cut them out. then the thread left behind was plasticy and even more itchy! how can you make an intimates item with such mistake tags? not comfortable at all! also - i love bralettes and wear them all the time including to work. i am a b cup. however, this one is so thin and unfortunately that it gives no support even to a b cup - so for me this would only be a lounging bralette - if it wasn't so itchy!\""
      ]
     },
     "execution_count": 224,
     "metadata": {},
     "output_type": "execute_result"
    }
   ],
   "source": [
    "' '.join(n)"
   ]
  },
  {
   "attachments": {},
   "cell_type": "markdown",
   "metadata": {},
   "source": [
    "Ahora procedemos a agregar ejemplos de las clases"
   ]
  },
  {
   "cell_type": "code",
   "execution_count": 262,
   "metadata": {},
   "outputs": [
    {
     "data": {
      "text/plain": [
       "Rating\n",
       "4    12540\n",
       "3     4908\n",
       "2     2823\n",
       "1     1549\n",
       "0      821\n",
       "Name: count, dtype: int64"
      ]
     },
     "execution_count": 262,
     "metadata": {},
     "output_type": "execute_result"
    }
   ],
   "source": [
    "df_reviews['Rating'].value_counts()"
   ]
  },
  {
   "attachments": {},
   "cell_type": "markdown",
   "metadata": {},
   "source": [
    "Acercaremos las clases con rating 0, 1 y 2 a la cantidad de la clase 3"
   ]
  },
  {
   "cell_type": "code",
   "execution_count": 265,
   "metadata": {},
   "outputs": [],
   "source": [
    "df_expanded = df_reviews.copy()"
   ]
  },
  {
   "cell_type": "code",
   "execution_count": 269,
   "metadata": {},
   "outputs": [],
   "source": [
    "examples_to_add_for = {0: 4000, 1: 3000, 2: 2000}\n",
    "class_to_add = 2"
   ]
  },
  {
   "cell_type": "code",
   "execution_count": 226,
   "metadata": {},
   "outputs": [],
   "source": [
    "def process_review(review):\n",
    "    return ' '.join([process_word(c) for c in review.split()])"
   ]
  },
  {
   "cell_type": "code",
   "execution_count": 270,
   "metadata": {},
   "outputs": [
    {
     "name": "stdout",
     "output_type": "stream",
     "text": [
      "Rating\n",
      "2    2823\n",
      "Name: count, dtype: int64\n",
      "(2823, 2)\n",
      "(4823, 2)\n"
     ]
    }
   ],
   "source": [
    "actual_class = df_expanded[df_expanded['Rating'] == class_to_add]\n",
    "print(actual_class['Rating'].value_counts())\n",
    "\n",
    "count = 0\n",
    "original_size = actual_class.shape[1]\n",
    "print(actual_class.shape)\n",
    "\n",
    "while (count < examples_to_add_for[class_to_add]):\n",
    "    new_review = actual_class.iloc[randrange(original_size)]\n",
    "    df_expanded.loc[-1] = [process_review(new_review['Review Text']), class_to_add]\n",
    "    df_expanded.index = df_expanded.index + 1  # shifting index\n",
    "    \n",
    "    count = count + 1\n",
    "\n",
    "print(df_expanded[df_expanded['Rating'] == class_to_add].shape)"
   ]
  },
  {
   "cell_type": "code",
   "execution_count": 271,
   "metadata": {},
   "outputs": [
    {
     "data": {
      "text/plain": [
       "Rating\n",
       "4    12540\n",
       "3     4908\n",
       "2     4823\n",
       "0     4821\n",
       "1     4549\n",
       "Name: count, dtype: int64"
      ]
     },
     "execution_count": 271,
     "metadata": {},
     "output_type": "execute_result"
    }
   ],
   "source": [
    "df_expanded['Rating'].value_counts()"
   ]
  },
  {
   "cell_type": "code",
   "execution_count": 273,
   "metadata": {},
   "outputs": [],
   "source": [
    "df_expanded = df_expanded.groupby('Rating').head(6000)"
   ]
  },
  {
   "cell_type": "code",
   "execution_count": 274,
   "metadata": {},
   "outputs": [
    {
     "data": {
      "text/plain": [
       "Rating\n",
       "4    6000\n",
       "3    4908\n",
       "2    4823\n",
       "0    4821\n",
       "1    4549\n",
       "Name: count, dtype: int64"
      ]
     },
     "execution_count": 274,
     "metadata": {},
     "output_type": "execute_result"
    }
   ],
   "source": [
    "df_expanded['Rating'].value_counts()"
   ]
  },
  {
   "attachments": {},
   "cell_type": "markdown",
   "metadata": {},
   "source": [
    "Probamos el modelo"
   ]
  },
  {
   "cell_type": "code",
   "execution_count": 283,
   "metadata": {},
   "outputs": [
    {
     "name": "stderr",
     "output_type": "stream",
     "text": [
      "/Library/Frameworks/Python.framework/Versions/3.11/lib/python3.11/site-packages/sklearn/preprocessing/_encoders.py:868: FutureWarning: `sparse` was renamed to `sparse_output` in version 1.2 and will be removed in 1.4. `sparse_output` is ignored unless you leave `sparse` to its default value.\n",
      "  warnings.warn(\n",
      "/var/folders/1d/chtcpg0n5m75kwqdhbfl_yt00000gn/T/ipykernel_12542/2866331658.py:31: UserWarning: Implicit dimension choice for softmax has been deprecated. Change the call to include dim=X as an argument.\n",
      "  out = self.softmax(self.fc4(out))\n",
      "/Library/Frameworks/Python.framework/Versions/3.11/lib/python3.11/site-packages/torchinfo/torchinfo.py:477: UserWarning: TypedStorage is deprecated. It will be removed in the future and UntypedStorage will be the only storage class. This should only matter to you if you are using storages directly.  To access UntypedStorage directly, use tensor.untyped_storage() instead of tensor.storage()\n",
      "  action_fn=lambda data: sys.getsizeof(data.storage()),\n",
      "/Library/Frameworks/Python.framework/Versions/3.11/lib/python3.11/site-packages/torch/storage.py:665: UserWarning: TypedStorage is deprecated. It will be removed in the future and UntypedStorage will be the only storage class. This should only matter to you if you are using storages directly.  To access UntypedStorage directly, use tensor.untyped_storage() instead of tensor.storage()\n",
      "  return super().__sizeof__() + self.nbytes()\n"
     ]
    },
    {
     "name": "stdout",
     "output_type": "stream",
     "text": [
      "input_size: 115\n",
      "Output dim 5\n",
      "Tamaño del conjunto de entrenamiento: 20081\n",
      "Tamaño del conjunto de validacion: 5020\n",
      "Epoch: 1/10 - Train loss 0.710 - Train accuracy 0.523 - Valid Loss 0.684 - Valid accuracy 0.688\n",
      "Epoch: 2/10 - Train loss 0.691 - Train accuracy 0.622 - Valid Loss 0.673 - Valid accuracy 0.719\n",
      "Epoch: 3/10 - Train loss 0.686 - Train accuracy 0.647 - Valid Loss 0.695 - Valid accuracy 0.562\n",
      "Epoch: 4/10 - Train loss 0.683 - Train accuracy 0.666 - Valid Loss 0.685 - Valid accuracy 0.656\n",
      "Epoch: 5/10 - Train loss 0.680 - Train accuracy 0.680 - Valid Loss 0.684 - Valid accuracy 0.656\n",
      "Epoch: 6/10 - Train loss 0.678 - Train accuracy 0.692 - Valid Loss 0.680 - Valid accuracy 0.688\n",
      "Epoch: 7/10 - Train loss 0.676 - Train accuracy 0.705 - Valid Loss 0.697 - Valid accuracy 0.594\n",
      "Epoch: 8/10 - Train loss 0.674 - Train accuracy 0.715 - Valid Loss 0.661 - Valid accuracy 0.781\n",
      "Epoch: 9/10 - Train loss 0.673 - Train accuracy 0.719 - Valid Loss 0.683 - Valid accuracy 0.656\n",
      "Epoch: 10/10 - Train loss 0.671 - Train accuracy 0.729 - Valid Loss 0.653 - Valid accuracy 0.812\n"
     ]
    },
    {
     "data": {
      "image/png": "[encoded data removed]",
      "text/plain": [
       "<Figure size 640x480 with 1 Axes>"
      ]
     },
     "metadata": {},
     "output_type": "display_data"
    }
   ],
   "source": [
    "# Tomar la columna de las review y almacenarlo todo en un vector numpy de reviews\n",
    "text_sequences = df_expanded['Review Text'].values\n",
    "text_sequences.shape\n",
    "\n",
    "corpus = ' '.join(text_sequences)\n",
    "\n",
    "tokens = text_to_word_sequence(corpus)\n",
    "\n",
    "num_words = 2000\n",
    "vocab_size = num_words\n",
    "\n",
    "tok = Tokenizer(num_words=num_words) \n",
    "tok.fit_on_texts(tokens)\n",
    "\n",
    "# Obtener el diccionario de palabra (word) a índice\n",
    "# y observar la cantidad total del vocabulario\n",
    "word_index = tok.word_index\n",
    "len(word_index)\n",
    "\n",
    "sequences = tok.texts_to_sequences(text_sequences)\n",
    "\n",
    "num_words = 4000\n",
    "vocab_size = num_words\n",
    "\n",
    "tok = Tokenizer(num_words=num_words) \n",
    "tok.fit_on_texts(tokens)\n",
    "\n",
    "# Obtener el diccionario de palabra (word) a índice\n",
    "# y observar la cantidad total del vocabulario\n",
    "word_index = tok.word_index\n",
    "len(word_index)\n",
    "\n",
    "sequences = tok.texts_to_sequences(text_sequences)\n",
    "minimized_X = pad_sequences(sequences, padding='pre', maxlen=maxlen)\n",
    "ohe = OneHotEncoder(sparse=False)\n",
    "minimized_y = ohe.fit_transform(df_expanded['Rating'].to_numpy().reshape(-1,1))\n",
    "\n",
    "data_set_2 = Data(minimized_X, minimized_y)\n",
    "\n",
    "input_size = data_set_2.x.shape[1]\n",
    "print(\"input_size:\", input_size)\n",
    "\n",
    "output_dim = data_set_2.y.shape[1]\n",
    "print(\"Output dim\", output_dim)\n",
    "\n",
    "torch.manual_seed(120)\n",
    "data_set_2_reduced_size = int(data_set_2.len * 1)\n",
    "valid_set_size = int(data_set_2_reduced_size * 0.2)\n",
    "train_set_size = data_set_2_reduced_size - valid_set_size\n",
    "data_set_2_reduced, _ = torch.utils.data.random_split(data_set_2, [data_set_2_reduced_size, data_set_2.len - data_set_2_reduced_size])\n",
    "train_set, valid_set = torch.utils.data.random_split(data_set_2_reduced, [train_set_size, data_set_2_reduced_size - train_set_size])\n",
    "\n",
    "print(\"Tamaño del conjunto de entrenamiento:\", len(train_set))\n",
    "print(\"Tamaño del conjunto de validacion:\", len(valid_set))\n",
    "\n",
    "train_loader = torch.utils.data.DataLoader(train_set, batch_size=32, shuffle=True)\n",
    "valid_loader = torch.utils.data.DataLoader(valid_set, batch_size=32, shuffle=True)\n",
    "\n",
    "\n",
    "model2 = Model4(vocab_size=vocab_size, output_dim=output_dim)\n",
    "\n",
    "# Crear el optimizador la una función de error\n",
    "model2_optimizer = torch.optim.Adam(model2.parameters(), lr=0.001)\n",
    "model2_criterion = torch.nn.MultiLabelSoftMarginLoss()  \n",
    "\n",
    "# Por defecto torchinfo testea el modelo con torch.FloatTensor\n",
    "summary(model2, input_size=(1, input_size), dtypes=['torch.IntTensor'], device=torch.device('cpu'))\n",
    "\n",
    "history2 = train(model2,\n",
    "                train_loader,\n",
    "                valid_loader,\n",
    "                model2_optimizer,\n",
    "                model2_criterion,\n",
    "                epochs=10\n",
    "                )\n",
    "\n",
    "epoch_count = range(1, len(history2['accuracy']) + 1)\n",
    "sns.lineplot(x=epoch_count,  y=history2['accuracy'], label='train')\n",
    "sns.lineplot(x=epoch_count,  y=history2['val_accuracy'], label='valid')\n",
    "sns.lineplot(x=epoch_count,  y=history2['loss'], label='train_loss')\n",
    "plt.show()"
   ]
  },
  {
   "attachments": {},
   "cell_type": "markdown",
   "metadata": {},
   "source": [
    "Continuamos el entrenamiento algunas epochs mas"
   ]
  },
  {
   "cell_type": "code",
   "execution_count": 284,
   "metadata": {},
   "outputs": [
    {
     "name": "stderr",
     "output_type": "stream",
     "text": [
      "/var/folders/1d/chtcpg0n5m75kwqdhbfl_yt00000gn/T/ipykernel_12542/2866331658.py:31: UserWarning: Implicit dimension choice for softmax has been deprecated. Change the call to include dim=X as an argument.\n",
      "  out = self.softmax(self.fc4(out))\n"
     ]
    },
    {
     "name": "stdout",
     "output_type": "stream",
     "text": [
      "Epoch: 1/200 - Train loss 0.670 - Train accuracy 0.735 - Valid Loss 0.702 - Valid accuracy 0.562\n",
      "Epoch: 2/200 - Train loss 0.669 - Train accuracy 0.739 - Valid Loss 0.699 - Valid accuracy 0.594\n",
      "Epoch: 3/200 - Train loss 0.668 - Train accuracy 0.745 - Valid Loss 0.673 - Valid accuracy 0.719\n",
      "Epoch: 4/200 - Train loss 0.668 - Train accuracy 0.747 - Valid Loss 0.658 - Valid accuracy 0.781\n",
      "Epoch: 5/200 - Train loss 0.667 - Train accuracy 0.751 - Valid Loss 0.698 - Valid accuracy 0.594\n",
      "Epoch: 6/200 - Train loss 0.666 - Train accuracy 0.752 - Valid Loss 0.717 - Valid accuracy 0.500\n",
      "Epoch: 7/200 - Train loss 0.665 - Train accuracy 0.759 - Valid Loss 0.692 - Valid accuracy 0.625\n",
      "Epoch: 8/200 - Train loss 0.664 - Train accuracy 0.764 - Valid Loss 0.710 - Valid accuracy 0.531\n",
      "Epoch: 9/200 - Train loss 0.663 - Train accuracy 0.769 - Valid Loss 0.667 - Valid accuracy 0.750\n",
      "Epoch: 10/200 - Train loss 0.666 - Train accuracy 0.755 - Valid Loss 0.697 - Valid accuracy 0.594\n",
      "Epoch: 11/200 - Train loss 0.664 - Train accuracy 0.766 - Valid Loss 0.685 - Valid accuracy 0.656\n",
      "Epoch: 12/200 - Train loss 0.662 - Train accuracy 0.772 - Valid Loss 0.678 - Valid accuracy 0.688\n",
      "Epoch: 13/200 - Train loss 0.662 - Train accuracy 0.775 - Valid Loss 0.698 - Valid accuracy 0.594\n",
      "Epoch: 14/200 - Train loss 0.661 - Train accuracy 0.777 - Valid Loss 0.698 - Valid accuracy 0.594\n",
      "Epoch: 15/200 - Train loss 0.661 - Train accuracy 0.778 - Valid Loss 0.698 - Valid accuracy 0.594\n",
      "Epoch: 16/200 - Train loss 0.662 - Train accuracy 0.775 - Valid Loss 0.686 - Valid accuracy 0.656\n",
      "Epoch: 17/200 - Train loss 0.661 - Train accuracy 0.778 - Valid Loss 0.705 - Valid accuracy 0.562\n",
      "Epoch: 18/200 - Train loss 0.661 - Train accuracy 0.782 - Valid Loss 0.648 - Valid accuracy 0.844\n",
      "Epoch: 19/200 - Train loss 0.660 - Train accuracy 0.784 - Valid Loss 0.704 - Valid accuracy 0.562\n",
      "Epoch: 20/200 - Train loss 0.659 - Train accuracy 0.789 - Valid Loss 0.701 - Valid accuracy 0.562\n",
      "Epoch: 21/200 - Train loss 0.660 - Train accuracy 0.787 - Valid Loss 0.661 - Valid accuracy 0.781\n",
      "Epoch: 22/200 - Train loss 0.660 - Train accuracy 0.787 - Valid Loss 0.698 - Valid accuracy 0.594\n",
      "Epoch: 23/200 - Train loss 0.660 - Train accuracy 0.786 - Valid Loss 0.694 - Valid accuracy 0.625\n",
      "Epoch: 24/200 - Train loss 0.660 - Train accuracy 0.785 - Valid Loss 0.692 - Valid accuracy 0.625\n",
      "Epoch: 25/200 - Train loss 0.659 - Train accuracy 0.791 - Valid Loss 0.685 - Valid accuracy 0.656\n",
      "Epoch: 26/200 - Train loss 0.659 - Train accuracy 0.792 - Valid Loss 0.702 - Valid accuracy 0.562\n",
      "Epoch: 27/200 - Train loss 0.658 - Train accuracy 0.795 - Valid Loss 0.668 - Valid accuracy 0.750\n",
      "Epoch: 28/200 - Train loss 0.658 - Train accuracy 0.796 - Valid Loss 0.667 - Valid accuracy 0.750\n",
      "Epoch: 29/200 - Train loss 0.659 - Train accuracy 0.792 - Valid Loss 0.680 - Valid accuracy 0.688\n",
      "Epoch: 30/200 - Train loss 0.659 - Train accuracy 0.788 - Valid Loss 0.654 - Valid accuracy 0.812\n",
      "Epoch: 31/200 - Train loss 0.659 - Train accuracy 0.793 - Valid Loss 0.651 - Valid accuracy 0.812\n",
      "Epoch: 32/200 - Train loss 0.659 - Train accuracy 0.792 - Valid Loss 0.717 - Valid accuracy 0.500\n",
      "Epoch: 33/200 - Train loss 0.658 - Train accuracy 0.796 - Valid Loss 0.676 - Valid accuracy 0.688\n",
      "Epoch: 34/200 - Train loss 0.658 - Train accuracy 0.797 - Valid Loss 0.655 - Valid accuracy 0.812\n",
      "Epoch: 35/200 - Train loss 0.657 - Train accuracy 0.800 - Valid Loss 0.667 - Valid accuracy 0.750\n",
      "Epoch: 36/200 - Train loss 0.657 - Train accuracy 0.801 - Valid Loss 0.685 - Valid accuracy 0.656\n",
      "Epoch: 37/200 - Train loss 0.657 - Train accuracy 0.802 - Valid Loss 0.698 - Valid accuracy 0.594\n",
      "Epoch: 38/200 - Train loss 0.657 - Train accuracy 0.799 - Valid Loss 0.667 - Valid accuracy 0.750\n",
      "Epoch: 39/200 - Train loss 0.657 - Train accuracy 0.800 - Valid Loss 0.690 - Valid accuracy 0.625\n",
      "Epoch: 40/200 - Train loss 0.656 - Train accuracy 0.804 - Valid Loss 0.677 - Valid accuracy 0.688\n",
      "Epoch: 41/200 - Train loss 0.656 - Train accuracy 0.804 - Valid Loss 0.668 - Valid accuracy 0.750\n",
      "Epoch: 42/200 - Train loss 0.657 - Train accuracy 0.802 - Valid Loss 0.679 - Valid accuracy 0.688\n",
      "Epoch: 43/200 - Train loss 0.656 - Train accuracy 0.807 - Valid Loss 0.675 - Valid accuracy 0.719\n",
      "Epoch: 44/200 - Train loss 0.656 - Train accuracy 0.805 - Valid Loss 0.680 - Valid accuracy 0.688\n",
      "Epoch: 45/200 - Train loss 0.655 - Train accuracy 0.809 - Valid Loss 0.680 - Valid accuracy 0.688\n",
      "Epoch: 46/200 - Train loss 0.655 - Train accuracy 0.811 - Valid Loss 0.673 - Valid accuracy 0.719\n",
      "Epoch: 47/200 - Train loss 0.655 - Train accuracy 0.809 - Valid Loss 0.699 - Valid accuracy 0.594\n",
      "Epoch: 48/200 - Train loss 0.655 - Train accuracy 0.809 - Valid Loss 0.692 - Valid accuracy 0.625\n",
      "Epoch: 49/200 - Train loss 0.655 - Train accuracy 0.810 - Valid Loss 0.667 - Valid accuracy 0.750\n",
      "Epoch: 50/200 - Train loss 0.654 - Train accuracy 0.815 - Valid Loss 0.678 - Valid accuracy 0.688\n",
      "Epoch: 51/200 - Train loss 0.655 - Train accuracy 0.813 - Valid Loss 0.686 - Valid accuracy 0.656\n",
      "Epoch: 52/200 - Train loss 0.654 - Train accuracy 0.814 - Valid Loss 0.692 - Valid accuracy 0.625\n",
      "Epoch: 53/200 - Train loss 0.654 - Train accuracy 0.814 - Valid Loss 0.655 - Valid accuracy 0.812\n",
      "Epoch: 54/200 - Train loss 0.655 - Train accuracy 0.809 - Valid Loss 0.686 - Valid accuracy 0.656\n",
      "Epoch: 55/200 - Train loss 0.655 - Train accuracy 0.810 - Valid Loss 0.691 - Valid accuracy 0.625\n",
      "Epoch: 56/200 - Train loss 0.653 - Train accuracy 0.818 - Valid Loss 0.693 - Valid accuracy 0.625\n",
      "Epoch: 57/200 - Train loss 0.653 - Train accuracy 0.819 - Valid Loss 0.692 - Valid accuracy 0.625\n",
      "Epoch: 58/200 - Train loss 0.653 - Train accuracy 0.820 - Valid Loss 0.673 - Valid accuracy 0.719\n",
      "Epoch: 59/200 - Train loss 0.653 - Train accuracy 0.820 - Valid Loss 0.674 - Valid accuracy 0.719\n",
      "Epoch: 60/200 - Train loss 0.653 - Train accuracy 0.820 - Valid Loss 0.698 - Valid accuracy 0.594\n",
      "Epoch: 61/200 - Train loss 0.653 - Train accuracy 0.821 - Valid Loss 0.680 - Valid accuracy 0.688\n",
      "Epoch: 62/200 - Train loss 0.654 - Train accuracy 0.817 - Valid Loss 0.673 - Valid accuracy 0.719\n",
      "Epoch: 63/200 - Train loss 0.653 - Train accuracy 0.821 - Valid Loss 0.698 - Valid accuracy 0.594\n",
      "Epoch: 64/200 - Train loss 0.652 - Train accuracy 0.824 - Valid Loss 0.679 - Valid accuracy 0.688\n",
      "Epoch: 65/200 - Train loss 0.652 - Train accuracy 0.823 - Valid Loss 0.698 - Valid accuracy 0.594\n",
      "Epoch: 66/200 - Train loss 0.652 - Train accuracy 0.824 - Valid Loss 0.680 - Valid accuracy 0.688\n",
      "Epoch: 67/200 - Train loss 0.652 - Train accuracy 0.824 - Valid Loss 0.687 - Valid accuracy 0.656\n",
      "Epoch: 68/200 - Train loss 0.653 - Train accuracy 0.820 - Valid Loss 0.686 - Valid accuracy 0.656\n",
      "Epoch: 69/200 - Train loss 0.653 - Train accuracy 0.820 - Valid Loss 0.681 - Valid accuracy 0.688\n",
      "Epoch: 70/200 - Train loss 0.652 - Train accuracy 0.825 - Valid Loss 0.674 - Valid accuracy 0.719\n",
      "Epoch: 71/200 - Train loss 0.652 - Train accuracy 0.824 - Valid Loss 0.679 - Valid accuracy 0.688\n",
      "Epoch: 72/200 - Train loss 0.652 - Train accuracy 0.827 - Valid Loss 0.711 - Valid accuracy 0.531\n",
      "Epoch: 73/200 - Train loss 0.651 - Train accuracy 0.828 - Valid Loss 0.687 - Valid accuracy 0.656\n",
      "Epoch: 74/200 - Train loss 0.651 - Train accuracy 0.829 - Valid Loss 0.661 - Valid accuracy 0.781\n",
      "Epoch: 75/200 - Train loss 0.652 - Train accuracy 0.826 - Valid Loss 0.663 - Valid accuracy 0.781\n",
      "Epoch: 76/200 - Train loss 0.651 - Train accuracy 0.828 - Valid Loss 0.725 - Valid accuracy 0.438\n",
      "Epoch: 77/200 - Train loss 0.651 - Train accuracy 0.829 - Valid Loss 0.711 - Valid accuracy 0.531\n",
      "Epoch: 78/200 - Train loss 0.652 - Train accuracy 0.827 - Valid Loss 0.661 - Valid accuracy 0.781\n",
      "Epoch: 79/200 - Train loss 0.651 - Train accuracy 0.829 - Valid Loss 0.642 - Valid accuracy 0.875\n",
      "Epoch: 80/200 - Train loss 0.651 - Train accuracy 0.832 - Valid Loss 0.667 - Valid accuracy 0.750\n",
      "Epoch: 81/200 - Train loss 0.651 - Train accuracy 0.829 - Valid Loss 0.686 - Valid accuracy 0.656\n",
      "Epoch: 82/200 - Train loss 0.651 - Train accuracy 0.830 - Valid Loss 0.686 - Valid accuracy 0.656\n",
      "Epoch: 83/200 - Train loss 0.651 - Train accuracy 0.829 - Valid Loss 0.673 - Valid accuracy 0.719\n",
      "Epoch: 84/200 - Train loss 0.651 - Train accuracy 0.831 - Valid Loss 0.691 - Valid accuracy 0.625\n",
      "Epoch: 85/200 - Train loss 0.651 - Train accuracy 0.833 - Valid Loss 0.661 - Valid accuracy 0.781\n",
      "Epoch: 86/200 - Train loss 0.651 - Train accuracy 0.832 - Valid Loss 0.698 - Valid accuracy 0.594\n",
      "Epoch: 87/200 - Train loss 0.651 - Train accuracy 0.833 - Valid Loss 0.658 - Valid accuracy 0.812\n",
      "Epoch: 88/200 - Train loss 0.650 - Train accuracy 0.835 - Valid Loss 0.667 - Valid accuracy 0.750\n",
      "Epoch: 89/200 - Train loss 0.650 - Train accuracy 0.835 - Valid Loss 0.705 - Valid accuracy 0.562\n",
      "Epoch: 90/200 - Train loss 0.649 - Train accuracy 0.838 - Valid Loss 0.705 - Valid accuracy 0.562\n",
      "Epoch: 91/200 - Train loss 0.650 - Train accuracy 0.835 - Valid Loss 0.683 - Valid accuracy 0.688\n",
      "Epoch: 92/200 - Train loss 0.650 - Train accuracy 0.835 - Valid Loss 0.692 - Valid accuracy 0.625\n",
      "Epoch: 93/200 - Train loss 0.651 - Train accuracy 0.831 - Valid Loss 0.702 - Valid accuracy 0.562\n",
      "Epoch: 94/200 - Train loss 0.651 - Train accuracy 0.833 - Valid Loss 0.673 - Valid accuracy 0.719\n",
      "Epoch: 95/200 - Train loss 0.650 - Train accuracy 0.836 - Valid Loss 0.686 - Valid accuracy 0.656\n",
      "Epoch: 96/200 - Train loss 0.650 - Train accuracy 0.834 - Valid Loss 0.661 - Valid accuracy 0.781\n",
      "Epoch: 97/200 - Train loss 0.650 - Train accuracy 0.834 - Valid Loss 0.667 - Valid accuracy 0.750\n",
      "Epoch: 98/200 - Train loss 0.650 - Train accuracy 0.835 - Valid Loss 0.686 - Valid accuracy 0.656\n",
      "Epoch: 99/200 - Train loss 0.650 - Train accuracy 0.838 - Valid Loss 0.650 - Valid accuracy 0.844\n",
      "Epoch: 100/200 - Train loss 0.650 - Train accuracy 0.836 - Valid Loss 0.705 - Valid accuracy 0.562\n",
      "Epoch: 101/200 - Train loss 0.649 - Train accuracy 0.838 - Valid Loss 0.692 - Valid accuracy 0.625\n",
      "Epoch: 102/200 - Train loss 0.650 - Train accuracy 0.837 - Valid Loss 0.686 - Valid accuracy 0.656\n",
      "Epoch: 103/200 - Train loss 0.650 - Train accuracy 0.836 - Valid Loss 0.661 - Valid accuracy 0.781\n",
      "Epoch: 104/200 - Train loss 0.650 - Train accuracy 0.837 - Valid Loss 0.704 - Valid accuracy 0.562\n",
      "Epoch: 105/200 - Train loss 0.650 - Train accuracy 0.836 - Valid Loss 0.705 - Valid accuracy 0.562\n",
      "Epoch: 106/200 - Train loss 0.652 - Train accuracy 0.823 - Valid Loss 0.673 - Valid accuracy 0.719\n",
      "Epoch: 107/200 - Train loss 0.650 - Train accuracy 0.834 - Valid Loss 0.704 - Valid accuracy 0.562\n",
      "Epoch: 108/200 - Train loss 0.652 - Train accuracy 0.828 - Valid Loss 0.692 - Valid accuracy 0.625\n",
      "Epoch: 109/200 - Train loss 0.654 - Train accuracy 0.818 - Valid Loss 0.711 - Valid accuracy 0.531\n",
      "Epoch: 110/200 - Train loss 0.652 - Train accuracy 0.828 - Valid Loss 0.697 - Valid accuracy 0.594\n",
      "Epoch: 111/200 - Train loss 0.651 - Train accuracy 0.831 - Valid Loss 0.717 - Valid accuracy 0.500\n",
      "Epoch: 112/200 - Train loss 0.652 - Train accuracy 0.826 - Valid Loss 0.705 - Valid accuracy 0.562\n",
      "Epoch: 113/200 - Train loss 0.651 - Train accuracy 0.832 - Valid Loss 0.686 - Valid accuracy 0.656\n",
      "Epoch: 114/200 - Train loss 0.650 - Train accuracy 0.834 - Valid Loss 0.698 - Valid accuracy 0.594\n",
      "Epoch: 115/200 - Train loss 0.650 - Train accuracy 0.834 - Valid Loss 0.674 - Valid accuracy 0.719\n",
      "Epoch: 116/200 - Train loss 0.651 - Train accuracy 0.833 - Valid Loss 0.686 - Valid accuracy 0.656\n",
      "Epoch: 117/200 - Train loss 0.650 - Train accuracy 0.838 - Valid Loss 0.675 - Valid accuracy 0.719\n",
      "Epoch: 118/200 - Train loss 0.650 - Train accuracy 0.836 - Valid Loss 0.686 - Valid accuracy 0.656\n",
      "Epoch: 119/200 - Train loss 0.649 - Train accuracy 0.838 - Valid Loss 0.698 - Valid accuracy 0.594\n",
      "Epoch: 120/200 - Train loss 0.649 - Train accuracy 0.839 - Valid Loss 0.688 - Valid accuracy 0.656\n",
      "Epoch: 121/200 - Train loss 0.650 - Train accuracy 0.835 - Valid Loss 0.673 - Valid accuracy 0.719\n",
      "Epoch: 122/200 - Train loss 0.651 - Train accuracy 0.831 - Valid Loss 0.710 - Valid accuracy 0.531\n",
      "Epoch: 123/200 - Train loss 0.649 - Train accuracy 0.839 - Valid Loss 0.673 - Valid accuracy 0.719\n",
      "Epoch: 124/200 - Train loss 0.650 - Train accuracy 0.836 - Valid Loss 0.692 - Valid accuracy 0.625\n",
      "Epoch: 125/200 - Train loss 0.650 - Train accuracy 0.836 - Valid Loss 0.673 - Valid accuracy 0.719\n",
      "Epoch: 126/200 - Train loss 0.650 - Train accuracy 0.835 - Valid Loss 0.705 - Valid accuracy 0.562\n",
      "Epoch: 127/200 - Train loss 0.649 - Train accuracy 0.838 - Valid Loss 0.711 - Valid accuracy 0.531\n",
      "Epoch: 128/200 - Train loss 0.649 - Train accuracy 0.839 - Valid Loss 0.680 - Valid accuracy 0.688\n",
      "Epoch: 129/200 - Train loss 0.649 - Train accuracy 0.841 - Valid Loss 0.661 - Valid accuracy 0.781\n",
      "Epoch: 130/200 - Train loss 0.648 - Train accuracy 0.843 - Valid Loss 0.710 - Valid accuracy 0.531\n",
      "Epoch: 131/200 - Train loss 0.648 - Train accuracy 0.844 - Valid Loss 0.680 - Valid accuracy 0.688\n",
      "Epoch: 132/200 - Train loss 0.649 - Train accuracy 0.841 - Valid Loss 0.678 - Valid accuracy 0.688\n",
      "Epoch: 133/200 - Train loss 0.649 - Train accuracy 0.842 - Valid Loss 0.682 - Valid accuracy 0.688\n",
      "Epoch: 134/200 - Train loss 0.649 - Train accuracy 0.841 - Valid Loss 0.668 - Valid accuracy 0.750\n",
      "Epoch: 135/200 - Train loss 0.649 - Train accuracy 0.840 - Valid Loss 0.726 - Valid accuracy 0.469\n",
      "Epoch: 136/200 - Train loss 0.649 - Train accuracy 0.840 - Valid Loss 0.692 - Valid accuracy 0.625\n",
      "Epoch: 137/200 - Train loss 0.649 - Train accuracy 0.842 - Valid Loss 0.661 - Valid accuracy 0.781\n",
      "Epoch: 138/200 - Train loss 0.649 - Train accuracy 0.843 - Valid Loss 0.658 - Valid accuracy 0.781\n",
      "Epoch: 139/200 - Train loss 0.649 - Train accuracy 0.841 - Valid Loss 0.717 - Valid accuracy 0.500\n",
      "Epoch: 140/200 - Train loss 0.649 - Train accuracy 0.842 - Valid Loss 0.704 - Valid accuracy 0.562\n",
      "Epoch: 141/200 - Train loss 0.649 - Train accuracy 0.842 - Valid Loss 0.680 - Valid accuracy 0.688\n",
      "Epoch: 142/200 - Train loss 0.649 - Train accuracy 0.840 - Valid Loss 0.660 - Valid accuracy 0.781\n",
      "Epoch: 143/200 - Train loss 0.649 - Train accuracy 0.840 - Valid Loss 0.686 - Valid accuracy 0.656\n",
      "Epoch: 144/200 - Train loss 0.648 - Train accuracy 0.844 - Valid Loss 0.704 - Valid accuracy 0.562\n",
      "Epoch: 145/200 - Train loss 0.649 - Train accuracy 0.842 - Valid Loss 0.715 - Valid accuracy 0.500\n",
      "Epoch: 146/200 - Train loss 0.648 - Train accuracy 0.844 - Valid Loss 0.667 - Valid accuracy 0.750\n",
      "Epoch: 147/200 - Train loss 0.648 - Train accuracy 0.847 - Valid Loss 0.679 - Valid accuracy 0.688\n",
      "Epoch: 148/200 - Train loss 0.648 - Train accuracy 0.846 - Valid Loss 0.692 - Valid accuracy 0.625\n",
      "Epoch: 149/200 - Train loss 0.649 - Train accuracy 0.840 - Valid Loss 0.686 - Valid accuracy 0.656\n",
      "Epoch: 150/200 - Train loss 0.648 - Train accuracy 0.843 - Valid Loss 0.673 - Valid accuracy 0.719\n",
      "Epoch: 151/200 - Train loss 0.648 - Train accuracy 0.846 - Valid Loss 0.711 - Valid accuracy 0.531\n",
      "Epoch: 152/200 - Train loss 0.648 - Train accuracy 0.845 - Valid Loss 0.711 - Valid accuracy 0.531\n",
      "Epoch: 153/200 - Train loss 0.649 - Train accuracy 0.841 - Valid Loss 0.705 - Valid accuracy 0.562\n",
      "Epoch: 154/200 - Train loss 0.648 - Train accuracy 0.845 - Valid Loss 0.685 - Valid accuracy 0.656\n",
      "Epoch: 155/200 - Train loss 0.648 - Train accuracy 0.846 - Valid Loss 0.661 - Valid accuracy 0.781\n",
      "Epoch: 156/200 - Train loss 0.648 - Train accuracy 0.848 - Valid Loss 0.680 - Valid accuracy 0.688\n",
      "Epoch: 157/200 - Train loss 0.648 - Train accuracy 0.844 - Valid Loss 0.680 - Valid accuracy 0.688\n",
      "Epoch: 158/200 - Train loss 0.649 - Train accuracy 0.843 - Valid Loss 0.680 - Valid accuracy 0.688\n",
      "Epoch: 159/200 - Train loss 0.648 - Train accuracy 0.846 - Valid Loss 0.661 - Valid accuracy 0.781\n",
      "Epoch: 160/200 - Train loss 0.648 - Train accuracy 0.845 - Valid Loss 0.710 - Valid accuracy 0.531\n",
      "Epoch: 161/200 - Train loss 0.648 - Train accuracy 0.847 - Valid Loss 0.692 - Valid accuracy 0.625\n",
      "Epoch: 162/200 - Train loss 0.647 - Train accuracy 0.848 - Valid Loss 0.667 - Valid accuracy 0.750\n",
      "Epoch: 163/200 - Train loss 0.648 - Train accuracy 0.846 - Valid Loss 0.680 - Valid accuracy 0.688\n",
      "Epoch: 164/200 - Train loss 0.648 - Train accuracy 0.845 - Valid Loss 0.698 - Valid accuracy 0.594\n",
      "Epoch: 165/200 - Train loss 0.648 - Train accuracy 0.847 - Valid Loss 0.673 - Valid accuracy 0.719\n",
      "Epoch: 166/200 - Train loss 0.647 - Train accuracy 0.849 - Valid Loss 0.673 - Valid accuracy 0.719\n",
      "Epoch: 167/200 - Train loss 0.647 - Train accuracy 0.848 - Valid Loss 0.630 - Valid accuracy 0.938\n",
      "Epoch: 168/200 - Train loss 0.649 - Train accuracy 0.839 - Valid Loss 0.667 - Valid accuracy 0.750\n",
      "Epoch: 169/200 - Train loss 0.648 - Train accuracy 0.844 - Valid Loss 0.680 - Valid accuracy 0.688\n",
      "Epoch: 170/200 - Train loss 0.648 - Train accuracy 0.845 - Valid Loss 0.692 - Valid accuracy 0.625\n",
      "Epoch: 171/200 - Train loss 0.647 - Train accuracy 0.849 - Valid Loss 0.698 - Valid accuracy 0.594\n",
      "Epoch: 172/200 - Train loss 0.648 - Train accuracy 0.846 - Valid Loss 0.692 - Valid accuracy 0.625\n",
      "Epoch: 173/200 - Train loss 0.648 - Train accuracy 0.847 - Valid Loss 0.661 - Valid accuracy 0.781\n",
      "Epoch: 174/200 - Train loss 0.647 - Train accuracy 0.852 - Valid Loss 0.680 - Valid accuracy 0.688\n",
      "Epoch: 175/200 - Train loss 0.647 - Train accuracy 0.850 - Valid Loss 0.705 - Valid accuracy 0.562\n",
      "Epoch: 176/200 - Train loss 0.647 - Train accuracy 0.851 - Valid Loss 0.661 - Valid accuracy 0.781\n",
      "Epoch: 177/200 - Train loss 0.647 - Train accuracy 0.851 - Valid Loss 0.698 - Valid accuracy 0.594\n",
      "Epoch: 178/200 - Train loss 0.648 - Train accuracy 0.845 - Valid Loss 0.712 - Valid accuracy 0.531\n",
      "Epoch: 179/200 - Train loss 0.649 - Train accuracy 0.842 - Valid Loss 0.680 - Valid accuracy 0.688\n",
      "Epoch: 180/200 - Train loss 0.648 - Train accuracy 0.845 - Valid Loss 0.703 - Valid accuracy 0.562\n",
      "Epoch: 181/200 - Train loss 0.648 - Train accuracy 0.843 - Valid Loss 0.667 - Valid accuracy 0.750\n",
      "Epoch: 182/200 - Train loss 0.648 - Train accuracy 0.846 - Valid Loss 0.680 - Valid accuracy 0.688\n",
      "Epoch: 183/200 - Train loss 0.647 - Train accuracy 0.850 - Valid Loss 0.686 - Valid accuracy 0.656\n",
      "Epoch: 184/200 - Train loss 0.648 - Train accuracy 0.847 - Valid Loss 0.677 - Valid accuracy 0.688\n",
      "Epoch: 185/200 - Train loss 0.647 - Train accuracy 0.848 - Valid Loss 0.667 - Valid accuracy 0.750\n",
      "Epoch: 186/200 - Train loss 0.647 - Train accuracy 0.851 - Valid Loss 0.686 - Valid accuracy 0.656\n",
      "Epoch: 187/200 - Train loss 0.646 - Train accuracy 0.854 - Valid Loss 0.673 - Valid accuracy 0.719\n",
      "Epoch: 188/200 - Train loss 0.647 - Train accuracy 0.852 - Valid Loss 0.692 - Valid accuracy 0.625\n",
      "Epoch: 189/200 - Train loss 0.647 - Train accuracy 0.852 - Valid Loss 0.673 - Valid accuracy 0.719\n",
      "Epoch: 190/200 - Train loss 0.646 - Train accuracy 0.855 - Valid Loss 0.686 - Valid accuracy 0.656\n",
      "Epoch: 191/200 - Train loss 0.646 - Train accuracy 0.854 - Valid Loss 0.680 - Valid accuracy 0.688\n",
      "Epoch: 192/200 - Train loss 0.648 - Train accuracy 0.848 - Valid Loss 0.645 - Valid accuracy 0.875\n",
      "Epoch: 193/200 - Train loss 0.646 - Train accuracy 0.853 - Valid Loss 0.670 - Valid accuracy 0.750\n",
      "Epoch: 194/200 - Train loss 0.647 - Train accuracy 0.852 - Valid Loss 0.674 - Valid accuracy 0.719\n",
      "Epoch: 195/200 - Train loss 0.647 - Train accuracy 0.852 - Valid Loss 0.642 - Valid accuracy 0.875\n",
      "Epoch: 196/200 - Train loss 0.646 - Train accuracy 0.853 - Valid Loss 0.692 - Valid accuracy 0.625\n",
      "Epoch: 197/200 - Train loss 0.647 - Train accuracy 0.849 - Valid Loss 0.699 - Valid accuracy 0.594\n",
      "Epoch: 198/200 - Train loss 0.648 - Train accuracy 0.848 - Valid Loss 0.668 - Valid accuracy 0.750\n",
      "Epoch: 199/200 - Train loss 0.647 - Train accuracy 0.852 - Valid Loss 0.668 - Valid accuracy 0.750\n",
      "Epoch: 200/200 - Train loss 0.647 - Train accuracy 0.852 - Valid Loss 0.686 - Valid accuracy 0.656\n"
     ]
    },
    {
     "data": {
      "image/png": "[encoded data removed]",
      "text/plain": [
       "<Figure size 640x480 with 1 Axes>"
      ]
     },
     "metadata": {},
     "output_type": "display_data"
    }
   ],
   "source": [
    "history2 = train(model2,\n",
    "                train_loader,\n",
    "                valid_loader,\n",
    "                model2_optimizer,\n",
    "                model2_criterion,\n",
    "                epochs=200\n",
    "                )\n",
    "\n",
    "epoch_count = range(1, len(history2['accuracy']) + 1)\n",
    "sns.lineplot(x=epoch_count,  y=history2['accuracy'], label='train')\n",
    "sns.lineplot(x=epoch_count,  y=history2['val_accuracy'], label='valid')\n",
    "sns.lineplot(x=epoch_count,  y=history2['loss'], label='train_loss')\n",
    "plt.show()"
   ]
  },
  {
   "attachments": {},
   "cell_type": "markdown",
   "metadata": {},
   "source": [
    "El acc en validación oscila entre 0.5 y 0.8. Entiendo que se dan tantas oscilaciones por mirar un numero bajo de ejemplos por epoch"
   ]
  },
  {
   "cell_type": "code",
   "execution_count": 297,
   "metadata": {},
   "outputs": [],
   "source": [
    "torch.save(model2.state_dict(), 'model_4_class_df_expanded.pt')"
   ]
  },
  {
   "cell_type": "code",
   "execution_count": 381,
   "metadata": {},
   "outputs": [],
   "source": [
    "def predict_rating(model, tokenizer, seed_text):\n",
    "    output_text = \"\"\n",
    "\t# generate a fixed number of words\n",
    "\t# Encodeamos\n",
    "    encoded = tokenizer.texts_to_sequences([seed_text])[0]\n",
    "\t# Si tienen distinto largo\n",
    "    encoded = pad_sequences([encoded], maxlen=maxlen, padding='pre')\n",
    "\t# Predicción softmax\n",
    "    y_hat = model(torch.from_numpy(encoded)).argmax(axis=-1)\n",
    "    #print(f\"Rating predicted: {y_hat[0]}\")\n",
    "    return y_hat[0]"
   ]
  },
  {
   "cell_type": "code",
   "execution_count": 341,
   "metadata": {},
   "outputs": [
    {
     "name": "stdout",
     "output_type": "stream",
     "text": [
      "Rating predicted: 3\n"
     ]
    },
    {
     "name": "stderr",
     "output_type": "stream",
     "text": [
      "/var/folders/1d/chtcpg0n5m75kwqdhbfl_yt00000gn/T/ipykernel_12542/2866331658.py:31: UserWarning: Implicit dimension choice for softmax has been deprecated. Change the call to include dim=X as an argument.\n",
      "  out = self.softmax(self.fc4(out))\n"
     ]
    }
   ],
   "source": [
    "predict_rating(model2, tok, \"this is beautiful\")"
   ]
  },
  {
   "cell_type": "code",
   "execution_count": 342,
   "metadata": {},
   "outputs": [
    {
     "name": "stdout",
     "output_type": "stream",
     "text": [
      "Rating predicted: 3\n"
     ]
    },
    {
     "name": "stderr",
     "output_type": "stream",
     "text": [
      "/var/folders/1d/chtcpg0n5m75kwqdhbfl_yt00000gn/T/ipykernel_12542/2866331658.py:31: UserWarning: Implicit dimension choice for softmax has been deprecated. Change the call to include dim=X as an argument.\n",
      "  out = self.softmax(self.fc4(out))\n"
     ]
    }
   ],
   "source": [
    "predict_rating(model2, tok, \"AMAZING!\")"
   ]
  },
  {
   "attachments": {},
   "cell_type": "markdown",
   "metadata": {},
   "source": [
    "Chequeo la distribución de predicciones del modelo"
   ]
  },
  {
   "cell_type": "code",
   "execution_count": 397,
   "metadata": {},
   "outputs": [
    {
     "name": "stderr",
     "output_type": "stream",
     "text": [
      "/var/folders/1d/chtcpg0n5m75kwqdhbfl_yt00000gn/T/ipykernel_12542/2866331658.py:31: UserWarning: Implicit dimension choice for softmax has been deprecated. Change the call to include dim=X as an argument.\n",
      "  out = self.softmax(self.fc4(out))\n"
     ]
    },
    {
     "data": {
      "text/plain": [
       "({0: 7, 1: 545, 2: 1203, 3: 2730, 4: 5515},\n",
       " {4: 'Overall, quite good red skirt, though a little clingy material. good that it has lining. the waist is elastic. xs fits great on me (5\\'4\", 120lbs).',\n",
       "  2: \"I was very excited to get this but very disappointed once it arrived. the fabric on the back is thin and clingy. i think you'd have to wear a slip underneath. cute design on the front but sadly it's going back.\",\n",
       "  1: 'These are terribly unflattering the wash looks dirty and the rise is not 10.5 like the description says, which is the only reason i gambled on these it is 13\".',\n",
       "  3: 'Beautiful skirt but runs small. not for eveyone- this is for those with flat stomachs. i had to size up from a 6 to an 8 for my stomach to not stick out in this skirt and then it looked to wide on the bottom and lost the slick pencil look. if you are fit and firm this is a gorgeous skirt. it is lined and fabric somewhat heavy.',\n",
       "  0: 'This dress looks like it could be cute on but when you put it on its just blah. i saw someone else trying it on in the fitting room and she felt the same. not cute, not flattering, the model photo is deceiving. would not recommend, although it looks airy and comfy.'})"
      ]
     },
     "execution_count": 397,
     "metadata": {},
     "output_type": "execute_result"
    }
   ],
   "source": [
    "check_items = 10000\n",
    "\n",
    "count = 0\n",
    "results = {0: 0, 1:0, 2:0, 3:0, 4:0}\n",
    "examples = {}\n",
    "while(count < check_items):\n",
    "    predicted = predict_rating(model2, tok, df_reviews.iloc[count]['Review Text'])\n",
    "    results[predicted.item()] = results[predicted.item()] + 1\n",
    "    examples[predicted.item()] = df_reviews.iloc[count]['Review Text']\n",
    "    count = count + 1\n",
    "\n",
    "results, examples"
   ]
  },
  {
   "cell_type": "code",
   "execution_count": 398,
   "metadata": {},
   "outputs": [
    {
     "name": "stderr",
     "output_type": "stream",
     "text": [
      "/var/folders/1d/chtcpg0n5m75kwqdhbfl_yt00000gn/T/ipykernel_12542/2866331658.py:31: UserWarning: Implicit dimension choice for softmax has been deprecated. Change the call to include dim=X as an argument.\n",
      "  out = self.softmax(self.fc4(out))\n"
     ]
    },
    {
     "data": {
      "text/plain": [
       "tensor(4)"
      ]
     },
     "execution_count": 398,
     "metadata": {},
     "output_type": "execute_result"
    }
   ],
   "source": [
    "predict_rating(model2, tok, \"the chacket is amazing, made me looks great\")"
   ]
  },
  {
   "cell_type": "code",
   "execution_count": 407,
   "metadata": {},
   "outputs": [
    {
     "name": "stderr",
     "output_type": "stream",
     "text": [
      "/var/folders/1d/chtcpg0n5m75kwqdhbfl_yt00000gn/T/ipykernel_12542/2866331658.py:31: UserWarning: Implicit dimension choice for softmax has been deprecated. Change the call to include dim=X as an argument.\n",
      "  out = self.softmax(self.fc4(out))\n"
     ]
    },
    {
     "data": {
      "text/plain": [
       "tensor(2)"
      ]
     },
     "execution_count": 407,
     "metadata": {},
     "output_type": "execute_result"
    }
   ],
   "source": [
    "predict_rating(model2, tok, \"the shirt is not cute, I look terribly using it. The color is not as the picture, I wish light blue but is dark. Buy this was a bad idea\")"
   ]
  },
  {
   "cell_type": "code",
   "execution_count": 410,
   "metadata": {},
   "outputs": [
    {
     "name": "stderr",
     "output_type": "stream",
     "text": [
      "/var/folders/1d/chtcpg0n5m75kwqdhbfl_yt00000gn/T/ipykernel_12542/2866331658.py:31: UserWarning: Implicit dimension choice for softmax has been deprecated. Change the call to include dim=X as an argument.\n",
      "  out = self.softmax(self.fc4(out))\n"
     ]
    },
    {
     "data": {
      "text/plain": [
       "tensor(3)"
      ]
     },
     "execution_count": 410,
     "metadata": {},
     "output_type": "execute_result"
    }
   ],
   "source": [
    "predict_rating(model2, tok, \"It is the better chacket I ever see in my life\")"
   ]
  },
  {
   "attachments": {},
   "cell_type": "markdown",
   "metadata": {},
   "source": [
    "From amazon (Rating: 2)"
   ]
  },
  {
   "cell_type": "code",
   "execution_count": 411,
   "metadata": {},
   "outputs": [
    {
     "name": "stderr",
     "output_type": "stream",
     "text": [
      "/var/folders/1d/chtcpg0n5m75kwqdhbfl_yt00000gn/T/ipykernel_12542/2866331658.py:31: UserWarning: Implicit dimension choice for softmax has been deprecated. Change the call to include dim=X as an argument.\n",
      "  out = self.softmax(self.fc4(out))\n"
     ]
    },
    {
     "data": {
      "text/plain": [
       "tensor(3)"
      ]
     },
     "execution_count": 411,
     "metadata": {},
     "output_type": "execute_result"
    }
   ],
   "source": [
    "predict_rating(model2, tok, \"I received the XL shirt (which is the size of my other shirts) and really was unimpressed. The short is a linen/cotton blend but the material felt rather stiff and thick. The black was a good deep shade but the sizing felt off – not wrong around the body but the arms were longer than expected the cuffs gaping and this would make me say that on the product pictures this might be why all show the sleeves rolled up. Or maybe it is because of the lop-sided arms… Not mine, my arms are not lopsided but the left sleeve rode down to cover over the base of the back of my hand, the right went all the way to my fingers – I hope I just got a randomly misshaped one and this is not the norm, but for me, not great.\")"
   ]
  },
  {
   "attachments": {},
   "cell_type": "markdown",
   "metadata": {},
   "source": [
    "From amazon (Rating: 4)"
   ]
  },
  {
   "cell_type": "code",
   "execution_count": 412,
   "metadata": {},
   "outputs": [
    {
     "name": "stderr",
     "output_type": "stream",
     "text": [
      "/var/folders/1d/chtcpg0n5m75kwqdhbfl_yt00000gn/T/ipykernel_12542/2866331658.py:31: UserWarning: Implicit dimension choice for softmax has been deprecated. Change the call to include dim=X as an argument.\n",
      "  out = self.softmax(self.fc4(out))\n"
     ]
    },
    {
     "data": {
      "text/plain": [
       "tensor(4)"
      ]
     },
     "execution_count": 412,
     "metadata": {},
     "output_type": "execute_result"
    }
   ],
   "source": [
    "predict_rating(model2, tok, \"This cotton linen long sleeve men 's casual shirt is very suitable for wearing in daily life and work, very comfortable and breathable. My husband usually wears the S model, because he likes to wear a little loose, I ordered this L, which is a really soft cotton and linen material, feels very comfortable, and presents his body perfectly. He likes to wear this men 's cotton and linen long-sleeved business shirt, I also like him to wear this cotton and linen shirt, no smell and itching and take care of very convenient, will not appear color and shrinkage of the situation, the seam is also very in place, no extra thread.I highly recommend this long-sleeved linen shirt for men. My husband told me it was the best gift he ever received and he was very happy.\")"
   ]
  }
 ],
 "metadata": {
  "kernelspec": {
   "display_name": "Python 3",
   "language": "python",
   "name": "python3"
  },
  "language_info": {
   "codemirror_mode": {
    "name": "ipython",
    "version": 3
   },
   "file_extension": ".py",
   "mimetype": "text/x-python",
   "name": "python",
   "nbconvert_exporter": "python",
   "pygments_lexer": "ipython3",
   "version": "3.11.0"
  },
  "orig_nbformat": 4
 },
 "nbformat": 4,
 "nbformat_minor": 2
}
