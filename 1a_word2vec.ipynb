{
  "cells": [
    {
      "cell_type": "markdown",
      "metadata": {
        "id": "Ue5hxxkdAQJg"
      },
      "source": [
        "<img src=\"https://github.com/FIUBA-Posgrado-Inteligencia-Artificial/procesamiento_lenguaje_natural/raw/main/logoFIUBA.jpg\" width=\"500\" align=\"center\">\n",
        "\n",
        "\n",
        "# Procesamiento de lenguaje natural\n",
        "## Word2vect\n"
      ]
    },
    {
      "cell_type": "code",
      "execution_count": 107,
      "metadata": {
        "id": "kCED1hh-Ioyf"
      },
      "outputs": [],
      "source": [
        "import numpy as np\n",
        "import math"
      ]
    },
    {
      "cell_type": "code",
      "execution_count": 108,
      "metadata": {
        "id": "PUbfVnzIIoMj"
      },
      "outputs": [],
      "source": [
        "def cosine_similarity(a, b):\n",
        "    return np.dot(a, b) / (np.linalg.norm(a) * (np.linalg.norm(b)))"
      ]
    },
    {
      "cell_type": "markdown",
      "metadata": {
        "id": "DMOa4JPSCJ29"
      },
      "source": [
        "### Datos"
      ]
    },
    {
      "cell_type": "code",
      "execution_count": 109,
      "metadata": {
        "id": "RIO7b8GjAC17"
      },
      "outputs": [],
      "source": [
        "corpus = np.array(['que dia es hoy', 'martes el dia de hoy es martes', 'martes muchas gracias'])"
      ]
    },
    {
      "cell_type": "markdown",
      "metadata": {
        "id": "8WqdaTmO8P1r"
      },
      "source": [
        "Documento 1 --> que dia es hoy \\\n",
        "Documento 2 --> martes el dia de hoy es martes \\\n",
        "Documento 3 --> martes muchas gracias"
      ]
    },
    {
      "cell_type": "markdown",
      "metadata": {
        "id": "FVHxBRNzCMOS"
      },
      "source": [
        "### 1 - Obtener el vocabulario del corpus (los términos utilizados)\n",
        "- Cada documento transformarlo en una lista de términos\n",
        "- Armar un vector de términos no repetidos de todos los documentos"
      ]
    },
    {
      "cell_type": "code",
      "execution_count": 110,
      "metadata": {
        "id": "3ZqTOZzDI7uv"
      },
      "outputs": [],
      "source": [
        "def vocabulary(corpus):\n",
        "  vocabulary = set()\n",
        "  for document in corpus:\n",
        "    for word in document.split():\n",
        "      vocabulary.add(word)\n",
        "\n",
        "  return vocabulary"
      ]
    },
    {
      "cell_type": "markdown",
      "source": [
        "Verificamos la solución"
      ],
      "metadata": {
        "id": "GWUJgnCLgNoZ"
      }
    },
    {
      "cell_type": "code",
      "source": [
        "vocabulary(corpus)"
      ],
      "metadata": {
        "colab": {
          "base_uri": "https://localhost:8080/"
        },
        "id": "8_IpHV4fcupY",
        "outputId": "47ebd1be-fc60-44fd-c92f-3480898523a0"
      },
      "execution_count": 111,
      "outputs": [
        {
          "output_type": "execute_result",
          "data": {
            "text/plain": [
              "{'de', 'dia', 'el', 'es', 'gracias', 'hoy', 'martes', 'muchas', 'que'}"
            ]
          },
          "metadata": {},
          "execution_count": 111
        }
      ]
    },
    {
      "cell_type": "markdown",
      "metadata": {
        "id": "RUhH983FI7It"
      },
      "source": [
        "### 2- OneHot encoding\n",
        "Data una lista de textos, devolver una matriz con la representación oneHotEncoding de estos"
      ]
    },
    {
      "cell_type": "code",
      "execution_count": 112,
      "metadata": {
        "id": "Os0AAQo6I6Z1"
      },
      "outputs": [],
      "source": [
        "def one_hot_encoding(corpus):\n",
        "  voc = list(vocabulary(corpus))\n",
        "  fmatrix = np.zeros((len(corpus), len(voc)))\n",
        "\n",
        "  for i, document in enumerate(corpus):\n",
        "    for word in document.split():\n",
        "      fmatrix[i][voc.index(word)] = 1\n",
        "\n",
        "  return fmatrix.astype(int)"
      ]
    },
    {
      "cell_type": "markdown",
      "source": [
        "Verificamos la solución"
      ],
      "metadata": {
        "id": "306ykmOVgZm1"
      }
    },
    {
      "cell_type": "code",
      "source": [
        "one_hot_encoding(corpus)"
      ],
      "metadata": {
        "colab": {
          "base_uri": "https://localhost:8080/"
        },
        "id": "JUbycSnfgcGX",
        "outputId": "a52cce15-afcc-4382-94bc-fbe3d48c4038"
      },
      "execution_count": 113,
      "outputs": [
        {
          "output_type": "execute_result",
          "data": {
            "text/plain": [
              "array([[1, 0, 1, 0, 0, 0, 1, 0, 1],\n",
              "       [1, 0, 0, 1, 1, 1, 1, 0, 1],\n",
              "       [0, 1, 0, 0, 0, 1, 0, 1, 0]])"
            ]
          },
          "metadata": {},
          "execution_count": 113
        }
      ]
    },
    {
      "cell_type": "markdown",
      "metadata": {
        "id": "IIyWGmCpJVQL"
      },
      "source": [
        "### 3- Vectores de frecuencia\n",
        "Data una lista de textos, devolver una matriz con la representación de frecuencia de estos"
      ]
    },
    {
      "cell_type": "code",
      "execution_count": 114,
      "metadata": {
        "id": "yqij_7eHJbUi"
      },
      "outputs": [],
      "source": [
        "def frequency_matrix(corpus):\n",
        "  voc = list(vocabulary(corpus))\n",
        "  fmatrix = np.zeros((len(corpus), len(voc)))\n",
        "\n",
        "  for i, document in enumerate(corpus):\n",
        "    for word in document.split():\n",
        "      fmatrix[i][voc.index(word)] += 1\n",
        "\n",
        "  return fmatrix.astype(int)"
      ]
    },
    {
      "cell_type": "markdown",
      "source": [
        "Verificamos la solución\n"
      ],
      "metadata": {
        "id": "6K3rvrvEgJnO"
      }
    },
    {
      "cell_type": "code",
      "source": [
        "frequency_matrix(corpus)"
      ],
      "metadata": {
        "colab": {
          "base_uri": "https://localhost:8080/"
        },
        "id": "afugiJQHfj-x",
        "outputId": "66d50839-1987-4aee-8667-e287b019f019"
      },
      "execution_count": 115,
      "outputs": [
        {
          "output_type": "execute_result",
          "data": {
            "text/plain": [
              "array([[1, 0, 1, 0, 0, 0, 1, 0, 1],\n",
              "       [1, 0, 0, 1, 1, 2, 1, 0, 1],\n",
              "       [0, 1, 0, 0, 0, 1, 0, 1, 0]])"
            ]
          },
          "metadata": {},
          "execution_count": 115
        }
      ]
    },
    {
      "cell_type": "markdown",
      "metadata": {
        "id": "z_Ot8HvWJcBu"
      },
      "source": [
        "### 4- TF-IDF\n",
        "Data una lista de textos, devolver una matriz con la representacion TFIDF"
      ]
    },
    {
      "cell_type": "code",
      "source": [
        "def document_frequency(corpus, word):\n",
        "  frequency = 0\n",
        "\n",
        "  for i, document in enumerate(corpus):\n",
        "    for w in document.split():\n",
        "      if word == w:\n",
        "        frequency += 1\n",
        "        break\n",
        "\n",
        "  return frequency"
      ],
      "metadata": {
        "id": "EMgGjFrCrEDo"
      },
      "execution_count": 116,
      "outputs": []
    },
    {
      "cell_type": "code",
      "execution_count": 117,
      "metadata": {
        "id": "waG_oWtpJjRw"
      },
      "outputs": [],
      "source": [
        "def tf_idf_matrix(corpus):\n",
        "  voc = list(vocabulary(corpus))\n",
        "  f_matrix = frequency_matrix(corpus)\n",
        "  documents_count = len(corpus)\n",
        "  matrix = np.zeros((documents_count, len(voc)))\n",
        "\n",
        "  for i, document in enumerate(corpus):\n",
        "    for word in document.split():\n",
        "      index = voc.index(word)\n",
        "      td = f_matrix[i][index]\n",
        "      idf = math.log10(documents_count / document_frequency(corpus, word))\n",
        "      matrix[i][index] = td * idf\n",
        "\n",
        "  return matrix"
      ]
    },
    {
      "cell_type": "markdown",
      "source": [
        "Verificamos la solución"
      ],
      "metadata": {
        "id": "gYRdWIVmjBJU"
      }
    },
    {
      "cell_type": "code",
      "source": [
        "corpus"
      ],
      "metadata": {
        "colab": {
          "base_uri": "https://localhost:8080/"
        },
        "id": "lWR4epbBjI4T",
        "outputId": "13810279-e135-45be-fb3c-273dd00385b7"
      },
      "execution_count": 118,
      "outputs": [
        {
          "output_type": "execute_result",
          "data": {
            "text/plain": [
              "array(['que dia es hoy', 'martes el dia de hoy es martes',\n",
              "       'martes muchas gracias'], dtype='<U30')"
            ]
          },
          "metadata": {},
          "execution_count": 118
        }
      ]
    },
    {
      "cell_type": "code",
      "source": [
        "document_frequency(corpus, 'martes')"
      ],
      "metadata": {
        "colab": {
          "base_uri": "https://localhost:8080/"
        },
        "id": "cv0BdCHkjIWf",
        "outputId": "ef0eade0-fa20-46ab-d675-3f636fdb5e28"
      },
      "execution_count": 119,
      "outputs": [
        {
          "output_type": "execute_result",
          "data": {
            "text/plain": [
              "2"
            ]
          },
          "metadata": {},
          "execution_count": 119
        }
      ]
    },
    {
      "cell_type": "code",
      "source": [
        "tf_idf_matrix(corpus)"
      ],
      "metadata": {
        "colab": {
          "base_uri": "https://localhost:8080/"
        },
        "id": "C0XWkGgwjC-A",
        "outputId": "77c6a927-6fa9-47e3-ffe8-0c7251f62b0d"
      },
      "execution_count": 120,
      "outputs": [
        {
          "output_type": "execute_result",
          "data": {
            "text/plain": [
              "array([[0.17609126, 0.        , 0.47712125, 0.        , 0.        ,\n",
              "        0.        , 0.17609126, 0.        , 0.17609126],\n",
              "       [0.17609126, 0.        , 0.        , 0.47712125, 0.47712125,\n",
              "        0.35218252, 0.17609126, 0.        , 0.17609126],\n",
              "       [0.        , 0.47712125, 0.        , 0.        , 0.        ,\n",
              "        0.17609126, 0.        , 0.47712125, 0.        ]])"
            ]
          },
          "metadata": {},
          "execution_count": 120
        }
      ]
    },
    {
      "cell_type": "markdown",
      "metadata": {
        "id": "xMcsfndWJjm_"
      },
      "source": [
        "### 5 - Comparación de documentos\n",
        "Realizar una funcion que reciba el corpus y el índice de un documento y devuelva los documentos ordenados por la similitud coseno"
      ]
    },
    {
      "cell_type": "code",
      "source": [
        "def compare(item1, item2):\n",
        "    if item1['similarity'] > item2['similarity']:\n",
        "        return -1\n",
        "    elif item1['similarity'] < item2['similarity']:\n",
        "        return 1\n",
        "    else:\n",
        "        return 0"
      ],
      "metadata": {
        "id": "gpdB12hfo8pk"
      },
      "execution_count": 121,
      "outputs": []
    },
    {
      "cell_type": "code",
      "source": [
        "import functools"
      ],
      "metadata": {
        "id": "L06Lf8AynVuG"
      },
      "execution_count": 122,
      "outputs": []
    },
    {
      "cell_type": "code",
      "execution_count": 123,
      "metadata": {
        "id": "CZdiop6IJpZN"
      },
      "outputs": [],
      "source": [
        "def similar_documents_td_ifd(corpus, index):\n",
        "  similarities = list()\n",
        "\n",
        "  td_idf = tf_idf_matrix(corpus)\n",
        "  document = td_idf[index]\n",
        "\n",
        "  for i, d in enumerate(td_idf):\n",
        "    if i == index:\n",
        "      continue\n",
        "    \n",
        "    similarity = cosine_similarity(document, d)\n",
        "    similarities.append({'similarity': similarity, 'document': corpus[i]})\n",
        "\n",
        "  similarities.sort(key=functools.cmp_to_key(compare))\n",
        "  return similarities"
      ]
    },
    {
      "cell_type": "code",
      "source": [
        "def similar_documents_frequency(corpus, index):\n",
        "  similarities = list()\n",
        "\n",
        "  matrix = frequency_matrix(corpus)\n",
        "  document = matrix[index]\n",
        "\n",
        "  for i, d in enumerate(matrix):\n",
        "    if i == index:\n",
        "      continue\n",
        "    \n",
        "    similarity = cosine_similarity(document, d)\n",
        "    similarities.append({'similarity': similarity, 'document': corpus[i]})\n",
        "\n",
        "  similarities.sort(key=functools.cmp_to_key(compare))\n",
        "  return similarities"
      ],
      "metadata": {
        "id": "3LE4a_IlpAcD"
      },
      "execution_count": 124,
      "outputs": []
    },
    {
      "cell_type": "code",
      "source": [
        "def similar_documents_one_hot(corpus, index):\n",
        "  similarities = list()\n",
        "\n",
        "  matrix = one_hot_encoding(corpus)\n",
        "  document = matrix[index]\n",
        "\n",
        "  for i, d in enumerate(matrix):\n",
        "    if i == index:\n",
        "      continue\n",
        "    \n",
        "    similarity = cosine_similarity(document, d)\n",
        "    similarities.append({'similarity': similarity, 'document': corpus[i]})\n",
        "\n",
        "  similarities.sort(key=functools.cmp_to_key(compare))\n",
        "  return similarities"
      ],
      "metadata": {
        "id": "JQN0fc1xpG--"
      },
      "execution_count": 125,
      "outputs": []
    },
    {
      "cell_type": "markdown",
      "source": [
        "Verificamos las comparaciones"
      ],
      "metadata": {
        "id": "zoCJizOupLD3"
      }
    },
    {
      "cell_type": "code",
      "source": [
        "corpus"
      ],
      "metadata": {
        "colab": {
          "base_uri": "https://localhost:8080/"
        },
        "id": "cSc7RjbJkvoK",
        "outputId": "e83f9abd-3d0f-4d36-f2bc-8b1626ebf868"
      },
      "execution_count": 126,
      "outputs": [
        {
          "output_type": "execute_result",
          "data": {
            "text/plain": [
              "array(['que dia es hoy', 'martes el dia de hoy es martes',\n",
              "       'martes muchas gracias'], dtype='<U30')"
            ]
          },
          "metadata": {},
          "execution_count": 126
        }
      ]
    },
    {
      "cell_type": "markdown",
      "source": [
        "Usando TD-IDF"
      ],
      "metadata": {
        "id": "KKC_xoBGpOZo"
      }
    },
    {
      "cell_type": "code",
      "source": [
        "similar_documents_td_ifd(corpus, 2)"
      ],
      "metadata": {
        "colab": {
          "base_uri": "https://localhost:8080/"
        },
        "id": "4yVUO3_ZkxFJ",
        "outputId": "791566a4-72b1-4acb-df6f-ee959b7417d2"
      },
      "execution_count": 127,
      "outputs": [
        {
          "output_type": "execute_result",
          "data": {
            "text/plain": [
              "[{'similarity': 0.10845711727883083,\n",
              "  'document': 'martes el dia de hoy es martes'},\n",
              " {'similarity': 0.0, 'document': 'que dia es hoy'}]"
            ]
          },
          "metadata": {},
          "execution_count": 127
        }
      ]
    },
    {
      "cell_type": "markdown",
      "source": [
        "Usando matriz de frecuencias"
      ],
      "metadata": {
        "id": "hAoWqKYMpRFy"
      }
    },
    {
      "cell_type": "code",
      "source": [
        "similar_documents_frequency(corpus, 2)"
      ],
      "metadata": {
        "colab": {
          "base_uri": "https://localhost:8080/"
        },
        "id": "ZI6XRvBPpTy8",
        "outputId": "d61c6d04-a6df-4c24-80a9-28b54750d0d7"
      },
      "execution_count": 128,
      "outputs": [
        {
          "output_type": "execute_result",
          "data": {
            "text/plain": [
              "[{'similarity': 0.3849001794597505,\n",
              "  'document': 'martes el dia de hoy es martes'},\n",
              " {'similarity': 0.0, 'document': 'que dia es hoy'}]"
            ]
          },
          "metadata": {},
          "execution_count": 128
        }
      ]
    },
    {
      "cell_type": "markdown",
      "source": [
        "Usando one hot encoding"
      ],
      "metadata": {
        "id": "EqmpHaxXpb9s"
      }
    },
    {
      "cell_type": "code",
      "source": [
        "similar_documents_one_hot(corpus, 2)"
      ],
      "metadata": {
        "colab": {
          "base_uri": "https://localhost:8080/"
        },
        "id": "wTaxqK5rpXmR",
        "outputId": "8b135843-face-49d4-adc7-0c05ebf1dd25"
      },
      "execution_count": 129,
      "outputs": [
        {
          "output_type": "execute_result",
          "data": {
            "text/plain": [
              "[{'similarity': 0.23570226039551587,\n",
              "  'document': 'martes el dia de hoy es martes'},\n",
              " {'similarity': 0.0, 'document': 'que dia es hoy'}]"
            ]
          },
          "metadata": {},
          "execution_count": 129
        }
      ]
    },
    {
      "cell_type": "markdown",
      "source": [
        "En conclusión vemos que tanto usando td-idf, matriz de frecuencias y one hot encoding se elije como mas similar al mismo documento, lo que tiene sentido ya que se refiere la afirmación del día actual, lo que difiere son los valores medidos para dicha similaridad, donde se calculó con una mayor similitud entre ambos vectores cuando se uso matriz de frecuencias."
      ],
      "metadata": {
        "id": "sa2uHC9Wpe8-"
      }
    }
  ],
  "metadata": {
    "colab": {
      "provenance": []
    },
    "kernelspec": {
      "display_name": "Python 3.11.0 64-bit ('3.11.0')",
      "language": "python",
      "name": "python3"
    },
    "language_info": {
      "name": "python",
      "version": "3.11.0"
    },
    "vscode": {
      "interpreter": {
        "hash": "cbd221d2bfdf54addb92925bbfbd37cbfb5332c68f6c4463938e0e3e85179b2b"
      }
    }
  },
  "nbformat": 4,
  "nbformat_minor": 0
}