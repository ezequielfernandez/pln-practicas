{
 "cells": [
  {
   "cell_type": "code",
   "execution_count": 2,
   "metadata": {},
   "outputs": [
    {
     "name": "stderr",
     "output_type": "stream",
     "text": [
      "2023-04-30 18:13:33.605108: I tensorflow/core/platform/cpu_feature_guard.cc:182] This TensorFlow binary is optimized to use available CPU instructions in performance-critical operations.\n",
      "To enable the following instructions: AVX2 FMA, in other operations, rebuild TensorFlow with the appropriate compiler flags.\n"
     ]
    }
   ],
   "source": [
    "import random\n",
    "import io\n",
    "import pickle\n",
    "\n",
    "import numpy as np\n",
    "import pandas as pd\n",
    "\n",
    "from tensorflow import keras\n",
    "from tensorflow.keras import layers\n",
    "from keras.utils.np_utils import to_categorical\n",
    "from keras.models import Sequential\n",
    "from keras.layers import Dense, LSTM, Embedding, Dropout\n",
    "from keras.preprocessing.text import Tokenizer # equivalente a ltokenizer de nltk\n",
    "from keras.preprocessing.text import text_to_word_sequence # equivalente a word_teokenize de nltk\n",
    "from keras.utils import pad_sequences # se utilizará para padding\n",
    "from matplotlib import pyplot as plt\n"
   ]
  },
  {
   "attachments": {},
   "cell_type": "markdown",
   "metadata": {},
   "source": [
    "En este caso trabaje con un dataset de noticias de Estados Unidos"
   ]
  },
  {
   "cell_type": "code",
   "execution_count": 3,
   "metadata": {},
   "outputs": [
    {
     "data": {
      "text/html": [
       "<div>\n",
       "<style scoped>\n",
       "    .dataframe tbody tr th:only-of-type {\n",
       "        vertical-align: middle;\n",
       "    }\n",
       "\n",
       "    .dataframe tbody tr th {\n",
       "        vertical-align: top;\n",
       "    }\n",
       "\n",
       "    .dataframe thead th {\n",
       "        text-align: right;\n",
       "    }\n",
       "</style>\n",
       "<table border=\"1\" class=\"dataframe\">\n",
       "  <thead>\n",
       "    <tr style=\"text-align: right;\">\n",
       "      <th></th>\n",
       "      <th>Unnamed: 0</th>\n",
       "      <th>headline</th>\n",
       "      <th>url</th>\n",
       "      <th>publisher</th>\n",
       "      <th>date</th>\n",
       "      <th>stock</th>\n",
       "    </tr>\n",
       "  </thead>\n",
       "  <tbody>\n",
       "    <tr>\n",
       "      <th>0</th>\n",
       "      <td>0</td>\n",
       "      <td>Stocks That Hit 52-Week Highs On Friday</td>\n",
       "      <td>https://www.benzinga.com/news/20/06/16190091/s...</td>\n",
       "      <td>Benzinga Insights</td>\n",
       "      <td>2020-06-05 10:30:54-04:00</td>\n",
       "      <td>A</td>\n",
       "    </tr>\n",
       "    <tr>\n",
       "      <th>1</th>\n",
       "      <td>1</td>\n",
       "      <td>Stocks That Hit 52-Week Highs On Wednesday</td>\n",
       "      <td>https://www.benzinga.com/news/20/06/16170189/s...</td>\n",
       "      <td>Benzinga Insights</td>\n",
       "      <td>2020-06-03 10:45:20-04:00</td>\n",
       "      <td>A</td>\n",
       "    </tr>\n",
       "    <tr>\n",
       "      <th>2</th>\n",
       "      <td>2</td>\n",
       "      <td>71 Biggest Movers From Friday</td>\n",
       "      <td>https://www.benzinga.com/news/20/05/16103463/7...</td>\n",
       "      <td>Lisa Levin</td>\n",
       "      <td>2020-05-26 04:30:07-04:00</td>\n",
       "      <td>A</td>\n",
       "    </tr>\n",
       "    <tr>\n",
       "      <th>3</th>\n",
       "      <td>3</td>\n",
       "      <td>46 Stocks Moving In Friday's Mid-Day Session</td>\n",
       "      <td>https://www.benzinga.com/news/20/05/16095921/4...</td>\n",
       "      <td>Lisa Levin</td>\n",
       "      <td>2020-05-22 12:45:06-04:00</td>\n",
       "      <td>A</td>\n",
       "    </tr>\n",
       "    <tr>\n",
       "      <th>4</th>\n",
       "      <td>4</td>\n",
       "      <td>B of A Securities Maintains Neutral on Agilent...</td>\n",
       "      <td>https://www.benzinga.com/news/20/05/16095304/b...</td>\n",
       "      <td>Vick Meyer</td>\n",
       "      <td>2020-05-22 11:38:59-04:00</td>\n",
       "      <td>A</td>\n",
       "    </tr>\n",
       "  </tbody>\n",
       "</table>\n",
       "</div>"
      ],
      "text/plain": [
       "   Unnamed: 0                                           headline   \n",
       "0           0            Stocks That Hit 52-Week Highs On Friday  \\\n",
       "1           1         Stocks That Hit 52-Week Highs On Wednesday   \n",
       "2           2                      71 Biggest Movers From Friday   \n",
       "3           3       46 Stocks Moving In Friday's Mid-Day Session   \n",
       "4           4  B of A Securities Maintains Neutral on Agilent...   \n",
       "\n",
       "                                                 url          publisher   \n",
       "0  https://www.benzinga.com/news/20/06/16190091/s...  Benzinga Insights  \\\n",
       "1  https://www.benzinga.com/news/20/06/16170189/s...  Benzinga Insights   \n",
       "2  https://www.benzinga.com/news/20/05/16103463/7...         Lisa Levin   \n",
       "3  https://www.benzinga.com/news/20/05/16095921/4...         Lisa Levin   \n",
       "4  https://www.benzinga.com/news/20/05/16095304/b...         Vick Meyer   \n",
       "\n",
       "                        date stock  \n",
       "0  2020-06-05 10:30:54-04:00     A  \n",
       "1  2020-06-03 10:45:20-04:00     A  \n",
       "2  2020-05-26 04:30:07-04:00     A  \n",
       "3  2020-05-22 12:45:06-04:00     A  \n",
       "4  2020-05-22 11:38:59-04:00     A  "
      ]
     },
     "execution_count": 3,
     "metadata": {},
     "output_type": "execute_result"
    }
   ],
   "source": [
    "df = pd.read_csv('datasets/raw_analyst_ratings.csv')\n",
    "\n",
    "df.head()"
   ]
  },
  {
   "cell_type": "code",
   "execution_count": 4,
   "metadata": {},
   "outputs": [
    {
     "data": {
      "text/plain": [
       "Unnamed: 0    0\n",
       "headline      0\n",
       "url           0\n",
       "publisher     0\n",
       "date          0\n",
       "stock         0\n",
       "dtype: int64"
      ]
     },
     "execution_count": 4,
     "metadata": {},
     "output_type": "execute_result"
    }
   ],
   "source": [
    "df = df.dropna().reset_index(drop=True)\n",
    "df.isnull().sum()"
   ]
  },
  {
   "attachments": {},
   "cell_type": "markdown",
   "metadata": {},
   "source": [
    "Entrenaré un modelo usando los títulos de las noticias"
   ]
  },
  {
   "cell_type": "code",
   "execution_count": 5,
   "metadata": {},
   "outputs": [],
   "source": [
    "headline_df = pd.DataFrame(df['headline'])"
   ]
  },
  {
   "cell_type": "code",
   "execution_count": 6,
   "metadata": {},
   "outputs": [
    {
     "name": "stdout",
     "output_type": "stream",
     "text": [
      "Cantidad de documentos: 1407328\n"
     ]
    }
   ],
   "source": [
    "print(\"Cantidad de documentos:\", headline_df.shape[0])"
   ]
  },
  {
   "cell_type": "code",
   "execution_count": 7,
   "metadata": {},
   "outputs": [],
   "source": [
    "# largo de la secuencia, incluye seq input + word output\n",
    "train_len = 3"
   ]
  },
  {
   "cell_type": "code",
   "execution_count": 8,
   "metadata": {},
   "outputs": [
    {
     "data": {
      "text/plain": [
       "0              Stocks That Hit 52-Week Highs On Friday\n",
       "1           Stocks That Hit 52-Week Highs On Wednesday\n",
       "2                        71 Biggest Movers From Friday\n",
       "3         46 Stocks Moving In Friday's Mid-Day Session\n",
       "4    B of A Securities Maintains Neutral on Agilent...\n",
       "Name: headline, dtype: object"
      ]
     },
     "execution_count": 8,
     "metadata": {},
     "output_type": "execute_result"
    }
   ],
   "source": [
    "# Vistazo a las primeras filas\n",
    "headline_df.iloc[:5,0]"
   ]
  },
  {
   "cell_type": "code",
   "execution_count": 9,
   "metadata": {},
   "outputs": [],
   "source": [
    "# Concatenamos todos los rows en un solo valor\n",
    "corpus = headline_df.apply(lambda row: ' '.join(row.values.astype(str)), axis=0)[0]"
   ]
  },
  {
   "cell_type": "code",
   "execution_count": 10,
   "metadata": {},
   "outputs": [
    {
     "data": {
      "text/plain": [
       "104311875"
      ]
     },
     "execution_count": 10,
     "metadata": {},
     "output_type": "execute_result"
    }
   ],
   "source": [
    "len(corpus)"
   ]
  },
  {
   "cell_type": "code",
   "execution_count": 11,
   "metadata": {},
   "outputs": [
    {
     "data": {
      "text/plain": [
       "['stocks', 'that', 'hit', '52', 'week']"
      ]
     },
     "execution_count": 11,
     "metadata": {},
     "output_type": "execute_result"
    }
   ],
   "source": [
    "# Transformar el corpus a tokens\n",
    "tokens=text_to_word_sequence(corpus[:1000000])\n",
    "# Vistazo general de los primeros tokens\n",
    "tokens[:5]"
   ]
  },
  {
   "cell_type": "code",
   "execution_count": 12,
   "metadata": {},
   "outputs": [
    {
     "name": "stdout",
     "output_type": "stream",
     "text": [
      "Cantidad de tokens en el corpus: 163273\n"
     ]
    }
   ],
   "source": [
    "print(\"Cantidad de tokens en el corpus:\", len(tokens))"
   ]
  },
  {
   "cell_type": "code",
   "execution_count": 13,
   "metadata": {},
   "outputs": [],
   "source": [
    "# Código para hacer el desfazaje de las palabras\n",
    "# según el train_len\n",
    "text_sequences = []\n",
    "for i in range(train_len, len(tokens)):\n",
    "  seq = tokens[i-train_len:i]\n",
    "  text_sequences.append(seq)"
   ]
  },
  {
   "cell_type": "code",
   "execution_count": 14,
   "metadata": {},
   "outputs": [
    {
     "data": {
      "text/plain": [
       "[['stocks', 'that', 'hit'],\n",
       " ['that', 'hit', '52'],\n",
       " ['hit', '52', 'week'],\n",
       " ['52', 'week', 'highs']]"
      ]
     },
     "execution_count": 14,
     "metadata": {},
     "output_type": "execute_result"
    }
   ],
   "source": [
    "# Demos un vistazo a nuestros vectores para entrenar el modelo\n",
    "text_sequences[:4]"
   ]
  },
  {
   "cell_type": "code",
   "execution_count": 15,
   "metadata": {},
   "outputs": [
    {
     "data": {
      "text/plain": [
       "[[8, 78, 140], [78, 140, 51], [140, 51, 37], [51, 37, 164]]"
      ]
     },
     "execution_count": 15,
     "metadata": {},
     "output_type": "execute_result"
    }
   ],
   "source": [
    "# Proceso de tokenizacion\n",
    "tok = Tokenizer() \n",
    "tok.fit_on_texts(text_sequences) \n",
    "\n",
    "# Convertimos las palabras a números\n",
    "# entran palabras -> salen números\n",
    "sequences = tok.texts_to_sequences(text_sequences)\n",
    "\n",
    "# Damos un vistazo\n",
    "sequences[:4]"
   ]
  },
  {
   "cell_type": "code",
   "execution_count": 16,
   "metadata": {},
   "outputs": [
    {
     "name": "stdout",
     "output_type": "stream",
     "text": [
      "Cantidad de rows del dataset: 163270\n"
     ]
    }
   ],
   "source": [
    "print(\"Cantidad de rows del dataset:\", len(sequences))"
   ]
  },
  {
   "cell_type": "code",
   "execution_count": 17,
   "metadata": {},
   "outputs": [
    {
     "name": "stdout",
     "output_type": "stream",
     "text": [
      "(163270, 2)\n",
      "(163270,)\n"
     ]
    }
   ],
   "source": [
    "arr_sequences = np.array(sequences)\n",
    "x_data = arr_sequences[:,:-1]\n",
    "y_data_int = arr_sequences[:,-1] # aún falta el oneHotEncoder\n",
    "\n",
    "print(x_data.shape)\n",
    "print(y_data_int.shape)"
   ]
  },
  {
   "cell_type": "code",
   "execution_count": 18,
   "metadata": {},
   "outputs": [
    {
     "data": {
      "text/plain": [
       "12955"
      ]
     },
     "execution_count": 18,
     "metadata": {},
     "output_type": "execute_result"
    }
   ],
   "source": [
    "# Cantidad de palabras en el vocabulario\n",
    "vocab_size = len(tok.word_counts)\n",
    "vocab_size"
   ]
  },
  {
   "cell_type": "code",
   "execution_count": 19,
   "metadata": {},
   "outputs": [
    {
     "data": {
      "text/plain": [
       "(163270, 12955)"
      ]
     },
     "execution_count": 19,
     "metadata": {},
     "output_type": "execute_result"
    }
   ],
   "source": [
    "y_data_int_offset = y_data_int - 1\n",
    "y_data = to_categorical(y_data_int_offset, num_classes=vocab_size) \n",
    "y_data.shape"
   ]
  },
  {
   "cell_type": "code",
   "execution_count": 20,
   "metadata": {},
   "outputs": [
    {
     "data": {
      "text/plain": [
       "2"
      ]
     },
     "execution_count": 20,
     "metadata": {},
     "output_type": "execute_result"
    }
   ],
   "source": [
    "# largo de la secuencia de entrada\n",
    "input_seq_len = x_data.shape[1] \n",
    "input_seq_len"
   ]
  },
  {
   "cell_type": "code",
   "execution_count": 21,
   "metadata": {},
   "outputs": [
    {
     "data": {
      "text/plain": [
       "12955"
      ]
     },
     "execution_count": 21,
     "metadata": {},
     "output_type": "execute_result"
    }
   ],
   "source": [
    "# Largo del vector de salida --> vocab_size\n",
    "output_size = vocab_size\n",
    "output_size"
   ]
  },
  {
   "cell_type": "code",
   "execution_count": 23,
   "metadata": {},
   "outputs": [
    {
     "data": {
      "text/plain": [
       "6031"
      ]
     },
     "execution_count": 23,
     "metadata": {},
     "output_type": "execute_result"
    }
   ],
   "source": [
    "tokens=text_to_word_sequence(corpus[:250000])\n",
    "\n",
    "text_sequences = []\n",
    "for i in range(train_len, len(tokens)):\n",
    "  seq = tokens[i-train_len:i]\n",
    "  text_sequences.append(seq)\n",
    "\n",
    "tok = Tokenizer() \n",
    "tok.fit_on_texts(text_sequences) \n",
    "\n",
    "sequences = tok.texts_to_sequences(text_sequences)\n",
    "\n",
    "arr_sequences = np.array(sequences)\n",
    "x_data = arr_sequences[:,:-1]\n",
    "y_data_int = arr_sequences[:,-1] \n",
    "\n",
    "vocab_size = len(tok.word_counts)\n",
    "vocab_size\n",
    "y_data_int_offset = y_data_int - 1\n",
    "y_data = to_categorical(y_data_int_offset, num_classes=vocab_size) \n",
    "y_data.shape\n",
    "input_seq_len = x_data.shape[1] \n",
    "output_size = vocab_size\n",
    "output_size"
   ]
  },
  {
   "cell_type": "code",
   "execution_count": 27,
   "metadata": {},
   "outputs": [
    {
     "name": "stderr",
     "output_type": "stream",
     "text": [
      "2023-04-30 18:25:05.549329: I tensorflow/core/common_runtime/executor.cc:1197] [/device:CPU:0] (DEBUG INFO) Executor start aborting (this does not indicate an error and you can ignore this message): INVALID_ARGUMENT: You must feed a value for placeholder tensor 'gradients/split_2_grad/concat/split_2/split_dim' with dtype int32\n",
      "\t [[{{node gradients/split_2_grad/concat/split_2/split_dim}}]]\n",
      "2023-04-30 18:25:05.551501: I tensorflow/core/common_runtime/executor.cc:1197] [/device:CPU:0] (DEBUG INFO) Executor start aborting (this does not indicate an error and you can ignore this message): INVALID_ARGUMENT: You must feed a value for placeholder tensor 'gradients/split_grad/concat/split/split_dim' with dtype int32\n",
      "\t [[{{node gradients/split_grad/concat/split/split_dim}}]]\n",
      "2023-04-30 18:25:05.552892: I tensorflow/core/common_runtime/executor.cc:1197] [/device:CPU:0] (DEBUG INFO) Executor start aborting (this does not indicate an error and you can ignore this message): INVALID_ARGUMENT: You must feed a value for placeholder tensor 'gradients/split_1_grad/concat/split_1/split_dim' with dtype int32\n",
      "\t [[{{node gradients/split_1_grad/concat/split_1/split_dim}}]]\n",
      "2023-04-30 18:25:06.135306: I tensorflow/core/common_runtime/executor.cc:1197] [/device:CPU:0] (DEBUG INFO) Executor start aborting (this does not indicate an error and you can ignore this message): INVALID_ARGUMENT: You must feed a value for placeholder tensor 'gradients/split_2_grad/concat/split_2/split_dim' with dtype int32\n",
      "\t [[{{node gradients/split_2_grad/concat/split_2/split_dim}}]]\n",
      "2023-04-30 18:25:06.136441: I tensorflow/core/common_runtime/executor.cc:1197] [/device:CPU:0] (DEBUG INFO) Executor start aborting (this does not indicate an error and you can ignore this message): INVALID_ARGUMENT: You must feed a value for placeholder tensor 'gradients/split_grad/concat/split/split_dim' with dtype int32\n",
      "\t [[{{node gradients/split_grad/concat/split/split_dim}}]]\n",
      "2023-04-30 18:25:06.138131: I tensorflow/core/common_runtime/executor.cc:1197] [/device:CPU:0] (DEBUG INFO) Executor start aborting (this does not indicate an error and you can ignore this message): INVALID_ARGUMENT: You must feed a value for placeholder tensor 'gradients/split_1_grad/concat/split_1/split_dim' with dtype int32\n",
      "\t [[{{node gradients/split_1_grad/concat/split_1/split_dim}}]]\n",
      "2023-04-30 18:25:06.318918: I tensorflow/core/common_runtime/executor.cc:1197] [/device:CPU:0] (DEBUG INFO) Executor start aborting (this does not indicate an error and you can ignore this message): INVALID_ARGUMENT: You must feed a value for placeholder tensor 'gradients/split_2_grad/concat/split_2/split_dim' with dtype int32\n",
      "\t [[{{node gradients/split_2_grad/concat/split_2/split_dim}}]]\n",
      "2023-04-30 18:25:06.320018: I tensorflow/core/common_runtime/executor.cc:1197] [/device:CPU:0] (DEBUG INFO) Executor start aborting (this does not indicate an error and you can ignore this message): INVALID_ARGUMENT: You must feed a value for placeholder tensor 'gradients/split_grad/concat/split/split_dim' with dtype int32\n",
      "\t [[{{node gradients/split_grad/concat/split/split_dim}}]]\n",
      "2023-04-30 18:25:06.321061: I tensorflow/core/common_runtime/executor.cc:1197] [/device:CPU:0] (DEBUG INFO) Executor start aborting (this does not indicate an error and you can ignore this message): INVALID_ARGUMENT: You must feed a value for placeholder tensor 'gradients/split_1_grad/concat/split_1/split_dim' with dtype int32\n",
      "\t [[{{node gradients/split_1_grad/concat/split_1/split_dim}}]]\n",
      "2023-04-30 18:25:06.678449: I tensorflow/core/common_runtime/executor.cc:1197] [/device:CPU:0] (DEBUG INFO) Executor start aborting (this does not indicate an error and you can ignore this message): INVALID_ARGUMENT: You must feed a value for placeholder tensor 'gradients/split_2_grad/concat/split_2/split_dim' with dtype int32\n",
      "\t [[{{node gradients/split_2_grad/concat/split_2/split_dim}}]]\n",
      "2023-04-30 18:25:06.680064: I tensorflow/core/common_runtime/executor.cc:1197] [/device:CPU:0] (DEBUG INFO) Executor start aborting (this does not indicate an error and you can ignore this message): INVALID_ARGUMENT: You must feed a value for placeholder tensor 'gradients/split_grad/concat/split/split_dim' with dtype int32\n",
      "\t [[{{node gradients/split_grad/concat/split/split_dim}}]]\n",
      "2023-04-30 18:25:06.681400: I tensorflow/core/common_runtime/executor.cc:1197] [/device:CPU:0] (DEBUG INFO) Executor start aborting (this does not indicate an error and you can ignore this message): INVALID_ARGUMENT: You must feed a value for placeholder tensor 'gradients/split_1_grad/concat/split_1/split_dim' with dtype int32\n",
      "\t [[{{node gradients/split_1_grad/concat/split_1/split_dim}}]]\n",
      "2023-04-30 18:25:06.873991: I tensorflow/core/common_runtime/executor.cc:1197] [/device:CPU:0] (DEBUG INFO) Executor start aborting (this does not indicate an error and you can ignore this message): INVALID_ARGUMENT: You must feed a value for placeholder tensor 'gradients/split_2_grad/concat/split_2/split_dim' with dtype int32\n",
      "\t [[{{node gradients/split_2_grad/concat/split_2/split_dim}}]]\n",
      "2023-04-30 18:25:06.875398: I tensorflow/core/common_runtime/executor.cc:1197] [/device:CPU:0] (DEBUG INFO) Executor start aborting (this does not indicate an error and you can ignore this message): INVALID_ARGUMENT: You must feed a value for placeholder tensor 'gradients/split_grad/concat/split/split_dim' with dtype int32\n",
      "\t [[{{node gradients/split_grad/concat/split/split_dim}}]]\n",
      "2023-04-30 18:25:06.876498: I tensorflow/core/common_runtime/executor.cc:1197] [/device:CPU:0] (DEBUG INFO) Executor start aborting (this does not indicate an error and you can ignore this message): INVALID_ARGUMENT: You must feed a value for placeholder tensor 'gradients/split_1_grad/concat/split_1/split_dim' with dtype int32\n",
      "\t [[{{node gradients/split_1_grad/concat/split_1/split_dim}}]]\n"
     ]
    },
    {
     "name": "stdout",
     "output_type": "stream",
     "text": [
      "Model: \"sequential_3\"\n",
      "_________________________________________________________________\n",
      " Layer (type)                Output Shape              Param #   \n",
      "=================================================================\n",
      " embedding_3 (Embedding)     (None, 2, 7)              42224     \n",
      "                                                                 \n",
      " lstm_10 (LSTM)              (None, 2, 64)             18432     \n",
      "                                                                 \n",
      " dropout_7 (Dropout)         (None, 2, 64)             0         \n",
      "                                                                 \n",
      " lstm_11 (LSTM)              (None, 2, 64)             33024     \n",
      "                                                                 \n",
      " dropout_8 (Dropout)         (None, 2, 64)             0         \n",
      "                                                                 \n",
      " lstm_12 (LSTM)              (None, 2, 128)            98816     \n",
      "                                                                 \n",
      " dropout_9 (Dropout)         (None, 2, 128)            0         \n",
      "                                                                 \n",
      " lstm_13 (LSTM)              (None, 2, 128)            131584    \n",
      "                                                                 \n",
      " dropout_10 (Dropout)        (None, 2, 128)            0         \n",
      "                                                                 \n",
      " lstm_14 (LSTM)              (None, 64)                49408     \n",
      "                                                                 \n",
      " dense_6 (Dense)             (None, 32)                2080      \n",
      "                                                                 \n",
      " dense_7 (Dense)             (None, 6031)              199023    \n",
      "                                                                 \n",
      "=================================================================\n",
      "Total params: 574,591\n",
      "Trainable params: 574,591\n",
      "Non-trainable params: 0\n",
      "_________________________________________________________________\n"
     ]
    }
   ],
   "source": [
    "model = Sequential()\n",
    "\n",
    "# Embedding:\n",
    "# input_seq_len = 3 --> ingreso 3 palabras\n",
    "# input_dim = vocab_size --> 1628 palabras distintas\n",
    "# output_dim = 5 --> crear embeddings de tamaño 3 (tamaño variable y ajustable)\n",
    "model.add(Embedding(input_dim=vocab_size+1, output_dim=7, input_length=input_seq_len))\n",
    "\n",
    "model.add(LSTM(64, return_sequences=True))\n",
    "model.add(Dropout(0.2))\n",
    "model.add(LSTM(64, return_sequences=True))\n",
    "model.add(Dropout(0.2))\n",
    "model.add(LSTM(128, return_sequences=True))\n",
    "model.add(Dropout(0.2))\n",
    "model.add(LSTM(128, return_sequences=True))\n",
    "model.add(Dropout(0.2))\n",
    "model.add(LSTM(64)) # La última capa LSTM no lleva return_sequences\n",
    "model.add(Dense(32, activation='sigmoid'))\n",
    "\n",
    "# Predicción de clasificación con softmax\n",
    "model.add(Dense(vocab_size, activation='softmax'))\n",
    "\n",
    "# Clasificación multiple categórica --> loss = categorical_crossentropy\n",
    "model.compile(loss='categorical_crossentropy', optimizer='adam', metrics=['accuracy'])\n",
    "\n",
    "model.summary()"
   ]
  },
  {
   "cell_type": "code",
   "execution_count": 28,
   "metadata": {},
   "outputs": [
    {
     "name": "stdout",
     "output_type": "stream",
     "text": [
      "Epoch 1/200\n"
     ]
    },
    {
     "name": "stderr",
     "output_type": "stream",
     "text": [
      "2023-04-30 18:25:15.186266: I tensorflow/core/common_runtime/executor.cc:1197] [/device:CPU:0] (DEBUG INFO) Executor start aborting (this does not indicate an error and you can ignore this message): INVALID_ARGUMENT: You must feed a value for placeholder tensor 'gradients/split_2_grad/concat/split_2/split_dim' with dtype int32\n",
      "\t [[{{node gradients/split_2_grad/concat/split_2/split_dim}}]]\n",
      "2023-04-30 18:25:15.188624: I tensorflow/core/common_runtime/executor.cc:1197] [/device:CPU:0] (DEBUG INFO) Executor start aborting (this does not indicate an error and you can ignore this message): INVALID_ARGUMENT: You must feed a value for placeholder tensor 'gradients/split_grad/concat/split/split_dim' with dtype int32\n",
      "\t [[{{node gradients/split_grad/concat/split/split_dim}}]]\n",
      "2023-04-30 18:25:15.190501: I tensorflow/core/common_runtime/executor.cc:1197] [/device:CPU:0] (DEBUG INFO) Executor start aborting (this does not indicate an error and you can ignore this message): INVALID_ARGUMENT: You must feed a value for placeholder tensor 'gradients/split_1_grad/concat/split_1/split_dim' with dtype int32\n",
      "\t [[{{node gradients/split_1_grad/concat/split_1/split_dim}}]]\n",
      "2023-04-30 18:25:15.548887: I tensorflow/core/common_runtime/executor.cc:1197] [/device:CPU:0] (DEBUG INFO) Executor start aborting (this does not indicate an error and you can ignore this message): INVALID_ARGUMENT: You must feed a value for placeholder tensor 'gradients/split_2_grad/concat/split_2/split_dim' with dtype int32\n",
      "\t [[{{node gradients/split_2_grad/concat/split_2/split_dim}}]]\n",
      "2023-04-30 18:25:15.550859: I tensorflow/core/common_runtime/executor.cc:1197] [/device:CPU:0] (DEBUG INFO) Executor start aborting (this does not indicate an error and you can ignore this message): INVALID_ARGUMENT: You must feed a value for placeholder tensor 'gradients/split_grad/concat/split/split_dim' with dtype int32\n",
      "\t [[{{node gradients/split_grad/concat/split/split_dim}}]]\n",
      "2023-04-30 18:25:15.552551: I tensorflow/core/common_runtime/executor.cc:1197] [/device:CPU:0] (DEBUG INFO) Executor start aborting (this does not indicate an error and you can ignore this message): INVALID_ARGUMENT: You must feed a value for placeholder tensor 'gradients/split_1_grad/concat/split_1/split_dim' with dtype int32\n",
      "\t [[{{node gradients/split_1_grad/concat/split_1/split_dim}}]]\n",
      "2023-04-30 18:25:15.768971: I tensorflow/core/common_runtime/executor.cc:1197] [/device:CPU:0] (DEBUG INFO) Executor start aborting (this does not indicate an error and you can ignore this message): INVALID_ARGUMENT: You must feed a value for placeholder tensor 'gradients/split_2_grad/concat/split_2/split_dim' with dtype int32\n",
      "\t [[{{node gradients/split_2_grad/concat/split_2/split_dim}}]]\n",
      "2023-04-30 18:25:15.771425: I tensorflow/core/common_runtime/executor.cc:1197] [/device:CPU:0] (DEBUG INFO) Executor start aborting (this does not indicate an error and you can ignore this message): INVALID_ARGUMENT: You must feed a value for placeholder tensor 'gradients/split_grad/concat/split/split_dim' with dtype int32\n",
      "\t [[{{node gradients/split_grad/concat/split/split_dim}}]]\n",
      "2023-04-30 18:25:15.773930: I tensorflow/core/common_runtime/executor.cc:1197] [/device:CPU:0] (DEBUG INFO) Executor start aborting (this does not indicate an error and you can ignore this message): INVALID_ARGUMENT: You must feed a value for placeholder tensor 'gradients/split_1_grad/concat/split_1/split_dim' with dtype int32\n",
      "\t [[{{node gradients/split_1_grad/concat/split_1/split_dim}}]]\n",
      "2023-04-30 18:25:15.996302: I tensorflow/core/common_runtime/executor.cc:1197] [/device:CPU:0] (DEBUG INFO) Executor start aborting (this does not indicate an error and you can ignore this message): INVALID_ARGUMENT: You must feed a value for placeholder tensor 'gradients/split_2_grad/concat/split_2/split_dim' with dtype int32\n",
      "\t [[{{node gradients/split_2_grad/concat/split_2/split_dim}}]]\n",
      "2023-04-30 18:25:15.998245: I tensorflow/core/common_runtime/executor.cc:1197] [/device:CPU:0] (DEBUG INFO) Executor start aborting (this does not indicate an error and you can ignore this message): INVALID_ARGUMENT: You must feed a value for placeholder tensor 'gradients/split_grad/concat/split/split_dim' with dtype int32\n",
      "\t [[{{node gradients/split_grad/concat/split/split_dim}}]]\n",
      "2023-04-30 18:25:15.999580: I tensorflow/core/common_runtime/executor.cc:1197] [/device:CPU:0] (DEBUG INFO) Executor start aborting (this does not indicate an error and you can ignore this message): INVALID_ARGUMENT: You must feed a value for placeholder tensor 'gradients/split_1_grad/concat/split_1/split_dim' with dtype int32\n",
      "\t [[{{node gradients/split_1_grad/concat/split_1/split_dim}}]]\n",
      "2023-04-30 18:25:16.216083: I tensorflow/core/common_runtime/executor.cc:1197] [/device:CPU:0] (DEBUG INFO) Executor start aborting (this does not indicate an error and you can ignore this message): INVALID_ARGUMENT: You must feed a value for placeholder tensor 'gradients/split_2_grad/concat/split_2/split_dim' with dtype int32\n",
      "\t [[{{node gradients/split_2_grad/concat/split_2/split_dim}}]]\n",
      "2023-04-30 18:25:16.217616: I tensorflow/core/common_runtime/executor.cc:1197] [/device:CPU:0] (DEBUG INFO) Executor start aborting (this does not indicate an error and you can ignore this message): INVALID_ARGUMENT: You must feed a value for placeholder tensor 'gradients/split_grad/concat/split/split_dim' with dtype int32\n",
      "\t [[{{node gradients/split_grad/concat/split/split_dim}}]]\n",
      "2023-04-30 18:25:16.218843: I tensorflow/core/common_runtime/executor.cc:1197] [/device:CPU:0] (DEBUG INFO) Executor start aborting (this does not indicate an error and you can ignore this message): INVALID_ARGUMENT: You must feed a value for placeholder tensor 'gradients/split_1_grad/concat/split_1/split_dim' with dtype int32\n",
      "\t [[{{node gradients/split_1_grad/concat/split_1/split_dim}}]]\n",
      "2023-04-30 18:25:18.516281: I tensorflow/core/common_runtime/executor.cc:1197] [/device:CPU:0] (DEBUG INFO) Executor start aborting (this does not indicate an error and you can ignore this message): INVALID_ARGUMENT: You must feed a value for placeholder tensor 'gradients/split_2_grad/concat/split_2/split_dim' with dtype int32\n",
      "\t [[{{node gradients/split_2_grad/concat/split_2/split_dim}}]]\n",
      "2023-04-30 18:25:18.518014: I tensorflow/core/common_runtime/executor.cc:1197] [/device:CPU:0] (DEBUG INFO) Executor start aborting (this does not indicate an error and you can ignore this message): INVALID_ARGUMENT: You must feed a value for placeholder tensor 'gradients/split_grad/concat/split/split_dim' with dtype int32\n",
      "\t [[{{node gradients/split_grad/concat/split/split_dim}}]]\n",
      "2023-04-30 18:25:18.519449: I tensorflow/core/common_runtime/executor.cc:1197] [/device:CPU:0] (DEBUG INFO) Executor start aborting (this does not indicate an error and you can ignore this message): INVALID_ARGUMENT: You must feed a value for placeholder tensor 'gradients/split_1_grad/concat/split_1/split_dim' with dtype int32\n",
      "\t [[{{node gradients/split_1_grad/concat/split_1/split_dim}}]]\n",
      "2023-04-30 18:25:18.725076: I tensorflow/core/common_runtime/executor.cc:1197] [/device:CPU:0] (DEBUG INFO) Executor start aborting (this does not indicate an error and you can ignore this message): INVALID_ARGUMENT: You must feed a value for placeholder tensor 'gradients/split_2_grad/concat/split_2/split_dim' with dtype int32\n",
      "\t [[{{node gradients/split_2_grad/concat/split_2/split_dim}}]]\n",
      "2023-04-30 18:25:18.727281: I tensorflow/core/common_runtime/executor.cc:1197] [/device:CPU:0] (DEBUG INFO) Executor start aborting (this does not indicate an error and you can ignore this message): INVALID_ARGUMENT: You must feed a value for placeholder tensor 'gradients/split_grad/concat/split/split_dim' with dtype int32\n",
      "\t [[{{node gradients/split_grad/concat/split/split_dim}}]]\n",
      "2023-04-30 18:25:18.728645: I tensorflow/core/common_runtime/executor.cc:1197] [/device:CPU:0] (DEBUG INFO) Executor start aborting (this does not indicate an error and you can ignore this message): INVALID_ARGUMENT: You must feed a value for placeholder tensor 'gradients/split_1_grad/concat/split_1/split_dim' with dtype int32\n",
      "\t [[{{node gradients/split_1_grad/concat/split_1/split_dim}}]]\n",
      "2023-04-30 18:25:18.939585: I tensorflow/core/common_runtime/executor.cc:1197] [/device:CPU:0] (DEBUG INFO) Executor start aborting (this does not indicate an error and you can ignore this message): INVALID_ARGUMENT: You must feed a value for placeholder tensor 'gradients/split_2_grad/concat/split_2/split_dim' with dtype int32\n",
      "\t [[{{node gradients/split_2_grad/concat/split_2/split_dim}}]]\n",
      "2023-04-30 18:25:18.941442: I tensorflow/core/common_runtime/executor.cc:1197] [/device:CPU:0] (DEBUG INFO) Executor start aborting (this does not indicate an error and you can ignore this message): INVALID_ARGUMENT: You must feed a value for placeholder tensor 'gradients/split_grad/concat/split/split_dim' with dtype int32\n",
      "\t [[{{node gradients/split_grad/concat/split/split_dim}}]]\n",
      "2023-04-30 18:25:18.942779: I tensorflow/core/common_runtime/executor.cc:1197] [/device:CPU:0] (DEBUG INFO) Executor start aborting (this does not indicate an error and you can ignore this message): INVALID_ARGUMENT: You must feed a value for placeholder tensor 'gradients/split_1_grad/concat/split_1/split_dim' with dtype int32\n",
      "\t [[{{node gradients/split_1_grad/concat/split_1/split_dim}}]]\n",
      "2023-04-30 18:25:19.147511: I tensorflow/core/common_runtime/executor.cc:1197] [/device:CPU:0] (DEBUG INFO) Executor start aborting (this does not indicate an error and you can ignore this message): INVALID_ARGUMENT: You must feed a value for placeholder tensor 'gradients/split_2_grad/concat/split_2/split_dim' with dtype int32\n",
      "\t [[{{node gradients/split_2_grad/concat/split_2/split_dim}}]]\n",
      "2023-04-30 18:25:19.148837: I tensorflow/core/common_runtime/executor.cc:1197] [/device:CPU:0] (DEBUG INFO) Executor start aborting (this does not indicate an error and you can ignore this message): INVALID_ARGUMENT: You must feed a value for placeholder tensor 'gradients/split_grad/concat/split/split_dim' with dtype int32\n",
      "\t [[{{node gradients/split_grad/concat/split/split_dim}}]]\n",
      "2023-04-30 18:25:19.150161: I tensorflow/core/common_runtime/executor.cc:1197] [/device:CPU:0] (DEBUG INFO) Executor start aborting (this does not indicate an error and you can ignore this message): INVALID_ARGUMENT: You must feed a value for placeholder tensor 'gradients/split_1_grad/concat/split_1/split_dim' with dtype int32\n",
      "\t [[{{node gradients/split_1_grad/concat/split_1/split_dim}}]]\n",
      "2023-04-30 18:25:19.359797: I tensorflow/core/common_runtime/executor.cc:1197] [/device:CPU:0] (DEBUG INFO) Executor start aborting (this does not indicate an error and you can ignore this message): INVALID_ARGUMENT: You must feed a value for placeholder tensor 'gradients/split_2_grad/concat/split_2/split_dim' with dtype int32\n",
      "\t [[{{node gradients/split_2_grad/concat/split_2/split_dim}}]]\n",
      "2023-04-30 18:25:19.362054: I tensorflow/core/common_runtime/executor.cc:1197] [/device:CPU:0] (DEBUG INFO) Executor start aborting (this does not indicate an error and you can ignore this message): INVALID_ARGUMENT: You must feed a value for placeholder tensor 'gradients/split_grad/concat/split/split_dim' with dtype int32\n",
      "\t [[{{node gradients/split_grad/concat/split/split_dim}}]]\n",
      "2023-04-30 18:25:19.363479: I tensorflow/core/common_runtime/executor.cc:1197] [/device:CPU:0] (DEBUG INFO) Executor start aborting (this does not indicate an error and you can ignore this message): INVALID_ARGUMENT: You must feed a value for placeholder tensor 'gradients/split_1_grad/concat/split_1/split_dim' with dtype int32\n",
      "\t [[{{node gradients/split_1_grad/concat/split_1/split_dim}}]]\n"
     ]
    },
    {
     "name": "stdout",
     "output_type": "stream",
     "text": [
      "1015/1016 [============================>.] - ETA: 0s - loss: 7.2956 - accuracy: 0.0232"
     ]
    },
    {
     "name": "stderr",
     "output_type": "stream",
     "text": [
      "2023-04-30 18:25:43.357213: I tensorflow/core/common_runtime/executor.cc:1197] [/device:CPU:0] (DEBUG INFO) Executor start aborting (this does not indicate an error and you can ignore this message): INVALID_ARGUMENT: You must feed a value for placeholder tensor 'gradients/split_2_grad/concat/split_2/split_dim' with dtype int32\n",
      "\t [[{{node gradients/split_2_grad/concat/split_2/split_dim}}]]\n",
      "2023-04-30 18:25:43.359803: I tensorflow/core/common_runtime/executor.cc:1197] [/device:CPU:0] (DEBUG INFO) Executor start aborting (this does not indicate an error and you can ignore this message): INVALID_ARGUMENT: You must feed a value for placeholder tensor 'gradients/split_grad/concat/split/split_dim' with dtype int32\n",
      "\t [[{{node gradients/split_grad/concat/split/split_dim}}]]\n",
      "2023-04-30 18:25:43.361222: I tensorflow/core/common_runtime/executor.cc:1197] [/device:CPU:0] (DEBUG INFO) Executor start aborting (this does not indicate an error and you can ignore this message): INVALID_ARGUMENT: You must feed a value for placeholder tensor 'gradients/split_1_grad/concat/split_1/split_dim' with dtype int32\n",
      "\t [[{{node gradients/split_1_grad/concat/split_1/split_dim}}]]\n",
      "2023-04-30 18:25:43.608833: I tensorflow/core/common_runtime/executor.cc:1197] [/device:CPU:0] (DEBUG INFO) Executor start aborting (this does not indicate an error and you can ignore this message): INVALID_ARGUMENT: You must feed a value for placeholder tensor 'gradients/split_2_grad/concat/split_2/split_dim' with dtype int32\n",
      "\t [[{{node gradients/split_2_grad/concat/split_2/split_dim}}]]\n",
      "2023-04-30 18:25:43.610668: I tensorflow/core/common_runtime/executor.cc:1197] [/device:CPU:0] (DEBUG INFO) Executor start aborting (this does not indicate an error and you can ignore this message): INVALID_ARGUMENT: You must feed a value for placeholder tensor 'gradients/split_grad/concat/split/split_dim' with dtype int32\n",
      "\t [[{{node gradients/split_grad/concat/split/split_dim}}]]\n",
      "2023-04-30 18:25:43.612417: I tensorflow/core/common_runtime/executor.cc:1197] [/device:CPU:0] (DEBUG INFO) Executor start aborting (this does not indicate an error and you can ignore this message): INVALID_ARGUMENT: You must feed a value for placeholder tensor 'gradients/split_1_grad/concat/split_1/split_dim' with dtype int32\n",
      "\t [[{{node gradients/split_1_grad/concat/split_1/split_dim}}]]\n",
      "2023-04-30 18:25:43.878424: I tensorflow/core/common_runtime/executor.cc:1197] [/device:CPU:0] (DEBUG INFO) Executor start aborting (this does not indicate an error and you can ignore this message): INVALID_ARGUMENT: You must feed a value for placeholder tensor 'gradients/split_2_grad/concat/split_2/split_dim' with dtype int32\n",
      "\t [[{{node gradients/split_2_grad/concat/split_2/split_dim}}]]\n",
      "2023-04-30 18:25:43.880376: I tensorflow/core/common_runtime/executor.cc:1197] [/device:CPU:0] (DEBUG INFO) Executor start aborting (this does not indicate an error and you can ignore this message): INVALID_ARGUMENT: You must feed a value for placeholder tensor 'gradients/split_grad/concat/split/split_dim' with dtype int32\n",
      "\t [[{{node gradients/split_grad/concat/split/split_dim}}]]\n",
      "2023-04-30 18:25:43.881760: I tensorflow/core/common_runtime/executor.cc:1197] [/device:CPU:0] (DEBUG INFO) Executor start aborting (this does not indicate an error and you can ignore this message): INVALID_ARGUMENT: You must feed a value for placeholder tensor 'gradients/split_1_grad/concat/split_1/split_dim' with dtype int32\n",
      "\t [[{{node gradients/split_1_grad/concat/split_1/split_dim}}]]\n",
      "2023-04-30 18:25:44.128835: I tensorflow/core/common_runtime/executor.cc:1197] [/device:CPU:0] (DEBUG INFO) Executor start aborting (this does not indicate an error and you can ignore this message): INVALID_ARGUMENT: You must feed a value for placeholder tensor 'gradients/split_2_grad/concat/split_2/split_dim' with dtype int32\n",
      "\t [[{{node gradients/split_2_grad/concat/split_2/split_dim}}]]\n",
      "2023-04-30 18:25:44.130064: I tensorflow/core/common_runtime/executor.cc:1197] [/device:CPU:0] (DEBUG INFO) Executor start aborting (this does not indicate an error and you can ignore this message): INVALID_ARGUMENT: You must feed a value for placeholder tensor 'gradients/split_grad/concat/split/split_dim' with dtype int32\n",
      "\t [[{{node gradients/split_grad/concat/split/split_dim}}]]\n",
      "2023-04-30 18:25:44.131578: I tensorflow/core/common_runtime/executor.cc:1197] [/device:CPU:0] (DEBUG INFO) Executor start aborting (this does not indicate an error and you can ignore this message): INVALID_ARGUMENT: You must feed a value for placeholder tensor 'gradients/split_1_grad/concat/split_1/split_dim' with dtype int32\n",
      "\t [[{{node gradients/split_1_grad/concat/split_1/split_dim}}]]\n",
      "2023-04-30 18:25:44.380489: I tensorflow/core/common_runtime/executor.cc:1197] [/device:CPU:0] (DEBUG INFO) Executor start aborting (this does not indicate an error and you can ignore this message): INVALID_ARGUMENT: You must feed a value for placeholder tensor 'gradients/split_2_grad/concat/split_2/split_dim' with dtype int32\n",
      "\t [[{{node gradients/split_2_grad/concat/split_2/split_dim}}]]\n",
      "2023-04-30 18:25:44.381892: I tensorflow/core/common_runtime/executor.cc:1197] [/device:CPU:0] (DEBUG INFO) Executor start aborting (this does not indicate an error and you can ignore this message): INVALID_ARGUMENT: You must feed a value for placeholder tensor 'gradients/split_grad/concat/split/split_dim' with dtype int32\n",
      "\t [[{{node gradients/split_grad/concat/split/split_dim}}]]\n",
      "2023-04-30 18:25:44.383277: I tensorflow/core/common_runtime/executor.cc:1197] [/device:CPU:0] (DEBUG INFO) Executor start aborting (this does not indicate an error and you can ignore this message): INVALID_ARGUMENT: You must feed a value for placeholder tensor 'gradients/split_1_grad/concat/split_1/split_dim' with dtype int32\n",
      "\t [[{{node gradients/split_1_grad/concat/split_1/split_dim}}]]\n"
     ]
    },
    {
     "name": "stdout",
     "output_type": "stream",
     "text": [
      "1016/1016 [==============================] - 32s 22ms/step - loss: 7.2955 - accuracy: 0.0232 - val_loss: 7.2489 - val_accuracy: 0.0282\n",
      "Epoch 2/200\n",
      "1016/1016 [==============================] - 23s 23ms/step - loss: 6.8449 - accuracy: 0.0229 - val_loss: 7.3039 - val_accuracy: 0.0199\n",
      "Epoch 3/200\n",
      "1016/1016 [==============================] - 22s 21ms/step - loss: 6.7119 - accuracy: 0.0277 - val_loss: 7.3572 - val_accuracy: 0.0430\n",
      "Epoch 4/200\n",
      "1016/1016 [==============================] - 21s 21ms/step - loss: 6.5982 - accuracy: 0.0348 - val_loss: 7.4165 - val_accuracy: 0.0265\n",
      "Epoch 5/200\n",
      "1016/1016 [==============================] - 23s 22ms/step - loss: 6.4963 - accuracy: 0.0399 - val_loss: 7.4863 - val_accuracy: 0.0294\n",
      "Epoch 6/200\n",
      "1016/1016 [==============================] - 21s 21ms/step - loss: 6.3989 - accuracy: 0.0462 - val_loss: 7.5481 - val_accuracy: 0.0242\n",
      "Epoch 7/200\n",
      "1016/1016 [==============================] - 22s 21ms/step - loss: 6.3087 - accuracy: 0.0535 - val_loss: 7.6165 - val_accuracy: 0.0283\n",
      "Epoch 8/200\n",
      "1016/1016 [==============================] - 22s 22ms/step - loss: 6.2233 - accuracy: 0.0578 - val_loss: 7.6867 - val_accuracy: 0.0302\n",
      "Epoch 9/200\n",
      "1016/1016 [==============================] - 22s 22ms/step - loss: 6.1487 - accuracy: 0.0611 - val_loss: 7.7645 - val_accuracy: 0.0279\n",
      "Epoch 10/200\n",
      "1016/1016 [==============================] - 23s 23ms/step - loss: 6.0770 - accuracy: 0.0635 - val_loss: 7.8314 - val_accuracy: 0.0306\n",
      "Epoch 11/200\n",
      "1016/1016 [==============================] - 23s 22ms/step - loss: 6.0119 - accuracy: 0.0675 - val_loss: 7.8759 - val_accuracy: 0.0394\n",
      "Epoch 12/200\n",
      "1016/1016 [==============================] - 22s 22ms/step - loss: 5.9497 - accuracy: 0.0715 - val_loss: 7.9621 - val_accuracy: 0.0364\n",
      "Epoch 13/200\n",
      "1016/1016 [==============================] - 23s 23ms/step - loss: 5.8931 - accuracy: 0.0751 - val_loss: 8.0534 - val_accuracy: 0.0425\n",
      "Epoch 14/200\n",
      "1016/1016 [==============================] - 23s 22ms/step - loss: 5.8355 - accuracy: 0.0787 - val_loss: 8.1467 - val_accuracy: 0.0449\n",
      "Epoch 15/200\n",
      "1016/1016 [==============================] - 24s 24ms/step - loss: 5.7801 - accuracy: 0.0812 - val_loss: 8.2137 - val_accuracy: 0.0469\n",
      "Epoch 16/200\n",
      "1016/1016 [==============================] - 24s 24ms/step - loss: 5.7221 - accuracy: 0.0843 - val_loss: 8.2862 - val_accuracy: 0.0490\n",
      "Epoch 17/200\n",
      "1016/1016 [==============================] - 23s 23ms/step - loss: 5.6785 - accuracy: 0.0847 - val_loss: 8.3459 - val_accuracy: 0.0551\n",
      "Epoch 18/200\n",
      "1016/1016 [==============================] - 25s 24ms/step - loss: 5.6311 - accuracy: 0.0884 - val_loss: 8.4308 - val_accuracy: 0.0503\n",
      "Epoch 19/200\n",
      "1016/1016 [==============================] - 24s 24ms/step - loss: 5.5903 - accuracy: 0.0888 - val_loss: 8.4826 - val_accuracy: 0.0463\n",
      "Epoch 20/200\n",
      "1016/1016 [==============================] - 23s 23ms/step - loss: 5.5479 - accuracy: 0.0904 - val_loss: 8.6485 - val_accuracy: 0.0484\n",
      "Epoch 21/200\n",
      "1016/1016 [==============================] - 24s 23ms/step - loss: 5.5118 - accuracy: 0.0911 - val_loss: 8.6509 - val_accuracy: 0.0540\n",
      "Epoch 22/200\n",
      "1016/1016 [==============================] - 24s 24ms/step - loss: 5.4758 - accuracy: 0.0940 - val_loss: 8.7320 - val_accuracy: 0.0499\n",
      "Epoch 23/200\n",
      "1016/1016 [==============================] - 24s 24ms/step - loss: 5.4476 - accuracy: 0.0936 - val_loss: 8.7806 - val_accuracy: 0.0503\n",
      "Epoch 24/200\n",
      "1016/1016 [==============================] - 23s 23ms/step - loss: 5.4153 - accuracy: 0.0972 - val_loss: 8.8663 - val_accuracy: 0.0503\n",
      "Epoch 25/200\n",
      "1016/1016 [==============================] - 25s 24ms/step - loss: 5.3864 - accuracy: 0.0983 - val_loss: 8.9543 - val_accuracy: 0.0544\n",
      "Epoch 26/200\n",
      "1016/1016 [==============================] - 24s 24ms/step - loss: 5.3551 - accuracy: 0.0998 - val_loss: 8.9913 - val_accuracy: 0.0517\n",
      "Epoch 27/200\n",
      "1016/1016 [==============================] - 24s 24ms/step - loss: 5.3307 - accuracy: 0.1009 - val_loss: 9.0882 - val_accuracy: 0.0508\n",
      "Epoch 28/200\n",
      "1016/1016 [==============================] - 25s 24ms/step - loss: 5.3008 - accuracy: 0.1022 - val_loss: 9.1340 - val_accuracy: 0.0502\n",
      "Epoch 29/200\n",
      "1016/1016 [==============================] - 24s 23ms/step - loss: 5.2799 - accuracy: 0.1030 - val_loss: 9.1974 - val_accuracy: 0.0544\n",
      "Epoch 30/200\n",
      "1016/1016 [==============================] - 24s 24ms/step - loss: 5.2561 - accuracy: 0.1042 - val_loss: 9.2562 - val_accuracy: 0.0485\n",
      "Epoch 31/200\n",
      "1016/1016 [==============================] - 24s 24ms/step - loss: 5.2313 - accuracy: 0.1064 - val_loss: 9.2935 - val_accuracy: 0.0548\n",
      "Epoch 32/200\n",
      "1016/1016 [==============================] - 24s 24ms/step - loss: 5.2116 - accuracy: 0.1080 - val_loss: 9.3679 - val_accuracy: 0.0564\n",
      "Epoch 33/200\n",
      "1016/1016 [==============================] - 25s 24ms/step - loss: 5.1947 - accuracy: 0.1082 - val_loss: 9.3961 - val_accuracy: 0.0518\n",
      "Epoch 34/200\n",
      "1016/1016 [==============================] - 24s 24ms/step - loss: 5.1665 - accuracy: 0.1120 - val_loss: 9.4649 - val_accuracy: 0.0528\n",
      "Epoch 35/200\n",
      "1016/1016 [==============================] - 24s 24ms/step - loss: 5.1519 - accuracy: 0.1112 - val_loss: 9.4811 - val_accuracy: 0.0556\n",
      "Epoch 36/200\n",
      "1016/1016 [==============================] - 24s 24ms/step - loss: 5.1282 - accuracy: 0.1144 - val_loss: 9.4980 - val_accuracy: 0.0527\n",
      "Epoch 37/200\n",
      "1016/1016 [==============================] - 24s 24ms/step - loss: 5.1126 - accuracy: 0.1158 - val_loss: 9.6062 - val_accuracy: 0.0503\n",
      "Epoch 38/200\n",
      "1016/1016 [==============================] - 25s 24ms/step - loss: 5.0880 - accuracy: 0.1177 - val_loss: 9.6259 - val_accuracy: 0.0561\n",
      "Epoch 39/200\n",
      "1016/1016 [==============================] - 24s 24ms/step - loss: 5.0734 - accuracy: 0.1190 - val_loss: 9.6567 - val_accuracy: 0.0592\n",
      "Epoch 40/200\n",
      "1016/1016 [==============================] - 24s 24ms/step - loss: 5.0476 - accuracy: 0.1213 - val_loss: 9.6951 - val_accuracy: 0.0545\n",
      "Epoch 41/200\n",
      "1016/1016 [==============================] - 25s 25ms/step - loss: 5.0374 - accuracy: 0.1218 - val_loss: 9.7654 - val_accuracy: 0.0566\n",
      "Epoch 42/200\n",
      "1016/1016 [==============================] - 24s 24ms/step - loss: 5.0172 - accuracy: 0.1261 - val_loss: 9.7758 - val_accuracy: 0.0593\n",
      "Epoch 43/200\n",
      "1016/1016 [==============================] - 25s 25ms/step - loss: 5.0001 - accuracy: 0.1262 - val_loss: 9.8077 - val_accuracy: 0.0564\n",
      "Epoch 44/200\n",
      "1016/1016 [==============================] - 25s 25ms/step - loss: 4.9860 - accuracy: 0.1264 - val_loss: 9.9139 - val_accuracy: 0.0611\n",
      "Epoch 45/200\n",
      "1016/1016 [==============================] - 24s 23ms/step - loss: 4.9677 - accuracy: 0.1287 - val_loss: 9.8982 - val_accuracy: 0.0585\n",
      "Epoch 46/200\n",
      "1016/1016 [==============================] - 24s 24ms/step - loss: 4.9498 - accuracy: 0.1309 - val_loss: 9.9650 - val_accuracy: 0.0601\n",
      "Epoch 47/200\n",
      "1016/1016 [==============================] - 24s 24ms/step - loss: 4.9370 - accuracy: 0.1294 - val_loss: 9.9895 - val_accuracy: 0.0593\n",
      "Epoch 48/200\n",
      "1016/1016 [==============================] - 24s 24ms/step - loss: 4.9208 - accuracy: 0.1317 - val_loss: 10.0564 - val_accuracy: 0.0576\n",
      "Epoch 49/200\n",
      "1016/1016 [==============================] - 24s 24ms/step - loss: 4.9018 - accuracy: 0.1344 - val_loss: 10.0678 - val_accuracy: 0.0661\n",
      "Epoch 50/200\n",
      "1016/1016 [==============================] - 24s 24ms/step - loss: 4.8897 - accuracy: 0.1334 - val_loss: 10.1767 - val_accuracy: 0.0567\n",
      "Epoch 51/200\n",
      "1016/1016 [==============================] - 24s 24ms/step - loss: 4.8714 - accuracy: 0.1368 - val_loss: 10.1344 - val_accuracy: 0.0631\n",
      "Epoch 52/200\n",
      "1016/1016 [==============================] - 25s 24ms/step - loss: 4.8626 - accuracy: 0.1380 - val_loss: 10.2390 - val_accuracy: 0.0571\n",
      "Epoch 53/200\n",
      "1016/1016 [==============================] - 26s 26ms/step - loss: 4.8534 - accuracy: 0.1404 - val_loss: 10.2142 - val_accuracy: 0.0586\n",
      "Epoch 54/200\n",
      "1016/1016 [==============================] - 24s 23ms/step - loss: 4.8210 - accuracy: 0.1409 - val_loss: 10.1894 - val_accuracy: 0.0604\n",
      "Epoch 55/200\n",
      "1016/1016 [==============================] - 25s 25ms/step - loss: 4.8193 - accuracy: 0.1427 - val_loss: 10.2572 - val_accuracy: 0.0625\n",
      "Epoch 56/200\n",
      "1016/1016 [==============================] - 24s 24ms/step - loss: 4.8008 - accuracy: 0.1433 - val_loss: 10.2878 - val_accuracy: 0.0560\n",
      "Epoch 57/200\n",
      "1016/1016 [==============================] - 24s 24ms/step - loss: 4.7969 - accuracy: 0.1446 - val_loss: 10.3284 - val_accuracy: 0.0593\n",
      "Epoch 58/200\n",
      "1016/1016 [==============================] - 25s 25ms/step - loss: 4.7778 - accuracy: 0.1457 - val_loss: 10.3890 - val_accuracy: 0.0602\n",
      "Epoch 59/200\n",
      "1016/1016 [==============================] - 24s 24ms/step - loss: 4.7692 - accuracy: 0.1458 - val_loss: 10.4417 - val_accuracy: 0.0628\n",
      "Epoch 60/200\n",
      "1016/1016 [==============================] - 24s 24ms/step - loss: 4.7495 - accuracy: 0.1485 - val_loss: 10.4347 - val_accuracy: 0.0650\n",
      "Epoch 61/200\n",
      "1016/1016 [==============================] - 24s 24ms/step - loss: 4.7388 - accuracy: 0.1496 - val_loss: 10.4906 - val_accuracy: 0.0615\n",
      "Epoch 62/200\n",
      "1016/1016 [==============================] - 25s 24ms/step - loss: 4.7283 - accuracy: 0.1497 - val_loss: 10.5016 - val_accuracy: 0.0693\n",
      "Epoch 63/200\n",
      "1016/1016 [==============================] - 24s 24ms/step - loss: 4.7166 - accuracy: 0.1508 - val_loss: 10.5267 - val_accuracy: 0.0655\n",
      "Epoch 64/200\n",
      "1016/1016 [==============================] - 24s 24ms/step - loss: 4.6953 - accuracy: 0.1541 - val_loss: 10.5889 - val_accuracy: 0.0652\n",
      "Epoch 65/200\n",
      "1016/1016 [==============================] - 24s 24ms/step - loss: 4.6936 - accuracy: 0.1537 - val_loss: 10.6299 - val_accuracy: 0.0671\n",
      "Epoch 66/200\n",
      "1016/1016 [==============================] - 24s 24ms/step - loss: 4.6777 - accuracy: 0.1536 - val_loss: 10.7123 - val_accuracy: 0.0639\n",
      "Epoch 67/200\n",
      "1016/1016 [==============================] - 26s 25ms/step - loss: 4.6656 - accuracy: 0.1551 - val_loss: 10.6982 - val_accuracy: 0.0614\n",
      "Epoch 68/200\n",
      "1016/1016 [==============================] - 24s 23ms/step - loss: 4.6606 - accuracy: 0.1557 - val_loss: 10.6998 - val_accuracy: 0.0640\n",
      "Epoch 69/200\n",
      "1016/1016 [==============================] - 24s 24ms/step - loss: 4.6463 - accuracy: 0.1581 - val_loss: 10.7239 - val_accuracy: 0.0651\n",
      "Epoch 70/200\n",
      "1016/1016 [==============================] - 24s 24ms/step - loss: 4.6322 - accuracy: 0.1594 - val_loss: 10.7395 - val_accuracy: 0.0661\n",
      "Epoch 71/200\n",
      "1016/1016 [==============================] - 24s 24ms/step - loss: 4.6182 - accuracy: 0.1581 - val_loss: 10.7518 - val_accuracy: 0.0607\n",
      "Epoch 72/200\n",
      "1016/1016 [==============================] - 24s 24ms/step - loss: 4.6123 - accuracy: 0.1586 - val_loss: 10.7968 - val_accuracy: 0.0660\n",
      "Epoch 73/200\n",
      "1016/1016 [==============================] - 24s 24ms/step - loss: 4.6059 - accuracy: 0.1609 - val_loss: 10.8627 - val_accuracy: 0.0604\n",
      "Epoch 74/200\n",
      "1016/1016 [==============================] - 24s 24ms/step - loss: 4.5887 - accuracy: 0.1627 - val_loss: 10.9025 - val_accuracy: 0.0679\n",
      "Epoch 75/200\n",
      "1016/1016 [==============================] - 25s 25ms/step - loss: 4.5784 - accuracy: 0.1641 - val_loss: 10.9264 - val_accuracy: 0.0678\n",
      "Epoch 76/200\n",
      "1016/1016 [==============================] - 24s 24ms/step - loss: 4.5633 - accuracy: 0.1647 - val_loss: 10.9805 - val_accuracy: 0.0661\n",
      "Epoch 77/200\n",
      "1016/1016 [==============================] - 25s 25ms/step - loss: 4.5609 - accuracy: 0.1646 - val_loss: 10.9392 - val_accuracy: 0.0652\n",
      "Epoch 78/200\n",
      "1016/1016 [==============================] - 24s 24ms/step - loss: 4.5452 - accuracy: 0.1652 - val_loss: 11.0217 - val_accuracy: 0.0670\n",
      "Epoch 79/200\n",
      "1016/1016 [==============================] - 24s 24ms/step - loss: 4.5337 - accuracy: 0.1680 - val_loss: 11.0167 - val_accuracy: 0.0692\n",
      "Epoch 80/200\n",
      "1016/1016 [==============================] - 25s 25ms/step - loss: 4.5218 - accuracy: 0.1673 - val_loss: 10.9956 - val_accuracy: 0.0723\n",
      "Epoch 81/200\n",
      "1016/1016 [==============================] - 24s 24ms/step - loss: 4.5173 - accuracy: 0.1665 - val_loss: 11.0596 - val_accuracy: 0.0695\n",
      "Epoch 82/200\n",
      "1016/1016 [==============================] - 24s 24ms/step - loss: 4.5062 - accuracy: 0.1672 - val_loss: 11.1211 - val_accuracy: 0.0709\n",
      "Epoch 83/200\n",
      "1016/1016 [==============================] - 24s 24ms/step - loss: 4.4984 - accuracy: 0.1704 - val_loss: 11.1202 - val_accuracy: 0.0676\n",
      "Epoch 84/200\n",
      "1016/1016 [==============================] - 24s 24ms/step - loss: 4.4837 - accuracy: 0.1719 - val_loss: 11.1595 - val_accuracy: 0.0683\n",
      "Epoch 85/200\n",
      "1016/1016 [==============================] - 24s 24ms/step - loss: 4.4774 - accuracy: 0.1699 - val_loss: 11.2302 - val_accuracy: 0.0689\n",
      "Epoch 86/200\n",
      "1016/1016 [==============================] - 24s 24ms/step - loss: 4.4696 - accuracy: 0.1725 - val_loss: 11.2221 - val_accuracy: 0.0707\n",
      "Epoch 87/200\n",
      "1016/1016 [==============================] - 25s 24ms/step - loss: 4.4563 - accuracy: 0.1735 - val_loss: 11.2275 - val_accuracy: 0.0651\n",
      "Epoch 88/200\n",
      "1016/1016 [==============================] - 24s 23ms/step - loss: 4.4488 - accuracy: 0.1736 - val_loss: 11.3113 - val_accuracy: 0.0676\n",
      "Epoch 89/200\n",
      "1016/1016 [==============================] - 24s 24ms/step - loss: 4.4339 - accuracy: 0.1770 - val_loss: 11.3519 - val_accuracy: 0.0697\n",
      "Epoch 90/200\n",
      "1016/1016 [==============================] - 24s 24ms/step - loss: 4.4368 - accuracy: 0.1770 - val_loss: 11.3413 - val_accuracy: 0.0715\n",
      "Epoch 91/200\n",
      "1016/1016 [==============================] - 24s 24ms/step - loss: 4.4234 - accuracy: 0.1771 - val_loss: 11.3896 - val_accuracy: 0.0704\n",
      "Epoch 92/200\n",
      "1016/1016 [==============================] - 25s 25ms/step - loss: 4.4141 - accuracy: 0.1747 - val_loss: 11.3582 - val_accuracy: 0.0676\n",
      "Epoch 93/200\n",
      "1016/1016 [==============================] - 25s 24ms/step - loss: 4.4113 - accuracy: 0.1775 - val_loss: 11.3985 - val_accuracy: 0.0698\n",
      "Epoch 94/200\n",
      "1016/1016 [==============================] - 25s 25ms/step - loss: 4.3960 - accuracy: 0.1778 - val_loss: 11.3990 - val_accuracy: 0.0698\n",
      "Epoch 95/200\n",
      "1016/1016 [==============================] - 24s 24ms/step - loss: 4.3848 - accuracy: 0.1791 - val_loss: 11.4362 - val_accuracy: 0.0731\n",
      "Epoch 96/200\n",
      "1016/1016 [==============================] - 24s 24ms/step - loss: 4.3791 - accuracy: 0.1809 - val_loss: 11.4458 - val_accuracy: 0.0688\n",
      "Epoch 97/200\n",
      "1016/1016 [==============================] - 26s 25ms/step - loss: 4.3748 - accuracy: 0.1820 - val_loss: 11.5198 - val_accuracy: 0.0698\n",
      "Epoch 98/200\n",
      "1016/1016 [==============================] - 24s 23ms/step - loss: 4.3589 - accuracy: 0.1828 - val_loss: 11.5226 - val_accuracy: 0.0703\n",
      "Epoch 99/200\n",
      "1016/1016 [==============================] - 24s 24ms/step - loss: 4.3639 - accuracy: 0.1819 - val_loss: 11.6036 - val_accuracy: 0.0715\n",
      "Epoch 100/200\n",
      "1016/1016 [==============================] - 24s 24ms/step - loss: 4.3445 - accuracy: 0.1842 - val_loss: 11.6066 - val_accuracy: 0.0743\n",
      "Epoch 101/200\n",
      "1016/1016 [==============================] - 24s 24ms/step - loss: 4.3359 - accuracy: 0.1836 - val_loss: 11.6073 - val_accuracy: 0.0676\n",
      "Epoch 102/200\n",
      "1016/1016 [==============================] - 24s 24ms/step - loss: 4.3335 - accuracy: 0.1842 - val_loss: 11.6852 - val_accuracy: 0.0736\n",
      "Epoch 103/200\n",
      "1016/1016 [==============================] - 26s 25ms/step - loss: 4.3147 - accuracy: 0.1873 - val_loss: 11.6462 - val_accuracy: 0.0703\n",
      "Epoch 104/200\n",
      "1016/1016 [==============================] - 25s 25ms/step - loss: 4.3118 - accuracy: 0.1883 - val_loss: 11.7071 - val_accuracy: 0.0716\n",
      "Epoch 105/200\n",
      "1016/1016 [==============================] - 24s 24ms/step - loss: 4.2990 - accuracy: 0.1874 - val_loss: 11.6884 - val_accuracy: 0.0778\n",
      "Epoch 106/200\n",
      "1016/1016 [==============================] - 25s 25ms/step - loss: 4.2962 - accuracy: 0.1865 - val_loss: 11.7955 - val_accuracy: 0.0752\n",
      "Epoch 107/200\n",
      "1016/1016 [==============================] - 24s 24ms/step - loss: 4.2942 - accuracy: 0.1863 - val_loss: 11.8370 - val_accuracy: 0.0753\n",
      "Epoch 108/200\n",
      "1016/1016 [==============================] - 24s 24ms/step - loss: 4.2732 - accuracy: 0.1909 - val_loss: 11.7590 - val_accuracy: 0.0718\n",
      "Epoch 109/200\n",
      "1016/1016 [==============================] - 24s 24ms/step - loss: 4.2693 - accuracy: 0.1902 - val_loss: 11.8409 - val_accuracy: 0.0716\n",
      "Epoch 110/200\n",
      "1016/1016 [==============================] - 24s 23ms/step - loss: 4.2593 - accuracy: 0.1916 - val_loss: 11.8567 - val_accuracy: 0.0687\n",
      "Epoch 111/200\n",
      "1016/1016 [==============================] - 24s 24ms/step - loss: 4.2571 - accuracy: 0.1938 - val_loss: 11.8967 - val_accuracy: 0.0752\n",
      "Epoch 112/200\n",
      "1016/1016 [==============================] - 24s 24ms/step - loss: 4.2521 - accuracy: 0.1927 - val_loss: 11.8393 - val_accuracy: 0.0735\n",
      "Epoch 113/200\n",
      "1016/1016 [==============================] - 24s 24ms/step - loss: 4.2431 - accuracy: 0.1937 - val_loss: 11.9215 - val_accuracy: 0.0773\n",
      "Epoch 114/200\n",
      "1016/1016 [==============================] - 25s 24ms/step - loss: 4.2305 - accuracy: 0.1948 - val_loss: 11.8990 - val_accuracy: 0.0751\n",
      "Epoch 115/200\n",
      "1016/1016 [==============================] - 24s 24ms/step - loss: 4.2195 - accuracy: 0.1961 - val_loss: 11.9159 - val_accuracy: 0.0743\n",
      "Epoch 116/200\n",
      "1016/1016 [==============================] - 25s 24ms/step - loss: 4.2260 - accuracy: 0.1961 - val_loss: 12.0126 - val_accuracy: 0.0713\n",
      "Epoch 117/200\n",
      "1016/1016 [==============================] - 26s 26ms/step - loss: 4.2091 - accuracy: 0.1973 - val_loss: 11.9989 - val_accuracy: 0.0747\n",
      "Epoch 118/200\n",
      "1016/1016 [==============================] - 24s 24ms/step - loss: 4.2090 - accuracy: 0.1969 - val_loss: 11.9841 - val_accuracy: 0.0730\n",
      "Epoch 119/200\n",
      "1016/1016 [==============================] - 24s 24ms/step - loss: 4.1963 - accuracy: 0.1990 - val_loss: 12.0395 - val_accuracy: 0.0755\n",
      "Epoch 120/200\n",
      "1016/1016 [==============================] - 24s 24ms/step - loss: 4.1921 - accuracy: 0.1995 - val_loss: 12.0540 - val_accuracy: 0.0769\n",
      "Epoch 121/200\n",
      "1016/1016 [==============================] - 24s 24ms/step - loss: 4.1915 - accuracy: 0.2011 - val_loss: 12.1121 - val_accuracy: 0.0798\n",
      "Epoch 122/200\n",
      "1016/1016 [==============================] - 24s 24ms/step - loss: 4.1830 - accuracy: 0.2004 - val_loss: 12.1523 - val_accuracy: 0.0772\n",
      "Epoch 123/200\n",
      "1016/1016 [==============================] - 24s 24ms/step - loss: 4.1713 - accuracy: 0.2016 - val_loss: 12.1402 - val_accuracy: 0.0814\n",
      "Epoch 124/200\n",
      "1016/1016 [==============================] - 24s 24ms/step - loss: 4.1630 - accuracy: 0.2040 - val_loss: 12.1202 - val_accuracy: 0.0766\n",
      "Epoch 125/200\n",
      "1016/1016 [==============================] - 24s 24ms/step - loss: 4.1489 - accuracy: 0.2036 - val_loss: 12.2027 - val_accuracy: 0.0756\n",
      "Epoch 126/200\n",
      "1016/1016 [==============================] - 25s 24ms/step - loss: 4.1489 - accuracy: 0.2035 - val_loss: 12.2507 - val_accuracy: 0.0758\n",
      "Epoch 127/200\n",
      "1016/1016 [==============================] - 25s 24ms/step - loss: 4.1427 - accuracy: 0.2023 - val_loss: 12.1877 - val_accuracy: 0.0764\n",
      "Epoch 128/200\n",
      "1016/1016 [==============================] - 25s 24ms/step - loss: 4.1344 - accuracy: 0.2037 - val_loss: 12.2615 - val_accuracy: 0.0755\n",
      "Epoch 129/200\n",
      "1016/1016 [==============================] - 26s 26ms/step - loss: 4.1371 - accuracy: 0.2049 - val_loss: 12.3497 - val_accuracy: 0.0746\n",
      "Epoch 130/200\n",
      "1016/1016 [==============================] - 24s 24ms/step - loss: 4.1224 - accuracy: 0.2050 - val_loss: 12.3274 - val_accuracy: 0.0795\n",
      "Epoch 131/200\n",
      "1016/1016 [==============================] - 25s 25ms/step - loss: 4.1242 - accuracy: 0.2056 - val_loss: 12.4160 - val_accuracy: 0.0747\n",
      "Epoch 132/200\n",
      "1016/1016 [==============================] - 24s 24ms/step - loss: 4.1158 - accuracy: 0.2058 - val_loss: 12.3533 - val_accuracy: 0.0795\n",
      "Epoch 133/200\n",
      "1016/1016 [==============================] - 24s 24ms/step - loss: 4.1018 - accuracy: 0.2085 - val_loss: 12.3435 - val_accuracy: 0.0735\n",
      "Epoch 134/200\n",
      "1016/1016 [==============================] - 24s 24ms/step - loss: 4.0987 - accuracy: 0.2082 - val_loss: 12.3797 - val_accuracy: 0.0763\n",
      "Epoch 135/200\n",
      "1016/1016 [==============================] - 24s 24ms/step - loss: 4.0934 - accuracy: 0.2100 - val_loss: 12.3922 - val_accuracy: 0.0762\n",
      "Epoch 136/200\n",
      "1016/1016 [==============================] - 24s 24ms/step - loss: 4.0813 - accuracy: 0.2091 - val_loss: 12.4461 - val_accuracy: 0.0759\n",
      "Epoch 137/200\n",
      "1016/1016 [==============================] - 24s 24ms/step - loss: 4.0823 - accuracy: 0.2104 - val_loss: 12.4086 - val_accuracy: 0.0789\n",
      "Epoch 138/200\n",
      "1016/1016 [==============================] - 25s 24ms/step - loss: 4.0740 - accuracy: 0.2107 - val_loss: 12.4953 - val_accuracy: 0.0768\n",
      "Epoch 139/200\n",
      "1016/1016 [==============================] - 24s 24ms/step - loss: 4.0688 - accuracy: 0.2101 - val_loss: 12.5171 - val_accuracy: 0.0814\n",
      "Epoch 140/200\n",
      "1016/1016 [==============================] - 24s 24ms/step - loss: 4.0598 - accuracy: 0.2135 - val_loss: 12.5133 - val_accuracy: 0.0815\n",
      "Epoch 141/200\n",
      "1016/1016 [==============================] - 25s 24ms/step - loss: 4.0628 - accuracy: 0.2132 - val_loss: 12.5723 - val_accuracy: 0.0835\n",
      "Epoch 142/200\n",
      "1016/1016 [==============================] - 24s 24ms/step - loss: 4.0608 - accuracy: 0.2118 - val_loss: 12.5651 - val_accuracy: 0.0816\n",
      "Epoch 143/200\n",
      "1016/1016 [==============================] - 24s 24ms/step - loss: 4.0430 - accuracy: 0.2134 - val_loss: 12.5799 - val_accuracy: 0.0851\n",
      "Epoch 144/200\n",
      "1016/1016 [==============================] - 25s 24ms/step - loss: 4.0383 - accuracy: 0.2148 - val_loss: 12.5974 - val_accuracy: 0.0832\n",
      "Epoch 145/200\n",
      "1016/1016 [==============================] - 25s 25ms/step - loss: 4.0296 - accuracy: 0.2162 - val_loss: 12.6161 - val_accuracy: 0.0785\n",
      "Epoch 146/200\n",
      "1016/1016 [==============================] - 25s 25ms/step - loss: 4.0222 - accuracy: 0.2186 - val_loss: 12.5824 - val_accuracy: 0.0815\n",
      "Epoch 147/200\n",
      "1016/1016 [==============================] - 24s 24ms/step - loss: 4.0210 - accuracy: 0.2148 - val_loss: 12.6733 - val_accuracy: 0.0822\n",
      "Epoch 148/200\n",
      "1016/1016 [==============================] - 24s 24ms/step - loss: 4.0171 - accuracy: 0.2162 - val_loss: 12.6679 - val_accuracy: 0.0782\n",
      "Epoch 149/200\n",
      "1016/1016 [==============================] - 25s 25ms/step - loss: 4.0183 - accuracy: 0.2195 - val_loss: 12.6738 - val_accuracy: 0.0832\n",
      "Epoch 150/200\n",
      "1016/1016 [==============================] - 24s 24ms/step - loss: 4.0073 - accuracy: 0.2192 - val_loss: 12.7179 - val_accuracy: 0.0799\n",
      "Epoch 151/200\n",
      "1016/1016 [==============================] - 26s 25ms/step - loss: 4.0034 - accuracy: 0.2183 - val_loss: 12.7099 - val_accuracy: 0.0876\n",
      "Epoch 152/200\n",
      "1016/1016 [==============================] - 24s 23ms/step - loss: 3.9849 - accuracy: 0.2217 - val_loss: 12.7247 - val_accuracy: 0.0799\n",
      "Epoch 153/200\n",
      "1016/1016 [==============================] - 26s 26ms/step - loss: 3.9862 - accuracy: 0.2226 - val_loss: 12.7770 - val_accuracy: 0.0823\n",
      "Epoch 154/200\n",
      "1016/1016 [==============================] - 26s 25ms/step - loss: 3.9816 - accuracy: 0.2213 - val_loss: 12.7940 - val_accuracy: 0.0826\n",
      "Epoch 155/200\n",
      "1016/1016 [==============================] - 24s 24ms/step - loss: 3.9763 - accuracy: 0.2223 - val_loss: 12.8178 - val_accuracy: 0.0844\n",
      "Epoch 156/200\n",
      "1016/1016 [==============================] - 25s 24ms/step - loss: 3.9668 - accuracy: 0.2218 - val_loss: 12.8674 - val_accuracy: 0.0855\n",
      "Epoch 157/200\n",
      "1016/1016 [==============================] - 24s 24ms/step - loss: 3.9628 - accuracy: 0.2230 - val_loss: 12.8398 - val_accuracy: 0.0799\n",
      "Epoch 158/200\n",
      "1016/1016 [==============================] - 25s 24ms/step - loss: 3.9594 - accuracy: 0.2228 - val_loss: 12.8491 - val_accuracy: 0.0788\n",
      "Epoch 159/200\n",
      "1016/1016 [==============================] - 24s 24ms/step - loss: 3.9523 - accuracy: 0.2226 - val_loss: 12.8587 - val_accuracy: 0.0794\n",
      "Epoch 160/200\n",
      "1016/1016 [==============================] - 25s 24ms/step - loss: 3.9429 - accuracy: 0.2246 - val_loss: 12.8962 - val_accuracy: 0.0823\n",
      "Epoch 161/200\n",
      "1016/1016 [==============================] - 24s 24ms/step - loss: 3.9448 - accuracy: 0.2256 - val_loss: 12.9919 - val_accuracy: 0.0858\n",
      "Epoch 162/200\n",
      "1016/1016 [==============================] - 25s 24ms/step - loss: 3.9323 - accuracy: 0.2256 - val_loss: 12.9399 - val_accuracy: 0.0847\n",
      "Epoch 163/200\n",
      "1016/1016 [==============================] - 28s 28ms/step - loss: 3.9288 - accuracy: 0.2258 - val_loss: 12.9878 - val_accuracy: 0.0833\n",
      "Epoch 164/200\n",
      "1016/1016 [==============================] - 24s 24ms/step - loss: 3.9245 - accuracy: 0.2254 - val_loss: 12.9922 - val_accuracy: 0.0868\n",
      "Epoch 165/200\n",
      "1016/1016 [==============================] - 26s 25ms/step - loss: 3.9274 - accuracy: 0.2255 - val_loss: 12.9679 - val_accuracy: 0.0759\n",
      "Epoch 166/200\n",
      "1016/1016 [==============================] - 24s 24ms/step - loss: 3.9181 - accuracy: 0.2286 - val_loss: 13.0646 - val_accuracy: 0.0842\n",
      "Epoch 167/200\n",
      "1016/1016 [==============================] - 25s 25ms/step - loss: 3.9137 - accuracy: 0.2282 - val_loss: 13.1296 - val_accuracy: 0.0854\n",
      "Epoch 168/200\n",
      "1016/1016 [==============================] - 25s 25ms/step - loss: 3.8991 - accuracy: 0.2296 - val_loss: 13.0121 - val_accuracy: 0.0870\n",
      "Epoch 169/200\n",
      "1016/1016 [==============================] - 26s 25ms/step - loss: 3.8981 - accuracy: 0.2305 - val_loss: 13.1064 - val_accuracy: 0.0828\n",
      "Epoch 170/200\n",
      "1016/1016 [==============================] - 24s 24ms/step - loss: 3.9011 - accuracy: 0.2313 - val_loss: 13.0686 - val_accuracy: 0.0831\n",
      "Epoch 171/200\n",
      "1016/1016 [==============================] - 25s 25ms/step - loss: 3.8875 - accuracy: 0.2283 - val_loss: 13.1645 - val_accuracy: 0.0889\n",
      "Epoch 172/200\n",
      "1016/1016 [==============================] - 24s 24ms/step - loss: 3.8876 - accuracy: 0.2310 - val_loss: 13.1636 - val_accuracy: 0.0835\n",
      "Epoch 173/200\n",
      "1016/1016 [==============================] - 25s 24ms/step - loss: 3.8779 - accuracy: 0.2303 - val_loss: 13.1611 - val_accuracy: 0.0879\n",
      "Epoch 174/200\n",
      "1016/1016 [==============================] - 25s 24ms/step - loss: 3.8809 - accuracy: 0.2317 - val_loss: 13.1284 - val_accuracy: 0.0864\n",
      "Epoch 175/200\n",
      "1016/1016 [==============================] - 26s 26ms/step - loss: 3.8724 - accuracy: 0.2328 - val_loss: 13.1635 - val_accuracy: 0.0804\n",
      "Epoch 176/200\n",
      "1016/1016 [==============================] - 24s 23ms/step - loss: 3.8622 - accuracy: 0.2335 - val_loss: 13.2104 - val_accuracy: 0.0891\n",
      "Epoch 177/200\n",
      "1016/1016 [==============================] - 25s 25ms/step - loss: 3.8645 - accuracy: 0.2325 - val_loss: 13.2772 - val_accuracy: 0.0867\n",
      "Epoch 178/200\n",
      "1016/1016 [==============================] - 25s 25ms/step - loss: 3.8496 - accuracy: 0.2337 - val_loss: 13.3130 - val_accuracy: 0.0883\n",
      "Epoch 179/200\n",
      "1016/1016 [==============================] - 25s 25ms/step - loss: 3.8565 - accuracy: 0.2340 - val_loss: 13.2661 - val_accuracy: 0.0860\n",
      "Epoch 180/200\n",
      "1016/1016 [==============================] - 25s 24ms/step - loss: 3.8457 - accuracy: 0.2357 - val_loss: 13.2595 - val_accuracy: 0.0913\n",
      "Epoch 181/200\n",
      "1016/1016 [==============================] - 25s 24ms/step - loss: 3.8453 - accuracy: 0.2325 - val_loss: 13.2458 - val_accuracy: 0.0825\n",
      "Epoch 182/200\n",
      "1016/1016 [==============================] - 25s 24ms/step - loss: 3.8357 - accuracy: 0.2368 - val_loss: 13.2571 - val_accuracy: 0.0855\n",
      "Epoch 183/200\n",
      "1016/1016 [==============================] - 25s 24ms/step - loss: 3.8283 - accuracy: 0.2387 - val_loss: 13.3399 - val_accuracy: 0.0940\n",
      "Epoch 184/200\n",
      "1016/1016 [==============================] - 24s 24ms/step - loss: 3.8234 - accuracy: 0.2358 - val_loss: 13.3344 - val_accuracy: 0.0892\n",
      "Epoch 185/200\n",
      "1016/1016 [==============================] - 24s 24ms/step - loss: 3.8205 - accuracy: 0.2382 - val_loss: 13.3541 - val_accuracy: 0.0857\n",
      "Epoch 186/200\n",
      "1016/1016 [==============================] - 24s 24ms/step - loss: 3.8075 - accuracy: 0.2380 - val_loss: 13.4073 - val_accuracy: 0.0892\n",
      "Epoch 187/200\n",
      "1016/1016 [==============================] - 25s 24ms/step - loss: 3.8153 - accuracy: 0.2383 - val_loss: 13.3975 - val_accuracy: 0.0895\n",
      "Epoch 188/200\n",
      "1016/1016 [==============================] - 24s 24ms/step - loss: 3.8112 - accuracy: 0.2378 - val_loss: 13.3870 - val_accuracy: 0.0910\n",
      "Epoch 189/200\n",
      "1016/1016 [==============================] - 25s 24ms/step - loss: 3.7980 - accuracy: 0.2417 - val_loss: 13.4384 - val_accuracy: 0.0868\n",
      "Epoch 190/200\n",
      "1016/1016 [==============================] - 25s 25ms/step - loss: 3.8056 - accuracy: 0.2382 - val_loss: 13.4273 - val_accuracy: 0.0916\n",
      "Epoch 191/200\n",
      "1016/1016 [==============================] - 24s 24ms/step - loss: 3.8035 - accuracy: 0.2403 - val_loss: 13.4244 - val_accuracy: 0.0858\n",
      "Epoch 192/200\n",
      "1016/1016 [==============================] - 25s 24ms/step - loss: 3.7925 - accuracy: 0.2409 - val_loss: 13.4753 - val_accuracy: 0.0873\n",
      "Epoch 193/200\n",
      "1016/1016 [==============================] - 24s 24ms/step - loss: 3.7919 - accuracy: 0.2383 - val_loss: 13.4852 - val_accuracy: 0.0847\n",
      "Epoch 194/200\n",
      "1016/1016 [==============================] - 24s 24ms/step - loss: 3.7873 - accuracy: 0.2384 - val_loss: 13.5284 - val_accuracy: 0.0852\n",
      "Epoch 195/200\n",
      "1016/1016 [==============================] - 24s 24ms/step - loss: 3.7832 - accuracy: 0.2393 - val_loss: 13.5374 - val_accuracy: 0.0875\n",
      "Epoch 196/200\n",
      "1016/1016 [==============================] - 24s 24ms/step - loss: 3.7693 - accuracy: 0.2428 - val_loss: 13.5768 - val_accuracy: 0.0883\n",
      "Epoch 197/200\n",
      "1016/1016 [==============================] - 24s 24ms/step - loss: 3.7675 - accuracy: 0.2424 - val_loss: 13.5504 - val_accuracy: 0.0916\n",
      "Epoch 198/200\n",
      "1016/1016 [==============================] - 25s 24ms/step - loss: 3.7569 - accuracy: 0.2416 - val_loss: 13.5797 - val_accuracy: 0.0935\n",
      "Epoch 199/200\n",
      "1016/1016 [==============================] - 26s 25ms/step - loss: 3.7552 - accuracy: 0.2429 - val_loss: 13.6638 - val_accuracy: 0.0911\n",
      "Epoch 200/200\n",
      "1016/1016 [==============================] - 25s 25ms/step - loss: 3.7585 - accuracy: 0.2447 - val_loss: 13.5507 - val_accuracy: 0.0837\n"
     ]
    },
    {
     "data": {
      "image/png": "[encoded data removed]",
      "text/plain": [
       "<Figure size 640x480 with 1 Axes>"
      ]
     },
     "metadata": {},
     "output_type": "display_data"
    }
   ],
   "source": [
    "hist = model.fit(x_data, y_data, epochs=200, validation_split=0.2)\n",
    "\n",
    "plt.plot(hist.history['accuracy'])\n",
    "plt.plot(hist.history['val_accuracy'])\n",
    "plt.title('model accuracy')\n",
    "plt.ylabel('accuracy')\n",
    "plt.xlabel('epoch')\n",
    "plt.legend(['train', 'val'], loc='upper left')\n",
    "plt.show()"
   ]
  },
  {
   "attachments": {},
   "cell_type": "markdown",
   "metadata": {},
   "source": [
    "Vamos a probar algunas sentencias"
   ]
  },
  {
   "cell_type": "code",
   "execution_count": 29,
   "metadata": {},
   "outputs": [],
   "source": [
    "def model_response(human_text):\n",
    "\n",
    "    # Encodeamos\n",
    "    encoded = tok.texts_to_sequences([human_text])[0]\n",
    "    # Si tienen distinto largo\n",
    "    encoded = pad_sequences([encoded], maxlen=3, padding='pre')\n",
    "    \n",
    "    # Predicción softmax\n",
    "    y_hat = model.predict(encoded).argmax(axis=-1)\n",
    "\n",
    "    # Debemos buscar en el vocabulario la palabra\n",
    "    # que corresopnde al indice (y_hat) predicho por le modelo\n",
    "    out_word = ''\n",
    "    for word, index in tok.word_index.items():\n",
    "        if index == y_hat:\n",
    "            out_word = word\n",
    "            break\n",
    "\n",
    "    # Agrego la palabra a la frase predicha\n",
    "    return human_text + ' ' + out_word"
   ]
  },
  {
   "cell_type": "code",
   "execution_count": 30,
   "metadata": {},
   "outputs": [],
   "source": [
    "def generate_seq(model, tokenizer, seed_text, max_length, n_words):\n",
    "    \"\"\"\n",
    "        Exec model sequence prediction\n",
    "\n",
    "        Args:\n",
    "            model (keras): modelo entrenado\n",
    "            tokenizer (keras tokenizer): tonenizer utilizado en el preprocesamiento\n",
    "            seed_text (string): texto de entrada (input_seq)\n",
    "            max_length (int): máxima longitud de la sequencia de entrada\n",
    "            n_words (int): números de palabras a agregar a la sequencia de entrada\n",
    "        returns:\n",
    "            output_text (string): sentencia con las \"n_words\" agregadas\n",
    "    \"\"\"\n",
    "    output_text = seed_text\n",
    "\t# generate a fixed number of words\n",
    "    for _ in range(n_words):\n",
    "\t\t# Encodeamos\n",
    "        encoded = tokenizer.texts_to_sequences([output_text])[0]\n",
    "\t\t# Si tienen distinto largo\n",
    "        encoded = pad_sequences([encoded], maxlen=max_length, padding='pre')\n",
    "\t\t\n",
    "\t\t# Predicción softmax\n",
    "        y_hat = model.predict(encoded).argmax(axis=-1)\n",
    "\t\t# Vamos concatenando las predicciones\n",
    "        out_word = ''\n",
    "\n",
    "        # Debemos buscar en el vocabulario la palabra\n",
    "        # que corresopnde al indice (y_hat) predicho por le modelo\n",
    "        for word, index in tokenizer.word_index.items():\n",
    "            if index == y_hat:\n",
    "                out_word = word\n",
    "                break\n",
    "\n",
    "\t\t# Agrego las palabras a la frase predicha\n",
    "        output_text += ' ' + out_word\n",
    "    return output_text"
   ]
  },
  {
   "attachments": {},
   "cell_type": "markdown",
   "metadata": {},
   "source": [
    "Vemos algunas pruebas de que palabras sugiere ante determinadas frases"
   ]
  },
  {
   "cell_type": "code",
   "execution_count": 52,
   "metadata": {},
   "outputs": [
    {
     "name": "stdout",
     "output_type": "stream",
     "text": [
      "1/1 [==============================] - 0s 93ms/step\n"
     ]
    },
    {
     "data": {
      "text/plain": [
       "'President barak announces'"
      ]
     },
     "execution_count": 52,
     "metadata": {},
     "output_type": "execute_result"
    }
   ],
   "source": [
    "input_text='President barak'\n",
    "\n",
    "generate_seq(model, tok, input_text, max_length=2, n_words=1)"
   ]
  },
  {
   "cell_type": "code",
   "execution_count": 32,
   "metadata": {},
   "outputs": [
    {
     "name": "stdout",
     "output_type": "stream",
     "text": [
      "1/1 [==============================] - 0s 82ms/step\n",
      "1/1 [==============================] - 0s 41ms/step\n",
      "1/1 [==============================] - 0s 33ms/step\n",
      "1/1 [==============================] - 0s 21ms/step\n",
      "1/1 [==============================] - 0s 37ms/step\n"
     ]
    },
    {
     "data": {
      "text/plain": [
       "'President barak announces earnings buffett falls fund'"
      ]
     },
     "execution_count": 32,
     "metadata": {},
     "output_type": "execute_result"
    }
   ],
   "source": [
    "input_text='President barak'\n",
    "\n",
    "generate_seq(model, tok, input_text, max_length=2, n_words=5)"
   ]
  },
  {
   "cell_type": "code",
   "execution_count": 33,
   "metadata": {},
   "outputs": [
    {
     "name": "stdout",
     "output_type": "stream",
     "text": [
      "1/1 [==============================] - 0s 49ms/step\n",
      "1/1 [==============================] - 0s 49ms/step\n",
      "1/1 [==============================] - 0s 33ms/step\n",
      "1/1 [==============================] - 0s 20ms/step\n",
      "1/1 [==============================] - 0s 21ms/step\n"
     ]
    },
    {
     "data": {
      "text/plain": [
       "'Minister say toyota just on morgan stocks'"
      ]
     },
     "execution_count": 33,
     "metadata": {},
     "output_type": "execute_result"
    }
   ],
   "source": [
    "input_text='Minister say'\n",
    "\n",
    "generate_seq(model, tok, input_text, max_length=2, n_words=5)"
   ]
  },
  {
   "cell_type": "code",
   "execution_count": 34,
   "metadata": {},
   "outputs": [
    {
     "name": "stdout",
     "output_type": "stream",
     "text": [
      "1/1 [==============================] - 0s 25ms/step\n",
      "1/1 [==============================] - 0s 75ms/step\n",
      "1/1 [==============================] - 0s 22ms/step\n",
      "1/1 [==============================] - 0s 21ms/step\n",
      "1/1 [==============================] - 0s 32ms/step\n"
     ]
    },
    {
     "data": {
      "text/plain": [
       "'Covid was europe the steel day in'"
      ]
     },
     "execution_count": 34,
     "metadata": {},
     "output_type": "execute_result"
    }
   ],
   "source": [
    "input_text='Covid was'\n",
    "\n",
    "generate_seq(model, tok, input_text, max_length=2, n_words=5)"
   ]
  },
  {
   "cell_type": "code",
   "execution_count": 45,
   "metadata": {},
   "outputs": [
    {
     "name": "stdout",
     "output_type": "stream",
     "text": [
      "1/1 [==============================] - 0s 31ms/step\n",
      "1/1 [==============================] - 0s 31ms/step\n",
      "1/1 [==============================] - 0s 24ms/step\n",
      "1/1 [==============================] - 0s 24ms/step\n",
      "1/1 [==============================] - 0s 80ms/step\n"
     ]
    },
    {
     "data": {
      "text/plain": [
       "'russia say law fund at of com'"
      ]
     },
     "execution_count": 45,
     "metadata": {},
     "output_type": "execute_result"
    }
   ],
   "source": [
    "input_text='russia say'\n",
    "\n",
    "generate_seq(model, tok, input_text, max_length=2, n_words=5)"
   ]
  },
  {
   "cell_type": "code",
   "execution_count": 47,
   "metadata": {},
   "outputs": [
    {
     "name": "stdout",
     "output_type": "stream",
     "text": [
      "1/1 [==============================] - 0s 61ms/step\n",
      "1/1 [==============================] - 0s 95ms/step\n",
      "1/1 [==============================] - 0s 31ms/step\n",
      "1/1 [==============================] - 0s 26ms/step\n",
      "1/1 [==============================] - 0s 20ms/step\n"
     ]
    },
    {
     "data": {
      "text/plain": [
       "'russia china companies for close are for'"
      ]
     },
     "execution_count": 47,
     "metadata": {},
     "output_type": "execute_result"
    }
   ],
   "source": [
    "input_text='russia china'\n",
    "\n",
    "generate_seq(model, tok, input_text, max_length=2, n_words=5)"
   ]
  },
  {
   "cell_type": "code",
   "execution_count": 49,
   "metadata": {},
   "outputs": [
    {
     "name": "stdout",
     "output_type": "stream",
     "text": [
      "1/1 [==============================] - 0s 40ms/step\n"
     ]
    },
    {
     "data": {
      "text/plain": [
       "'russia cuba europe'"
      ]
     },
     "execution_count": 49,
     "metadata": {},
     "output_type": "execute_result"
    }
   ],
   "source": [
    "input_text='russia cuba'\n",
    "\n",
    "generate_seq(model, tok, input_text, max_length=2, n_words=1)"
   ]
  },
  {
   "cell_type": "code",
   "execution_count": 51,
   "metadata": {},
   "outputs": [
    {
     "name": "stdout",
     "output_type": "stream",
     "text": [
      "1/1 [==============================] - 0s 88ms/step\n",
      "1/1 [==============================] - 0s 41ms/step\n",
      "1/1 [==============================] - 0s 171ms/step\n"
     ]
    },
    {
     "data": {
      "text/plain": [
       "'russia ukraine law upstream sectors'"
      ]
     },
     "execution_count": 51,
     "metadata": {},
     "output_type": "execute_result"
    }
   ],
   "source": [
    "input_text='russia ukraine'\n",
    "\n",
    "generate_seq(model, tok, input_text, max_length=2, n_words=3)"
   ]
  }
 ],
 "metadata": {
  "kernelspec": {
   "display_name": "Python 3",
   "language": "python",
   "name": "python3"
  },
  "language_info": {
   "codemirror_mode": {
    "name": "ipython",
    "version": 3
   },
   "file_extension": ".py",
   "mimetype": "text/x-python",
   "name": "python",
   "nbconvert_exporter": "python",
   "pygments_lexer": "ipython3",
   "version": "3.11.0"
  },
  "orig_nbformat": 4
 },
 "nbformat": 4,
 "nbformat_minor": 2
}
