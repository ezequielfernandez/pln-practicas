{
 "cells": [
  {
   "cell_type": "code",
   "execution_count": 1,
   "metadata": {},
   "outputs": [
    {
     "name": "stderr",
     "output_type": "stream",
     "text": [
      "2023-04-30 20:42:35.874224: I tensorflow/core/platform/cpu_feature_guard.cc:182] This TensorFlow binary is optimized to use available CPU instructions in performance-critical operations.\n",
      "To enable the following instructions: AVX2 FMA, in other operations, rebuild TensorFlow with the appropriate compiler flags.\n"
     ]
    }
   ],
   "source": [
    "import random\n",
    "import io\n",
    "import pickle\n",
    "\n",
    "import numpy as np\n",
    "import pandas as pd\n",
    "\n",
    "from tensorflow import keras\n",
    "from tensorflow.keras import layers\n",
    "from keras.utils.np_utils import to_categorical\n",
    "from keras.models import Sequential\n",
    "from keras.layers import Dense, LSTM, Embedding, Dropout\n",
    "from keras.preprocessing.text import Tokenizer # equivalente a ltokenizer de nltk\n",
    "from keras.preprocessing.text import text_to_word_sequence # equivalente a word_teokenize de nltk\n",
    "from keras.utils import pad_sequences # se utilizará para padding\n",
    "from matplotlib import pyplot as plt\n"
   ]
  },
  {
   "attachments": {},
   "cell_type": "markdown",
   "metadata": {},
   "source": [
    "Trabajare con el dataset de dialogos de los simpsons"
   ]
  },
  {
   "cell_type": "code",
   "execution_count": 2,
   "metadata": {},
   "outputs": [
    {
     "data": {
      "text/html": [
       "<div>\n",
       "<style scoped>\n",
       "    .dataframe tbody tr th:only-of-type {\n",
       "        vertical-align: middle;\n",
       "    }\n",
       "\n",
       "    .dataframe tbody tr th {\n",
       "        vertical-align: top;\n",
       "    }\n",
       "\n",
       "    .dataframe thead th {\n",
       "        text-align: right;\n",
       "    }\n",
       "</style>\n",
       "<table border=\"1\" class=\"dataframe\">\n",
       "  <thead>\n",
       "    <tr style=\"text-align: right;\">\n",
       "      <th></th>\n",
       "      <th>raw_character_text</th>\n",
       "      <th>spoken_words</th>\n",
       "    </tr>\n",
       "  </thead>\n",
       "  <tbody>\n",
       "    <tr>\n",
       "      <th>0</th>\n",
       "      <td>Miss Hoover</td>\n",
       "      <td>No, actually, it was a little of both. Sometim...</td>\n",
       "    </tr>\n",
       "    <tr>\n",
       "      <th>1</th>\n",
       "      <td>Lisa Simpson</td>\n",
       "      <td>Where's Mr. Bergstrom?</td>\n",
       "    </tr>\n",
       "    <tr>\n",
       "      <th>2</th>\n",
       "      <td>Miss Hoover</td>\n",
       "      <td>I don't know. Although I'd sure like to talk t...</td>\n",
       "    </tr>\n",
       "    <tr>\n",
       "      <th>3</th>\n",
       "      <td>Lisa Simpson</td>\n",
       "      <td>That life is worth living.</td>\n",
       "    </tr>\n",
       "    <tr>\n",
       "      <th>4</th>\n",
       "      <td>Edna Krabappel-Flanders</td>\n",
       "      <td>The polls will be open from now until the end ...</td>\n",
       "    </tr>\n",
       "  </tbody>\n",
       "</table>\n",
       "</div>"
      ],
      "text/plain": [
       "        raw_character_text                                       spoken_words\n",
       "0              Miss Hoover  No, actually, it was a little of both. Sometim...\n",
       "1             Lisa Simpson                             Where's Mr. Bergstrom?\n",
       "2              Miss Hoover  I don't know. Although I'd sure like to talk t...\n",
       "3             Lisa Simpson                         That life is worth living.\n",
       "4  Edna Krabappel-Flanders  The polls will be open from now until the end ..."
      ]
     },
     "execution_count": 2,
     "metadata": {},
     "output_type": "execute_result"
    }
   ],
   "source": [
    "df = pd.read_csv('datasets/simpsons_dataset.csv')\n",
    "\n",
    "df.head()"
   ]
  },
  {
   "cell_type": "code",
   "execution_count": 3,
   "metadata": {},
   "outputs": [
    {
     "data": {
      "text/plain": [
       "raw_character_text    0\n",
       "spoken_words          0\n",
       "dtype: int64"
      ]
     },
     "execution_count": 3,
     "metadata": {},
     "output_type": "execute_result"
    }
   ],
   "source": [
    "df = df.dropna().reset_index(drop=True)\n",
    "df.isnull().sum()"
   ]
  },
  {
   "cell_type": "code",
   "execution_count": 4,
   "metadata": {},
   "outputs": [
    {
     "data": {
      "text/plain": [
       "raw_character_text\n",
       "Homer Simpson            27850\n",
       "Marge Simpson            13172\n",
       "Bart Simpson             12995\n",
       "Lisa Simpson             10756\n",
       "C. Montgomery Burns       3077\n",
       "                         ...  \n",
       "Basketball Player            1\n",
       "Oboist                       1\n",
       "Father In Burlap Sack        1\n",
       "Shelbyvillians               1\n",
       "Voice From Diorama           1\n",
       "Name: count, Length: 6272, dtype: int64"
      ]
     },
     "execution_count": 4,
     "metadata": {},
     "output_type": "execute_result"
    }
   ],
   "source": [
    "df['raw_character_text'].value_counts()"
   ]
  },
  {
   "attachments": {},
   "cell_type": "markdown",
   "metadata": {},
   "source": [
    "En particular me quedare con dialogos de Homero"
   ]
  },
  {
   "cell_type": "code",
   "execution_count": 5,
   "metadata": {},
   "outputs": [],
   "source": [
    "person_df = pd.DataFrame(df[df['raw_character_text'] == 'Homer Simpson']['spoken_words'])"
   ]
  },
  {
   "cell_type": "code",
   "execution_count": 6,
   "metadata": {},
   "outputs": [
    {
     "name": "stdout",
     "output_type": "stream",
     "text": [
      "Cantidad de documentos: 27850\n"
     ]
    }
   ],
   "source": [
    "print(\"Cantidad de documentos:\", person_df.shape[0])"
   ]
  },
  {
   "cell_type": "code",
   "execution_count": 7,
   "metadata": {},
   "outputs": [],
   "source": [
    "# largo de la secuencia, incluye seq input + word output\n",
    "train_len = 5"
   ]
  },
  {
   "cell_type": "code",
   "execution_count": 8,
   "metadata": {},
   "outputs": [
    {
     "data": {
      "text/plain": [
       "51    Never thrown a party? What about that big bash...\n",
       "52    Bart didn't get one vote?! Oh, this is the wor...\n",
       "56                                                  Oh.\n",
       "58                                                 And?\n",
       "60    Hey, just because I don't care doesn't mean I ...\n",
       "Name: spoken_words, dtype: object"
      ]
     },
     "execution_count": 8,
     "metadata": {},
     "output_type": "execute_result"
    }
   ],
   "source": [
    "# Vistazo a las primeras filas\n",
    "person_df.iloc[:5,0]"
   ]
  },
  {
   "cell_type": "code",
   "execution_count": 9,
   "metadata": {},
   "outputs": [],
   "source": [
    "# Concatenamos todos los rows en un solo valor\n",
    "corpus = person_df.apply(lambda row: ' '.join(row.values.astype(str)), axis=0)[0]"
   ]
  },
  {
   "cell_type": "code",
   "execution_count": 12,
   "metadata": {},
   "outputs": [
    {
     "data": {
      "text/plain": [
       "['never', 'thrown', 'a', 'party', 'what']"
      ]
     },
     "execution_count": 12,
     "metadata": {},
     "output_type": "execute_result"
    }
   ],
   "source": [
    "# Transformar el corpus a tokens\n",
    "tokens=text_to_word_sequence(corpus)\n",
    "# Vistazo general de los primeros tokens\n",
    "tokens[:5]"
   ]
  },
  {
   "cell_type": "code",
   "execution_count": 13,
   "metadata": {},
   "outputs": [
    {
     "name": "stdout",
     "output_type": "stream",
     "text": [
      "Cantidad de tokens en el corpus: 272664\n"
     ]
    }
   ],
   "source": [
    "print(\"Cantidad de tokens en el corpus:\", len(tokens))"
   ]
  },
  {
   "cell_type": "code",
   "execution_count": 14,
   "metadata": {},
   "outputs": [],
   "source": [
    "# Código para hacer el desfazaje de las palabras\n",
    "# según el train_len\n",
    "text_sequences = []\n",
    "for i in range(train_len, len(tokens)):\n",
    "  seq = tokens[i-train_len:i]\n",
    "  text_sequences.append(seq)"
   ]
  },
  {
   "cell_type": "code",
   "execution_count": 15,
   "metadata": {},
   "outputs": [
    {
     "data": {
      "text/plain": [
       "[['never', 'thrown', 'a', 'party', 'what'],\n",
       " ['thrown', 'a', 'party', 'what', 'about'],\n",
       " ['a', 'party', 'what', 'about', 'that'],\n",
       " ['party', 'what', 'about', 'that', 'big']]"
      ]
     },
     "execution_count": 15,
     "metadata": {},
     "output_type": "execute_result"
    }
   ],
   "source": [
    "# Demos un vistazo a nuestros vectores para entrenar el modelo\n",
    "text_sequences[:4]"
   ]
  },
  {
   "cell_type": "code",
   "execution_count": 16,
   "metadata": {},
   "outputs": [
    {
     "data": {
      "text/plain": [
       "[[80, 4453, 4, 467, 18],\n",
       " [4453, 4, 467, 18, 59],\n",
       " [4, 467, 18, 59, 10],\n",
       " [467, 18, 59, 10, 159]]"
      ]
     },
     "execution_count": 16,
     "metadata": {},
     "output_type": "execute_result"
    }
   ],
   "source": [
    "# Proceso de tokenizacion\n",
    "tok = Tokenizer() \n",
    "tok.fit_on_texts(text_sequences) \n",
    "\n",
    "# Convertimos las palabras a números\n",
    "# entran palabras -> salen números\n",
    "sequences = tok.texts_to_sequences(text_sequences)\n",
    "\n",
    "# Damos un vistazo\n",
    "sequences[:4]"
   ]
  },
  {
   "cell_type": "code",
   "execution_count": 17,
   "metadata": {},
   "outputs": [
    {
     "name": "stdout",
     "output_type": "stream",
     "text": [
      "Cantidad de rows del dataset: 272659\n"
     ]
    }
   ],
   "source": [
    "print(\"Cantidad de rows del dataset:\", len(sequences))"
   ]
  },
  {
   "cell_type": "code",
   "execution_count": 18,
   "metadata": {},
   "outputs": [
    {
     "name": "stdout",
     "output_type": "stream",
     "text": [
      "(272659, 4)\n",
      "(272659,)\n"
     ]
    }
   ],
   "source": [
    "arr_sequences = np.array(sequences)\n",
    "x_data = arr_sequences[:,:-1]\n",
    "y_data_int = arr_sequences[:,-1] # aún falta el oneHotEncoder\n",
    "\n",
    "print(x_data.shape)\n",
    "print(y_data_int.shape)"
   ]
  },
  {
   "cell_type": "code",
   "execution_count": 19,
   "metadata": {},
   "outputs": [
    {
     "data": {
      "text/plain": [
       "15980"
      ]
     },
     "execution_count": 19,
     "metadata": {},
     "output_type": "execute_result"
    }
   ],
   "source": [
    "# Cantidad de palabras en el vocabulario\n",
    "vocab_size = len(tok.word_counts)\n",
    "vocab_size"
   ]
  },
  {
   "cell_type": "code",
   "execution_count": 20,
   "metadata": {},
   "outputs": [
    {
     "data": {
      "text/plain": [
       "(272659, 15980)"
      ]
     },
     "execution_count": 20,
     "metadata": {},
     "output_type": "execute_result"
    }
   ],
   "source": [
    "y_data_int_offset = y_data_int - 1\n",
    "y_data = to_categorical(y_data_int_offset, num_classes=vocab_size) \n",
    "y_data.shape"
   ]
  },
  {
   "cell_type": "code",
   "execution_count": 21,
   "metadata": {},
   "outputs": [
    {
     "data": {
      "text/plain": [
       "4"
      ]
     },
     "execution_count": 21,
     "metadata": {},
     "output_type": "execute_result"
    }
   ],
   "source": [
    "# largo de la secuencia de entrada\n",
    "input_seq_len = x_data.shape[1] \n",
    "input_seq_len"
   ]
  },
  {
   "cell_type": "code",
   "execution_count": 22,
   "metadata": {},
   "outputs": [
    {
     "data": {
      "text/plain": [
       "15980"
      ]
     },
     "execution_count": 22,
     "metadata": {},
     "output_type": "execute_result"
    }
   ],
   "source": [
    "# Largo del vector de salida --> vocab_size\n",
    "output_size = vocab_size\n",
    "output_size"
   ]
  },
  {
   "cell_type": "code",
   "execution_count": 61,
   "metadata": {},
   "outputs": [
    {
     "name": "stderr",
     "output_type": "stream",
     "text": [
      "2023-04-30 22:07:19.451502: I tensorflow/core/common_runtime/executor.cc:1197] [/device:CPU:0] (DEBUG INFO) Executor start aborting (this does not indicate an error and you can ignore this message): INVALID_ARGUMENT: You must feed a value for placeholder tensor 'gradients/split_2_grad/concat/split_2/split_dim' with dtype int32\n",
      "\t [[{{node gradients/split_2_grad/concat/split_2/split_dim}}]]\n",
      "2023-04-30 22:07:19.454276: I tensorflow/core/common_runtime/executor.cc:1197] [/device:CPU:0] (DEBUG INFO) Executor start aborting (this does not indicate an error and you can ignore this message): INVALID_ARGUMENT: You must feed a value for placeholder tensor 'gradients/split_grad/concat/split/split_dim' with dtype int32\n",
      "\t [[{{node gradients/split_grad/concat/split/split_dim}}]]\n",
      "2023-04-30 22:07:19.457680: I tensorflow/core/common_runtime/executor.cc:1197] [/device:CPU:0] (DEBUG INFO) Executor start aborting (this does not indicate an error and you can ignore this message): INVALID_ARGUMENT: You must feed a value for placeholder tensor 'gradients/split_1_grad/concat/split_1/split_dim' with dtype int32\n",
      "\t [[{{node gradients/split_1_grad/concat/split_1/split_dim}}]]\n",
      "2023-04-30 22:07:20.039372: I tensorflow/core/common_runtime/executor.cc:1197] [/device:CPU:0] (DEBUG INFO) Executor start aborting (this does not indicate an error and you can ignore this message): INVALID_ARGUMENT: You must feed a value for placeholder tensor 'gradients/split_2_grad/concat/split_2/split_dim' with dtype int32\n",
      "\t [[{{node gradients/split_2_grad/concat/split_2/split_dim}}]]\n",
      "2023-04-30 22:07:20.042004: I tensorflow/core/common_runtime/executor.cc:1197] [/device:CPU:0] (DEBUG INFO) Executor start aborting (this does not indicate an error and you can ignore this message): INVALID_ARGUMENT: You must feed a value for placeholder tensor 'gradients/split_grad/concat/split/split_dim' with dtype int32\n",
      "\t [[{{node gradients/split_grad/concat/split/split_dim}}]]\n",
      "2023-04-30 22:07:20.048108: I tensorflow/core/common_runtime/executor.cc:1197] [/device:CPU:0] (DEBUG INFO) Executor start aborting (this does not indicate an error and you can ignore this message): INVALID_ARGUMENT: You must feed a value for placeholder tensor 'gradients/split_1_grad/concat/split_1/split_dim' with dtype int32\n",
      "\t [[{{node gradients/split_1_grad/concat/split_1/split_dim}}]]\n",
      "2023-04-30 22:07:20.517092: I tensorflow/core/common_runtime/executor.cc:1197] [/device:CPU:0] (DEBUG INFO) Executor start aborting (this does not indicate an error and you can ignore this message): INVALID_ARGUMENT: You must feed a value for placeholder tensor 'gradients/split_2_grad/concat/split_2/split_dim' with dtype int32\n",
      "\t [[{{node gradients/split_2_grad/concat/split_2/split_dim}}]]\n",
      "2023-04-30 22:07:20.519569: I tensorflow/core/common_runtime/executor.cc:1197] [/device:CPU:0] (DEBUG INFO) Executor start aborting (this does not indicate an error and you can ignore this message): INVALID_ARGUMENT: You must feed a value for placeholder tensor 'gradients/split_grad/concat/split/split_dim' with dtype int32\n",
      "\t [[{{node gradients/split_grad/concat/split/split_dim}}]]\n",
      "2023-04-30 22:07:20.521707: I tensorflow/core/common_runtime/executor.cc:1197] [/device:CPU:0] (DEBUG INFO) Executor start aborting (this does not indicate an error and you can ignore this message): INVALID_ARGUMENT: You must feed a value for placeholder tensor 'gradients/split_1_grad/concat/split_1/split_dim' with dtype int32\n",
      "\t [[{{node gradients/split_1_grad/concat/split_1/split_dim}}]]\n",
      "2023-04-30 22:07:20.791227: I tensorflow/core/common_runtime/executor.cc:1197] [/device:CPU:0] (DEBUG INFO) Executor start aborting (this does not indicate an error and you can ignore this message): INVALID_ARGUMENT: You must feed a value for placeholder tensor 'gradients/split_2_grad/concat/split_2/split_dim' with dtype int32\n",
      "\t [[{{node gradients/split_2_grad/concat/split_2/split_dim}}]]\n",
      "2023-04-30 22:07:20.792803: I tensorflow/core/common_runtime/executor.cc:1197] [/device:CPU:0] (DEBUG INFO) Executor start aborting (this does not indicate an error and you can ignore this message): INVALID_ARGUMENT: You must feed a value for placeholder tensor 'gradients/split_grad/concat/split/split_dim' with dtype int32\n",
      "\t [[{{node gradients/split_grad/concat/split/split_dim}}]]\n",
      "2023-04-30 22:07:20.795269: I tensorflow/core/common_runtime/executor.cc:1197] [/device:CPU:0] (DEBUG INFO) Executor start aborting (this does not indicate an error and you can ignore this message): INVALID_ARGUMENT: You must feed a value for placeholder tensor 'gradients/split_1_grad/concat/split_1/split_dim' with dtype int32\n",
      "\t [[{{node gradients/split_1_grad/concat/split_1/split_dim}}]]\n"
     ]
    },
    {
     "name": "stdout",
     "output_type": "stream",
     "text": [
      "Model: \"sequential_7\"\n",
      "_________________________________________________________________\n",
      " Layer (type)                Output Shape              Param #   \n",
      "=================================================================\n",
      " embedding_7 (Embedding)     (None, 4, 5)              79905     \n",
      "                                                                 \n",
      " lstm_30 (LSTM)              (None, 4, 128)            68608     \n",
      "                                                                 \n",
      " dropout_23 (Dropout)        (None, 4, 128)            0         \n",
      "                                                                 \n",
      " lstm_31 (LSTM)              (None, 4, 64)             49408     \n",
      "                                                                 \n",
      " dropout_24 (Dropout)        (None, 4, 64)             0         \n",
      "                                                                 \n",
      " lstm_32 (LSTM)              (None, 4, 128)            98816     \n",
      "                                                                 \n",
      " dropout_25 (Dropout)        (None, 4, 128)            0         \n",
      "                                                                 \n",
      " lstm_33 (LSTM)              (None, 4, 64)             49408     \n",
      "                                                                 \n",
      " dropout_26 (Dropout)        (None, 4, 64)             0         \n",
      "                                                                 \n",
      " lstm_34 (LSTM)              (None, 32)                12416     \n",
      "                                                                 \n",
      " dense_14 (Dense)            (None, 32)                1056      \n",
      "                                                                 \n",
      " dense_15 (Dense)            (None, 15980)             527340    \n",
      "                                                                 \n",
      "=================================================================\n",
      "Total params: 886,957\n",
      "Trainable params: 886,957\n",
      "Non-trainable params: 0\n",
      "_________________________________________________________________\n"
     ]
    },
    {
     "name": "stderr",
     "output_type": "stream",
     "text": [
      "2023-04-30 22:07:21.262296: I tensorflow/core/common_runtime/executor.cc:1197] [/device:CPU:0] (DEBUG INFO) Executor start aborting (this does not indicate an error and you can ignore this message): INVALID_ARGUMENT: You must feed a value for placeholder tensor 'gradients/split_2_grad/concat/split_2/split_dim' with dtype int32\n",
      "\t [[{{node gradients/split_2_grad/concat/split_2/split_dim}}]]\n",
      "2023-04-30 22:07:21.265231: I tensorflow/core/common_runtime/executor.cc:1197] [/device:CPU:0] (DEBUG INFO) Executor start aborting (this does not indicate an error and you can ignore this message): INVALID_ARGUMENT: You must feed a value for placeholder tensor 'gradients/split_grad/concat/split/split_dim' with dtype int32\n",
      "\t [[{{node gradients/split_grad/concat/split/split_dim}}]]\n",
      "2023-04-30 22:07:21.267227: I tensorflow/core/common_runtime/executor.cc:1197] [/device:CPU:0] (DEBUG INFO) Executor start aborting (this does not indicate an error and you can ignore this message): INVALID_ARGUMENT: You must feed a value for placeholder tensor 'gradients/split_1_grad/concat/split_1/split_dim' with dtype int32\n",
      "\t [[{{node gradients/split_1_grad/concat/split_1/split_dim}}]]\n"
     ]
    }
   ],
   "source": [
    "model = Sequential()\n",
    "\n",
    "# Embedding:\n",
    "# input_seq_len = 3 --> ingreso 3 palabras\n",
    "# input_dim = vocab_size --> 1628 palabras distintas\n",
    "# output_dim = 5 --> crear embeddings de tamaño 3 (tamaño variable y ajustable)\n",
    "model.add(Embedding(input_dim=vocab_size+1, output_dim=5, input_length=input_seq_len))\n",
    "\n",
    "model.add(LSTM(128, return_sequences=True))\n",
    "model.add(Dropout(0.2))\n",
    "model.add(LSTM(64, return_sequences=True))\n",
    "model.add(Dropout(0.2))\n",
    "model.add(LSTM(128, return_sequences=True))\n",
    "model.add(Dropout(0.2))\n",
    "model.add(LSTM(64, return_sequences=True))\n",
    "model.add(Dropout(0.2))\n",
    "model.add(LSTM(32)) # La última capa LSTM no lleva return_sequences\n",
    "model.add(Dense(32, activation='sigmoid'))\n",
    "\n",
    "# Predicción de clasificación con softmax\n",
    "# La salida vuelve al espacio de 1628 palabras posibles\n",
    "model.add(Dense(vocab_size, activation='softmax'))\n",
    "\n",
    "# Clasificación multiple categórica --> loss = categorical_crossentropy\n",
    "model.compile(loss='categorical_crossentropy', optimizer='adam', metrics=['accuracy'])\n",
    "\n",
    "model.summary()"
   ]
  },
  {
   "cell_type": "code",
   "execution_count": 62,
   "metadata": {},
   "outputs": [
    {
     "name": "stdout",
     "output_type": "stream",
     "text": [
      "Epoch 1/50\n"
     ]
    },
    {
     "name": "stderr",
     "output_type": "stream",
     "text": [
      "2023-04-30 22:07:33.253250: I tensorflow/core/common_runtime/executor.cc:1197] [/device:CPU:0] (DEBUG INFO) Executor start aborting (this does not indicate an error and you can ignore this message): INVALID_ARGUMENT: You must feed a value for placeholder tensor 'gradients/split_2_grad/concat/split_2/split_dim' with dtype int32\n",
      "\t [[{{node gradients/split_2_grad/concat/split_2/split_dim}}]]\n",
      "2023-04-30 22:07:33.257232: I tensorflow/core/common_runtime/executor.cc:1197] [/device:CPU:0] (DEBUG INFO) Executor start aborting (this does not indicate an error and you can ignore this message): INVALID_ARGUMENT: You must feed a value for placeholder tensor 'gradients/split_grad/concat/split/split_dim' with dtype int32\n",
      "\t [[{{node gradients/split_grad/concat/split/split_dim}}]]\n",
      "2023-04-30 22:07:33.263705: I tensorflow/core/common_runtime/executor.cc:1197] [/device:CPU:0] (DEBUG INFO) Executor start aborting (this does not indicate an error and you can ignore this message): INVALID_ARGUMENT: You must feed a value for placeholder tensor 'gradients/split_1_grad/concat/split_1/split_dim' with dtype int32\n",
      "\t [[{{node gradients/split_1_grad/concat/split_1/split_dim}}]]\n",
      "2023-04-30 22:07:33.753051: I tensorflow/core/common_runtime/executor.cc:1197] [/device:CPU:0] (DEBUG INFO) Executor start aborting (this does not indicate an error and you can ignore this message): INVALID_ARGUMENT: You must feed a value for placeholder tensor 'gradients/split_2_grad/concat/split_2/split_dim' with dtype int32\n",
      "\t [[{{node gradients/split_2_grad/concat/split_2/split_dim}}]]\n",
      "2023-04-30 22:07:33.754769: I tensorflow/core/common_runtime/executor.cc:1197] [/device:CPU:0] (DEBUG INFO) Executor start aborting (this does not indicate an error and you can ignore this message): INVALID_ARGUMENT: You must feed a value for placeholder tensor 'gradients/split_grad/concat/split/split_dim' with dtype int32\n",
      "\t [[{{node gradients/split_grad/concat/split/split_dim}}]]\n",
      "2023-04-30 22:07:33.757708: I tensorflow/core/common_runtime/executor.cc:1197] [/device:CPU:0] (DEBUG INFO) Executor start aborting (this does not indicate an error and you can ignore this message): INVALID_ARGUMENT: You must feed a value for placeholder tensor 'gradients/split_1_grad/concat/split_1/split_dim' with dtype int32\n",
      "\t [[{{node gradients/split_1_grad/concat/split_1/split_dim}}]]\n",
      "2023-04-30 22:07:34.023781: I tensorflow/core/common_runtime/executor.cc:1197] [/device:CPU:0] (DEBUG INFO) Executor start aborting (this does not indicate an error and you can ignore this message): INVALID_ARGUMENT: You must feed a value for placeholder tensor 'gradients/split_2_grad/concat/split_2/split_dim' with dtype int32\n",
      "\t [[{{node gradients/split_2_grad/concat/split_2/split_dim}}]]\n",
      "2023-04-30 22:07:34.026356: I tensorflow/core/common_runtime/executor.cc:1197] [/device:CPU:0] (DEBUG INFO) Executor start aborting (this does not indicate an error and you can ignore this message): INVALID_ARGUMENT: You must feed a value for placeholder tensor 'gradients/split_grad/concat/split/split_dim' with dtype int32\n",
      "\t [[{{node gradients/split_grad/concat/split/split_dim}}]]\n",
      "2023-04-30 22:07:34.030734: I tensorflow/core/common_runtime/executor.cc:1197] [/device:CPU:0] (DEBUG INFO) Executor start aborting (this does not indicate an error and you can ignore this message): INVALID_ARGUMENT: You must feed a value for placeholder tensor 'gradients/split_1_grad/concat/split_1/split_dim' with dtype int32\n",
      "\t [[{{node gradients/split_1_grad/concat/split_1/split_dim}}]]\n",
      "2023-04-30 22:07:34.294088: I tensorflow/core/common_runtime/executor.cc:1197] [/device:CPU:0] (DEBUG INFO) Executor start aborting (this does not indicate an error and you can ignore this message): INVALID_ARGUMENT: You must feed a value for placeholder tensor 'gradients/split_2_grad/concat/split_2/split_dim' with dtype int32\n",
      "\t [[{{node gradients/split_2_grad/concat/split_2/split_dim}}]]\n",
      "2023-04-30 22:07:34.296200: I tensorflow/core/common_runtime/executor.cc:1197] [/device:CPU:0] (DEBUG INFO) Executor start aborting (this does not indicate an error and you can ignore this message): INVALID_ARGUMENT: You must feed a value for placeholder tensor 'gradients/split_grad/concat/split/split_dim' with dtype int32\n",
      "\t [[{{node gradients/split_grad/concat/split/split_dim}}]]\n",
      "2023-04-30 22:07:34.298065: I tensorflow/core/common_runtime/executor.cc:1197] [/device:CPU:0] (DEBUG INFO) Executor start aborting (this does not indicate an error and you can ignore this message): INVALID_ARGUMENT: You must feed a value for placeholder tensor 'gradients/split_1_grad/concat/split_1/split_dim' with dtype int32\n",
      "\t [[{{node gradients/split_1_grad/concat/split_1/split_dim}}]]\n",
      "2023-04-30 22:07:34.562870: I tensorflow/core/common_runtime/executor.cc:1197] [/device:CPU:0] (DEBUG INFO) Executor start aborting (this does not indicate an error and you can ignore this message): INVALID_ARGUMENT: You must feed a value for placeholder tensor 'gradients/split_2_grad/concat/split_2/split_dim' with dtype int32\n",
      "\t [[{{node gradients/split_2_grad/concat/split_2/split_dim}}]]\n",
      "2023-04-30 22:07:34.566272: I tensorflow/core/common_runtime/executor.cc:1197] [/device:CPU:0] (DEBUG INFO) Executor start aborting (this does not indicate an error and you can ignore this message): INVALID_ARGUMENT: You must feed a value for placeholder tensor 'gradients/split_grad/concat/split/split_dim' with dtype int32\n",
      "\t [[{{node gradients/split_grad/concat/split/split_dim}}]]\n",
      "2023-04-30 22:07:34.567680: I tensorflow/core/common_runtime/executor.cc:1197] [/device:CPU:0] (DEBUG INFO) Executor start aborting (this does not indicate an error and you can ignore this message): INVALID_ARGUMENT: You must feed a value for placeholder tensor 'gradients/split_1_grad/concat/split_1/split_dim' with dtype int32\n",
      "\t [[{{node gradients/split_1_grad/concat/split_1/split_dim}}]]\n",
      "2023-04-30 22:07:36.679160: I tensorflow/core/common_runtime/executor.cc:1197] [/device:CPU:0] (DEBUG INFO) Executor start aborting (this does not indicate an error and you can ignore this message): INVALID_ARGUMENT: You must feed a value for placeholder tensor 'gradients/split_2_grad/concat/split_2/split_dim' with dtype int32\n",
      "\t [[{{node gradients/split_2_grad/concat/split_2/split_dim}}]]\n",
      "2023-04-30 22:07:36.681394: I tensorflow/core/common_runtime/executor.cc:1197] [/device:CPU:0] (DEBUG INFO) Executor start aborting (this does not indicate an error and you can ignore this message): INVALID_ARGUMENT: You must feed a value for placeholder tensor 'gradients/split_grad/concat/split/split_dim' with dtype int32\n",
      "\t [[{{node gradients/split_grad/concat/split/split_dim}}]]\n",
      "2023-04-30 22:07:36.682844: I tensorflow/core/common_runtime/executor.cc:1197] [/device:CPU:0] (DEBUG INFO) Executor start aborting (this does not indicate an error and you can ignore this message): INVALID_ARGUMENT: You must feed a value for placeholder tensor 'gradients/split_1_grad/concat/split_1/split_dim' with dtype int32\n",
      "\t [[{{node gradients/split_1_grad/concat/split_1/split_dim}}]]\n",
      "2023-04-30 22:07:36.911442: I tensorflow/core/common_runtime/executor.cc:1197] [/device:CPU:0] (DEBUG INFO) Executor start aborting (this does not indicate an error and you can ignore this message): INVALID_ARGUMENT: You must feed a value for placeholder tensor 'gradients/split_2_grad/concat/split_2/split_dim' with dtype int32\n",
      "\t [[{{node gradients/split_2_grad/concat/split_2/split_dim}}]]\n",
      "2023-04-30 22:07:36.913166: I tensorflow/core/common_runtime/executor.cc:1197] [/device:CPU:0] (DEBUG INFO) Executor start aborting (this does not indicate an error and you can ignore this message): INVALID_ARGUMENT: You must feed a value for placeholder tensor 'gradients/split_grad/concat/split/split_dim' with dtype int32\n",
      "\t [[{{node gradients/split_grad/concat/split/split_dim}}]]\n",
      "2023-04-30 22:07:36.916075: I tensorflow/core/common_runtime/executor.cc:1197] [/device:CPU:0] (DEBUG INFO) Executor start aborting (this does not indicate an error and you can ignore this message): INVALID_ARGUMENT: You must feed a value for placeholder tensor 'gradients/split_1_grad/concat/split_1/split_dim' with dtype int32\n",
      "\t [[{{node gradients/split_1_grad/concat/split_1/split_dim}}]]\n",
      "2023-04-30 22:07:37.144793: I tensorflow/core/common_runtime/executor.cc:1197] [/device:CPU:0] (DEBUG INFO) Executor start aborting (this does not indicate an error and you can ignore this message): INVALID_ARGUMENT: You must feed a value for placeholder tensor 'gradients/split_2_grad/concat/split_2/split_dim' with dtype int32\n",
      "\t [[{{node gradients/split_2_grad/concat/split_2/split_dim}}]]\n",
      "2023-04-30 22:07:37.147525: I tensorflow/core/common_runtime/executor.cc:1197] [/device:CPU:0] (DEBUG INFO) Executor start aborting (this does not indicate an error and you can ignore this message): INVALID_ARGUMENT: You must feed a value for placeholder tensor 'gradients/split_grad/concat/split/split_dim' with dtype int32\n",
      "\t [[{{node gradients/split_grad/concat/split/split_dim}}]]\n",
      "2023-04-30 22:07:37.149546: I tensorflow/core/common_runtime/executor.cc:1197] [/device:CPU:0] (DEBUG INFO) Executor start aborting (this does not indicate an error and you can ignore this message): INVALID_ARGUMENT: You must feed a value for placeholder tensor 'gradients/split_1_grad/concat/split_1/split_dim' with dtype int32\n",
      "\t [[{{node gradients/split_1_grad/concat/split_1/split_dim}}]]\n",
      "2023-04-30 22:07:37.378571: I tensorflow/core/common_runtime/executor.cc:1197] [/device:CPU:0] (DEBUG INFO) Executor start aborting (this does not indicate an error and you can ignore this message): INVALID_ARGUMENT: You must feed a value for placeholder tensor 'gradients/split_2_grad/concat/split_2/split_dim' with dtype int32\n",
      "\t [[{{node gradients/split_2_grad/concat/split_2/split_dim}}]]\n",
      "2023-04-30 22:07:37.381947: I tensorflow/core/common_runtime/executor.cc:1197] [/device:CPU:0] (DEBUG INFO) Executor start aborting (this does not indicate an error and you can ignore this message): INVALID_ARGUMENT: You must feed a value for placeholder tensor 'gradients/split_grad/concat/split/split_dim' with dtype int32\n",
      "\t [[{{node gradients/split_grad/concat/split/split_dim}}]]\n",
      "2023-04-30 22:07:37.384030: I tensorflow/core/common_runtime/executor.cc:1197] [/device:CPU:0] (DEBUG INFO) Executor start aborting (this does not indicate an error and you can ignore this message): INVALID_ARGUMENT: You must feed a value for placeholder tensor 'gradients/split_1_grad/concat/split_1/split_dim' with dtype int32\n",
      "\t [[{{node gradients/split_1_grad/concat/split_1/split_dim}}]]\n",
      "2023-04-30 22:07:37.602739: I tensorflow/core/common_runtime/executor.cc:1197] [/device:CPU:0] (DEBUG INFO) Executor start aborting (this does not indicate an error and you can ignore this message): INVALID_ARGUMENT: You must feed a value for placeholder tensor 'gradients/split_2_grad/concat/split_2/split_dim' with dtype int32\n",
      "\t [[{{node gradients/split_2_grad/concat/split_2/split_dim}}]]\n",
      "2023-04-30 22:07:37.604216: I tensorflow/core/common_runtime/executor.cc:1197] [/device:CPU:0] (DEBUG INFO) Executor start aborting (this does not indicate an error and you can ignore this message): INVALID_ARGUMENT: You must feed a value for placeholder tensor 'gradients/split_grad/concat/split/split_dim' with dtype int32\n",
      "\t [[{{node gradients/split_grad/concat/split/split_dim}}]]\n",
      "2023-04-30 22:07:37.606612: I tensorflow/core/common_runtime/executor.cc:1197] [/device:CPU:0] (DEBUG INFO) Executor start aborting (this does not indicate an error and you can ignore this message): INVALID_ARGUMENT: You must feed a value for placeholder tensor 'gradients/split_1_grad/concat/split_1/split_dim' with dtype int32\n",
      "\t [[{{node gradients/split_1_grad/concat/split_1/split_dim}}]]\n"
     ]
    },
    {
     "name": "stdout",
     "output_type": "stream",
     "text": [
      "6816/6817 [============================>.] - ETA: 0s - loss: 6.9546 - accuracy: 0.0312"
     ]
    },
    {
     "name": "stderr",
     "output_type": "stream",
     "text": [
      "2023-04-30 22:12:04.340880: I tensorflow/core/common_runtime/executor.cc:1197] [/device:CPU:0] (DEBUG INFO) Executor start aborting (this does not indicate an error and you can ignore this message): INVALID_ARGUMENT: You must feed a value for placeholder tensor 'gradients/split_2_grad/concat/split_2/split_dim' with dtype int32\n",
      "\t [[{{node gradients/split_2_grad/concat/split_2/split_dim}}]]\n",
      "2023-04-30 22:12:04.344384: I tensorflow/core/common_runtime/executor.cc:1197] [/device:CPU:0] (DEBUG INFO) Executor start aborting (this does not indicate an error and you can ignore this message): INVALID_ARGUMENT: You must feed a value for placeholder tensor 'gradients/split_grad/concat/split/split_dim' with dtype int32\n",
      "\t [[{{node gradients/split_grad/concat/split/split_dim}}]]\n",
      "2023-04-30 22:12:04.346179: I tensorflow/core/common_runtime/executor.cc:1197] [/device:CPU:0] (DEBUG INFO) Executor start aborting (this does not indicate an error and you can ignore this message): INVALID_ARGUMENT: You must feed a value for placeholder tensor 'gradients/split_1_grad/concat/split_1/split_dim' with dtype int32\n",
      "\t [[{{node gradients/split_1_grad/concat/split_1/split_dim}}]]\n",
      "2023-04-30 22:12:04.818685: I tensorflow/core/common_runtime/executor.cc:1197] [/device:CPU:0] (DEBUG INFO) Executor start aborting (this does not indicate an error and you can ignore this message): INVALID_ARGUMENT: You must feed a value for placeholder tensor 'gradients/split_2_grad/concat/split_2/split_dim' with dtype int32\n",
      "\t [[{{node gradients/split_2_grad/concat/split_2/split_dim}}]]\n",
      "2023-04-30 22:12:04.821351: I tensorflow/core/common_runtime/executor.cc:1197] [/device:CPU:0] (DEBUG INFO) Executor start aborting (this does not indicate an error and you can ignore this message): INVALID_ARGUMENT: You must feed a value for placeholder tensor 'gradients/split_grad/concat/split/split_dim' with dtype int32\n",
      "\t [[{{node gradients/split_grad/concat/split/split_dim}}]]\n",
      "2023-04-30 22:12:04.824399: I tensorflow/core/common_runtime/executor.cc:1197] [/device:CPU:0] (DEBUG INFO) Executor start aborting (this does not indicate an error and you can ignore this message): INVALID_ARGUMENT: You must feed a value for placeholder tensor 'gradients/split_1_grad/concat/split_1/split_dim' with dtype int32\n",
      "\t [[{{node gradients/split_1_grad/concat/split_1/split_dim}}]]\n",
      "2023-04-30 22:12:05.204977: I tensorflow/core/common_runtime/executor.cc:1197] [/device:CPU:0] (DEBUG INFO) Executor start aborting (this does not indicate an error and you can ignore this message): INVALID_ARGUMENT: You must feed a value for placeholder tensor 'gradients/split_2_grad/concat/split_2/split_dim' with dtype int32\n",
      "\t [[{{node gradients/split_2_grad/concat/split_2/split_dim}}]]\n",
      "2023-04-30 22:12:05.210280: I tensorflow/core/common_runtime/executor.cc:1197] [/device:CPU:0] (DEBUG INFO) Executor start aborting (this does not indicate an error and you can ignore this message): INVALID_ARGUMENT: You must feed a value for placeholder tensor 'gradients/split_grad/concat/split/split_dim' with dtype int32\n",
      "\t [[{{node gradients/split_grad/concat/split/split_dim}}]]\n",
      "2023-04-30 22:12:05.213080: I tensorflow/core/common_runtime/executor.cc:1197] [/device:CPU:0] (DEBUG INFO) Executor start aborting (this does not indicate an error and you can ignore this message): INVALID_ARGUMENT: You must feed a value for placeholder tensor 'gradients/split_1_grad/concat/split_1/split_dim' with dtype int32\n",
      "\t [[{{node gradients/split_1_grad/concat/split_1/split_dim}}]]\n",
      "2023-04-30 22:12:05.574956: I tensorflow/core/common_runtime/executor.cc:1197] [/device:CPU:0] (DEBUG INFO) Executor start aborting (this does not indicate an error and you can ignore this message): INVALID_ARGUMENT: You must feed a value for placeholder tensor 'gradients/split_2_grad/concat/split_2/split_dim' with dtype int32\n",
      "\t [[{{node gradients/split_2_grad/concat/split_2/split_dim}}]]\n",
      "2023-04-30 22:12:05.577311: I tensorflow/core/common_runtime/executor.cc:1197] [/device:CPU:0] (DEBUG INFO) Executor start aborting (this does not indicate an error and you can ignore this message): INVALID_ARGUMENT: You must feed a value for placeholder tensor 'gradients/split_grad/concat/split/split_dim' with dtype int32\n",
      "\t [[{{node gradients/split_grad/concat/split/split_dim}}]]\n",
      "2023-04-30 22:12:05.579589: I tensorflow/core/common_runtime/executor.cc:1197] [/device:CPU:0] (DEBUG INFO) Executor start aborting (this does not indicate an error and you can ignore this message): INVALID_ARGUMENT: You must feed a value for placeholder tensor 'gradients/split_1_grad/concat/split_1/split_dim' with dtype int32\n",
      "\t [[{{node gradients/split_1_grad/concat/split_1/split_dim}}]]\n",
      "2023-04-30 22:12:05.924006: I tensorflow/core/common_runtime/executor.cc:1197] [/device:CPU:0] (DEBUG INFO) Executor start aborting (this does not indicate an error and you can ignore this message): INVALID_ARGUMENT: You must feed a value for placeholder tensor 'gradients/split_2_grad/concat/split_2/split_dim' with dtype int32\n",
      "\t [[{{node gradients/split_2_grad/concat/split_2/split_dim}}]]\n",
      "2023-04-30 22:12:05.925759: I tensorflow/core/common_runtime/executor.cc:1197] [/device:CPU:0] (DEBUG INFO) Executor start aborting (this does not indicate an error and you can ignore this message): INVALID_ARGUMENT: You must feed a value for placeholder tensor 'gradients/split_grad/concat/split/split_dim' with dtype int32\n",
      "\t [[{{node gradients/split_grad/concat/split/split_dim}}]]\n",
      "2023-04-30 22:12:05.928523: I tensorflow/core/common_runtime/executor.cc:1197] [/device:CPU:0] (DEBUG INFO) Executor start aborting (this does not indicate an error and you can ignore this message): INVALID_ARGUMENT: You must feed a value for placeholder tensor 'gradients/split_1_grad/concat/split_1/split_dim' with dtype int32\n",
      "\t [[{{node gradients/split_1_grad/concat/split_1/split_dim}}]]\n"
     ]
    },
    {
     "name": "stdout",
     "output_type": "stream",
     "text": [
      "6817/6817 [==============================] - 294s 42ms/step - loss: 6.9545 - accuracy: 0.0312 - val_loss: 6.9041 - val_accuracy: 0.0303\n",
      "Epoch 2/50\n",
      "6817/6817 [==============================] - 298s 44ms/step - loss: 6.7216 - accuracy: 0.0316 - val_loss: 6.8099 - val_accuracy: 0.0338\n",
      "Epoch 3/50\n",
      "6817/6817 [==============================] - 292s 43ms/step - loss: 6.5084 - accuracy: 0.0370 - val_loss: 6.6522 - val_accuracy: 0.0354\n",
      "Epoch 4/50\n",
      "6817/6817 [==============================] - 295s 43ms/step - loss: 6.3326 - accuracy: 0.0427 - val_loss: 6.5899 - val_accuracy: 0.0475\n",
      "Epoch 5/50\n",
      "6817/6817 [==============================] - 283s 41ms/step - loss: 6.2151 - accuracy: 0.0505 - val_loss: 6.5587 - val_accuracy: 0.0536\n",
      "Epoch 6/50\n",
      "6817/6817 [==============================] - 282s 41ms/step - loss: 6.1283 - accuracy: 0.0566 - val_loss: 6.5579 - val_accuracy: 0.0599\n",
      "Epoch 7/50\n",
      "6817/6817 [==============================] - 283s 41ms/step - loss: 6.0556 - accuracy: 0.0623 - val_loss: 6.5199 - val_accuracy: 0.0639\n",
      "Epoch 8/50\n",
      "6817/6817 [==============================] - 276s 40ms/step - loss: 5.9923 - accuracy: 0.0674 - val_loss: 6.5231 - val_accuracy: 0.0679\n",
      "Epoch 9/50\n",
      "6817/6817 [==============================] - 285s 42ms/step - loss: 5.9373 - accuracy: 0.0703 - val_loss: 6.5213 - val_accuracy: 0.0693\n",
      "Epoch 10/50\n",
      "6817/6817 [==============================] - 276s 40ms/step - loss: 5.8905 - accuracy: 0.0728 - val_loss: 6.5221 - val_accuracy: 0.0707\n",
      "Epoch 11/50\n",
      "6817/6817 [==============================] - 278s 41ms/step - loss: 5.8504 - accuracy: 0.0753 - val_loss: 6.5339 - val_accuracy: 0.0730\n",
      "Epoch 12/50\n",
      "6817/6817 [==============================] - 284s 42ms/step - loss: 5.8147 - accuracy: 0.0764 - val_loss: 6.5212 - val_accuracy: 0.0736\n",
      "Epoch 13/50\n",
      "6817/6817 [==============================] - 282s 41ms/step - loss: 5.7845 - accuracy: 0.0782 - val_loss: 6.5372 - val_accuracy: 0.0732\n",
      "Epoch 14/50\n",
      "6817/6817 [==============================] - 288s 42ms/step - loss: 5.7560 - accuracy: 0.0797 - val_loss: 6.5423 - val_accuracy: 0.0738\n",
      "Epoch 15/50\n",
      "6817/6817 [==============================] - 286s 42ms/step - loss: 5.7329 - accuracy: 0.0810 - val_loss: 6.5433 - val_accuracy: 0.0758\n",
      "Epoch 16/50\n",
      "6817/6817 [==============================] - 292s 43ms/step - loss: 5.7084 - accuracy: 0.0831 - val_loss: 6.5415 - val_accuracy: 0.0783\n",
      "Epoch 17/50\n",
      "6817/6817 [==============================] - 288s 42ms/step - loss: 5.6876 - accuracy: 0.0845 - val_loss: 6.5569 - val_accuracy: 0.0795\n",
      "Epoch 18/50\n",
      "6817/6817 [==============================] - 285s 42ms/step - loss: 5.6677 - accuracy: 0.0866 - val_loss: 6.5714 - val_accuracy: 0.0794\n",
      "Epoch 19/50\n",
      "6817/6817 [==============================] - 289s 42ms/step - loss: 5.6489 - accuracy: 0.0876 - val_loss: 6.5776 - val_accuracy: 0.0808\n",
      "Epoch 20/50\n",
      "6817/6817 [==============================] - 285s 42ms/step - loss: 5.6317 - accuracy: 0.0888 - val_loss: 6.5882 - val_accuracy: 0.0820\n",
      "Epoch 21/50\n",
      "6817/6817 [==============================] - 287s 42ms/step - loss: 5.6177 - accuracy: 0.0895 - val_loss: 6.6169 - val_accuracy: 0.0815\n",
      "Epoch 22/50\n",
      "6817/6817 [==============================] - 283s 41ms/step - loss: 5.6025 - accuracy: 0.0906 - val_loss: 6.6105 - val_accuracy: 0.0812\n",
      "Epoch 23/50\n",
      "6817/6817 [==============================] - 284s 42ms/step - loss: 5.5880 - accuracy: 0.0911 - val_loss: 6.6132 - val_accuracy: 0.0828\n",
      "Epoch 24/50\n",
      "6817/6817 [==============================] - 290s 43ms/step - loss: 5.5745 - accuracy: 0.0919 - val_loss: 6.6201 - val_accuracy: 0.0825\n",
      "Epoch 25/50\n",
      "6817/6817 [==============================] - 286s 42ms/step - loss: 5.5653 - accuracy: 0.0928 - val_loss: 6.6119 - val_accuracy: 0.0833\n",
      "Epoch 26/50\n",
      "6817/6817 [==============================] - 283s 42ms/step - loss: 5.5529 - accuracy: 0.0935 - val_loss: 6.6698 - val_accuracy: 0.0841\n",
      "Epoch 27/50\n",
      "6817/6817 [==============================] - 285s 42ms/step - loss: 5.5434 - accuracy: 0.0943 - val_loss: 6.6448 - val_accuracy: 0.0830\n",
      "Epoch 28/50\n",
      "6817/6817 [==============================] - 288s 42ms/step - loss: 5.5334 - accuracy: 0.0945 - val_loss: 6.6419 - val_accuracy: 0.0846\n",
      "Epoch 29/50\n",
      "6817/6817 [==============================] - 285s 42ms/step - loss: 5.5239 - accuracy: 0.0947 - val_loss: 6.6614 - val_accuracy: 0.0847\n",
      "Epoch 30/50\n",
      "6817/6817 [==============================] - 283s 42ms/step - loss: 5.5134 - accuracy: 0.0961 - val_loss: 6.6497 - val_accuracy: 0.0838\n",
      "Epoch 31/50\n",
      "6817/6817 [==============================] - 290s 43ms/step - loss: 5.5045 - accuracy: 0.0965 - val_loss: 6.6866 - val_accuracy: 0.0848\n",
      "Epoch 32/50\n",
      "6817/6817 [==============================] - 291s 43ms/step - loss: 5.4958 - accuracy: 0.0972 - val_loss: 6.6749 - val_accuracy: 0.0840\n",
      "Epoch 33/50\n",
      "6817/6817 [==============================] - 288s 42ms/step - loss: 5.4882 - accuracy: 0.0976 - val_loss: 6.7071 - val_accuracy: 0.0853\n",
      "Epoch 34/50\n",
      "6817/6817 [==============================] - 286s 42ms/step - loss: 5.4824 - accuracy: 0.0977 - val_loss: 6.7060 - val_accuracy: 0.0865\n",
      "Epoch 35/50\n",
      "6817/6817 [==============================] - 282s 41ms/step - loss: 5.4744 - accuracy: 0.0983 - val_loss: 6.7207 - val_accuracy: 0.0857\n",
      "Epoch 36/50\n",
      "6817/6817 [==============================] - 283s 41ms/step - loss: 5.4683 - accuracy: 0.0987 - val_loss: 6.7191 - val_accuracy: 0.0846\n",
      "Epoch 37/50\n",
      "6817/6817 [==============================] - 288s 42ms/step - loss: 5.4604 - accuracy: 0.0988 - val_loss: 6.7025 - val_accuracy: 0.0863\n",
      "Epoch 38/50\n",
      "6817/6817 [==============================] - 283s 42ms/step - loss: 5.4552 - accuracy: 0.0991 - val_loss: 6.7050 - val_accuracy: 0.0852\n",
      "Epoch 39/50\n",
      "6817/6817 [==============================] - 282s 41ms/step - loss: 5.4490 - accuracy: 0.0997 - val_loss: 6.7178 - val_accuracy: 0.0866\n",
      "Epoch 40/50\n",
      "6817/6817 [==============================] - 290s 43ms/step - loss: 5.4429 - accuracy: 0.1001 - val_loss: 6.7077 - val_accuracy: 0.0869\n",
      "Epoch 41/50\n",
      "6817/6817 [==============================] - 295s 43ms/step - loss: 5.4367 - accuracy: 0.1002 - val_loss: 6.7505 - val_accuracy: 0.0866\n",
      "Epoch 42/50\n",
      "6817/6817 [==============================] - 296s 43ms/step - loss: 5.4328 - accuracy: 0.1007 - val_loss: 6.7181 - val_accuracy: 0.0872\n",
      "Epoch 43/50\n",
      "6817/6817 [==============================] - 294s 43ms/step - loss: 5.4246 - accuracy: 0.1010 - val_loss: 6.7427 - val_accuracy: 0.0873\n",
      "Epoch 44/50\n",
      "6817/6817 [==============================] - 302s 44ms/step - loss: 5.4220 - accuracy: 0.1011 - val_loss: 6.7666 - val_accuracy: 0.0875\n",
      "Epoch 45/50\n",
      "6817/6817 [==============================] - 296s 43ms/step - loss: 5.4160 - accuracy: 0.1023 - val_loss: 6.7522 - val_accuracy: 0.0875\n",
      "Epoch 46/50\n",
      "6817/6817 [==============================] - 299s 44ms/step - loss: 5.4117 - accuracy: 0.1024 - val_loss: 6.7385 - val_accuracy: 0.0864\n",
      "Epoch 47/50\n",
      "6817/6817 [==============================] - 295s 43ms/step - loss: 5.4064 - accuracy: 0.1025 - val_loss: 6.7469 - val_accuracy: 0.0875\n",
      "Epoch 48/50\n",
      "6817/6817 [==============================] - 295s 43ms/step - loss: 5.4004 - accuracy: 0.1029 - val_loss: 6.7653 - val_accuracy: 0.0874\n",
      "Epoch 49/50\n",
      "6817/6817 [==============================] - 302s 44ms/step - loss: 5.3966 - accuracy: 0.1033 - val_loss: 6.7567 - val_accuracy: 0.0879\n",
      "Epoch 50/50\n",
      "6817/6817 [==============================] - 299s 44ms/step - loss: 5.3928 - accuracy: 0.1037 - val_loss: 6.7831 - val_accuracy: 0.0880\n"
     ]
    },
    {
     "data": {
      "image/png": "[encoded data removed]",
      "text/plain": [
       "<Figure size 640x480 with 1 Axes>"
      ]
     },
     "metadata": {},
     "output_type": "display_data"
    }
   ],
   "source": [
    "hist = model.fit(x_data, y_data, epochs=50, validation_split=0.2)\n",
    "\n",
    "plt.plot(hist.history['accuracy'])\n",
    "plt.plot(hist.history['val_accuracy'])\n",
    "plt.title('model accuracy')\n",
    "plt.ylabel('accuracy')\n",
    "plt.xlabel('epoch')\n",
    "plt.legend(['train', 'val'], loc='upper left')\n",
    "plt.show()"
   ]
  },
  {
   "attachments": {},
   "cell_type": "markdown",
   "metadata": {},
   "source": [
    "Vamos a probar algunas oraciones"
   ]
  },
  {
   "cell_type": "code",
   "execution_count": 63,
   "metadata": {},
   "outputs": [],
   "source": [
    "def model_response(human_text):\n",
    "\n",
    "    # Encodeamos\n",
    "    encoded = tok.texts_to_sequences([human_text])[0]\n",
    "    # Si tienen distinto largo\n",
    "    encoded = pad_sequences([encoded], maxlen=3, padding='pre')\n",
    "    \n",
    "    # Predicción softmax\n",
    "    y_hat = model.predict(encoded).argmax(axis=-1)\n",
    "\n",
    "    # Debemos buscar en el vocabulario la palabra\n",
    "    # que corresopnde al indice (y_hat) predicho por le modelo\n",
    "    out_word = ''\n",
    "    for word, index in tok.word_index.items():\n",
    "        if index == y_hat:\n",
    "            out_word = word\n",
    "            break\n",
    "\n",
    "    # Agrego la palabra a la frase predicha\n",
    "    return human_text + ' ' + out_word"
   ]
  },
  {
   "cell_type": "code",
   "execution_count": 64,
   "metadata": {},
   "outputs": [],
   "source": [
    "def generate_seq(model, tokenizer, seed_text, max_length, n_words):\n",
    "    \"\"\"\n",
    "        Exec model sequence prediction\n",
    "\n",
    "        Args:\n",
    "            model (keras): modelo entrenado\n",
    "            tokenizer (keras tokenizer): tonenizer utilizado en el preprocesamiento\n",
    "            seed_text (string): texto de entrada (input_seq)\n",
    "            max_length (int): máxima longitud de la sequencia de entrada\n",
    "            n_words (int): números de palabras a agregar a la sequencia de entrada\n",
    "        returns:\n",
    "            output_text (string): sentencia con las \"n_words\" agregadas\n",
    "    \"\"\"\n",
    "    output_text = seed_text\n",
    "\t# generate a fixed number of words\n",
    "    for _ in range(n_words):\n",
    "\t\t# Encodeamos\n",
    "        encoded = tokenizer.texts_to_sequences([output_text])[0]\n",
    "\t\t# Si tienen distinto largo\n",
    "        encoded = pad_sequences([encoded], maxlen=max_length, padding='pre')\n",
    "\t\t\n",
    "\t\t# Predicción softmax\n",
    "        y_hat = model.predict(encoded).argmax(axis=-1)\n",
    "\t\t# Vamos concatenando las predicciones\n",
    "        out_word = ''\n",
    "\n",
    "        # Debemos buscar en el vocabulario la palabra\n",
    "        # que corresopnde al indice (y_hat) predicho por le modelo\n",
    "        for word, index in tokenizer.word_index.items():\n",
    "            if index == y_hat:\n",
    "                out_word = word\n",
    "                break\n",
    "\n",
    "\t\t# Agrego las palabras a la frase predicha\n",
    "        output_text += ' ' + out_word\n",
    "    return output_text"
   ]
  },
  {
   "cell_type": "code",
   "execution_count": 66,
   "metadata": {},
   "outputs": [
    {
     "name": "stdout",
     "output_type": "stream",
     "text": [
      "1/1 [==============================] - 0s 42ms/step\n"
     ]
    },
    {
     "data": {
      "text/plain": [
       "\"I want a can't\""
      ]
     },
     "execution_count": 66,
     "metadata": {},
     "output_type": "execute_result"
    }
   ],
   "source": [
    "input_text='I want a'\n",
    "\n",
    "generate_seq(model, tok, input_text, max_length=4, n_words=1)"
   ]
  },
  {
   "cell_type": "code",
   "execution_count": 68,
   "metadata": {},
   "outputs": [
    {
     "name": "stdout",
     "output_type": "stream",
     "text": [
      "1/1 [==============================] - 0s 24ms/step\n"
     ]
    },
    {
     "data": {
      "text/plain": [
       "'it is friday my'"
      ]
     },
     "execution_count": 68,
     "metadata": {},
     "output_type": "execute_result"
    }
   ],
   "source": [
    "input_text='it is friday'\n",
    "\n",
    "generate_seq(model, tok, input_text, max_length=4, n_words=1)"
   ]
  },
  {
   "cell_type": "code",
   "execution_count": 69,
   "metadata": {},
   "outputs": [
    {
     "name": "stdout",
     "output_type": "stream",
     "text": [
      "1/1 [==============================] - 0s 29ms/step\n"
     ]
    },
    {
     "data": {
      "text/plain": [
       "'I work hard for i'"
      ]
     },
     "execution_count": 69,
     "metadata": {},
     "output_type": "execute_result"
    }
   ],
   "source": [
    "input_text='I work hard for'\n",
    "\n",
    "generate_seq(model, tok, input_text, max_length=4, n_words=1)"
   ]
  },
  {
   "cell_type": "code",
   "execution_count": 70,
   "metadata": {},
   "outputs": [
    {
     "name": "stdout",
     "output_type": "stream",
     "text": [
      "1/1 [==============================] - 0s 31ms/step\n"
     ]
    },
    {
     "data": {
      "text/plain": [
       "'Give me a beer to'"
      ]
     },
     "execution_count": 70,
     "metadata": {},
     "output_type": "execute_result"
    }
   ],
   "source": [
    "input_text='Give me a beer'\n",
    "\n",
    "generate_seq(model, tok, input_text, max_length=4, n_words=1)"
   ]
  },
  {
   "cell_type": "code",
   "execution_count": 71,
   "metadata": {},
   "outputs": [
    {
     "name": "stdout",
     "output_type": "stream",
     "text": [
      "1/1 [==============================] - 0s 34ms/step\n"
     ]
    },
    {
     "data": {
      "text/plain": [
       "'What are you doing a'"
      ]
     },
     "execution_count": 71,
     "metadata": {},
     "output_type": "execute_result"
    }
   ],
   "source": [
    "input_text='What are you doing'\n",
    "\n",
    "generate_seq(model, tok, input_text, max_length=4, n_words=1)"
   ]
  },
  {
   "cell_type": "code",
   "execution_count": 72,
   "metadata": {},
   "outputs": [
    {
     "name": "stdout",
     "output_type": "stream",
     "text": [
      "1/1 [==============================] - 0s 21ms/step\n"
     ]
    },
    {
     "data": {
      "text/plain": [
       "'Beer is you'"
      ]
     },
     "execution_count": 72,
     "metadata": {},
     "output_type": "execute_result"
    }
   ],
   "source": [
    "input_text='Beer is'\n",
    "\n",
    "generate_seq(model, tok, input_text, max_length=4, n_words=1)"
   ]
  },
  {
   "cell_type": "code",
   "execution_count": 81,
   "metadata": {},
   "outputs": [
    {
     "name": "stdout",
     "output_type": "stream",
     "text": [
      "1/1 [==============================] - 0s 79ms/step\n"
     ]
    },
    {
     "data": {
      "text/plain": [
       "\"please give me a can't\""
      ]
     },
     "execution_count": 81,
     "metadata": {},
     "output_type": "execute_result"
    }
   ],
   "source": [
    "input_text='please give me a'\n",
    "\n",
    "generate_seq(model, tok, input_text, max_length=4, n_words=1)"
   ]
  },
  {
   "cell_type": "code",
   "execution_count": 83,
   "metadata": {},
   "outputs": [
    {
     "name": "stdout",
     "output_type": "stream",
     "text": [
      "1/1 [==============================] - 0s 42ms/step\n"
     ]
    },
    {
     "data": {
      "text/plain": [
       "'what do you think about i'"
      ]
     },
     "execution_count": 83,
     "metadata": {},
     "output_type": "execute_result"
    }
   ],
   "source": [
    "input_text='what do you think about'\n",
    "\n",
    "generate_seq(model, tok, input_text, max_length=4, n_words=1)"
   ]
  },
  {
   "cell_type": "code",
   "execution_count": 84,
   "metadata": {},
   "outputs": [
    {
     "name": "stdout",
     "output_type": "stream",
     "text": [
      "1/1 [==============================] - 0s 22ms/step\n"
     ]
    },
    {
     "data": {
      "text/plain": [
       "'why my son is so gotta'"
      ]
     },
     "execution_count": 84,
     "metadata": {},
     "output_type": "execute_result"
    }
   ],
   "source": [
    "input_text='why my son is so'\n",
    "\n",
    "generate_seq(model, tok, input_text, max_length=4, n_words=1)"
   ]
  },
  {
   "cell_type": "code",
   "execution_count": 85,
   "metadata": {},
   "outputs": [
    {
     "name": "stdout",
     "output_type": "stream",
     "text": [
      "1/1 [==============================] - 0s 29ms/step\n"
     ]
    },
    {
     "data": {
      "text/plain": [
       "'why my dad is so gotta'"
      ]
     },
     "execution_count": 85,
     "metadata": {},
     "output_type": "execute_result"
    }
   ],
   "source": [
    "input_text='why my dad is so'\n",
    "\n",
    "generate_seq(model, tok, input_text, max_length=4, n_words=1)"
   ]
  },
  {
   "cell_type": "code",
   "execution_count": 90,
   "metadata": {},
   "outputs": [
    {
     "name": "stdout",
     "output_type": "stream",
     "text": [
      "1/1 [==============================] - 0s 124ms/step\n"
     ]
    },
    {
     "data": {
      "text/plain": [
       "'Lenny and you'"
      ]
     },
     "execution_count": 90,
     "metadata": {},
     "output_type": "execute_result"
    }
   ],
   "source": [
    "input_text='Lenny and'\n",
    "\n",
    "generate_seq(model, tok, input_text, max_length=4, n_words=1)"
   ]
  },
  {
   "cell_type": "code",
   "execution_count": 91,
   "metadata": {},
   "outputs": [
    {
     "name": "stdout",
     "output_type": "stream",
     "text": [
      "1/1 [==============================] - 0s 36ms/step\n"
     ]
    },
    {
     "data": {
      "text/plain": [
       "'My wife is you'"
      ]
     },
     "execution_count": 91,
     "metadata": {},
     "output_type": "execute_result"
    }
   ],
   "source": [
    "input_text='My wife is'\n",
    "\n",
    "generate_seq(model, tok, input_text, max_length=4, n_words=1)"
   ]
  }
 ],
 "metadata": {
  "kernelspec": {
   "display_name": "Python 3",
   "language": "python",
   "name": "python3"
  },
  "language_info": {
   "codemirror_mode": {
    "name": "ipython",
    "version": 3
   },
   "file_extension": ".py",
   "mimetype": "text/x-python",
   "name": "python",
   "nbconvert_exporter": "python",
   "pygments_lexer": "ipython3",
   "version": "3.11.0"
  },
  "orig_nbformat": 4
 },
 "nbformat": 4,
 "nbformat_minor": 2
}
